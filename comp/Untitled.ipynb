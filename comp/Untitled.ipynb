{
 "cells": [
  {
   "cell_type": "code",
   "execution_count": 1,
   "id": "d8d38c04",
   "metadata": {},
   "outputs": [],
   "source": [
    "using LinearAlgebra"
   ]
  },
  {
   "cell_type": "code",
   "execution_count": 4,
   "id": "c27d34f4",
   "metadata": {},
   "outputs": [
    {
     "data": {
      "text/plain": [
       "4×2 Matrix{Float64}:\n",
       " 0.35      1.14075e6\n",
       " 0.451613  1.22661e6\n",
       " 0.495017  1.26329e6\n",
       " 0.499995  1.2675e6"
      ]
     },
     "execution_count": 4,
     "metadata": {},
     "output_type": "execute_result"
    }
   ],
   "source": [
    "mu = 422.5e3\n",
    "k = [3*mu, 10 * mu, 1e2 * mu, 1e5 * mu]\n",
    "nu = (3*k .- 2*mu) ./ (2 * (3*k .+ mu))\n",
    "E = 2*mu*(1 .+ nu)\n",
    "[nu E]"
   ]
  },
  {
   "cell_type": "code",
   "execution_count": null,
   "id": "1d906fe7",
   "metadata": {},
   "outputs": [],
   "source": []
  }
 ],
 "metadata": {
  "kernelspec": {
   "display_name": "Julia 1.7.3",
   "language": "julia",
   "name": "julia-1.7"
  },
  "language_info": {
   "file_extension": ".jl",
   "mimetype": "application/julia",
   "name": "julia",
   "version": "1.7.3"
  }
 },
 "nbformat": 4,
 "nbformat_minor": 5
}
