{
 "cells": [
  {
   "cell_type": "markdown",
   "id": "11d1ecef",
   "metadata": {
    "cell_style": "center",
    "slideshow": {
     "slide_type": "slide"
    }
   },
   "source": [
    "# <center>Pragmatism and the finite element method in the modern era</center>\n",
    "\n",
    "<br>\n",
    "<br>\n",
    "\n",
    "## <center>Rezgar Shakeri\n",
    "\n",
    "#### <center> Advisor: Jed Brown\n",
    "\n",
    "\n",
    "\n",
    "<br>\n",
    "<br>\n",
    "\n",
    "##### <center>13 Sep 2023</center>"
   ]
  },
  {
   "cell_type": "code",
   "execution_count": 7,
   "id": "bcb4a9cb",
   "metadata": {
    "slideshow": {
     "slide_type": "skip"
    }
   },
   "outputs": [],
   "source": [
    "#from IPython.display import SVG, Video, HTML, IFrame\n",
    "using Plots\n",
    "default(linewidth=3)"
   ]
  },
  {
   "cell_type": "markdown",
   "id": "9647a417",
   "metadata": {
    "slideshow": {
     "slide_type": "fragment"
    }
   },
   "source": [
    "# Motivation"
   ]
  },
  {
   "cell_type": "markdown",
   "id": "793cfcd8",
   "metadata": {
    "cell_style": "split",
    "slideshow": {
     "slide_type": "fragment"
    }
   },
   "source": [
    "<img align=\"center\" src=\"rubber.png\" width=\"100%\" height=\"100%\"/>"
   ]
  },
  {
   "cell_type": "markdown",
   "id": "27a23124",
   "metadata": {
    "cell_style": "split"
   },
   "source": [
    "* Rubbers are low cost\n",
    "materials capable of sustaining large elastic deformations without damage.\n",
    "* Broad range of applications: critical sealing components in pressurised\n",
    "systems, tyres for automobiles and aircraft, and the soles of shoes\n",
    "* To predict the material behaviour to a prescribed loading which is a key aspect of a modern design process\n",
    "#### 1) Constitutive modeling\n",
    "#### 2) Accurate, efficent numerical solver"
   ]
  },
  {
   "cell_type": "markdown",
   "id": "c5e14646",
   "metadata": {
    "slideshow": {
     "slide_type": "skip"
    }
   },
   "source": [
    "# Outline"
   ]
  },
  {
   "cell_type": "markdown",
   "id": "2fbd2361",
   "metadata": {
    "cell_style": "split",
    "slideshow": {
     "slide_type": "skip"
    }
   },
   "source": [
    "## Constitutive equations\n",
    "* Neo-Hookean\n",
    "* Mooney-Rivlin\n",
    "* Ogden\n",
    "* Stable constitutive formulation\n",
    "\n",
    "## Incompressiblity (small strain)\n",
    "* Linear and mixed linear equation (locking)\n",
    "* Stability of the mixed formulation\n",
    "* Convergence study "
   ]
  },
  {
   "cell_type": "markdown",
   "id": "eb9f0a0a",
   "metadata": {
    "cell_style": "split",
    "slideshow": {
     "slide_type": "skip"
    }
   },
   "source": [
    "## Hyperelasticity\n",
    "* Governing equation for $\\boldsymbol u$ and $\\boldsymbol u, p$ formulation\n",
    "* Matrix-free implementation and Multigrid preconditioner\n",
    "\n",
    "## Numerical Results\n",
    "* High-order basis function in incompressible regime (displacement-based formulation)\n",
    "* Displacement-based vs mixed formulation\n",
    "\n",
    "## Conclusion and future work"
   ]
  },
  {
   "cell_type": "markdown",
   "id": "3fa6787c",
   "metadata": {
    "slideshow": {
     "slide_type": "slide"
    }
   },
   "source": [
    "# Preliminaries\n"
   ]
  },
  {
   "cell_type": "markdown",
   "id": "f82917a4",
   "metadata": {
    "cell_style": "split",
    "slideshow": {
     "slide_type": "fragment"
    }
   },
   "source": [
    "<img align=\"center\" src=\"general-motion.png\" width=\"100%\" height=\"100%\"/>"
   ]
  },
  {
   "cell_type": "markdown",
   "id": "bfd7be7a",
   "metadata": {
    "cell_style": "split",
    "slideshow": {
     "slide_type": "fragment"
    }
   },
   "source": [
    "* Deformation gradient\n",
    "\\begin{equation}\n",
    "    \\boldsymbol F = \\nabla_X \\phi(\\boldsymbol X, t) = \\frac{\\partial \\boldsymbol x}{\\partial \\boldsymbol X} = \\boldsymbol{I} + \\frac{\\partial \\boldsymbol u}{\\partial \\boldsymbol X}\n",
    "    \\label{deformation-gradient}\n",
    "\\end{equation}\n",
    "* Displacement vector\n",
    "\\begin{equation}\n",
    "    \\boldsymbol u = \\boldsymbol x - \\boldsymbol X\n",
    "    \\label{displacement-vector}\n",
    "\\end{equation}\n",
    "* Change in volume\n",
    "\\begin{equation}\n",
    "    dv = J(\\boldsymbol X, t) dV, ~ ~ J = \\det \\boldsymbol F > 0\n",
    "    \\label{definition-J}\n",
    "\\end{equation}\n",
    "* Change in area\n",
    "\\begin{equation}\n",
    "    d \\boldsymbol a = J \\boldsymbol F ^{-T} d\\boldsymbol A\n",
    "    \\label{Nanson-formula}\n",
    "\\end{equation}\n",
    "* Change in line\n",
    "\\begin{equation}\n",
    "    d \\boldsymbol x = \\boldsymbol F d\\boldsymbol X\n",
    "\\end{equation}"
   ]
  },
  {
   "cell_type": "markdown",
   "id": "9d058129",
   "metadata": {
    "slideshow": {
     "slide_type": "slide"
    }
   },
   "source": [
    "# Preliminaries\n"
   ]
  },
  {
   "cell_type": "markdown",
   "id": "90e3fdf6",
   "metadata": {
    "cell_style": "split",
    "slideshow": {
     "slide_type": "fragment"
    }
   },
   "source": [
    "<img align=\"center\" src=\"polar-decomposition.png\" width=\"90%\" height=\"90%\"/>\n",
    "Ref: http://commons.wikimedia.org/wiki/File:Polar_decomposition_of_F.png"
   ]
  },
  {
   "cell_type": "markdown",
   "id": "811e8de9",
   "metadata": {
    "cell_style": "split",
    "slideshow": {
     "slide_type": "fragment"
    }
   },
   "source": [
    "* Polar decomposition\n",
    "\\begin{equation}\n",
    "    \\boldsymbol F = \\boldsymbol R \\textbf U = \\textbf v \\boldsymbol R, ~ ~ \\text{where} ~ ~ \\boldsymbol R \\boldsymbol R^{T} = \\boldsymbol I\n",
    "\\end{equation}\n",
    "* Principal stretches \n",
    "\\begin{equation}\n",
    "\t\\textbf{U} \\hat{\\boldsymbol N}_i= \\beta_i \\hat{\\boldsymbol N}_i, \\quad \\text{or} \\quad \\textbf{v} \\hat{\\boldsymbol n}_i= \\beta_i \\hat{\\boldsymbol n}_i\n",
    "    \\label{stretch-tensor-eigensystem}\n",
    "\\end{equation}\n",
    "where $\\hat{\\boldsymbol n}_i = \\boldsymbol R \\hat{\\boldsymbol N}_i$\n",
    "\n",
    "* Right and left Cauchy–Green tensors\n",
    "\\begin{equation}\n",
    "\t\\boldsymbol C = \\boldsymbol{F}^T \\boldsymbol{F} = \\textbf{U}^2. ~ ~ \\boldsymbol b = \\boldsymbol F \\boldsymbol F^T = \\textbf{v}^2.\n",
    "    \\label{right-left-cauchy-green}\n",
    "\\end{equation}\n",
    "* Green-Lagrange and Green-Euler strains\n",
    "\\begin{equation}\n",
    "  \\boldsymbol E = \\frac{1}{2} \\left( \\boldsymbol C - \\boldsymbol I \\right), ~ ~ ~ \\boldsymbol e = \\frac{1}{2} \\left( \\boldsymbol b - \\boldsymbol I \\right)\n",
    "\\end{equation}\n",
    "\n",
    "* Eigenvalue relations\n",
    "\\begin{equation}\n",
    "\\beta_i^C = \\beta_i^2, ~ ~ ~ \\beta_i^E = \\frac{1}{2} \\left( \\beta_i^2 - 1 \\right) ~ ~ \\quad i=1,2,3\n",
    "\\end{equation}"
   ]
  },
  {
   "cell_type": "markdown",
   "id": "80dc182c",
   "metadata": {
    "slideshow": {
     "slide_type": "slide"
    }
   },
   "source": [
    "## Strain energy function and Constitutive equation\n"
   ]
  },
  {
   "cell_type": "markdown",
   "id": "4f51d704",
   "metadata": {
    "cell_style": "split",
    "slideshow": {
     "slide_type": "fragment"
    }
   },
   "source": [
    "* For isotropic, $\\psi$ can only depends on the invariants of $\\boldsymbol C$ (or $\\boldsymbol E$)\n",
    "$$\n",
    "\\psi \\left( \\boldsymbol C \\right) = \\psi \\left( \\mathbb{I}_1, \\mathbb{I}_2, \\mathbb{I}_3 \\right)\n",
    "$$\n",
    "\n",
    "where\n",
    "\\begin{eqnarray}\n",
    "    \\mathbb{I}_1 (\\boldsymbol C) &=& \\operatorname{trace} \\boldsymbol C = \\beta_1^2 + \\beta_2^2 + \\beta_3^2 \\nonumber \\\\\n",
    "    \\mathbb{I}_2 (\\boldsymbol C) &=& \\frac 1 2 \\left( \\mathbb{I}_1^2 - \\boldsymbol C \\!:\\! \\boldsymbol C \\right) = \\beta_1^2 \\beta_2^2 + \\beta_2^2 \\beta_3^2 + \\beta_1^2 \\beta_3^2 \\nonumber \\\\\n",
    "    \\mathbb{I}_3 (\\boldsymbol C) &=& \\det \\boldsymbol C = J^2 = \\beta_1^2 \\beta_2^2 \\beta_3^2\n",
    "    \\label{invariants}\n",
    "\\end{eqnarray}\n",
    "\n",
    "* Or we can have\n",
    "\n",
    "$$\n",
    "\\psi \\left( \\boldsymbol C \\right) = \\psi \\left( \\beta_1, \\beta_2, \\beta_3 \\right)\n",
    "$$"
   ]
  },
  {
   "cell_type": "markdown",
   "id": "8b29a52a",
   "metadata": {
    "cell_style": "split",
    "slideshow": {
     "slide_type": "fragment"
    }
   },
   "source": [
    "* Constitutive equation is gradient of strain energy wrt $\\boldsymbol E$ \n",
    "\\begin{equation}\n",
    "\t\\boldsymbol{S} = \\frac{\\partial \\psi}{\\partial \\boldsymbol E} = 2 \\frac{\\partial \\psi}{\\partial \\boldsymbol C} = 2 \\sum_{i=1}^3 \\frac{\\partial\\psi}{\\partial \\mathbb{I}_i} \\frac{\\partial\\mathbb{I}_i}{\\partial \\boldsymbol C},\n",
    " \\label{strain-energy-grad}\n",
    "\\end{equation}\n",
    "\n",
    "* When $\\psi(\\beta_i)$ is a function of stretches\n",
    "\n",
    "\\begin{equation}\n",
    "    \\boldsymbol{S} = 2 \\frac{\\partial\\psi}{\\partial\\boldsymbol C} = 2 \\sum_{i=1}^3 \\frac{\\partial\\psi}{\\partial\\beta_i^2} \\frac{\\partial\\beta_i^2}{\\partial\\boldsymbol C} = \\sum_{i=1}^3 S_i \\hat{\\boldsymbol N}_i \\hat{\\boldsymbol N}_i^T,\n",
    "    \\label{strain-energy-grad-stretch}\n",
    "\\end{equation}\n",
    "\n",
    "where $S_i = \\frac{1}{\\beta_i} \\frac{\\partial \\psi}{\\partial \\beta_i} $ are three principal stresses\n"
   ]
  },
  {
   "cell_type": "markdown",
   "id": "ed0a0426",
   "metadata": {
    "slideshow": {
     "slide_type": "slide"
    }
   },
   "source": [
    "# Isochoric-volumetric split"
   ]
  },
  {
   "cell_type": "markdown",
   "id": "95bca700",
   "metadata": {
    "cell_style": "split",
    "slideshow": {
     "slide_type": "fragment"
    }
   },
   "source": [
    "* It is most beneficial to split the deformation locally into a so-called volumetric\n",
    "(dilational) part and an isochoric (distortional) part.\n",
    "\n",
    "\\begin{equation}\n",
    "    \\boldsymbol F = (J^{1/3} \\boldsymbol I) \\bar{\\boldsymbol F} = J^{1/3} \\bar{\\boldsymbol F},\n",
    "    \\label{modified-deformation-gradient}\n",
    "\\end{equation}\n",
    "\n",
    "\\begin{equation}\n",
    "    \\bar{\\boldsymbol C} = \\bar{\\boldsymbol F}^T \\bar{\\boldsymbol F} = J^{-2/3} \\boldsymbol C\n",
    "    \\label{modified-right-cauchy-green}\n",
    "\\end{equation}\n",
    "\n",
    "\\begin{equation}\n",
    "    \\bar{\\beta}_i = J^{-1/3} \\beta_i, \\, i=1,2,3\n",
    "\\end{equation}\n",
    "\n",
    "\\begin{equation}\n",
    "\\mathbb{\\bar{I}}_1 = J^{-2/3}\\mathbb{I}_1, \\quad \\mathbb{\\bar{I}}_2 = J^{-4/3}\\mathbb{I}_2\n",
    "\\end{equation}\n",
    "\n",
    "\\begin{equation}\n",
    "\\mathbb{\\bar{I}}_3 = \\left(J^{-2/3}\\right)^3\\mathbb{I}_3 = 1.\n",
    "\\end{equation}"
   ]
  },
  {
   "cell_type": "markdown",
   "id": "758bbd5a",
   "metadata": {
    "cell_style": "split",
    "slideshow": {
     "slide_type": "fragment"
    }
   },
   "source": [
    "* Neo-Hookean strain energy\n",
    "\n",
    "\\begin{eqnarray}\n",
    "\\psi &=& \\psi_{\\text{vol}}(J) + \\psi_{\\text{iso}}(\\mathbb{\\bar{I}}_1 ) \\nonumber \\\\ \n",
    "     &=& \\psi_{\\text{vol}}(J) + \\frac{\\mu}{2} \\left( \\bar{\\mathbb{I}}_1 - 3 \\right)\n",
    "\\end{eqnarray}\n",
    "\n",
    "* Mooney-Rivlin strain energy\n",
    "\n",
    "\\begin{eqnarray}\n",
    "\\psi &=& \\psi_{\\text{vol}}(J) + \\psi_{\\text{iso}}(\\mathbb{\\bar{I}}_1 , \\mathbb{\\bar{I}}_2) \\nonumber \\\\\n",
    "&=& \\psi_{\\text{vol}}(J) +\\frac{\\mu_1}{2} \\left( \\bar{\\mathbb{I}}_1 - 3 \\right) + \\frac{\\mu_2}{2} \\left( \\bar{\\mathbb{I}}_2 - 3 \\right)\n",
    "\\end{eqnarray}\n"
   ]
  },
  {
   "cell_type": "markdown",
   "id": "7b682cd8",
   "metadata": {
    "slideshow": {
     "slide_type": "slide"
    }
   },
   "source": [
    "# Isochoric-volumetric split"
   ]
  },
  {
   "cell_type": "markdown",
   "id": "11af58a9",
   "metadata": {
    "cell_style": "split",
    "slideshow": {
     "slide_type": "fragment"
    }
   },
   "source": [
    "* Ogden strain energy\n",
    "\n",
    "\\begin{eqnarray}\n",
    "\\psi &=& \\psi_{\\text{vol}}(J) + \\psi_{\\text{iso}} = \\psi_{\\text{vol}}(J) + \\sum_{i=1}^3\\bar{\\omega}(\\bar{\\beta}_i) \\nonumber \\\\\n",
    "\\end{eqnarray}\n",
    "\n",
    "where\n",
    "\\begin{equation}\n",
    "\\bar{\\omega}(\\bar{\\beta}_i) = \\sum_{j=1}^{N}\\frac{\\mu_j}{\\alpha_j}\\left(\\bar{\\beta}_i^{\\alpha_j} - 1 \\right)\n",
    "\\end{equation}\n",
    "\n",
    "\\begin{equation}\n",
    "    2\\mu = \\sum_{j=1}^N \\mu_j \\alpha_j \\quad \\text{with} \\quad \\mu_j \\alpha_j > 0\n",
    "    \\label{ogden-param-condition}\n",
    "\\end{equation}"
   ]
  },
  {
   "cell_type": "markdown",
   "id": "a4898115",
   "metadata": {
    "cell_style": "split",
    "slideshow": {
     "slide_type": "fragment"
    }
   },
   "source": [
    "\\begin{eqnarray}\n",
    "\\boldsymbol S &=& \\frac{\\partial \\psi}{\\partial \\boldsymbol E} =\\frac{\\partial \\psi_{\\text{vol}}}{\\partial J} \\frac{\\partial J}{\\partial \\boldsymbol E} + \\sum_{i=1}^3 \\frac{\\partial\\psi_{\\text{iso}}}{\\partial \\mathbb{\\bar{I}}_i} \\frac{\\partial \\mathbb{\\bar{I}}_i}{\\partial \\boldsymbol E} \\\\\n",
    "&=& \\boldsymbol S_{\\text{vol}} + \\boldsymbol S_{\\text{iso}}\n",
    "\\end{eqnarray}\n",
    "\n",
    "The volumetric part is the same for all models\n",
    "\\begin{equation}\n",
    "    \\psi_{\\text{vol}} = \\frac{\\kappa}{4} \\left( J^2 - 1 -2 \\log J \\right)\n",
    "    \\label{volumetric-energy-kappa}\n",
    "\\end{equation}\n",
    "\n",
    "\\begin{equation}\n",
    "    \\boldsymbol S_{\\text{vol}} = \\frac{\\kappa}{2} (J^2 -1)\\boldsymbol C^{-1}\n",
    "    \\label{S-vol-unstable}\n",
    "\\end{equation}"
   ]
  },
  {
   "cell_type": "markdown",
   "id": "9c544a81",
   "metadata": {
    "slideshow": {
     "slide_type": "slide"
    }
   },
   "source": [
    "# Isochoric-volumetric split"
   ]
  },
  {
   "cell_type": "markdown",
   "id": "a1e511db",
   "metadata": {
    "cell_style": "split",
    "slideshow": {
     "slide_type": "fragment"
    }
   },
   "source": [
    "* Neo-Hookean model\n",
    "\\begin{equation}\n",
    "\t\\boldsymbol S_{\\text{iso}} = \\mu J^{-2/3}\\left(\\boldsymbol{I} - \\frac{1}{3} \\mathbb{I}_1 \\boldsymbol{C}^{-1} \\right)\n",
    "\\end{equation}\n",
    "* Ogden model\n",
    "\\begin{equation}\n",
    "\t\\boldsymbol S_{\\text{iso}}\n",
    "\t=2\\frac{\\partial \\psi_{\\text{iso}} (\\bar{\\beta}_i)}{\\partial \\boldsymbol C}\n",
    " = \\sum_{i=1}^{3} S_i \\hat{\\boldsymbol N}_i \\hat{\\boldsymbol N}_i^T\n",
    "\\end{equation}\n",
    "\n",
    "where\n",
    "\n",
    "\\begin{eqnarray}\n",
    "\tS_i &=& \\frac{1}{\\beta_i}\\frac{\\partial \\psi_{\\text{iso}}}{\\partial \\beta_i}\n",
    "\t=\\frac{1}{\\beta_i}\\frac{\\partial \\bar{\\beta}_k}{\\partial \\beta_i}\n",
    "\t\\frac{\\partial \\psi_{\\text{iso}}}{\\partial \\bar{\\beta}_k} \\nonumber \\\\\n",
    "\t&=&\\frac{J^{-1/3}}{\\beta_i} \\left(\\delta_{ik} -\\frac{1}{3}\\bar{\\beta}_i^{-1}\\bar{\\beta}_k \\right)\\sum_{j=1}^N \\mu_j \\bar{\\beta}_k^{\\alpha_j - 1}\n",
    "\\end{eqnarray}"
   ]
  },
  {
   "cell_type": "markdown",
   "id": "df33b6ee",
   "metadata": {
    "cell_style": "split",
    "slideshow": {
     "slide_type": "fragment"
    }
   },
   "source": [
    "## Surprise\n",
    "\n",
    "<div style=\"font-size: 50px\", class=\"alert alert-block alert-danger\">\n",
    "All standard formulations have stability issue\n",
    "</div>"
   ]
  },
  {
   "cell_type": "markdown",
   "id": "431b2a6c",
   "metadata": {
    "slideshow": {
     "slide_type": "slide"
    }
   },
   "source": [
    "# Source of instability"
   ]
  },
  {
   "cell_type": "markdown",
   "id": "65f22b91",
   "metadata": {
    "cell_style": "center",
    "slideshow": {
     "slide_type": "subslide"
    }
   },
   "source": [
    "### 1) Subtractive cancellation, or loss of significance\n",
    "\n",
    "#### What  is the results of  (1.0000 −1.0012 ) in five decimal digits?\n",
    "#### It is $ -0.00012$  or $-1.2 \\times 10^{-3}$"
   ]
  },
  {
   "cell_type": "code",
   "execution_count": 9,
   "id": "ac7d810e",
   "metadata": {
    "cell_style": "center",
    "slideshow": {
     "slide_type": "subslide"
    }
   },
   "outputs": [
    {
     "data": {
      "image/svg+xml": [
       "<?xml version=\"1.0\" encoding=\"utf-8\"?>\n",
       "<svg xmlns=\"http://www.w3.org/2000/svg\" xmlns:xlink=\"http://www.w3.org/1999/xlink\" width=\"600\" height=\"400\" viewBox=\"0 0 2400 1600\">\n",
       "<defs>\n",
       "  <clipPath id=\"clip570\">\n",
       "    <rect x=\"0\" y=\"0\" width=\"2400\" height=\"1600\"/>\n",
       "  </clipPath>\n",
       "</defs>\n",
       "<path clip-path=\"url(#clip570)\" d=\"\n",
       "M0 1600 L2400 1600 L2400 0 L0 0  Z\n",
       "  \" fill=\"#ffffff\" fill-rule=\"evenodd\" fill-opacity=\"1\"/>\n",
       "<defs>\n",
       "  <clipPath id=\"clip571\">\n",
       "    <rect x=\"480\" y=\"0\" width=\"1681\" height=\"1600\"/>\n",
       "  </clipPath>\n",
       "</defs>\n",
       "<path clip-path=\"url(#clip570)\" d=\"\n",
       "M247.408 1469.17 L2352.76 1469.17 L2352.76 47.2441 L247.408 47.2441  Z\n",
       "  \" fill=\"#ffffff\" fill-rule=\"evenodd\" fill-opacity=\"1\"/>\n",
       "<defs>\n",
       "  <clipPath id=\"clip572\">\n",
       "    <rect x=\"247\" y=\"47\" width=\"2106\" height=\"1423\"/>\n",
       "  </clipPath>\n",
       "</defs>\n",
       "<polyline clip-path=\"url(#clip572)\" style=\"stroke:#000000; stroke-linecap:round; stroke-linejoin:round; stroke-width:2; stroke-opacity:0.1; fill:none\" points=\"\n",
       "  247.408,1469.17 247.408,47.2441 \n",
       "  \"/>\n",
       "<polyline clip-path=\"url(#clip572)\" style=\"stroke:#000000; stroke-linecap:round; stroke-linejoin:round; stroke-width:2; stroke-opacity:0.1; fill:none\" points=\"\n",
       "  773.745,1469.17 773.745,47.2441 \n",
       "  \"/>\n",
       "<polyline clip-path=\"url(#clip572)\" style=\"stroke:#000000; stroke-linecap:round; stroke-linejoin:round; stroke-width:2; stroke-opacity:0.1; fill:none\" points=\"\n",
       "  1300.08,1469.17 1300.08,47.2441 \n",
       "  \"/>\n",
       "<polyline clip-path=\"url(#clip572)\" style=\"stroke:#000000; stroke-linecap:round; stroke-linejoin:round; stroke-width:2; stroke-opacity:0.1; fill:none\" points=\"\n",
       "  1826.42,1469.17 1826.42,47.2441 \n",
       "  \"/>\n",
       "<polyline clip-path=\"url(#clip572)\" style=\"stroke:#000000; stroke-linecap:round; stroke-linejoin:round; stroke-width:2; stroke-opacity:0.1; fill:none\" points=\"\n",
       "  2352.76,1469.17 2352.76,47.2441 \n",
       "  \"/>\n",
       "<polyline clip-path=\"url(#clip570)\" style=\"stroke:#000000; stroke-linecap:round; stroke-linejoin:round; stroke-width:4; stroke-opacity:1; fill:none\" points=\"\n",
       "  247.408,1469.17 2352.76,1469.17 \n",
       "  \"/>\n",
       "<polyline clip-path=\"url(#clip570)\" style=\"stroke:#000000; stroke-linecap:round; stroke-linejoin:round; stroke-width:4; stroke-opacity:1; fill:none\" points=\"\n",
       "  247.408,1469.17 247.408,1450.27 \n",
       "  \"/>\n",
       "<polyline clip-path=\"url(#clip570)\" style=\"stroke:#000000; stroke-linecap:round; stroke-linejoin:round; stroke-width:4; stroke-opacity:1; fill:none\" points=\"\n",
       "  773.745,1469.17 773.745,1450.27 \n",
       "  \"/>\n",
       "<polyline clip-path=\"url(#clip570)\" style=\"stroke:#000000; stroke-linecap:round; stroke-linejoin:round; stroke-width:4; stroke-opacity:1; fill:none\" points=\"\n",
       "  1300.08,1469.17 1300.08,1450.27 \n",
       "  \"/>\n",
       "<polyline clip-path=\"url(#clip570)\" style=\"stroke:#000000; stroke-linecap:round; stroke-linejoin:round; stroke-width:4; stroke-opacity:1; fill:none\" points=\"\n",
       "  1826.42,1469.17 1826.42,1450.27 \n",
       "  \"/>\n",
       "<polyline clip-path=\"url(#clip570)\" style=\"stroke:#000000; stroke-linecap:round; stroke-linejoin:round; stroke-width:4; stroke-opacity:1; fill:none\" points=\"\n",
       "  2352.76,1469.17 2352.76,1450.27 \n",
       "  \"/>\n",
       "<path clip-path=\"url(#clip570)\" d=\"M167.2 1527.92 L211.714 1527.92 L211.714 1533.83 L167.2 1533.83 L167.2 1527.92 Z\" fill=\"#000000\" fill-rule=\"evenodd\" fill-opacity=\"1\" /><path clip-path=\"url(#clip570)\" d=\"M228.068 1547.27 L239.526 1547.27 L239.526 1507.72 L227.061 1510.22 L227.061 1503.83 L239.457 1501.33 L246.47 1501.33 L246.47 1547.27 L257.929 1547.27 L257.929 1553.17 L228.068 1553.17 L228.068 1547.27 Z\" fill=\"#000000\" fill-rule=\"evenodd\" fill-opacity=\"1\" /><path clip-path=\"url(#clip570)\" d=\"M272.095 1544.35 L279.422 1544.35 L279.422 1553.17 L272.095 1553.17 L272.095 1544.35 Z\" fill=\"#000000\" fill-rule=\"evenodd\" fill-opacity=\"1\" /><path clip-path=\"url(#clip570)\" d=\"M309.699 1505.95 Q304.283 1505.95 301.54 1511.29 Q298.831 1516.61 298.831 1527.3 Q298.831 1537.96 301.54 1543.31 Q304.283 1548.62 309.699 1548.62 Q315.151 1548.62 317.859 1543.31 Q320.602 1537.96 320.602 1527.3 Q320.602 1516.61 317.859 1511.29 Q315.151 1505.95 309.699 1505.95 M309.699 1500.39 Q318.414 1500.39 322.998 1507.3 Q327.616 1514.18 327.616 1527.3 Q327.616 1540.39 322.998 1547.3 Q318.414 1554.17 309.699 1554.17 Q300.984 1554.17 296.366 1547.3 Q291.783 1540.39 291.783 1527.3 Q291.783 1514.18 296.366 1507.3 Q300.984 1500.39 309.699 1500.39 Z\" fill=\"#000000\" fill-rule=\"evenodd\" fill-opacity=\"1\" /><path clip-path=\"url(#clip570)\" d=\"M694.284 1527.92 L738.797 1527.92 L738.797 1533.83 L694.284 1533.83 L694.284 1527.92 Z\" fill=\"#000000\" fill-rule=\"evenodd\" fill-opacity=\"1\" /><path clip-path=\"url(#clip570)\" d=\"M768.936 1505.95 Q763.519 1505.95 760.776 1511.29 Q758.068 1516.61 758.068 1527.3 Q758.068 1537.96 760.776 1543.31 Q763.519 1548.62 768.936 1548.62 Q774.387 1548.62 777.096 1543.31 Q779.839 1537.96 779.839 1527.3 Q779.839 1516.61 777.096 1511.29 Q774.387 1505.95 768.936 1505.95 M768.936 1500.39 Q777.651 1500.39 782.234 1507.3 Q786.852 1514.18 786.852 1527.3 Q786.852 1540.39 782.234 1547.3 Q777.651 1554.17 768.936 1554.17 Q760.221 1554.17 755.603 1547.3 Q751.019 1540.39 751.019 1527.3 Q751.019 1514.18 755.603 1507.3 Q760.221 1500.39 768.936 1500.39 Z\" fill=\"#000000\" fill-rule=\"evenodd\" fill-opacity=\"1\" /><path clip-path=\"url(#clip570)\" d=\"M799.179 1544.35 L806.505 1544.35 L806.505 1553.17 L799.179 1553.17 L799.179 1544.35 Z\" fill=\"#000000\" fill-rule=\"evenodd\" fill-opacity=\"1\" /><path clip-path=\"url(#clip570)\" d=\"M821.852 1501.33 L849.387 1501.33 L849.387 1507.23 L828.276 1507.23 L828.276 1519.94 Q829.804 1519.42 831.331 1519.18 Q832.859 1518.9 834.387 1518.9 Q843.067 1518.9 848.137 1523.65 Q853.206 1528.41 853.206 1536.54 Q853.206 1544.9 847.998 1549.56 Q842.79 1554.17 833.311 1554.17 Q830.047 1554.17 826.644 1553.62 Q823.276 1553.06 819.665 1551.95 L819.665 1544.9 Q822.79 1546.61 826.123 1547.44 Q829.456 1548.27 833.172 1548.27 Q839.179 1548.27 842.686 1545.11 Q846.192 1541.95 846.192 1536.54 Q846.192 1531.12 842.686 1527.96 Q839.179 1524.8 833.172 1524.8 Q830.359 1524.8 827.547 1525.42 Q824.769 1526.05 821.852 1527.37 L821.852 1501.33 Z\" fill=\"#000000\" fill-rule=\"evenodd\" fill-opacity=\"1\" /><path clip-path=\"url(#clip570)\" d=\"M1266.16 1505.95 Q1260.74 1505.95 1258 1511.29 Q1255.29 1516.61 1255.29 1527.3 Q1255.29 1537.96 1258 1543.31 Q1260.74 1548.62 1266.16 1548.62 Q1271.61 1548.62 1274.32 1543.31 Q1277.06 1537.96 1277.06 1527.3 Q1277.06 1516.61 1274.32 1511.29 Q1271.61 1505.95 1266.16 1505.95 M1266.16 1500.39 Q1274.87 1500.39 1279.46 1507.3 Q1284.08 1514.18 1284.08 1527.3 Q1284.08 1540.39 1279.46 1547.3 Q1274.87 1554.17 1266.16 1554.17 Q1257.44 1554.17 1252.83 1547.3 Q1248.24 1540.39 1248.24 1527.3 Q1248.24 1514.18 1252.83 1507.3 Q1257.44 1500.39 1266.16 1500.39 Z\" fill=\"#000000\" fill-rule=\"evenodd\" fill-opacity=\"1\" /><path clip-path=\"url(#clip570)\" d=\"M1296.4 1544.35 L1303.73 1544.35 L1303.73 1553.17 L1296.4 1553.17 L1296.4 1544.35 Z\" fill=\"#000000\" fill-rule=\"evenodd\" fill-opacity=\"1\" /><path clip-path=\"url(#clip570)\" d=\"M1334.01 1505.95 Q1328.59 1505.95 1325.85 1511.29 Q1323.14 1516.61 1323.14 1527.3 Q1323.14 1537.96 1325.85 1543.31 Q1328.59 1548.62 1334.01 1548.62 Q1339.46 1548.62 1342.17 1543.31 Q1344.91 1537.96 1344.91 1527.3 Q1344.91 1516.61 1342.17 1511.29 Q1339.46 1505.95 1334.01 1505.95 M1334.01 1500.39 Q1342.72 1500.39 1347.3 1507.3 Q1351.92 1514.18 1351.92 1527.3 Q1351.92 1540.39 1347.3 1547.3 Q1342.72 1554.17 1334.01 1554.17 Q1325.29 1554.17 1320.67 1547.3 Q1316.09 1540.39 1316.09 1527.3 Q1316.09 1514.18 1320.67 1507.3 Q1325.29 1500.39 1334.01 1500.39 Z\" fill=\"#000000\" fill-rule=\"evenodd\" fill-opacity=\"1\" /><path clip-path=\"url(#clip570)\" d=\"M1793.24 1505.95 Q1787.83 1505.95 1785.08 1511.29 Q1782.37 1516.61 1782.37 1527.3 Q1782.37 1537.96 1785.08 1543.31 Q1787.83 1548.62 1793.24 1548.62 Q1798.69 1548.62 1801.4 1543.31 Q1804.14 1537.96 1804.14 1527.3 Q1804.14 1516.61 1801.4 1511.29 Q1798.69 1505.95 1793.24 1505.95 M1793.24 1500.39 Q1801.96 1500.39 1806.54 1507.3 Q1811.16 1514.18 1811.16 1527.3 Q1811.16 1540.39 1806.54 1547.3 Q1801.96 1554.17 1793.24 1554.17 Q1784.53 1554.17 1779.91 1547.3 Q1775.33 1540.39 1775.33 1527.3 Q1775.33 1514.18 1779.91 1507.3 Q1784.53 1500.39 1793.24 1500.39 Z\" fill=\"#000000\" fill-rule=\"evenodd\" fill-opacity=\"1\" /><path clip-path=\"url(#clip570)\" d=\"M1823.48 1544.35 L1830.81 1544.35 L1830.81 1553.17 L1823.48 1553.17 L1823.48 1544.35 Z\" fill=\"#000000\" fill-rule=\"evenodd\" fill-opacity=\"1\" /><path clip-path=\"url(#clip570)\" d=\"M1846.16 1501.33 L1873.69 1501.33 L1873.69 1507.23 L1852.58 1507.23 L1852.58 1519.94 Q1854.11 1519.42 1855.64 1519.18 Q1857.17 1518.9 1858.69 1518.9 Q1867.37 1518.9 1872.44 1523.65 Q1877.51 1528.41 1877.51 1536.54 Q1877.51 1544.9 1872.3 1549.56 Q1867.1 1554.17 1857.62 1554.17 Q1854.35 1554.17 1850.95 1553.62 Q1847.58 1553.06 1843.97 1551.95 L1843.97 1544.9 Q1847.1 1546.61 1850.43 1547.44 Q1853.76 1548.27 1857.48 1548.27 Q1863.48 1548.27 1866.99 1545.11 Q1870.5 1541.95 1870.5 1536.54 Q1870.5 1531.12 1866.99 1527.96 Q1863.48 1524.8 1857.48 1524.8 Q1854.67 1524.8 1851.85 1525.42 Q1849.08 1526.05 1846.16 1527.37 L1846.16 1501.33 Z\" fill=\"#000000\" fill-rule=\"evenodd\" fill-opacity=\"1\" /><path clip-path=\"url(#clip570)\" d=\"M2303.49 1547.27 L2314.94 1547.27 L2314.94 1507.72 L2302.48 1510.22 L2302.48 1503.83 L2314.87 1501.33 L2321.89 1501.33 L2321.89 1547.27 L2333.35 1547.27 L2333.35 1553.17 L2303.49 1553.17 L2303.49 1547.27 Z\" fill=\"#000000\" fill-rule=\"evenodd\" fill-opacity=\"1\" /><path clip-path=\"url(#clip570)\" d=\"M2347.51 1544.35 L2354.84 1544.35 L2354.84 1553.17 L2347.51 1553.17 L2347.51 1544.35 Z\" fill=\"#000000\" fill-rule=\"evenodd\" fill-opacity=\"1\" /><path clip-path=\"url(#clip570)\" d=\"M2385.12 1505.95 Q2379.7 1505.95 2376.96 1511.29 Q2374.25 1516.61 2374.25 1527.3 Q2374.25 1537.96 2376.96 1543.31 Q2379.7 1548.62 2385.12 1548.62 Q2390.57 1548.62 2393.28 1543.31 Q2396.02 1537.96 2396.02 1527.3 Q2396.02 1516.61 2393.28 1511.29 Q2390.57 1505.95 2385.12 1505.95 M2385.12 1500.39 Q2393.83 1500.39 2398.42 1507.3 Q2403.03 1514.18 2403.03 1527.3 Q2403.03 1540.39 2398.42 1547.3 Q2393.83 1554.17 2385.12 1554.17 Q2376.4 1554.17 2371.78 1547.3 Q2367.2 1540.39 2367.2 1527.3 Q2367.2 1514.18 2371.78 1507.3 Q2376.4 1500.39 2385.12 1500.39 Z\" fill=\"#000000\" fill-rule=\"evenodd\" fill-opacity=\"1\" /><polyline clip-path=\"url(#clip572)\" style=\"stroke:#000000; stroke-linecap:round; stroke-linejoin:round; stroke-width:2; stroke-opacity:0.1; fill:none\" points=\"\n",
       "  247.408,1428.92 2352.76,1428.92 \n",
       "  \"/>\n",
       "<polyline clip-path=\"url(#clip572)\" style=\"stroke:#000000; stroke-linecap:round; stroke-linejoin:round; stroke-width:2; stroke-opacity:0.1; fill:none\" points=\"\n",
       "  247.408,1093.57 2352.76,1093.57 \n",
       "  \"/>\n",
       "<polyline clip-path=\"url(#clip572)\" style=\"stroke:#000000; stroke-linecap:round; stroke-linejoin:round; stroke-width:2; stroke-opacity:0.1; fill:none\" points=\"\n",
       "  247.408,758.206 2352.76,758.206 \n",
       "  \"/>\n",
       "<polyline clip-path=\"url(#clip572)\" style=\"stroke:#000000; stroke-linecap:round; stroke-linejoin:round; stroke-width:2; stroke-opacity:0.1; fill:none\" points=\"\n",
       "  247.408,422.847 2352.76,422.847 \n",
       "  \"/>\n",
       "<polyline clip-path=\"url(#clip572)\" style=\"stroke:#000000; stroke-linecap:round; stroke-linejoin:round; stroke-width:2; stroke-opacity:0.1; fill:none\" points=\"\n",
       "  247.408,87.4872 2352.76,87.4872 \n",
       "  \"/>\n",
       "<polyline clip-path=\"url(#clip570)\" style=\"stroke:#000000; stroke-linecap:round; stroke-linejoin:round; stroke-width:4; stroke-opacity:1; fill:none\" points=\"\n",
       "  247.408,1469.17 247.408,47.2441 \n",
       "  \"/>\n",
       "<polyline clip-path=\"url(#clip570)\" style=\"stroke:#000000; stroke-linecap:round; stroke-linejoin:round; stroke-width:4; stroke-opacity:1; fill:none\" points=\"\n",
       "  247.408,1428.92 266.306,1428.92 \n",
       "  \"/>\n",
       "<polyline clip-path=\"url(#clip570)\" style=\"stroke:#000000; stroke-linecap:round; stroke-linejoin:round; stroke-width:4; stroke-opacity:1; fill:none\" points=\"\n",
       "  247.408,1093.57 266.306,1093.57 \n",
       "  \"/>\n",
       "<polyline clip-path=\"url(#clip570)\" style=\"stroke:#000000; stroke-linecap:round; stroke-linejoin:round; stroke-width:4; stroke-opacity:1; fill:none\" points=\"\n",
       "  247.408,758.206 266.306,758.206 \n",
       "  \"/>\n",
       "<polyline clip-path=\"url(#clip570)\" style=\"stroke:#000000; stroke-linecap:round; stroke-linejoin:round; stroke-width:4; stroke-opacity:1; fill:none\" points=\"\n",
       "  247.408,422.847 266.306,422.847 \n",
       "  \"/>\n",
       "<polyline clip-path=\"url(#clip570)\" style=\"stroke:#000000; stroke-linecap:round; stroke-linejoin:round; stroke-width:4; stroke-opacity:1; fill:none\" points=\"\n",
       "  247.408,87.4872 266.306,87.4872 \n",
       "  \"/>\n",
       "<path clip-path=\"url(#clip570)\" d=\"M50.9921 1429.6 L95.5058 1429.6 L95.5058 1435.5 L50.9921 1435.5 L50.9921 1429.6 Z\" fill=\"#000000\" fill-rule=\"evenodd\" fill-opacity=\"1\" /><path clip-path=\"url(#clip570)\" d=\"M111.86 1448.94 L123.318 1448.94 L123.318 1409.39 L110.853 1411.89 L110.853 1405.5 L123.249 1403 L130.263 1403 L130.263 1448.94 L141.721 1448.94 L141.721 1454.84 L111.86 1454.84 L111.86 1448.94 Z\" fill=\"#000000\" fill-rule=\"evenodd\" fill-opacity=\"1\" /><path clip-path=\"url(#clip570)\" d=\"M155.887 1446.03 L163.214 1446.03 L163.214 1454.84 L155.887 1454.84 L155.887 1446.03 Z\" fill=\"#000000\" fill-rule=\"evenodd\" fill-opacity=\"1\" /><path clip-path=\"url(#clip570)\" d=\"M193.491 1407.62 Q188.075 1407.62 185.332 1412.97 Q182.623 1418.28 182.623 1428.98 Q182.623 1439.64 185.332 1444.98 Q188.075 1450.3 193.491 1450.3 Q198.943 1450.3 201.651 1444.98 Q204.394 1439.64 204.394 1428.98 Q204.394 1418.28 201.651 1412.97 Q198.943 1407.62 193.491 1407.62 M193.491 1402.07 Q202.207 1402.07 206.79 1408.98 Q211.408 1415.85 211.408 1428.98 Q211.408 1442.07 206.79 1448.98 Q202.207 1455.85 193.491 1455.85 Q184.776 1455.85 180.158 1448.98 Q175.575 1442.07 175.575 1428.98 Q175.575 1415.85 180.158 1408.98 Q184.776 1402.07 193.491 1402.07 Z\" fill=\"#000000\" fill-rule=\"evenodd\" fill-opacity=\"1\" /><path clip-path=\"url(#clip570)\" d=\"M52.4852 1094.24 L96.9988 1094.24 L96.9988 1100.15 L52.4852 1100.15 L52.4852 1094.24 Z\" fill=\"#000000\" fill-rule=\"evenodd\" fill-opacity=\"1\" /><path clip-path=\"url(#clip570)\" d=\"M127.138 1072.26 Q121.721 1072.26 118.978 1077.61 Q116.27 1082.92 116.27 1093.62 Q116.27 1104.28 118.978 1109.62 Q121.721 1114.94 127.138 1114.94 Q132.589 1114.94 135.297 1109.62 Q138.04 1104.28 138.04 1093.62 Q138.04 1082.92 135.297 1077.61 Q132.589 1072.26 127.138 1072.26 M127.138 1066.71 Q135.853 1066.71 140.436 1073.62 Q145.054 1080.49 145.054 1093.62 Q145.054 1106.71 140.436 1113.62 Q135.853 1120.49 127.138 1120.49 Q118.422 1120.49 113.804 1113.62 Q109.221 1106.71 109.221 1093.62 Q109.221 1080.49 113.804 1073.62 Q118.422 1066.71 127.138 1066.71 Z\" fill=\"#000000\" fill-rule=\"evenodd\" fill-opacity=\"1\" /><path clip-path=\"url(#clip570)\" d=\"M157.38 1110.67 L164.707 1110.67 L164.707 1119.49 L157.38 1119.49 L157.38 1110.67 Z\" fill=\"#000000\" fill-rule=\"evenodd\" fill-opacity=\"1\" /><path clip-path=\"url(#clip570)\" d=\"M180.054 1067.65 L207.589 1067.65 L207.589 1073.55 L186.478 1073.55 L186.478 1086.26 Q188.005 1085.74 189.533 1085.49 Q191.061 1085.21 192.589 1085.21 Q201.269 1085.21 206.339 1089.97 Q211.408 1094.73 211.408 1102.85 Q211.408 1111.22 206.2 1115.87 Q200.991 1120.49 191.512 1120.49 Q188.248 1120.49 184.846 1119.94 Q181.478 1119.38 177.866 1118.27 L177.866 1111.22 Q180.991 1112.92 184.325 1113.76 Q187.658 1114.59 191.373 1114.59 Q197.38 1114.59 200.887 1111.43 Q204.394 1108.27 204.394 1102.85 Q204.394 1097.44 200.887 1094.28 Q197.38 1091.12 191.373 1091.12 Q188.561 1091.12 185.748 1091.74 Q182.971 1092.37 180.054 1093.69 L180.054 1067.65 Z\" fill=\"#000000\" fill-rule=\"evenodd\" fill-opacity=\"1\" /><path clip-path=\"url(#clip570)\" d=\"M125.645 736.904 Q120.228 736.904 117.485 742.251 Q114.777 747.564 114.777 758.258 Q114.777 768.918 117.485 774.265 Q120.228 779.577 125.645 779.577 Q131.096 779.577 133.804 774.265 Q136.547 768.918 136.547 758.258 Q136.547 747.564 133.804 742.251 Q131.096 736.904 125.645 736.904 M125.645 731.348 Q134.36 731.348 138.943 738.258 Q143.561 745.133 143.561 758.258 Q143.561 771.348 138.943 778.258 Q134.36 785.133 125.645 785.133 Q116.929 785.133 112.311 778.258 Q107.728 771.348 107.728 758.258 Q107.728 745.133 112.311 738.258 Q116.929 731.348 125.645 731.348 Z\" fill=\"#000000\" fill-rule=\"evenodd\" fill-opacity=\"1\" /><path clip-path=\"url(#clip570)\" d=\"M155.887 775.307 L163.214 775.307 L163.214 784.126 L155.887 784.126 L155.887 775.307 Z\" fill=\"#000000\" fill-rule=\"evenodd\" fill-opacity=\"1\" /><path clip-path=\"url(#clip570)\" d=\"M193.491 736.904 Q188.075 736.904 185.332 742.251 Q182.623 747.564 182.623 758.258 Q182.623 768.918 185.332 774.265 Q188.075 779.577 193.491 779.577 Q198.943 779.577 201.651 774.265 Q204.394 768.918 204.394 758.258 Q204.394 747.564 201.651 742.251 Q198.943 736.904 193.491 736.904 M193.491 731.348 Q202.207 731.348 206.79 738.258 Q211.408 745.133 211.408 758.258 Q211.408 771.348 206.79 778.258 Q202.207 785.133 193.491 785.133 Q184.776 785.133 180.158 778.258 Q175.575 771.348 175.575 758.258 Q175.575 745.133 180.158 738.258 Q184.776 731.348 193.491 731.348 Z\" fill=\"#000000\" fill-rule=\"evenodd\" fill-opacity=\"1\" /><path clip-path=\"url(#clip570)\" d=\"M127.138 401.545 Q121.721 401.545 118.978 406.892 Q116.27 412.204 116.27 422.899 Q116.27 433.558 118.978 438.906 Q121.721 444.218 127.138 444.218 Q132.589 444.218 135.297 438.906 Q138.04 433.558 138.04 422.899 Q138.04 412.204 135.297 406.892 Q132.589 401.545 127.138 401.545 M127.138 395.989 Q135.853 395.989 140.436 402.899 Q145.054 409.774 145.054 422.899 Q145.054 435.989 140.436 442.899 Q135.853 449.774 127.138 449.774 Q118.422 449.774 113.804 442.899 Q109.221 435.989 109.221 422.899 Q109.221 409.774 113.804 402.899 Q118.422 395.989 127.138 395.989 Z\" fill=\"#000000\" fill-rule=\"evenodd\" fill-opacity=\"1\" /><path clip-path=\"url(#clip570)\" d=\"M157.38 439.947 L164.707 439.947 L164.707 448.767 L157.38 448.767 L157.38 439.947 Z\" fill=\"#000000\" fill-rule=\"evenodd\" fill-opacity=\"1\" /><path clip-path=\"url(#clip570)\" d=\"M180.054 396.927 L207.589 396.927 L207.589 402.829 L186.478 402.829 L186.478 415.538 Q188.005 415.017 189.533 414.774 Q191.061 414.496 192.589 414.496 Q201.269 414.496 206.339 419.253 Q211.408 424.01 211.408 432.135 Q211.408 440.503 206.2 445.156 Q200.991 449.774 191.512 449.774 Q188.248 449.774 184.846 449.218 Q181.478 448.662 177.866 447.551 L177.866 440.503 Q180.991 442.204 184.325 443.037 Q187.658 443.871 191.373 443.871 Q197.38 443.871 200.887 440.711 Q204.394 437.551 204.394 432.135 Q204.394 426.718 200.887 423.558 Q197.38 420.399 191.373 420.399 Q188.561 420.399 185.748 421.024 Q182.971 421.649 180.054 422.968 L180.054 396.927 Z\" fill=\"#000000\" fill-rule=\"evenodd\" fill-opacity=\"1\" /><path clip-path=\"url(#clip570)\" d=\"M111.86 107.504 L123.318 107.504 L123.318 67.9561 L110.853 70.4561 L110.853 64.0672 L123.249 61.5672 L130.263 61.5672 L130.263 107.504 L141.721 107.504 L141.721 113.407 L111.86 113.407 L111.86 107.504 Z\" fill=\"#000000\" fill-rule=\"evenodd\" fill-opacity=\"1\" /><path clip-path=\"url(#clip570)\" d=\"M155.887 104.588 L163.214 104.588 L163.214 113.407 L155.887 113.407 L155.887 104.588 Z\" fill=\"#000000\" fill-rule=\"evenodd\" fill-opacity=\"1\" /><path clip-path=\"url(#clip570)\" d=\"M193.491 66.1853 Q188.075 66.1853 185.332 71.5324 Q182.623 76.8449 182.623 87.5393 Q182.623 98.199 185.332 103.546 Q188.075 108.859 193.491 108.859 Q198.943 108.859 201.651 103.546 Q204.394 98.199 204.394 87.5393 Q204.394 76.8449 201.651 71.5324 Q198.943 66.1853 193.491 66.1853 M193.491 60.6297 Q202.207 60.6297 206.79 67.5394 Q211.408 74.4144 211.408 87.5393 Q211.408 100.63 206.79 107.539 Q202.207 114.414 193.491 114.414 Q184.776 114.414 180.158 107.539 Q175.575 100.63 175.575 87.5393 Q175.575 74.4144 180.158 67.5394 Q184.776 60.6297 193.491 60.6297 Z\" fill=\"#000000\" fill-rule=\"evenodd\" fill-opacity=\"1\" /><polyline clip-path=\"url(#clip572)\" style=\"stroke:#009af9; stroke-linecap:round; stroke-linejoin:round; stroke-width:12; stroke-opacity:1; fill:none\" points=\"\n",
       "  247.408,1428.92 261.115,1420.19 387.856,1339.44 464.021,1290.91 528.419,1249.88 598.372,1205.31 662.863,1164.21 732.004,1120.16 812.111,1069.12 883.3,1023.76 \n",
       "  945.727,983.986 1013.79,940.62 1082.26,896.996 1157.95,848.764 1229.98,802.873 1304.87,755.157 1367.91,714.99 1444.87,665.95 1515.38,621.027 1580.5,579.537 \n",
       "  1646.46,537.509 1720.38,490.408 1787.37,447.726 1864.07,398.858 1935.08,353.611 2005.09,309.003 2073.07,265.692 2142.75,221.293 2219.1,172.648 2330,101.984 \n",
       "  2352.76,87.4872 \n",
       "  \"/>\n",
       "<polyline clip-path=\"url(#clip572)\" style=\"stroke:#e26f46; stroke-linecap:round; stroke-linejoin:round; stroke-width:12; stroke-opacity:1; fill:none\" points=\"\n",
       "  247.408,1428.92 261.115,1420.19 387.856,1339.44 464.021,1290.91 528.419,1249.88 598.372,1205.31 662.863,1164.21 732.004,1120.16 812.111,1069.12 883.3,1023.76 \n",
       "  945.727,983.986 1013.79,940.62 1082.26,896.996 1157.95,848.764 1229.98,802.873 1304.87,755.157 1367.91,714.99 1444.87,665.95 1515.38,621.027 1580.5,579.537 \n",
       "  1646.46,537.509 1720.38,490.408 1787.37,447.726 1864.07,398.858 1935.08,353.611 2005.09,309.003 2073.07,265.692 2142.75,221.293 2219.1,172.648 2330,101.984 \n",
       "  2352.76,87.4872 \n",
       "  \"/>\n",
       "<path clip-path=\"url(#clip570)\" d=\"\n",
       "M1831.46 289.042 L2282.58 289.042 L2282.58 94.6416 L1831.46 94.6416  Z\n",
       "  \" fill=\"#ffffff\" fill-rule=\"evenodd\" fill-opacity=\"1\"/>\n",
       "<polyline clip-path=\"url(#clip570)\" style=\"stroke:#000000; stroke-linecap:round; stroke-linejoin:round; stroke-width:4; stroke-opacity:1; fill:none\" points=\"\n",
       "  1831.46,289.042 2282.58,289.042 2282.58,94.6416 1831.46,94.6416 1831.46,289.042 \n",
       "  \"/>\n",
       "<polyline clip-path=\"url(#clip570)\" style=\"stroke:#009af9; stroke-linecap:round; stroke-linejoin:round; stroke-width:5; stroke-opacity:1; fill:none\" points=\"\n",
       "  1854.86,159.442 1995.21,159.442 \n",
       "  \"/>\n",
       "<path clip-path=\"url(#clip570)\" d=\"M2031.89 136.077 Q2028.01 142.732 2026.13 149.242 Q2024.25 155.752 2024.25 162.436 Q2024.25 169.12 2026.13 175.689 Q2028.04 182.228 2031.89 188.854 L2027.26 188.854 Q2022.92 182.054 2020.75 175.486 Q2018.61 168.918 2018.61 162.436 Q2018.61 155.984 2020.75 149.445 Q2022.89 142.905 2027.26 136.077 L2031.89 136.077 Z\" fill=\"#000000\" fill-rule=\"evenodd\" fill-opacity=\"1\" /><path clip-path=\"url(#clip570)\" d=\"M2043.98 176.123 L2053.53 176.123 L2053.53 143.166 L2043.14 145.249 L2043.14 139.925 L2053.47 137.842 L2059.32 137.842 L2059.32 176.123 L2068.87 176.123 L2068.87 181.042 L2043.98 181.042 L2043.98 176.123 Z\" fill=\"#000000\" fill-rule=\"evenodd\" fill-opacity=\"1\" /><path clip-path=\"url(#clip570)\" d=\"M2101.59 143.889 L2101.59 160.006 L2117.71 160.006 L2117.71 164.925 L2101.59 164.925 L2101.59 181.042 L2096.73 181.042 L2096.73 164.925 L2080.61 164.925 L2080.61 160.006 L2096.73 160.006 L2096.73 143.889 L2101.59 143.889 Z\" fill=\"#000000\" fill-rule=\"evenodd\" fill-opacity=\"1\" /><path clip-path=\"url(#clip570)\" d=\"M2156.51 148.634 L2144.79 164.404 L2157.12 181.042 L2150.84 181.042 L2141.41 168.31 L2131.97 181.042 L2125.69 181.042 L2138.28 164.086 L2126.76 148.634 L2133.04 148.634 L2141.64 160.179 L2150.23 148.634 L2156.51 148.634 Z\" fill=\"#000000\" fill-rule=\"evenodd\" fill-opacity=\"1\" /><path clip-path=\"url(#clip570)\" d=\"M2163.8 136.077 L2168.43 136.077 Q2172.77 142.905 2174.91 149.445 Q2177.08 155.984 2177.08 162.436 Q2177.08 168.918 2174.91 175.486 Q2172.77 182.054 2168.43 188.854 L2163.8 188.854 Q2167.65 182.228 2169.53 175.689 Q2171.44 169.12 2171.44 162.436 Q2171.44 155.752 2169.53 149.242 Q2167.65 142.732 2163.8 136.077 Z\" fill=\"#000000\" fill-rule=\"evenodd\" fill-opacity=\"1\" /><path clip-path=\"url(#clip570)\" d=\"M2185.07 162.436 L2200.67 162.436 L2200.67 167.182 L2185.07 167.182 L2185.07 162.436 Z\" fill=\"#000000\" fill-rule=\"evenodd\" fill-opacity=\"1\" /><path clip-path=\"url(#clip570)\" d=\"M2210.91 176.123 L2220.46 176.123 L2220.46 143.166 L2210.07 145.249 L2210.07 139.925 L2220.4 137.842 L2226.24 137.842 L2226.24 176.123 L2235.79 176.123 L2235.79 181.042 L2210.91 181.042 L2210.91 176.123 Z\" fill=\"#000000\" fill-rule=\"evenodd\" fill-opacity=\"1\" /><polyline clip-path=\"url(#clip570)\" style=\"stroke:#e26f46; stroke-linecap:round; stroke-linejoin:round; stroke-width:5; stroke-opacity:1; fill:none\" points=\"\n",
       "  1854.86,224.242 1995.21,224.242 \n",
       "  \"/>\n",
       "<path clip-path=\"url(#clip570)\" d=\"M2049.42 213.434 L2037.7 229.204 L2050.03 245.842 L2043.75 245.842 L2034.32 233.11 L2024.88 245.842 L2018.61 245.842 L2031.19 228.886 L2019.68 213.434 L2025.96 213.434 L2034.55 224.979 L2043.14 213.434 L2049.42 213.434 Z\" fill=\"#000000\" fill-rule=\"evenodd\" fill-opacity=\"1\" /></svg>\n"
      ]
     },
     "execution_count": 9,
     "metadata": {},
     "output_type": "execute_result"
    }
   ],
   "source": [
    "plot(x -> (1 + x) - 1, xlims=(-1e-0 , 1e-0), label = \"(1+x)-1\")\n",
    "\n",
    "plot!(x -> x, label= \"x\", tickfontsize=12, legendfontsize=10)"
   ]
  },
  {
   "cell_type": "markdown",
   "id": "6977f753",
   "metadata": {
    "slideshow": {
     "slide_type": "subslide"
    }
   },
   "source": [
    "### 2) Condition number of function $f(x)$\n",
    "\n",
    "### $$\\kappa_f(x) = \\lvert \\frac{x f^{'}(x)}{f(x)} \\rvert$$\n",
    "### What is the condition number of $f(x) = \\log(1+x)$ when $x \\approx 0$?\n",
    "### $$\\kappa_f(x) = \\frac{x}{1+x}\\frac{1}{\\log(1+x)} \\longrightarrow \\infty$$"
   ]
  },
  {
   "cell_type": "code",
   "execution_count": 10,
   "id": "b95e3939",
   "metadata": {},
   "outputs": [
    {
     "data": {
      "image/svg+xml": [
       "<?xml version=\"1.0\" encoding=\"utf-8\"?>\n",
       "<svg xmlns=\"http://www.w3.org/2000/svg\" xmlns:xlink=\"http://www.w3.org/1999/xlink\" width=\"600\" height=\"400\" viewBox=\"0 0 2400 1600\">\n",
       "<defs>\n",
       "  <clipPath id=\"clip610\">\n",
       "    <rect x=\"0\" y=\"0\" width=\"2400\" height=\"1600\"/>\n",
       "  </clipPath>\n",
       "</defs>\n",
       "<path clip-path=\"url(#clip610)\" d=\"\n",
       "M0 1600 L2400 1600 L2400 0 L0 0  Z\n",
       "  \" fill=\"#ffffff\" fill-rule=\"evenodd\" fill-opacity=\"1\"/>\n",
       "<defs>\n",
       "  <clipPath id=\"clip611\">\n",
       "    <rect x=\"480\" y=\"0\" width=\"1681\" height=\"1600\"/>\n",
       "  </clipPath>\n",
       "</defs>\n",
       "<path clip-path=\"url(#clip610)\" d=\"\n",
       "M180.29 1469.17 L2352.76 1469.17 L2352.76 47.2441 L180.29 47.2441  Z\n",
       "  \" fill=\"#ffffff\" fill-rule=\"evenodd\" fill-opacity=\"1\"/>\n",
       "<defs>\n",
       "  <clipPath id=\"clip612\">\n",
       "    <rect x=\"180\" y=\"47\" width=\"2173\" height=\"1423\"/>\n",
       "  </clipPath>\n",
       "</defs>\n",
       "<polyline clip-path=\"url(#clip612)\" style=\"stroke:#000000; stroke-linecap:round; stroke-linejoin:round; stroke-width:2; stroke-opacity:0.1; fill:none\" points=\"\n",
       "  180.29,1469.17 180.29,47.2441 \n",
       "  \"/>\n",
       "<polyline clip-path=\"url(#clip612)\" style=\"stroke:#000000; stroke-linecap:round; stroke-linejoin:round; stroke-width:2; stroke-opacity:0.1; fill:none\" points=\"\n",
       "  723.407,1469.17 723.407,47.2441 \n",
       "  \"/>\n",
       "<polyline clip-path=\"url(#clip612)\" style=\"stroke:#000000; stroke-linecap:round; stroke-linejoin:round; stroke-width:2; stroke-opacity:0.1; fill:none\" points=\"\n",
       "  1266.52,1469.17 1266.52,47.2441 \n",
       "  \"/>\n",
       "<polyline clip-path=\"url(#clip612)\" style=\"stroke:#000000; stroke-linecap:round; stroke-linejoin:round; stroke-width:2; stroke-opacity:0.1; fill:none\" points=\"\n",
       "  1809.64,1469.17 1809.64,47.2441 \n",
       "  \"/>\n",
       "<polyline clip-path=\"url(#clip612)\" style=\"stroke:#000000; stroke-linecap:round; stroke-linejoin:round; stroke-width:2; stroke-opacity:0.1; fill:none\" points=\"\n",
       "  2352.76,1469.17 2352.76,47.2441 \n",
       "  \"/>\n",
       "<polyline clip-path=\"url(#clip610)\" style=\"stroke:#000000; stroke-linecap:round; stroke-linejoin:round; stroke-width:4; stroke-opacity:1; fill:none\" points=\"\n",
       "  180.29,1469.17 2352.76,1469.17 \n",
       "  \"/>\n",
       "<polyline clip-path=\"url(#clip610)\" style=\"stroke:#000000; stroke-linecap:round; stroke-linejoin:round; stroke-width:4; stroke-opacity:1; fill:none\" points=\"\n",
       "  180.29,1469.17 180.29,1450.27 \n",
       "  \"/>\n",
       "<polyline clip-path=\"url(#clip610)\" style=\"stroke:#000000; stroke-linecap:round; stroke-linejoin:round; stroke-width:4; stroke-opacity:1; fill:none\" points=\"\n",
       "  723.407,1469.17 723.407,1450.27 \n",
       "  \"/>\n",
       "<polyline clip-path=\"url(#clip610)\" style=\"stroke:#000000; stroke-linecap:round; stroke-linejoin:round; stroke-width:4; stroke-opacity:1; fill:none\" points=\"\n",
       "  1266.52,1469.17 1266.52,1450.27 \n",
       "  \"/>\n",
       "<polyline clip-path=\"url(#clip610)\" style=\"stroke:#000000; stroke-linecap:round; stroke-linejoin:round; stroke-width:4; stroke-opacity:1; fill:none\" points=\"\n",
       "  1809.64,1469.17 1809.64,1450.27 \n",
       "  \"/>\n",
       "<polyline clip-path=\"url(#clip610)\" style=\"stroke:#000000; stroke-linecap:round; stroke-linejoin:round; stroke-width:4; stroke-opacity:1; fill:none\" points=\"\n",
       "  2352.76,1469.17 2352.76,1450.27 \n",
       "  \"/>\n",
       "<path clip-path=\"url(#clip610)\" d=\"M100.082 1527.92 L144.596 1527.92 L144.596 1533.83 L100.082 1533.83 L100.082 1527.92 Z\" fill=\"#000000\" fill-rule=\"evenodd\" fill-opacity=\"1\" /><path clip-path=\"url(#clip610)\" d=\"M160.95 1547.27 L172.408 1547.27 L172.408 1507.72 L159.943 1510.22 L159.943 1503.83 L172.339 1501.33 L179.353 1501.33 L179.353 1547.27 L190.811 1547.27 L190.811 1553.17 L160.95 1553.17 L160.95 1547.27 Z\" fill=\"#000000\" fill-rule=\"evenodd\" fill-opacity=\"1\" /><path clip-path=\"url(#clip610)\" d=\"M204.978 1544.35 L212.304 1544.35 L212.304 1553.17 L204.978 1553.17 L204.978 1544.35 Z\" fill=\"#000000\" fill-rule=\"evenodd\" fill-opacity=\"1\" /><path clip-path=\"url(#clip610)\" d=\"M242.582 1505.95 Q237.165 1505.95 234.422 1511.29 Q231.714 1516.61 231.714 1527.3 Q231.714 1537.96 234.422 1543.31 Q237.165 1548.62 242.582 1548.62 Q248.033 1548.62 250.741 1543.31 Q253.484 1537.96 253.484 1527.3 Q253.484 1516.61 250.741 1511.29 Q248.033 1505.95 242.582 1505.95 M242.582 1500.39 Q251.297 1500.39 255.88 1507.3 Q260.498 1514.18 260.498 1527.3 Q260.498 1540.39 255.88 1547.3 Q251.297 1554.17 242.582 1554.17 Q233.866 1554.17 229.248 1547.3 Q224.665 1540.39 224.665 1527.3 Q224.665 1514.18 229.248 1507.3 Q233.866 1500.39 242.582 1500.39 Z\" fill=\"#000000\" fill-rule=\"evenodd\" fill-opacity=\"1\" /><path clip-path=\"url(#clip610)\" d=\"M643.945 1527.92 L688.459 1527.92 L688.459 1533.83 L643.945 1533.83 L643.945 1527.92 Z\" fill=\"#000000\" fill-rule=\"evenodd\" fill-opacity=\"1\" /><path clip-path=\"url(#clip610)\" d=\"M718.598 1505.95 Q713.181 1505.95 710.438 1511.29 Q707.73 1516.61 707.73 1527.3 Q707.73 1537.96 710.438 1543.31 Q713.181 1548.62 718.598 1548.62 Q724.049 1548.62 726.757 1543.31 Q729.5 1537.96 729.5 1527.3 Q729.5 1516.61 726.757 1511.29 Q724.049 1505.95 718.598 1505.95 M718.598 1500.39 Q727.313 1500.39 731.896 1507.3 Q736.514 1514.18 736.514 1527.3 Q736.514 1540.39 731.896 1547.3 Q727.313 1554.17 718.598 1554.17 Q709.882 1554.17 705.264 1547.3 Q700.681 1540.39 700.681 1527.3 Q700.681 1514.18 705.264 1507.3 Q709.882 1500.39 718.598 1500.39 Z\" fill=\"#000000\" fill-rule=\"evenodd\" fill-opacity=\"1\" /><path clip-path=\"url(#clip610)\" d=\"M748.841 1544.35 L756.167 1544.35 L756.167 1553.17 L748.841 1553.17 L748.841 1544.35 Z\" fill=\"#000000\" fill-rule=\"evenodd\" fill-opacity=\"1\" /><path clip-path=\"url(#clip610)\" d=\"M771.514 1501.33 L799.049 1501.33 L799.049 1507.23 L777.938 1507.23 L777.938 1519.94 Q779.465 1519.42 780.993 1519.18 Q782.521 1518.9 784.049 1518.9 Q792.729 1518.9 797.799 1523.65 Q802.868 1528.41 802.868 1536.54 Q802.868 1544.9 797.66 1549.56 Q792.451 1554.17 782.972 1554.17 Q779.708 1554.17 776.306 1553.62 Q772.938 1553.06 769.327 1551.95 L769.327 1544.9 Q772.452 1546.61 775.785 1547.44 Q779.118 1548.27 782.833 1548.27 Q788.84 1548.27 792.347 1545.11 Q795.854 1541.95 795.854 1536.54 Q795.854 1531.12 792.347 1527.96 Q788.84 1524.8 782.833 1524.8 Q780.021 1524.8 777.208 1525.42 Q774.431 1526.05 771.514 1527.37 L771.514 1501.33 Z\" fill=\"#000000\" fill-rule=\"evenodd\" fill-opacity=\"1\" /><path clip-path=\"url(#clip610)\" d=\"M1232.6 1505.95 Q1227.18 1505.95 1224.44 1511.29 Q1221.73 1516.61 1221.73 1527.3 Q1221.73 1537.96 1224.44 1543.31 Q1227.18 1548.62 1232.6 1548.62 Q1238.05 1548.62 1240.76 1543.31 Q1243.5 1537.96 1243.5 1527.3 Q1243.5 1516.61 1240.76 1511.29 Q1238.05 1505.95 1232.6 1505.95 M1232.6 1500.39 Q1241.31 1500.39 1245.9 1507.3 Q1250.52 1514.18 1250.52 1527.3 Q1250.52 1540.39 1245.9 1547.3 Q1241.31 1554.17 1232.6 1554.17 Q1223.88 1554.17 1219.27 1547.3 Q1214.68 1540.39 1214.68 1527.3 Q1214.68 1514.18 1219.27 1507.3 Q1223.88 1500.39 1232.6 1500.39 Z\" fill=\"#000000\" fill-rule=\"evenodd\" fill-opacity=\"1\" /><path clip-path=\"url(#clip610)\" d=\"M1262.84 1544.35 L1270.17 1544.35 L1270.17 1553.17 L1262.84 1553.17 L1262.84 1544.35 Z\" fill=\"#000000\" fill-rule=\"evenodd\" fill-opacity=\"1\" /><path clip-path=\"url(#clip610)\" d=\"M1300.45 1505.95 Q1295.03 1505.95 1292.29 1511.29 Q1289.58 1516.61 1289.58 1527.3 Q1289.58 1537.96 1292.29 1543.31 Q1295.03 1548.62 1300.45 1548.62 Q1305.9 1548.62 1308.61 1543.31 Q1311.35 1537.96 1311.35 1527.3 Q1311.35 1516.61 1308.61 1511.29 Q1305.9 1505.95 1300.45 1505.95 M1300.45 1500.39 Q1309.16 1500.39 1313.75 1507.3 Q1318.36 1514.18 1318.36 1527.3 Q1318.36 1540.39 1313.75 1547.3 Q1309.16 1554.17 1300.45 1554.17 Q1291.73 1554.17 1287.11 1547.3 Q1282.53 1540.39 1282.53 1527.3 Q1282.53 1514.18 1287.11 1507.3 Q1291.73 1500.39 1300.45 1500.39 Z\" fill=\"#000000\" fill-rule=\"evenodd\" fill-opacity=\"1\" /><path clip-path=\"url(#clip610)\" d=\"M1776.46 1505.95 Q1771.05 1505.95 1768.3 1511.29 Q1765.59 1516.61 1765.59 1527.3 Q1765.59 1537.96 1768.3 1543.31 Q1771.05 1548.62 1776.46 1548.62 Q1781.91 1548.62 1784.62 1543.31 Q1787.37 1537.96 1787.37 1527.3 Q1787.37 1516.61 1784.62 1511.29 Q1781.91 1505.95 1776.46 1505.95 M1776.46 1500.39 Q1785.18 1500.39 1789.76 1507.3 Q1794.38 1514.18 1794.38 1527.3 Q1794.38 1540.39 1789.76 1547.3 Q1785.18 1554.17 1776.46 1554.17 Q1767.75 1554.17 1763.13 1547.3 Q1758.55 1540.39 1758.55 1527.3 Q1758.55 1514.18 1763.13 1507.3 Q1767.75 1500.39 1776.46 1500.39 Z\" fill=\"#000000\" fill-rule=\"evenodd\" fill-opacity=\"1\" /><path clip-path=\"url(#clip610)\" d=\"M1806.71 1544.35 L1814.03 1544.35 L1814.03 1553.17 L1806.71 1553.17 L1806.71 1544.35 Z\" fill=\"#000000\" fill-rule=\"evenodd\" fill-opacity=\"1\" /><path clip-path=\"url(#clip610)\" d=\"M1829.38 1501.33 L1856.91 1501.33 L1856.91 1507.23 L1835.8 1507.23 L1835.8 1519.94 Q1837.33 1519.42 1838.86 1519.18 Q1840.39 1518.9 1841.91 1518.9 Q1850.59 1518.9 1855.66 1523.65 Q1860.73 1528.41 1860.73 1536.54 Q1860.73 1544.9 1855.52 1549.56 Q1850.32 1554.17 1840.84 1554.17 Q1837.57 1554.17 1834.17 1553.62 Q1830.8 1553.06 1827.19 1551.95 L1827.19 1544.9 Q1830.32 1546.61 1833.65 1547.44 Q1836.98 1548.27 1840.7 1548.27 Q1846.71 1548.27 1850.21 1545.11 Q1853.72 1541.95 1853.72 1536.54 Q1853.72 1531.12 1850.21 1527.96 Q1846.71 1524.8 1840.7 1524.8 Q1837.89 1524.8 1835.07 1525.42 Q1832.3 1526.05 1829.38 1527.37 L1829.38 1501.33 Z\" fill=\"#000000\" fill-rule=\"evenodd\" fill-opacity=\"1\" /><path clip-path=\"url(#clip610)\" d=\"M2303.49 1547.27 L2314.94 1547.27 L2314.94 1507.72 L2302.48 1510.22 L2302.48 1503.83 L2314.87 1501.33 L2321.89 1501.33 L2321.89 1547.27 L2333.35 1547.27 L2333.35 1553.17 L2303.49 1553.17 L2303.49 1547.27 Z\" fill=\"#000000\" fill-rule=\"evenodd\" fill-opacity=\"1\" /><path clip-path=\"url(#clip610)\" d=\"M2347.51 1544.35 L2354.84 1544.35 L2354.84 1553.17 L2347.51 1553.17 L2347.51 1544.35 Z\" fill=\"#000000\" fill-rule=\"evenodd\" fill-opacity=\"1\" /><path clip-path=\"url(#clip610)\" d=\"M2385.12 1505.95 Q2379.7 1505.95 2376.96 1511.29 Q2374.25 1516.61 2374.25 1527.3 Q2374.25 1537.96 2376.96 1543.31 Q2379.7 1548.62 2385.12 1548.62 Q2390.57 1548.62 2393.28 1543.31 Q2396.02 1537.96 2396.02 1527.3 Q2396.02 1516.61 2393.28 1511.29 Q2390.57 1505.95 2385.12 1505.95 M2385.12 1500.39 Q2393.83 1500.39 2398.42 1507.3 Q2403.03 1514.18 2403.03 1527.3 Q2403.03 1540.39 2398.42 1547.3 Q2393.83 1554.17 2385.12 1554.17 Q2376.4 1554.17 2371.78 1547.3 Q2367.2 1540.39 2367.2 1527.3 Q2367.2 1514.18 2371.78 1507.3 Q2376.4 1500.39 2385.12 1500.39 Z\" fill=\"#000000\" fill-rule=\"evenodd\" fill-opacity=\"1\" /><polyline clip-path=\"url(#clip612)\" style=\"stroke:#000000; stroke-linecap:round; stroke-linejoin:round; stroke-width:2; stroke-opacity:0.1; fill:none\" points=\"\n",
       "  180.29,1267.02 2352.76,1267.02 \n",
       "  \"/>\n",
       "<polyline clip-path=\"url(#clip612)\" style=\"stroke:#000000; stroke-linecap:round; stroke-linejoin:round; stroke-width:2; stroke-opacity:0.1; fill:none\" points=\"\n",
       "  180.29,995.651 2352.76,995.651 \n",
       "  \"/>\n",
       "<polyline clip-path=\"url(#clip612)\" style=\"stroke:#000000; stroke-linecap:round; stroke-linejoin:round; stroke-width:2; stroke-opacity:0.1; fill:none\" points=\"\n",
       "  180.29,724.28 2352.76,724.28 \n",
       "  \"/>\n",
       "<polyline clip-path=\"url(#clip612)\" style=\"stroke:#000000; stroke-linecap:round; stroke-linejoin:round; stroke-width:2; stroke-opacity:0.1; fill:none\" points=\"\n",
       "  180.29,452.909 2352.76,452.909 \n",
       "  \"/>\n",
       "<polyline clip-path=\"url(#clip612)\" style=\"stroke:#000000; stroke-linecap:round; stroke-linejoin:round; stroke-width:2; stroke-opacity:0.1; fill:none\" points=\"\n",
       "  180.29,181.537 2352.76,181.537 \n",
       "  \"/>\n",
       "<polyline clip-path=\"url(#clip610)\" style=\"stroke:#000000; stroke-linecap:round; stroke-linejoin:round; stroke-width:4; stroke-opacity:1; fill:none\" points=\"\n",
       "  180.29,1469.17 180.29,47.2441 \n",
       "  \"/>\n",
       "<polyline clip-path=\"url(#clip610)\" style=\"stroke:#000000; stroke-linecap:round; stroke-linejoin:round; stroke-width:4; stroke-opacity:1; fill:none\" points=\"\n",
       "  180.29,1267.02 199.188,1267.02 \n",
       "  \"/>\n",
       "<polyline clip-path=\"url(#clip610)\" style=\"stroke:#000000; stroke-linecap:round; stroke-linejoin:round; stroke-width:4; stroke-opacity:1; fill:none\" points=\"\n",
       "  180.29,995.651 199.188,995.651 \n",
       "  \"/>\n",
       "<polyline clip-path=\"url(#clip610)\" style=\"stroke:#000000; stroke-linecap:round; stroke-linejoin:round; stroke-width:4; stroke-opacity:1; fill:none\" points=\"\n",
       "  180.29,724.28 199.188,724.28 \n",
       "  \"/>\n",
       "<polyline clip-path=\"url(#clip610)\" style=\"stroke:#000000; stroke-linecap:round; stroke-linejoin:round; stroke-width:4; stroke-opacity:1; fill:none\" points=\"\n",
       "  180.29,452.909 199.188,452.909 \n",
       "  \"/>\n",
       "<polyline clip-path=\"url(#clip610)\" style=\"stroke:#000000; stroke-linecap:round; stroke-linejoin:round; stroke-width:4; stroke-opacity:1; fill:none\" points=\"\n",
       "  180.29,181.537 199.188,181.537 \n",
       "  \"/>\n",
       "<path clip-path=\"url(#clip610)\" d=\"M51.8602 1267.7 L96.3738 1267.7 L96.3738 1273.6 L51.8602 1273.6 L51.8602 1267.7 Z\" fill=\"#000000\" fill-rule=\"evenodd\" fill-opacity=\"1\" /><path clip-path=\"url(#clip610)\" d=\"M126.513 1268.32 Q121.513 1268.32 118.631 1271 Q115.783 1273.67 115.783 1278.36 Q115.783 1283.05 118.631 1285.72 Q121.513 1288.39 126.513 1288.39 Q131.513 1288.39 134.394 1285.72 Q137.276 1283.01 137.276 1278.36 Q137.276 1273.67 134.394 1271 Q131.547 1268.32 126.513 1268.32 M119.499 1265.34 Q114.985 1264.23 112.45 1261.14 Q109.95 1258.05 109.95 1253.6 Q109.95 1247.39 114.36 1243.78 Q118.804 1240.17 126.513 1240.17 Q134.256 1240.17 138.665 1243.78 Q143.075 1247.39 143.075 1253.6 Q143.075 1258.05 140.54 1261.14 Q138.04 1264.23 133.561 1265.34 Q138.631 1266.52 141.443 1269.96 Q144.29 1273.39 144.29 1278.36 Q144.29 1285.89 139.672 1289.92 Q135.089 1293.95 126.513 1293.95 Q117.936 1293.95 113.318 1289.92 Q108.735 1285.89 108.735 1278.36 Q108.735 1273.39 111.582 1269.96 Q114.429 1266.52 119.499 1265.34 M116.929 1254.26 Q116.929 1258.29 119.429 1260.55 Q121.964 1262.8 126.513 1262.8 Q131.026 1262.8 133.561 1260.55 Q136.131 1258.29 136.131 1254.26 Q136.131 1250.23 133.561 1247.98 Q131.026 1245.72 126.513 1245.72 Q121.964 1245.72 119.429 1247.98 Q116.929 1250.23 116.929 1254.26 Z\" fill=\"#000000\" fill-rule=\"evenodd\" fill-opacity=\"1\" /><path clip-path=\"url(#clip610)\" d=\"M51.4782 996.328 L95.9919 996.328 L95.9919 1002.23 L51.4782 1002.23 L51.4782 996.328 Z\" fill=\"#000000\" fill-rule=\"evenodd\" fill-opacity=\"1\" /><path clip-path=\"url(#clip610)\" d=\"M126.999 992.856 Q122.276 992.856 119.499 996.085 Q116.756 999.314 116.756 1004.94 Q116.756 1010.53 119.499 1013.79 Q122.276 1017.02 126.999 1017.02 Q131.721 1017.02 134.464 1013.79 Q137.242 1010.53 137.242 1004.94 Q137.242 999.314 134.464 996.085 Q131.721 992.856 126.999 992.856 M140.922 970.877 L140.922 977.266 Q138.283 976.016 135.575 975.356 Q132.901 974.697 130.263 974.697 Q123.318 974.697 119.638 979.384 Q115.992 984.071 115.471 993.551 Q117.52 990.53 120.61 988.933 Q123.7 987.301 127.415 987.301 Q135.228 987.301 139.742 992.058 Q144.29 996.78 144.29 1004.94 Q144.29 1012.93 139.568 1017.75 Q134.846 1022.58 126.999 1022.58 Q118.006 1022.58 113.249 1015.7 Q108.492 1008.79 108.492 995.703 Q108.492 983.412 114.325 976.12 Q120.158 968.794 129.985 968.794 Q132.624 968.794 135.297 969.315 Q138.006 969.835 140.922 970.877 Z\" fill=\"#000000\" fill-rule=\"evenodd\" fill-opacity=\"1\" /><path clip-path=\"url(#clip610)\" d=\"M50.9921 724.957 L95.5058 724.957 L95.5058 730.86 L50.9921 730.86 L50.9921 724.957 Z\" fill=\"#000000\" fill-rule=\"evenodd\" fill-opacity=\"1\" /><path clip-path=\"url(#clip610)\" d=\"M129.915 704.471 L112.207 732.145 L129.915 732.145 L129.915 704.471 M128.075 698.36 L136.894 698.36 L136.894 732.145 L144.29 732.145 L144.29 737.978 L136.894 737.978 L136.894 750.2 L129.915 750.2 L129.915 737.978 L106.513 737.978 L106.513 731.207 L128.075 698.36 Z\" fill=\"#000000\" fill-rule=\"evenodd\" fill-opacity=\"1\" /><path clip-path=\"url(#clip610)\" d=\"M54.1171 453.586 L98.6308 453.586 L98.6308 459.488 L54.1171 459.488 L54.1171 453.586 Z\" fill=\"#000000\" fill-rule=\"evenodd\" fill-opacity=\"1\" /><path clip-path=\"url(#clip610)\" d=\"M119.811 472.926 L144.29 472.926 L144.29 478.829 L111.374 478.829 L111.374 472.926 Q115.367 468.794 122.242 461.85 Q129.151 454.87 130.922 452.857 Q134.29 449.072 135.61 446.468 Q136.964 443.829 136.964 441.294 Q136.964 437.162 134.047 434.558 Q131.165 431.954 126.513 431.954 Q123.214 431.954 119.533 433.1 Q115.888 434.246 111.721 436.572 L111.721 429.489 Q115.957 427.787 119.638 426.919 Q123.318 426.051 126.374 426.051 Q134.429 426.051 139.221 430.079 Q144.012 434.107 144.012 440.843 Q144.012 444.037 142.797 446.919 Q141.617 449.766 138.457 453.655 Q137.589 454.662 132.936 459.488 Q128.283 464.28 119.811 472.926 Z\" fill=\"#000000\" fill-rule=\"evenodd\" fill-opacity=\"1\" /><path clip-path=\"url(#clip610)\" d=\"M126.374 160.235 Q120.957 160.235 118.214 165.583 Q115.506 170.895 115.506 181.589 Q115.506 192.249 118.214 197.596 Q120.957 202.909 126.374 202.909 Q131.825 202.909 134.533 197.596 Q137.276 192.249 137.276 181.589 Q137.276 170.895 134.533 165.583 Q131.825 160.235 126.374 160.235 M126.374 154.68 Q135.089 154.68 139.672 161.59 Q144.29 168.465 144.29 181.589 Q144.29 194.68 139.672 201.589 Q135.089 208.464 126.374 208.464 Q117.658 208.464 113.04 201.589 Q108.457 194.68 108.457 181.589 Q108.457 168.465 113.04 161.59 Q117.658 154.68 126.374 154.68 Z\" fill=\"#000000\" fill-rule=\"evenodd\" fill-opacity=\"1\" /><polyline clip-path=\"url(#clip612)\" style=\"stroke:#009af9; stroke-linecap:round; stroke-linejoin:round; stroke-width:12; stroke-opacity:1; fill:none\" points=\"\n",
       "  180.401,1428.92 180.511,1334.87 180.622,1279.86 180.732,1240.82 180.843,1210.55 180.953,1185.81 181.064,1164.89 181.174,1146.77 181.285,1130.79 181.395,1116.5 \n",
       "  181.506,1103.56 181.616,1091.76 181.837,1070.84 182.058,1052.72 182.279,1036.74 182.5,1022.45 182.721,1009.51 182.942,997.708 183.163,986.848 183.384,976.792 \n",
       "  183.605,967.431 183.826,958.674 184.268,942.693 184.71,928.397 185.152,915.465 185.594,903.658 186.036,892.798 186.478,882.742 186.92,873.381 187.362,864.624 \n",
       "  188.246,848.643 189.13,834.347 190.014,821.414 190.898,809.608 191.782,798.748 192.666,788.692 193.108,783.931 193.55,779.331 193.992,774.882 194.434,770.574 \n",
       "  196.478,752.264 198.521,736.133 200.565,721.718 202.608,708.688 204.651,696.801 206.695,685.871 208.738,675.757 210.782,666.345 214.869,649.278 218.956,634.12 \n",
       "  223.043,620.487 227.129,608.099 231.216,596.748 235.303,586.274 239.39,576.551 243.477,567.478 251.651,550.972 259.825,536.258 267.999,522.984 276.172,510.894 \n",
       "  284.346,499.794 292.52,489.533 308.868,471.082 325.215,454.843 335.04,445.943 344.864,437.592 354.688,429.724 364.512,422.288 384.161,408.537 403.809,396.053 \n",
       "  420.422,386.325 437.034,377.249 453.647,368.742 470.26,360.737 506.351,344.82 542.443,330.575 575.717,318.649 608.99,307.686 644.663,296.841 680.335,286.799 \n",
       "  721.666,276.023 762.996,266.041 836.455,249.931 900.872,237.224 971.103,224.605 1041.75,212.995 1119.86,201.218 1194.18,190.888 1271.46,180.922 1336.51,173.065 \n",
       "  1415.93,164.051 1488.68,156.288 1555.88,149.493 1623.94,142.94 1700.22,135.954 1769.35,129.919 1848.49,123.324 1921.77,117.491 1994.01,111.976 2064.15,106.828 \n",
       "  2136.06,101.745 2214.84,96.3868 2329.28,88.9616 2352.76,87.4872 \n",
       "  \"/>\n",
       "<polyline clip-path=\"url(#clip612)\" style=\"stroke:#e26f46; stroke-linecap:round; stroke-linejoin:round; stroke-width:12; stroke-opacity:1; fill:none\" points=\"\n",
       "  180.401,1428.92 180.511,1334.87 180.622,1279.86 180.732,1240.82 180.843,1210.55 180.953,1185.81 181.064,1164.89 181.174,1146.77 181.285,1130.79 181.395,1116.5 \n",
       "  181.506,1103.56 181.616,1091.76 181.837,1070.84 182.058,1052.72 182.279,1036.74 182.5,1022.45 182.721,1009.51 182.942,997.708 183.163,986.848 183.384,976.792 \n",
       "  183.605,967.431 183.826,958.674 184.268,942.693 184.71,928.397 185.152,915.465 185.594,903.658 186.036,892.798 186.478,882.742 186.92,873.381 187.362,864.624 \n",
       "  188.246,848.643 189.13,834.347 190.014,821.414 190.898,809.608 191.782,798.748 192.666,788.692 193.108,783.931 193.55,779.331 193.992,774.882 194.434,770.574 \n",
       "  196.478,752.264 198.521,736.133 200.565,721.718 202.608,708.688 204.651,696.801 206.695,685.871 208.738,675.757 210.782,666.345 214.869,649.278 218.956,634.12 \n",
       "  223.043,620.487 227.129,608.099 231.216,596.748 235.303,586.274 239.39,576.551 243.477,567.478 251.651,550.972 259.825,536.258 267.999,522.984 276.172,510.894 \n",
       "  284.346,499.794 292.52,489.533 308.868,471.082 325.215,454.843 335.04,445.943 344.864,437.592 354.688,429.724 364.512,422.288 384.161,408.537 403.809,396.053 \n",
       "  420.422,386.325 437.034,377.249 453.647,368.742 470.26,360.737 506.351,344.82 542.443,330.575 575.717,318.649 608.99,307.686 644.663,296.841 680.335,286.799 \n",
       "  721.666,276.023 762.996,266.041 836.455,249.931 900.872,237.224 971.103,224.605 1041.75,212.995 1119.86,201.218 1194.18,190.888 1271.46,180.922 1336.51,173.065 \n",
       "  1415.93,164.051 1488.68,156.288 1555.88,149.493 1623.94,142.94 1700.22,135.954 1769.35,129.919 1848.49,123.324 1921.77,117.491 1994.01,111.976 2064.15,106.828 \n",
       "  2136.06,101.745 2214.84,96.3868 2329.28,88.9616 2352.76,87.4872 \n",
       "  \"/>\n",
       "<path clip-path=\"url(#clip610)\" d=\"\n",
       "M1790.63 289.042 L2280.34 289.042 L2280.34 94.6416 L1790.63 94.6416  Z\n",
       "  \" fill=\"#ffffff\" fill-rule=\"evenodd\" fill-opacity=\"1\"/>\n",
       "<polyline clip-path=\"url(#clip610)\" style=\"stroke:#000000; stroke-linecap:round; stroke-linejoin:round; stroke-width:4; stroke-opacity:1; fill:none\" points=\"\n",
       "  1790.63,289.042 2280.34,289.042 2280.34,94.6416 1790.63,94.6416 1790.63,289.042 \n",
       "  \"/>\n",
       "<polyline clip-path=\"url(#clip610)\" style=\"stroke:#009af9; stroke-linecap:round; stroke-linejoin:round; stroke-width:5; stroke-opacity:1; fill:none\" points=\"\n",
       "  1814.77,159.442 1959.6,159.442 \n",
       "  \"/>\n",
       "<path clip-path=\"url(#clip610)\" d=\"M1983.74 136.019 L1989.07 136.019 L1989.07 181.042 L1983.74 181.042 L1983.74 136.019 Z\" fill=\"#000000\" fill-rule=\"evenodd\" fill-opacity=\"1\" /><path clip-path=\"url(#clip610)\" d=\"M2012.76 152.367 Q2008.48 152.367 2005.99 155.723 Q2003.51 159.051 2003.51 164.867 Q2003.51 170.683 2005.97 174.039 Q2008.45 177.367 2012.76 177.367 Q2017.02 177.367 2019.51 174.01 Q2022 170.654 2022 164.867 Q2022 159.109 2019.51 155.752 Q2017.02 152.367 2012.76 152.367 M2012.76 147.853 Q2019.71 147.853 2023.67 152.367 Q2027.64 156.881 2027.64 164.867 Q2027.64 172.824 2023.67 177.367 Q2019.71 181.881 2012.76 181.881 Q2005.79 181.881 2001.83 177.367 Q1997.89 172.824 1997.89 164.867 Q1997.89 156.881 2001.83 152.367 Q2005.79 147.853 2012.76 147.853 Z\" fill=\"#000000\" fill-rule=\"evenodd\" fill-opacity=\"1\" /><path clip-path=\"url(#clip610)\" d=\"M2057.79 164.462 Q2057.79 158.675 2055.39 155.492 Q2053.01 152.309 2048.7 152.309 Q2044.42 152.309 2042.02 155.492 Q2039.65 158.675 2039.65 164.462 Q2039.65 170.22 2042.02 173.403 Q2044.42 176.586 2048.7 176.586 Q2053.01 176.586 2055.39 173.403 Q2057.79 170.22 2057.79 164.462 M2063.11 177.02 Q2063.11 185.295 2059.44 189.317 Q2055.76 193.368 2048.18 193.368 Q2045.37 193.368 2042.89 192.934 Q2040.4 192.529 2038.05 191.661 L2038.05 186.481 Q2040.4 187.754 2042.68 188.362 Q2044.97 188.97 2047.34 188.97 Q2052.58 188.97 2055.18 186.221 Q2057.79 183.501 2057.79 177.974 L2057.79 175.341 Q2056.14 178.206 2053.56 179.624 Q2050.99 181.042 2047.4 181.042 Q2041.44 181.042 2037.79 176.499 Q2034.15 171.956 2034.15 164.462 Q2034.15 156.939 2037.79 152.396 Q2041.44 147.853 2047.4 147.853 Q2050.99 147.853 2053.56 149.271 Q2056.14 150.689 2057.79 153.553 L2057.79 148.634 L2063.11 148.634 L2063.11 177.02 Z\" fill=\"#000000\" fill-rule=\"evenodd\" fill-opacity=\"1\" /><path clip-path=\"url(#clip610)\" d=\"M2086.87 136.077 Q2082.99 142.732 2081.11 149.242 Q2079.23 155.752 2079.23 162.436 Q2079.23 169.12 2081.11 175.689 Q2083.02 182.228 2086.87 188.854 L2082.24 188.854 Q2077.9 182.054 2075.73 175.486 Q2073.59 168.918 2073.59 162.436 Q2073.59 155.984 2075.73 149.445 Q2077.87 142.905 2082.24 136.077 L2086.87 136.077 Z\" fill=\"#000000\" fill-rule=\"evenodd\" fill-opacity=\"1\" /><path clip-path=\"url(#clip610)\" d=\"M2098.96 176.123 L2108.51 176.123 L2108.51 143.166 L2098.12 145.249 L2098.12 139.925 L2108.45 137.842 L2114.3 137.842 L2114.3 176.123 L2123.85 176.123 L2123.85 181.042 L2098.96 181.042 L2098.96 176.123 Z\" fill=\"#000000\" fill-rule=\"evenodd\" fill-opacity=\"1\" /><path clip-path=\"url(#clip610)\" d=\"M2156.57 143.889 L2156.57 160.006 L2172.69 160.006 L2172.69 164.925 L2156.57 164.925 L2156.57 181.042 L2151.71 181.042 L2151.71 164.925 L2135.59 164.925 L2135.59 160.006 L2151.71 160.006 L2151.71 143.889 L2156.57 143.889 Z\" fill=\"#000000\" fill-rule=\"evenodd\" fill-opacity=\"1\" /><path clip-path=\"url(#clip610)\" d=\"M2211.49 148.634 L2199.77 164.404 L2212.1 181.042 L2205.82 181.042 L2196.39 168.31 L2186.95 181.042 L2180.67 181.042 L2193.26 164.086 L2181.75 148.634 L2188.02 148.634 L2196.62 160.179 L2205.21 148.634 L2211.49 148.634 Z\" fill=\"#000000\" fill-rule=\"evenodd\" fill-opacity=\"1\" /><path clip-path=\"url(#clip610)\" d=\"M2218.78 136.077 L2223.41 136.077 Q2227.75 142.905 2229.89 149.445 Q2232.06 155.984 2232.06 162.436 Q2232.06 168.918 2229.89 175.486 Q2227.75 182.054 2223.41 188.854 L2218.78 188.854 Q2222.63 182.228 2224.51 175.689 Q2226.42 169.12 2226.42 162.436 Q2226.42 155.752 2224.51 149.242 Q2222.63 142.732 2218.78 136.077 Z\" fill=\"#000000\" fill-rule=\"evenodd\" fill-opacity=\"1\" /><polyline clip-path=\"url(#clip610)\" style=\"stroke:#e26f46; stroke-linecap:round; stroke-linejoin:round; stroke-width:5; stroke-opacity:1; fill:none\" points=\"\n",
       "  1814.77,224.242 1959.6,224.242 \n",
       "  \"/>\n",
       "<path clip-path=\"url(#clip610)\" d=\"M1983.74 200.819 L1989.07 200.819 L1989.07 245.842 L1983.74 245.842 L1983.74 200.819 Z\" fill=\"#000000\" fill-rule=\"evenodd\" fill-opacity=\"1\" /><path clip-path=\"url(#clip610)\" d=\"M2012.76 217.167 Q2008.48 217.167 2005.99 220.523 Q2003.51 223.851 2003.51 229.667 Q2003.51 235.483 2005.97 238.839 Q2008.45 242.167 2012.76 242.167 Q2017.02 242.167 2019.51 238.81 Q2022 235.454 2022 229.667 Q2022 223.909 2019.51 220.552 Q2017.02 217.167 2012.76 217.167 M2012.76 212.653 Q2019.71 212.653 2023.67 217.167 Q2027.64 221.681 2027.64 229.667 Q2027.64 237.624 2023.67 242.167 Q2019.71 246.681 2012.76 246.681 Q2005.79 246.681 2001.83 242.167 Q1997.89 237.624 1997.89 229.667 Q1997.89 221.681 2001.83 217.167 Q2005.79 212.653 2012.76 212.653 Z\" fill=\"#000000\" fill-rule=\"evenodd\" fill-opacity=\"1\" /><path clip-path=\"url(#clip610)\" d=\"M2057.79 229.262 Q2057.79 223.475 2055.39 220.292 Q2053.01 217.109 2048.7 217.109 Q2044.42 217.109 2042.02 220.292 Q2039.65 223.475 2039.65 229.262 Q2039.65 235.02 2042.02 238.203 Q2044.42 241.386 2048.7 241.386 Q2053.01 241.386 2055.39 238.203 Q2057.79 235.02 2057.79 229.262 M2063.11 241.82 Q2063.11 250.095 2059.44 254.117 Q2055.76 258.168 2048.18 258.168 Q2045.37 258.168 2042.89 257.734 Q2040.4 257.329 2038.05 256.461 L2038.05 251.281 Q2040.4 252.554 2042.68 253.162 Q2044.97 253.77 2047.34 253.77 Q2052.58 253.77 2055.18 251.021 Q2057.79 248.301 2057.79 242.774 L2057.79 240.141 Q2056.14 243.006 2053.56 244.424 Q2050.99 245.842 2047.4 245.842 Q2041.44 245.842 2037.79 241.299 Q2034.15 236.756 2034.15 229.262 Q2034.15 221.739 2037.79 217.196 Q2041.44 212.653 2047.4 212.653 Q2050.99 212.653 2053.56 214.071 Q2056.14 215.489 2057.79 218.353 L2057.79 213.434 L2063.11 213.434 L2063.11 241.82 Z\" fill=\"#000000\" fill-rule=\"evenodd\" fill-opacity=\"1\" /><path clip-path=\"url(#clip610)\" d=\"M2075.84 240.923 L2085.39 240.923 L2085.39 207.966 L2075 210.049 L2075 204.725 L2085.33 202.642 L2091.18 202.642 L2091.18 240.923 L2100.73 240.923 L2100.73 245.842 L2075.84 245.842 L2075.84 240.923 Z\" fill=\"#000000\" fill-rule=\"evenodd\" fill-opacity=\"1\" /><path clip-path=\"url(#clip610)\" d=\"M2116.93 240.98 L2116.93 258.168 L2111.58 258.168 L2111.58 213.434 L2116.93 213.434 L2116.93 218.353 Q2118.61 215.46 2121.16 214.071 Q2123.73 212.653 2127.29 212.653 Q2133.19 212.653 2136.87 217.341 Q2140.57 222.028 2140.57 229.667 Q2140.57 237.306 2136.87 241.993 Q2133.19 246.681 2127.29 246.681 Q2123.73 246.681 2121.16 245.292 Q2118.61 243.874 2116.93 240.98 M2135.04 229.667 Q2135.04 223.793 2132.61 220.466 Q2130.21 217.109 2125.99 217.109 Q2121.76 217.109 2119.33 220.466 Q2116.93 223.793 2116.93 229.667 Q2116.93 235.541 2119.33 238.897 Q2121.76 242.225 2125.99 242.225 Q2130.21 242.225 2132.61 238.897 Q2135.04 235.541 2135.04 229.667 Z\" fill=\"#000000\" fill-rule=\"evenodd\" fill-opacity=\"1\" /><path clip-path=\"url(#clip610)\" d=\"M2162.19 200.877 Q2158.31 207.532 2156.43 214.042 Q2154.55 220.552 2154.55 227.236 Q2154.55 233.92 2156.43 240.489 Q2158.34 247.028 2162.19 253.654 L2157.56 253.654 Q2153.22 246.854 2151.05 240.286 Q2148.9 233.718 2148.9 227.236 Q2148.9 220.784 2151.05 214.245 Q2153.19 207.705 2157.56 200.877 L2162.19 200.877 Z\" fill=\"#000000\" fill-rule=\"evenodd\" fill-opacity=\"1\" /><path clip-path=\"url(#clip610)\" d=\"M2199.45 213.434 L2187.73 229.204 L2200.06 245.842 L2193.78 245.842 L2184.35 233.11 L2174.92 245.842 L2168.64 245.842 L2181.22 228.886 L2169.71 213.434 L2175.99 213.434 L2184.58 224.979 L2193.17 213.434 L2199.45 213.434 Z\" fill=\"#000000\" fill-rule=\"evenodd\" fill-opacity=\"1\" /><path clip-path=\"url(#clip610)\" d=\"M2206.75 200.877 L2211.37 200.877 Q2215.72 207.705 2217.86 214.245 Q2220.03 220.784 2220.03 227.236 Q2220.03 233.718 2217.86 240.286 Q2215.72 246.854 2211.37 253.654 L2206.75 253.654 Q2210.59 247.028 2212.47 240.489 Q2214.38 233.92 2214.38 227.236 Q2214.38 220.552 2212.47 214.042 Q2210.59 207.532 2206.75 200.877 Z\" fill=\"#000000\" fill-rule=\"evenodd\" fill-opacity=\"1\" /></svg>\n"
      ]
     },
     "execution_count": 10,
     "metadata": {},
     "output_type": "execute_result"
    }
   ],
   "source": [
    "plot(x -> log(1 + x), xlims=(-1e-0 , 1e-0), label = \"log(1+x)\")\n",
    "\n",
    "plot!(x -> log1p(x), label= \"log1p(x)\", tickfontsize=12, legendfontsize=10)"
   ]
  },
  {
   "cell_type": "code",
   "execution_count": 11,
   "id": "50e85aa1",
   "metadata": {
    "slideshow": {
     "slide_type": "skip"
    }
   },
   "outputs": [
    {
     "data": {
      "image/svg+xml": [
       "<?xml version=\"1.0\" encoding=\"utf-8\"?>\n",
       "<svg xmlns=\"http://www.w3.org/2000/svg\" xmlns:xlink=\"http://www.w3.org/1999/xlink\" width=\"600\" height=\"400\" viewBox=\"0 0 2400 1600\">\n",
       "<defs>\n",
       "  <clipPath id=\"clip650\">\n",
       "    <rect x=\"0\" y=\"0\" width=\"2400\" height=\"1600\"/>\n",
       "  </clipPath>\n",
       "</defs>\n",
       "<path clip-path=\"url(#clip650)\" d=\"\n",
       "M0 1600 L2400 1600 L2400 0 L0 0  Z\n",
       "  \" fill=\"#ffffff\" fill-rule=\"evenodd\" fill-opacity=\"1\"/>\n",
       "<defs>\n",
       "  <clipPath id=\"clip651\">\n",
       "    <rect x=\"480\" y=\"0\" width=\"1681\" height=\"1600\"/>\n",
       "  </clipPath>\n",
       "</defs>\n",
       "<path clip-path=\"url(#clip650)\" d=\"\n",
       "M214.353 1474.16 L2352.76 1474.16 L2352.76 47.2441 L214.353 47.2441  Z\n",
       "  \" fill=\"#ffffff\" fill-rule=\"evenodd\" fill-opacity=\"1\"/>\n",
       "<defs>\n",
       "  <clipPath id=\"clip652\">\n",
       "    <rect x=\"214\" y=\"47\" width=\"2139\" height=\"1428\"/>\n",
       "  </clipPath>\n",
       "</defs>\n",
       "<polyline clip-path=\"url(#clip652)\" style=\"stroke:#000000; stroke-linecap:round; stroke-linejoin:round; stroke-width:2; stroke-opacity:0.1; fill:none\" points=\"\n",
       "  748.953,1474.16 748.953,47.2441 \n",
       "  \"/>\n",
       "<polyline clip-path=\"url(#clip652)\" style=\"stroke:#000000; stroke-linecap:round; stroke-linejoin:round; stroke-width:2; stroke-opacity:0.1; fill:none\" points=\"\n",
       "  1283.55,1474.16 1283.55,47.2441 \n",
       "  \"/>\n",
       "<polyline clip-path=\"url(#clip652)\" style=\"stroke:#000000; stroke-linecap:round; stroke-linejoin:round; stroke-width:2; stroke-opacity:0.1; fill:none\" points=\"\n",
       "  1818.16,1474.16 1818.16,47.2441 \n",
       "  \"/>\n",
       "<polyline clip-path=\"url(#clip652)\" style=\"stroke:#000000; stroke-linecap:round; stroke-linejoin:round; stroke-width:2; stroke-opacity:0.1; fill:none\" points=\"\n",
       "  2352.76,1474.16 2352.76,47.2441 \n",
       "  \"/>\n",
       "<polyline clip-path=\"url(#clip650)\" style=\"stroke:#000000; stroke-linecap:round; stroke-linejoin:round; stroke-width:4; stroke-opacity:1; fill:none\" points=\"\n",
       "  214.353,1474.16 2352.76,1474.16 \n",
       "  \"/>\n",
       "<polyline clip-path=\"url(#clip650)\" style=\"stroke:#000000; stroke-linecap:round; stroke-linejoin:round; stroke-width:4; stroke-opacity:1; fill:none\" points=\"\n",
       "  748.953,1474.16 748.953,1455.27 \n",
       "  \"/>\n",
       "<polyline clip-path=\"url(#clip650)\" style=\"stroke:#000000; stroke-linecap:round; stroke-linejoin:round; stroke-width:4; stroke-opacity:1; fill:none\" points=\"\n",
       "  1283.55,1474.16 1283.55,1455.27 \n",
       "  \"/>\n",
       "<polyline clip-path=\"url(#clip650)\" style=\"stroke:#000000; stroke-linecap:round; stroke-linejoin:round; stroke-width:4; stroke-opacity:1; fill:none\" points=\"\n",
       "  1818.16,1474.16 1818.16,1455.27 \n",
       "  \"/>\n",
       "<polyline clip-path=\"url(#clip650)\" style=\"stroke:#000000; stroke-linecap:round; stroke-linejoin:round; stroke-width:4; stroke-opacity:1; fill:none\" points=\"\n",
       "  2352.76,1474.16 2352.76,1455.27 \n",
       "  \"/>\n",
       "<path clip-path=\"url(#clip650)\" d=\"M608.633 1535.4 L638.309 1535.4 L638.309 1539.33 L608.633 1539.33 L608.633 1535.4 Z\" fill=\"#000000\" fill-rule=\"evenodd\" fill-opacity=\"1\" /><path clip-path=\"url(#clip650)\" d=\"M648.448 1517.66 L666.804 1517.66 L666.804 1521.6 L652.73 1521.6 L652.73 1530.07 Q653.748 1529.72 654.767 1529.56 Q655.785 1529.38 656.804 1529.38 Q662.591 1529.38 665.971 1532.55 Q669.35 1535.72 669.35 1541.14 Q669.35 1546.72 665.878 1549.82 Q662.406 1552.9 656.086 1552.9 Q653.91 1552.9 651.642 1552.53 Q649.397 1552.16 646.989 1551.41 L646.989 1546.72 Q649.073 1547.85 651.295 1548.41 Q653.517 1548.96 655.994 1548.96 Q659.998 1548.96 662.336 1546.85 Q664.674 1544.75 664.674 1541.14 Q664.674 1537.53 662.336 1535.42 Q659.998 1533.31 655.994 1533.31 Q654.119 1533.31 652.244 1533.73 Q650.392 1534.15 648.448 1535.03 L648.448 1517.66 Z\" fill=\"#000000\" fill-rule=\"evenodd\" fill-opacity=\"1\" /><path clip-path=\"url(#clip650)\" d=\"M678.563 1546.35 L683.447 1546.35 L683.447 1552.22 L678.563 1552.22 L678.563 1546.35 Z\" fill=\"#000000\" fill-rule=\"evenodd\" fill-opacity=\"1\" /><path clip-path=\"url(#clip650)\" d=\"M703.632 1520.74 Q700.021 1520.74 698.193 1524.31 Q696.387 1527.85 696.387 1534.98 Q696.387 1542.09 698.193 1545.65 Q700.021 1549.19 703.632 1549.19 Q707.267 1549.19 709.072 1545.65 Q710.901 1542.09 710.901 1534.98 Q710.901 1527.85 709.072 1524.31 Q707.267 1520.74 703.632 1520.74 M703.632 1517.04 Q709.443 1517.04 712.498 1521.65 Q715.577 1526.23 715.577 1534.98 Q715.577 1543.71 712.498 1548.31 Q709.443 1552.9 703.632 1552.9 Q697.822 1552.9 694.744 1548.31 Q691.688 1543.71 691.688 1534.98 Q691.688 1526.23 694.744 1521.65 Q697.822 1517.04 703.632 1517.04 Z\" fill=\"#000000\" fill-rule=\"evenodd\" fill-opacity=\"1\" /><path clip-path=\"url(#clip650)\" d=\"M751.966 1526.76 L741.387 1537.39 L751.966 1547.97 L749.211 1550.77 L738.586 1540.14 L727.961 1550.77 L725.23 1547.97 L735.785 1537.39 L725.23 1526.76 L727.961 1523.96 L738.586 1534.59 L749.211 1523.96 L751.966 1526.76 Z\" fill=\"#000000\" fill-rule=\"evenodd\" fill-opacity=\"1\" /><path clip-path=\"url(#clip650)\" d=\"M764.327 1548.29 L771.965 1548.29 L771.965 1521.92 L763.655 1523.59 L763.655 1519.33 L771.919 1517.66 L776.595 1517.66 L776.595 1548.29 L784.234 1548.29 L784.234 1552.22 L764.327 1552.22 L764.327 1548.29 Z\" fill=\"#000000\" fill-rule=\"evenodd\" fill-opacity=\"1\" /><path clip-path=\"url(#clip650)\" d=\"M803.678 1520.74 Q800.067 1520.74 798.238 1524.31 Q796.433 1527.85 796.433 1534.98 Q796.433 1542.09 798.238 1545.65 Q800.067 1549.19 803.678 1549.19 Q807.312 1549.19 809.118 1545.65 Q810.947 1542.09 810.947 1534.98 Q810.947 1527.85 809.118 1524.31 Q807.312 1520.74 803.678 1520.74 M803.678 1517.04 Q809.488 1517.04 812.544 1521.65 Q815.623 1526.23 815.623 1534.98 Q815.623 1543.71 812.544 1548.31 Q809.488 1552.9 803.678 1552.9 Q797.868 1552.9 794.789 1548.31 Q791.734 1543.71 791.734 1534.98 Q791.734 1526.23 794.789 1521.65 Q797.868 1517.04 803.678 1517.04 Z\" fill=\"#000000\" fill-rule=\"evenodd\" fill-opacity=\"1\" /><path clip-path=\"url(#clip650)\" d=\"M815.623 1511.14 L839.734 1511.14 L839.734 1514.34 L815.623 1514.34 L815.623 1511.14 Z\" fill=\"#000000\" fill-rule=\"evenodd\" fill-opacity=\"1\" /><path clip-path=\"url(#clip650)\" d=\"M848.593 1521.62 L854.799 1521.62 L854.799 1500.19 L848.047 1501.55 L848.047 1498.09 L854.762 1496.73 L858.561 1496.73 L858.561 1521.62 L864.767 1521.62 L864.767 1524.81 L848.593 1524.81 L848.593 1521.62 Z\" fill=\"#000000\" fill-rule=\"evenodd\" fill-opacity=\"1\" /><path clip-path=\"url(#clip650)\" d=\"M873.099 1521.62 L879.306 1521.62 L879.306 1500.19 L872.554 1501.55 L872.554 1498.09 L879.268 1496.73 L883.067 1496.73 L883.067 1521.62 L889.274 1521.62 L889.274 1524.81 L873.099 1524.81 L873.099 1521.62 Z\" fill=\"#000000\" fill-rule=\"evenodd\" fill-opacity=\"1\" /><path clip-path=\"url(#clip650)\" d=\"M1283.55 1505.08 Q1279.94 1505.08 1278.11 1508.65 Q1276.31 1512.19 1276.31 1519.32 Q1276.31 1526.43 1278.11 1529.99 Q1279.94 1533.53 1283.55 1533.53 Q1287.19 1533.53 1288.99 1529.99 Q1290.82 1526.43 1290.82 1519.32 Q1290.82 1512.19 1288.99 1508.65 Q1287.19 1505.08 1283.55 1505.08 M1283.55 1501.38 Q1289.36 1501.38 1292.42 1505.99 Q1295.5 1510.57 1295.5 1519.32 Q1295.5 1528.05 1292.42 1532.65 Q1289.36 1537.24 1283.55 1537.24 Q1277.74 1537.24 1274.67 1532.65 Q1271.61 1528.05 1271.61 1519.32 Q1271.61 1510.57 1274.67 1505.99 Q1277.74 1501.38 1283.55 1501.38 Z\" fill=\"#000000\" fill-rule=\"evenodd\" fill-opacity=\"1\" /><path clip-path=\"url(#clip650)\" d=\"M1698.47 1517.66 L1716.83 1517.66 L1716.83 1521.6 L1702.75 1521.6 L1702.75 1530.07 Q1703.77 1529.72 1704.79 1529.56 Q1705.81 1529.38 1706.83 1529.38 Q1712.61 1529.38 1715.99 1532.55 Q1719.37 1535.72 1719.37 1541.14 Q1719.37 1546.72 1715.9 1549.82 Q1712.43 1552.9 1706.11 1552.9 Q1703.93 1552.9 1701.67 1552.53 Q1699.42 1552.16 1697.01 1551.41 L1697.01 1546.72 Q1699.1 1547.85 1701.32 1548.41 Q1703.54 1548.96 1706.02 1548.96 Q1710.02 1548.96 1712.36 1546.85 Q1714.7 1544.75 1714.7 1541.14 Q1714.7 1537.53 1712.36 1535.42 Q1710.02 1533.31 1706.02 1533.31 Q1704.14 1533.31 1702.27 1533.73 Q1700.42 1534.15 1698.47 1535.03 L1698.47 1517.66 Z\" fill=\"#000000\" fill-rule=\"evenodd\" fill-opacity=\"1\" /><path clip-path=\"url(#clip650)\" d=\"M1728.59 1546.35 L1733.47 1546.35 L1733.47 1552.22 L1728.59 1552.22 L1728.59 1546.35 Z\" fill=\"#000000\" fill-rule=\"evenodd\" fill-opacity=\"1\" /><path clip-path=\"url(#clip650)\" d=\"M1753.66 1520.74 Q1750.04 1520.74 1748.22 1524.31 Q1746.41 1527.85 1746.41 1534.98 Q1746.41 1542.09 1748.22 1545.65 Q1750.04 1549.19 1753.66 1549.19 Q1757.29 1549.19 1759.1 1545.65 Q1760.92 1542.09 1760.92 1534.98 Q1760.92 1527.85 1759.1 1524.31 Q1757.29 1520.74 1753.66 1520.74 M1753.66 1517.04 Q1759.47 1517.04 1762.52 1521.65 Q1765.6 1526.23 1765.6 1534.98 Q1765.6 1543.71 1762.52 1548.31 Q1759.47 1552.9 1753.66 1552.9 Q1747.85 1552.9 1744.77 1548.31 Q1741.71 1543.71 1741.71 1534.98 Q1741.71 1526.23 1744.77 1521.65 Q1747.85 1517.04 1753.66 1517.04 Z\" fill=\"#000000\" fill-rule=\"evenodd\" fill-opacity=\"1\" /><path clip-path=\"url(#clip650)\" d=\"M1801.99 1526.76 L1791.41 1537.39 L1801.99 1547.97 L1799.23 1550.77 L1788.61 1540.14 L1777.98 1550.77 L1775.25 1547.97 L1785.81 1537.39 L1775.25 1526.76 L1777.98 1523.96 L1788.61 1534.59 L1799.23 1523.96 L1801.99 1526.76 Z\" fill=\"#000000\" fill-rule=\"evenodd\" fill-opacity=\"1\" /><path clip-path=\"url(#clip650)\" d=\"M1814.35 1548.29 L1821.99 1548.29 L1821.99 1521.92 L1813.68 1523.59 L1813.68 1519.33 L1821.94 1517.66 L1826.62 1517.66 L1826.62 1548.29 L1834.26 1548.29 L1834.26 1552.22 L1814.35 1552.22 L1814.35 1548.29 Z\" fill=\"#000000\" fill-rule=\"evenodd\" fill-opacity=\"1\" /><path clip-path=\"url(#clip650)\" d=\"M1853.7 1520.74 Q1850.09 1520.74 1848.26 1524.31 Q1846.46 1527.85 1846.46 1534.98 Q1846.46 1542.09 1848.26 1545.65 Q1850.09 1549.19 1853.7 1549.19 Q1857.34 1549.19 1859.14 1545.65 Q1860.97 1542.09 1860.97 1534.98 Q1860.97 1527.85 1859.14 1524.31 Q1857.34 1520.74 1853.7 1520.74 M1853.7 1517.04 Q1859.51 1517.04 1862.57 1521.65 Q1865.65 1526.23 1865.65 1534.98 Q1865.65 1543.71 1862.57 1548.31 Q1859.51 1552.9 1853.7 1552.9 Q1847.89 1552.9 1844.81 1548.31 Q1841.76 1543.71 1841.76 1534.98 Q1841.76 1526.23 1844.81 1521.65 Q1847.89 1517.04 1853.7 1517.04 Z\" fill=\"#000000\" fill-rule=\"evenodd\" fill-opacity=\"1\" /><path clip-path=\"url(#clip650)\" d=\"M1865.65 1511.14 L1889.76 1511.14 L1889.76 1514.34 L1865.65 1514.34 L1865.65 1511.14 Z\" fill=\"#000000\" fill-rule=\"evenodd\" fill-opacity=\"1\" /><path clip-path=\"url(#clip650)\" d=\"M1898.62 1521.62 L1904.82 1521.62 L1904.82 1500.19 L1898.07 1501.55 L1898.07 1498.09 L1904.79 1496.73 L1908.58 1496.73 L1908.58 1521.62 L1914.79 1521.62 L1914.79 1524.81 L1898.62 1524.81 L1898.62 1521.62 Z\" fill=\"#000000\" fill-rule=\"evenodd\" fill-opacity=\"1\" /><path clip-path=\"url(#clip650)\" d=\"M1923.12 1521.62 L1929.33 1521.62 L1929.33 1500.19 L1922.58 1501.55 L1922.58 1498.09 L1929.29 1496.73 L1933.09 1496.73 L1933.09 1521.62 L1939.3 1521.62 L1939.3 1524.81 L1923.12 1524.81 L1923.12 1521.62 Z\" fill=\"#000000\" fill-rule=\"evenodd\" fill-opacity=\"1\" /><path clip-path=\"url(#clip650)\" d=\"M2232.56 1548.29 L2240.2 1548.29 L2240.2 1521.92 L2231.89 1523.59 L2231.89 1519.33 L2240.15 1517.66 L2244.83 1517.66 L2244.83 1548.29 L2252.47 1548.29 L2252.47 1552.22 L2232.56 1552.22 L2232.56 1548.29 Z\" fill=\"#000000\" fill-rule=\"evenodd\" fill-opacity=\"1\" /><path clip-path=\"url(#clip650)\" d=\"M2261.91 1546.35 L2266.8 1546.35 L2266.8 1552.22 L2261.91 1552.22 L2261.91 1546.35 Z\" fill=\"#000000\" fill-rule=\"evenodd\" fill-opacity=\"1\" /><path clip-path=\"url(#clip650)\" d=\"M2286.98 1520.74 Q2283.37 1520.74 2281.54 1524.31 Q2279.74 1527.85 2279.74 1534.98 Q2279.74 1542.09 2281.54 1545.65 Q2283.37 1549.19 2286.98 1549.19 Q2290.62 1549.19 2292.42 1545.65 Q2294.25 1542.09 2294.25 1534.98 Q2294.25 1527.85 2292.42 1524.31 Q2290.62 1520.74 2286.98 1520.74 M2286.98 1517.04 Q2292.79 1517.04 2295.85 1521.65 Q2298.93 1526.23 2298.93 1534.98 Q2298.93 1543.71 2295.85 1548.31 Q2292.79 1552.9 2286.98 1552.9 Q2281.17 1552.9 2278.09 1548.31 Q2275.04 1543.71 2275.04 1534.98 Q2275.04 1526.23 2278.09 1521.65 Q2281.17 1517.04 2286.98 1517.04 Z\" fill=\"#000000\" fill-rule=\"evenodd\" fill-opacity=\"1\" /><path clip-path=\"url(#clip650)\" d=\"M2335.32 1526.76 L2324.74 1537.39 L2335.32 1547.97 L2332.56 1550.77 L2321.94 1540.14 L2311.31 1550.77 L2308.58 1547.97 L2319.14 1537.39 L2308.58 1526.76 L2311.31 1523.96 L2321.94 1534.59 L2332.56 1523.96 L2335.32 1526.76 Z\" fill=\"#000000\" fill-rule=\"evenodd\" fill-opacity=\"1\" /><path clip-path=\"url(#clip650)\" d=\"M2347.68 1548.29 L2355.32 1548.29 L2355.32 1521.92 L2347.01 1523.59 L2347.01 1519.33 L2355.27 1517.66 L2359.95 1517.66 L2359.95 1548.29 L2367.58 1548.29 L2367.58 1552.22 L2347.68 1552.22 L2347.68 1548.29 Z\" fill=\"#000000\" fill-rule=\"evenodd\" fill-opacity=\"1\" /><path clip-path=\"url(#clip650)\" d=\"M2387.03 1520.74 Q2383.42 1520.74 2381.59 1524.31 Q2379.78 1527.85 2379.78 1534.98 Q2379.78 1542.09 2381.59 1545.65 Q2383.42 1549.19 2387.03 1549.19 Q2390.66 1549.19 2392.47 1545.65 Q2394.3 1542.09 2394.3 1534.98 Q2394.3 1527.85 2392.47 1524.31 Q2390.66 1520.74 2387.03 1520.74 M2387.03 1517.04 Q2392.84 1517.04 2395.89 1521.65 Q2398.97 1526.23 2398.97 1534.98 Q2398.97 1543.71 2395.89 1548.31 Q2392.84 1552.9 2387.03 1552.9 Q2381.22 1552.9 2378.14 1548.31 Q2375.08 1543.71 2375.08 1534.98 Q2375.08 1526.23 2378.14 1521.65 Q2381.22 1517.04 2387.03 1517.04 Z\" fill=\"#000000\" fill-rule=\"evenodd\" fill-opacity=\"1\" /><path clip-path=\"url(#clip650)\" d=\"M2398.97 1511.14 L2423.08 1511.14 L2423.08 1514.34 L2398.97 1514.34 L2398.97 1511.14 Z\" fill=\"#000000\" fill-rule=\"evenodd\" fill-opacity=\"1\" /><path clip-path=\"url(#clip650)\" d=\"M2431.94 1521.62 L2438.15 1521.62 L2438.15 1500.19 L2431.4 1501.55 L2431.4 1498.09 L2438.11 1496.73 L2441.91 1496.73 L2441.91 1521.62 L2448.12 1521.62 L2448.12 1524.81 L2431.94 1524.81 L2431.94 1521.62 Z\" fill=\"#000000\" fill-rule=\"evenodd\" fill-opacity=\"1\" /><path clip-path=\"url(#clip650)\" d=\"M2463.92 1499.24 Q2460.98 1499.24 2459.5 1502.13 Q2458.03 1505.01 2458.03 1510.8 Q2458.03 1516.58 2459.5 1519.47 Q2460.98 1522.35 2463.92 1522.35 Q2466.87 1522.35 2468.34 1519.47 Q2469.82 1516.58 2469.82 1510.8 Q2469.82 1505.01 2468.34 1502.13 Q2466.87 1499.24 2463.92 1499.24 M2463.92 1496.23 Q2468.64 1496.23 2471.12 1499.97 Q2473.62 1503.69 2473.62 1510.8 Q2473.62 1517.89 2471.12 1521.64 Q2468.64 1525.36 2463.92 1525.36 Q2459.2 1525.36 2456.69 1521.64 Q2454.21 1517.89 2454.21 1510.8 Q2454.21 1503.69 2456.69 1499.97 Q2459.2 1496.23 2463.92 1496.23 Z\" fill=\"#000000\" fill-rule=\"evenodd\" fill-opacity=\"1\" /><polyline clip-path=\"url(#clip652)\" style=\"stroke:#000000; stroke-linecap:round; stroke-linejoin:round; stroke-width:2; stroke-opacity:0.1; fill:none\" points=\"\n",
       "  214.353,1254.01 2352.76,1254.01 \n",
       "  \"/>\n",
       "<polyline clip-path=\"url(#clip652)\" style=\"stroke:#000000; stroke-linecap:round; stroke-linejoin:round; stroke-width:2; stroke-opacity:0.1; fill:none\" points=\"\n",
       "  214.353,860.339 2352.76,860.339 \n",
       "  \"/>\n",
       "<polyline clip-path=\"url(#clip652)\" style=\"stroke:#000000; stroke-linecap:round; stroke-linejoin:round; stroke-width:2; stroke-opacity:0.1; fill:none\" points=\"\n",
       "  214.353,466.667 2352.76,466.667 \n",
       "  \"/>\n",
       "<polyline clip-path=\"url(#clip652)\" style=\"stroke:#000000; stroke-linecap:round; stroke-linejoin:round; stroke-width:2; stroke-opacity:0.1; fill:none\" points=\"\n",
       "  214.353,72.9939 2352.76,72.9939 \n",
       "  \"/>\n",
       "<polyline clip-path=\"url(#clip650)\" style=\"stroke:#000000; stroke-linecap:round; stroke-linejoin:round; stroke-width:4; stroke-opacity:1; fill:none\" points=\"\n",
       "  214.353,1474.16 214.353,47.2441 \n",
       "  \"/>\n",
       "<polyline clip-path=\"url(#clip650)\" style=\"stroke:#000000; stroke-linecap:round; stroke-linejoin:round; stroke-width:4; stroke-opacity:1; fill:none\" points=\"\n",
       "  214.353,1254.01 233.25,1254.01 \n",
       "  \"/>\n",
       "<polyline clip-path=\"url(#clip650)\" style=\"stroke:#000000; stroke-linecap:round; stroke-linejoin:round; stroke-width:4; stroke-opacity:1; fill:none\" points=\"\n",
       "  214.353,860.339 233.25,860.339 \n",
       "  \"/>\n",
       "<polyline clip-path=\"url(#clip650)\" style=\"stroke:#000000; stroke-linecap:round; stroke-linejoin:round; stroke-width:4; stroke-opacity:1; fill:none\" points=\"\n",
       "  214.353,466.667 233.25,466.667 \n",
       "  \"/>\n",
       "<polyline clip-path=\"url(#clip650)\" style=\"stroke:#000000; stroke-linecap:round; stroke-linejoin:round; stroke-width:4; stroke-opacity:1; fill:none\" points=\"\n",
       "  214.353,72.9939 233.25,72.9939 \n",
       "  \"/>\n",
       "<path clip-path=\"url(#clip650)\" d=\"M51.6634 1267.36 L59.3023 1267.36 L59.3023 1240.99 L50.9921 1242.66 L50.9921 1238.4 L59.256 1236.73 L63.9319 1236.73 L63.9319 1267.36 L71.5707 1267.36 L71.5707 1271.29 L51.6634 1271.29 L51.6634 1267.36 Z\" fill=\"#000000\" fill-rule=\"evenodd\" fill-opacity=\"1\" /><path clip-path=\"url(#clip650)\" d=\"M81.0151 1265.41 L85.8993 1265.41 L85.8993 1271.29 L81.0151 1271.29 L81.0151 1265.41 Z\" fill=\"#000000\" fill-rule=\"evenodd\" fill-opacity=\"1\" /><path clip-path=\"url(#clip650)\" d=\"M106.084 1239.81 Q102.473 1239.81 100.645 1243.38 Q98.8391 1246.92 98.8391 1254.05 Q98.8391 1261.15 100.645 1264.72 Q102.473 1268.26 106.084 1268.26 Q109.719 1268.26 111.524 1264.72 Q113.353 1261.15 113.353 1254.05 Q113.353 1246.92 111.524 1243.38 Q109.719 1239.81 106.084 1239.81 M106.084 1236.11 Q111.895 1236.11 114.95 1240.71 Q118.029 1245.3 118.029 1254.05 Q118.029 1262.77 114.95 1267.38 Q111.895 1271.96 106.084 1271.96 Q100.274 1271.96 97.1956 1267.38 Q94.14 1262.77 94.14 1254.05 Q94.14 1245.3 97.1956 1240.71 Q100.274 1236.11 106.084 1236.11 Z\" fill=\"#000000\" fill-rule=\"evenodd\" fill-opacity=\"1\" /><path clip-path=\"url(#clip650)\" d=\"M136.246 1239.81 Q132.635 1239.81 130.807 1243.38 Q129.001 1246.92 129.001 1254.05 Q129.001 1261.15 130.807 1264.72 Q132.635 1268.26 136.246 1268.26 Q139.881 1268.26 141.686 1264.72 Q143.515 1261.15 143.515 1254.05 Q143.515 1246.92 141.686 1243.38 Q139.881 1239.81 136.246 1239.81 M136.246 1236.11 Q142.056 1236.11 145.112 1240.71 Q148.191 1245.3 148.191 1254.05 Q148.191 1262.77 145.112 1267.38 Q142.056 1271.96 136.246 1271.96 Q130.436 1271.96 127.357 1267.38 Q124.302 1262.77 124.302 1254.05 Q124.302 1245.3 127.357 1240.71 Q130.436 1236.11 136.246 1236.11 Z\" fill=\"#000000\" fill-rule=\"evenodd\" fill-opacity=\"1\" /><path clip-path=\"url(#clip650)\" d=\"M166.408 1239.81 Q162.797 1239.81 160.968 1243.38 Q159.163 1246.92 159.163 1254.05 Q159.163 1261.15 160.968 1264.72 Q162.797 1268.26 166.408 1268.26 Q170.042 1268.26 171.848 1264.72 Q173.677 1261.15 173.677 1254.05 Q173.677 1246.92 171.848 1243.38 Q170.042 1239.81 166.408 1239.81 M166.408 1236.11 Q172.218 1236.11 175.274 1240.71 Q178.353 1245.3 178.353 1254.05 Q178.353 1262.77 175.274 1267.38 Q172.218 1271.96 166.408 1271.96 Q160.598 1271.96 157.519 1267.38 Q154.464 1262.77 154.464 1254.05 Q154.464 1245.3 157.519 1240.71 Q160.598 1236.11 166.408 1236.11 Z\" fill=\"#000000\" fill-rule=\"evenodd\" fill-opacity=\"1\" /><path clip-path=\"url(#clip650)\" d=\"M52.8903 873.684 L60.5291 873.684 L60.5291 847.319 L52.219 848.985 L52.219 844.726 L60.4828 843.059 L65.1587 843.059 L65.1587 873.684 L72.7976 873.684 L72.7976 877.619 L52.8903 877.619 L52.8903 873.684 Z\" fill=\"#000000\" fill-rule=\"evenodd\" fill-opacity=\"1\" /><path clip-path=\"url(#clip650)\" d=\"M82.242 871.74 L87.1262 871.74 L87.1262 877.619 L82.242 877.619 L82.242 871.74 Z\" fill=\"#000000\" fill-rule=\"evenodd\" fill-opacity=\"1\" /><path clip-path=\"url(#clip650)\" d=\"M107.311 846.138 Q103.7 846.138 101.871 849.703 Q100.066 853.245 100.066 860.374 Q100.066 867.481 101.871 871.045 Q103.7 874.587 107.311 874.587 Q110.946 874.587 112.751 871.045 Q114.58 867.481 114.58 860.374 Q114.58 853.245 112.751 849.703 Q110.946 846.138 107.311 846.138 M107.311 842.434 Q113.121 842.434 116.177 847.041 Q119.256 851.624 119.256 860.374 Q119.256 869.101 116.177 873.707 Q113.121 878.291 107.311 878.291 Q101.501 878.291 98.4224 873.707 Q95.3669 869.101 95.3669 860.374 Q95.3669 851.624 98.4224 847.041 Q101.501 842.434 107.311 842.434 Z\" fill=\"#000000\" fill-rule=\"evenodd\" fill-opacity=\"1\" /><path clip-path=\"url(#clip650)\" d=\"M137.473 846.138 Q133.862 846.138 132.033 849.703 Q130.228 853.245 130.228 860.374 Q130.228 867.481 132.033 871.045 Q133.862 874.587 137.473 874.587 Q141.107 874.587 142.913 871.045 Q144.742 867.481 144.742 860.374 Q144.742 853.245 142.913 849.703 Q141.107 846.138 137.473 846.138 M137.473 842.434 Q143.283 842.434 146.339 847.041 Q149.418 851.624 149.418 860.374 Q149.418 869.101 146.339 873.707 Q143.283 878.291 137.473 878.291 Q131.663 878.291 128.584 873.707 Q125.529 869.101 125.529 860.374 Q125.529 851.624 128.584 847.041 Q131.663 842.434 137.473 842.434 Z\" fill=\"#000000\" fill-rule=\"evenodd\" fill-opacity=\"1\" /><path clip-path=\"url(#clip650)\" d=\"M158.445 873.684 L166.084 873.684 L166.084 847.319 L157.774 848.985 L157.774 844.726 L166.038 843.059 L170.714 843.059 L170.714 873.684 L178.353 873.684 L178.353 877.619 L158.445 877.619 L158.445 873.684 Z\" fill=\"#000000\" fill-rule=\"evenodd\" fill-opacity=\"1\" /><path clip-path=\"url(#clip650)\" d=\"M53.2606 480.012 L60.8995 480.012 L60.8995 453.646 L52.5893 455.313 L52.5893 451.053 L60.8532 449.387 L65.5291 449.387 L65.5291 480.012 L73.1679 480.012 L73.1679 483.947 L53.2606 483.947 L53.2606 480.012 Z\" fill=\"#000000\" fill-rule=\"evenodd\" fill-opacity=\"1\" /><path clip-path=\"url(#clip650)\" d=\"M82.6123 478.067 L87.4966 478.067 L87.4966 483.947 L82.6123 483.947 L82.6123 478.067 Z\" fill=\"#000000\" fill-rule=\"evenodd\" fill-opacity=\"1\" /><path clip-path=\"url(#clip650)\" d=\"M107.682 452.465 Q104.071 452.465 102.242 456.03 Q100.436 459.572 100.436 466.701 Q100.436 473.808 102.242 477.373 Q104.071 480.914 107.682 480.914 Q111.316 480.914 113.121 477.373 Q114.95 473.808 114.95 466.701 Q114.95 459.572 113.121 456.03 Q111.316 452.465 107.682 452.465 M107.682 448.762 Q113.492 448.762 116.547 453.368 Q119.626 457.951 119.626 466.701 Q119.626 475.428 116.547 480.035 Q113.492 484.618 107.682 484.618 Q101.871 484.618 98.7928 480.035 Q95.7373 475.428 95.7373 466.701 Q95.7373 457.951 98.7928 453.368 Q101.871 448.762 107.682 448.762 Z\" fill=\"#000000\" fill-rule=\"evenodd\" fill-opacity=\"1\" /><path clip-path=\"url(#clip650)\" d=\"M137.844 452.465 Q134.232 452.465 132.404 456.03 Q130.598 459.572 130.598 466.701 Q130.598 473.808 132.404 477.373 Q134.232 480.914 137.844 480.914 Q141.478 480.914 143.283 477.373 Q145.112 473.808 145.112 466.701 Q145.112 459.572 143.283 456.03 Q141.478 452.465 137.844 452.465 M137.844 448.762 Q143.654 448.762 146.709 453.368 Q149.788 457.951 149.788 466.701 Q149.788 475.428 146.709 480.035 Q143.654 484.618 137.844 484.618 Q132.033 484.618 128.955 480.035 Q125.899 475.428 125.899 466.701 Q125.899 457.951 128.955 453.368 Q132.033 448.762 137.844 448.762 Z\" fill=\"#000000\" fill-rule=\"evenodd\" fill-opacity=\"1\" /><path clip-path=\"url(#clip650)\" d=\"M162.033 480.012 L178.353 480.012 L178.353 483.947 L156.408 483.947 L156.408 480.012 Q159.07 477.257 163.654 472.627 Q168.26 467.975 169.441 466.632 Q171.686 464.109 172.566 462.373 Q173.468 460.613 173.468 458.924 Q173.468 456.169 171.524 454.433 Q169.603 452.697 166.501 452.697 Q164.302 452.697 161.848 453.461 Q159.417 454.225 156.64 455.776 L156.64 451.053 Q159.464 449.919 161.917 449.34 Q164.371 448.762 166.408 448.762 Q171.779 448.762 174.973 451.447 Q178.167 454.132 178.167 458.623 Q178.167 460.752 177.357 462.674 Q176.57 464.572 174.464 467.164 Q173.885 467.836 170.783 471.053 Q167.681 474.248 162.033 480.012 Z\" fill=\"#000000\" fill-rule=\"evenodd\" fill-opacity=\"1\" /><path clip-path=\"url(#clip650)\" d=\"M52.3116 86.3388 L59.9504 86.3388 L59.9504 59.9732 L51.6403 61.6398 L51.6403 57.3806 L59.9041 55.7139 L64.58 55.7139 L64.58 86.3388 L72.2189 86.3388 L72.2189 90.2739 L52.3116 90.2739 L52.3116 86.3388 Z\" fill=\"#000000\" fill-rule=\"evenodd\" fill-opacity=\"1\" /><path clip-path=\"url(#clip650)\" d=\"M81.6633 84.3943 L86.5475 84.3943 L86.5475 90.2739 L81.6633 90.2739 L81.6633 84.3943 Z\" fill=\"#000000\" fill-rule=\"evenodd\" fill-opacity=\"1\" /><path clip-path=\"url(#clip650)\" d=\"M106.733 58.7926 Q103.121 58.7926 101.293 62.3574 Q99.4872 65.8991 99.4872 73.0287 Q99.4872 80.1351 101.293 83.6999 Q103.121 87.2415 106.733 87.2415 Q110.367 87.2415 112.172 83.6999 Q114.001 80.1351 114.001 73.0287 Q114.001 65.8991 112.172 62.3574 Q110.367 58.7926 106.733 58.7926 M106.733 55.0889 Q112.543 55.0889 115.598 59.6954 Q118.677 64.2787 118.677 73.0287 Q118.677 81.7555 115.598 86.3619 Q112.543 90.9452 106.733 90.9452 Q100.922 90.9452 97.8437 86.3619 Q94.7882 81.7555 94.7882 73.0287 Q94.7882 64.2787 97.8437 59.6954 Q100.922 55.0889 106.733 55.0889 Z\" fill=\"#000000\" fill-rule=\"evenodd\" fill-opacity=\"1\" /><path clip-path=\"url(#clip650)\" d=\"M136.894 58.7926 Q133.283 58.7926 131.455 62.3574 Q129.649 65.8991 129.649 73.0287 Q129.649 80.1351 131.455 83.6999 Q133.283 87.2415 136.894 87.2415 Q140.529 87.2415 142.334 83.6999 Q144.163 80.1351 144.163 73.0287 Q144.163 65.8991 142.334 62.3574 Q140.529 58.7926 136.894 58.7926 M136.894 55.0889 Q142.705 55.0889 145.76 59.6954 Q148.839 64.2787 148.839 73.0287 Q148.839 81.7555 145.76 86.3619 Q142.705 90.9452 136.894 90.9452 Q131.084 90.9452 128.006 86.3619 Q124.95 81.7555 124.95 73.0287 Q124.95 64.2787 128.006 59.6954 Q131.084 55.0889 136.894 55.0889 Z\" fill=\"#000000\" fill-rule=\"evenodd\" fill-opacity=\"1\" /><path clip-path=\"url(#clip650)\" d=\"M171.223 71.6398 Q174.579 72.3574 176.454 74.6259 Q178.353 76.8944 178.353 80.2277 Q178.353 85.3434 174.834 88.1443 Q171.316 90.9452 164.834 90.9452 Q162.658 90.9452 160.343 90.5054 Q158.052 90.0888 155.598 89.2323 L155.598 84.7184 Q157.542 85.8527 159.857 86.4314 Q162.172 87.0101 164.695 87.0101 Q169.093 87.0101 171.385 85.274 Q173.7 83.5379 173.7 80.2277 Q173.7 77.1722 171.547 75.4592 Q169.417 73.7231 165.598 73.7231 L161.57 73.7231 L161.57 69.8805 L165.783 69.8805 Q169.232 69.8805 171.061 68.5148 Q172.89 67.1259 172.89 64.5333 Q172.89 61.8713 170.991 60.4593 Q169.116 59.0241 165.598 59.0241 Q163.677 59.0241 161.478 59.4408 Q159.279 59.8574 156.64 60.7371 L156.64 56.5704 Q159.302 55.8297 161.617 55.4593 Q163.954 55.0889 166.015 55.0889 Q171.339 55.0889 174.441 57.5195 Q177.542 59.9269 177.542 64.0472 Q177.542 66.9176 175.899 68.9083 Q174.255 70.8759 171.223 71.6398 Z\" fill=\"#000000\" fill-rule=\"evenodd\" fill-opacity=\"1\" /><polyline clip-path=\"url(#clip652)\" style=\"stroke:#009af9; stroke-linecap:round; stroke-linejoin:round; stroke-width:12; stroke-opacity:1; fill:none\" points=\"\n",
       "  214.353,1254.04 228.275,1254.2 357.005,1254.03 434.367,1254.18 499.775,1253.89 535.301,1253.78 570.827,1254.32 603.579,1254.2 636.331,1254.08 706.557,1253.71 \n",
       "  787.922,1253.93 824.075,1254.52 860.229,1254.11 876.081,1253.93 891.932,1253.74 907.784,1253.54 923.636,1254.61 932.277,1254.14 940.918,1253.65 945.239,1253.39 \n",
       "  949.56,1254.53 953.88,1254.28 958.201,1254.02 962.522,1253.76 966.842,1253.48 971.163,1254.7 975.484,1254.44 984.125,1253.88 992.766,1253.29 997.113,1254.02 \n",
       "  1001.46,1254.76 1005.81,1253.85 1010.15,1254.62 1018.84,1254.46 1027.54,1254.3 1044.92,1253.93 1062.31,1253.51 1067.11,1253.94 1071.92,1254.38 1076.72,1254.84 \n",
       "  1081.53,1253.02 1086.33,1253.47 1091.14,1253.95 1095.95,1254.45 1100.75,1254.98 1105.56,1252.91 1110.36,1253.42 1115.17,1253.97 1119.97,1254.54 1124.78,1255.15 \n",
       "  1129.58,1252.77 1134.39,1253.36 1139.19,1253.99 1143.77,1253.19 1148.34,1252.34 1152.91,1255.01 1157.48,1254.17 1162.06,1253.26 1166.63,1252.27 1171.2,1255.37 \n",
       "  1175.77,1254.4 1180.34,1253.34 1184.92,1252.18 1185.49,1254.41 1186.06,1251.87 1186.63,1254.13 1187.2,1256.41 1188.35,1256.15 1189.49,1255.88 1191.78,1255.32 \n",
       "  1194.06,1254.73 1198.63,1253.46 1203.21,1252.04 1204.35,1251.66 1205.49,1251.27 1206.06,1254.09 1206.63,1256.94 1207.21,1253.72 1207.78,1256.62 1210.06,1255.95 \n",
       "  1212.35,1255.23 1212.94,1252.71 1213.54,1256.81 1214.13,1254.26 1214.73,1251.67 1215.92,1253.25 1217.1,1254.88 1217.7,1252.18 1218.29,1256.58 1218.89,1253.84 \n",
       "  1219.48,1251.05 1220.67,1252.73 1221.86,1254.49 1222.45,1251.57 1223.05,1256.31 1223.64,1253.35 1224.24,1250.33 1225.42,1252.14 1226.61,1254.02 1227.8,1255.99 \n",
       "  1228.99,1258.04 1229.58,1254.78 1230.18,1251.43 1230.77,1256.87 1231.37,1253.48 1231.96,1250 1232.56,1255.61 1233.15,1252.09 1233.74,1257.86 1234.34,1254.27 \n",
       "  1234.93,1250.59 1235.53,1256.56 1236.12,1252.82 1236.71,1258.96 1237.31,1255.16 1237.9,1251.26 1238.5,1257.63 1239.09,1253.65 1239.69,1249.57 1240.28,1256.18 \n",
       "  1240.87,1252.02 1241.47,1258.84 1242.06,1254.6 1242.66,1250.24 1243.25,1257.34 1243.85,1252.89 1244.44,1248.3 1245.03,1255.7 1245.63,1251.01 1246.22,1258.69 \n",
       "  1246.82,1253.9 1247.41,1248.95 1248.01,1256.98 1248.6,1251.92 1249.19,1260.28 1249.79,1255.09 1250.38,1249.72 1250.98,1258.5 1251.57,1252.99 1252.17,1247.27 \n",
       "  1252.76,1256.51 1253.35,1250.64 1253.95,1260.32 1254.54,1254.28 1255.14,1247.99 1255.73,1258.23 1256.33,1251.76 1256.92,1262.54 1257.51,1255.87 1258.11,1248.88 \n",
       "  1258.7,1260.37 1259.3,1253.15 1259.89,1245.58 1260.49,1257.86 1261.08,1250.01 1261.67,1263.09 1262.27,1254.94 1262.86,1246.32 1263.46,1260.45 1264.05,1251.48 \n",
       "  1264.65,1241.94 1265.24,1257.3 1265.83,1247.32 1266.43,1263.93 1267.02,1253.47 1267.62,1242.23 1268.21,1260.58 1268.8,1248.72 1269.4,1268.88 1269.99,1256.35 \n",
       "  1270.59,1242.66 1271.18,1265.43 1271.78,1250.83 1272.37,1234.67 1272.96,1260.83 1273.56,1243.34 1274.15,1273.35 1274.75,1254.36 1275.34,1232.61 1275.94,1268.8 \n",
       "  1276.53,1244.6 1277.12,1288.59 1277.72,1261.48 1278.31,1228.2 1278.91,1286.98 1279.5,1247.7 1280.1,1194.9 1280.69,1283.37 1281.28,1212.27 1281.88,1369.61 \n",
       "  1282.47,1267.82 1283.07,917.286 1283.66,87.6286 1284.26,664.17 1284.85,1433.78 1285.44,1224.66 1286.04,1115.5 1286.63,1352.14 1287.23,1257.74 1287.82,1189.6 \n",
       "  1288.42,1330.38 1288.92,1200.09 1289.42,1251.48 1289.92,1294.78 1290.42,1195.57 1290.92,1236.79 1291.42,1272.77 1291.92,1304.43 1292.42,1227.08 1292.92,1257.81 \n",
       "  1293.42,1285.41 1293.92,1220.18 1294.42,1246.98 1294.92,1271.42 1295.42,1215.02 1295.92,1238.78 1296.42,1260.69 1296.92,1280.96 1297.42,1232.36 1297.92,1252.2 \n",
       "  1298.42,1270.71 1298.92,1227.19 1299.42,1245.32 1299.92,1262.34 1300.42,1278.35 1300.92,1239.62 1301.42,1255.38 1301.92,1270.27 1302.42,1234.84 1302.92,1249.49 \n",
       "  1303.42,1263.41 1303.92,1276.64 1304.42,1244.45 1304.92,1257.51 1305.42,1269.97 1305.92,1240.09 1306.42,1252.39 1306.92,1264.15 1307.42,1236.28 1307.92,1247.89 \n",
       "  1308.43,1259.04 1308.93,1269.75 1309.43,1243.92 1309.93,1254.51 1310.43,1264.71 1310.93,1240.39 1311.43,1250.47 1311.93,1260.2 1312.43,1269.59 1312.93,1246.84 \n",
       "  1313.43,1256.14 1313.93,1265.13 1314.43,1243.56 1314.93,1252.47 1315.43,1261.1 1315.93,1240.59 1316.43,1249.14 1316.93,1257.43 1317.43,1265.47 1317.93,1246.09 \n",
       "  1318.43,1254.07 1318.93,1261.82 1319.43,1243.3 1319.93,1250.99 1320.43,1258.47 1320.93,1265.74 1321.43,1248.16 1321.93,1255.38 1322.43,1262.41 1322.93,1245.54 \n",
       "  1323.43,1252.52 1323.93,1259.33 1324.43,1243.11 1324.93,1249.87 1325.43,1256.47 1325.93,1262.91 1326.43,1247.4 1326.93,1253.8 1327.43,1260.05 1327.93,1245.1 \n",
       "  1328.43,1251.31 1328.93,1257.39 1329.44,1263.33 1329.94,1248.99 1330.44,1254.89 1330.94,1260.67 1331.44,1246.81 1331.94,1252.55 1332.44,1258.18 1332.94,1244.76 \n",
       "  1333.44,1250.35 1333.94,1255.83 1334.44,1261.2 1334.94,1248.28 1335.44,1253.62 1335.94,1258.86 1336.44,1246.33 1336.94,1251.53 1337.44,1256.65 1337.94,1261.66 \n",
       "  1338.44,1249.56 1338.94,1254.55 1339.44,1259.46 1339.94,1247.7 1340.44,1252.57 1340.94,1257.36 1341.44,1262.07 1341.94,1250.69 1342.44,1255.38 1342.94,1259.98 \n",
       "  1343.44,1248.91 1343.94,1253.49 1344.44,1258 1344.94,1247.21 1345.44,1251.69 1345.94,1256.11 1346.44,1260.45 1346.94,1249.98 1347.44,1254.31 1347.94,1258.56 \n",
       "  1348.44,1248.35 1348.94,1252.59 1349.44,1256.76 1349.94,1260.87 1350.45,1250.95 1350.95,1255.04 1351.45,1259.07 1351.95,1249.38 1352.45,1253.39 1354.89,1253.47 \n",
       "  1357.33,1253.55 1359.77,1253.62 1362.22,1253.69 1367.1,1253.81 1371.99,1253.92 1381.76,1254.1 1391.53,1254.25 1411.08,1254.48 1430.62,1254.65 1448.52,1254.58 \n",
       "  1466.43,1254.53 1484.33,1254.49 1502.23,1254.45 1506.37,1253.72 1510.5,1253.01 1514.63,1252.32 1518.77,1255.63 1522.9,1254.93 1527.04,1254.25 1531.17,1253.59 \n",
       "  1535.3,1252.95 1539.44,1252.33 1543.57,1255.33 1547.7,1254.69 1551.84,1254.08 1555.97,1253.48 1560.1,1252.9 1564.24,1255.67 1568.37,1255.07 1585.12,1254.95 \n",
       "  1601.87,1254.85 1618.62,1254.75 1635.37,1254.66 1710.46,1254.99 1778.49,1254.88 1817.44,1254.33 1856.4,1253.85 1892.46,1254.23 1928.52,1254.57 1964.08,1254.12 \n",
       "  1999.63,1253.71 2034.16,1254.03 2068.68,1254.33 2104.07,1254.16 2139.45,1254.01 2178.23,1253.6 2217,1254.22 2273.32,1254.17 2329.65,1254.13 2341.2,1254.09 \n",
       "  2352.76,1254.04 \n",
       "  \"/>\n",
       "<path clip-path=\"url(#clip650)\" d=\"\n",
       "M1663.16 198.488 L2281.48 198.488 L2281.48 94.8081 L1663.16 94.8081  Z\n",
       "  \" fill=\"#ffffff\" fill-rule=\"evenodd\" fill-opacity=\"1\"/>\n",
       "<polyline clip-path=\"url(#clip650)\" style=\"stroke:#000000; stroke-linecap:round; stroke-linejoin:round; stroke-width:4; stroke-opacity:1; fill:none\" points=\"\n",
       "  1663.16,198.488 2281.48,198.488 2281.48,94.8081 1663.16,94.8081 1663.16,198.488 \n",
       "  \"/>\n",
       "<polyline clip-path=\"url(#clip650)\" style=\"stroke:#009af9; stroke-linecap:round; stroke-linejoin:round; stroke-width:4; stroke-opacity:1; fill:none\" points=\"\n",
       "  1686.92,146.648 1829.48,146.648 \n",
       "  \"/>\n",
       "<path clip-path=\"url(#clip650)\" d=\"M1877.89 138.002 L1868.52 150.618 L1878.38 163.928 L1873.36 163.928 L1865.81 153.743 L1858.26 163.928 L1853.24 163.928 L1863.31 150.363 L1854.1 138.002 L1859.12 138.002 L1865.99 147.238 L1872.87 138.002 L1877.89 138.002 Z\" fill=\"#000000\" fill-rule=\"evenodd\" fill-opacity=\"1\" /><path clip-path=\"url(#clip650)\" d=\"M1891.97 129.368 L1895.9 129.368 L1883.87 168.326 L1879.93 168.326 L1891.97 129.368 Z\" fill=\"#000000\" fill-rule=\"evenodd\" fill-opacity=\"1\" /><path clip-path=\"url(#clip650)\" d=\"M1910.6 127.956 Q1907.5 133.28 1905.99 138.488 Q1904.49 143.697 1904.49 149.044 Q1904.49 154.391 1905.99 159.646 Q1907.52 164.877 1910.6 170.178 L1906.9 170.178 Q1903.43 164.738 1901.69 159.484 Q1899.98 154.229 1899.98 149.044 Q1899.98 143.882 1901.69 138.65 Q1903.4 133.419 1906.9 127.956 L1910.6 127.956 Z\" fill=\"#000000\" fill-rule=\"evenodd\" fill-opacity=\"1\" /><path clip-path=\"url(#clip650)\" d=\"M1920.28 159.993 L1927.92 159.993 L1927.92 133.627 L1919.61 135.294 L1919.61 131.035 L1927.87 129.368 L1932.55 129.368 L1932.55 159.993 L1940.18 159.993 L1940.18 163.928 L1920.28 163.928 L1920.28 159.993 Z\" fill=\"#000000\" fill-rule=\"evenodd\" fill-opacity=\"1\" /><path clip-path=\"url(#clip650)\" d=\"M1966.36 134.206 L1966.36 147.1 L1979.26 147.1 L1979.26 151.035 L1966.36 151.035 L1966.36 163.928 L1962.48 163.928 L1962.48 151.035 L1949.58 151.035 L1949.58 147.1 L1962.48 147.1 L1962.48 134.206 L1966.36 134.206 Z\" fill=\"#000000\" fill-rule=\"evenodd\" fill-opacity=\"1\" /><path clip-path=\"url(#clip650)\" d=\"M2010.3 138.002 L2000.92 150.618 L2010.79 163.928 L2005.76 163.928 L1998.22 153.743 L1990.67 163.928 L1985.65 163.928 L1995.72 150.363 L1986.5 138.002 L1991.53 138.002 L1998.4 147.238 L2005.28 138.002 L2010.3 138.002 Z\" fill=\"#000000\" fill-rule=\"evenodd\" fill-opacity=\"1\" /><path clip-path=\"url(#clip650)\" d=\"M2016.13 127.956 L2019.84 127.956 Q2023.31 133.419 2025.02 138.65 Q2026.76 143.882 2026.76 149.044 Q2026.76 154.229 2025.02 159.484 Q2023.31 164.738 2019.84 170.178 L2016.13 170.178 Q2019.21 164.877 2020.72 159.646 Q2022.24 154.391 2022.24 149.044 Q2022.24 143.697 2020.72 138.488 Q2019.21 133.28 2016.13 127.956 Z\" fill=\"#000000\" fill-rule=\"evenodd\" fill-opacity=\"1\" /><path clip-path=\"url(#clip650)\" d=\"M2035.3 127.91 L2039.56 127.91 L2039.56 163.928 L2035.3 163.928 L2035.3 127.91 Z\" fill=\"#000000\" fill-rule=\"evenodd\" fill-opacity=\"1\" /><path clip-path=\"url(#clip650)\" d=\"M2058.52 140.988 Q2055.09 140.988 2053.1 143.674 Q2051.11 146.336 2051.11 150.988 Q2051.11 155.641 2053.08 158.326 Q2055.07 160.988 2058.52 160.988 Q2061.92 160.988 2063.91 158.303 Q2065.9 155.618 2065.9 150.988 Q2065.9 146.382 2063.91 143.697 Q2061.92 140.988 2058.52 140.988 M2058.52 137.377 Q2064.07 137.377 2067.24 140.988 Q2070.41 144.6 2070.41 150.988 Q2070.41 157.354 2067.24 160.988 Q2064.07 164.599 2058.52 164.599 Q2052.94 164.599 2049.77 160.988 Q2046.62 157.354 2046.62 150.988 Q2046.62 144.6 2049.77 140.988 Q2052.94 137.377 2058.52 137.377 Z\" fill=\"#000000\" fill-rule=\"evenodd\" fill-opacity=\"1\" /><path clip-path=\"url(#clip650)\" d=\"M2094.54 150.664 Q2094.54 146.035 2092.61 143.488 Q2090.72 140.942 2087.27 140.942 Q2083.84 140.942 2081.92 143.488 Q2080.02 146.035 2080.02 150.664 Q2080.02 155.271 2081.92 157.817 Q2083.84 160.363 2087.27 160.363 Q2090.72 160.363 2092.61 157.817 Q2094.54 155.271 2094.54 150.664 M2098.79 160.711 Q2098.79 167.331 2095.85 170.548 Q2092.91 173.789 2086.85 173.789 Q2084.6 173.789 2082.61 173.442 Q2080.62 173.118 2078.75 172.423 L2078.75 168.28 Q2080.62 169.298 2082.45 169.785 Q2084.28 170.271 2086.18 170.271 Q2090.37 170.271 2092.45 168.072 Q2094.54 165.896 2094.54 161.474 L2094.54 159.368 Q2093.22 161.66 2091.16 162.794 Q2089.1 163.928 2086.23 163.928 Q2081.46 163.928 2078.54 160.294 Q2075.62 156.66 2075.62 150.664 Q2075.62 144.646 2078.54 141.012 Q2081.46 137.377 2086.23 137.377 Q2089.1 137.377 2091.16 138.512 Q2093.22 139.646 2094.54 141.937 L2094.54 138.002 L2098.79 138.002 L2098.79 160.711 Z\" fill=\"#000000\" fill-rule=\"evenodd\" fill-opacity=\"1\" /><path clip-path=\"url(#clip650)\" d=\"M2117.8 127.956 Q2114.7 133.28 2113.19 138.488 Q2111.69 143.697 2111.69 149.044 Q2111.69 154.391 2113.19 159.646 Q2114.72 164.877 2117.8 170.178 L2114.1 170.178 Q2110.62 164.738 2108.89 159.484 Q2107.17 154.229 2107.17 149.044 Q2107.17 143.882 2108.89 138.65 Q2110.6 133.419 2114.1 127.956 L2117.8 127.956 Z\" fill=\"#000000\" fill-rule=\"evenodd\" fill-opacity=\"1\" /><path clip-path=\"url(#clip650)\" d=\"M2127.47 159.993 L2135.11 159.993 L2135.11 133.627 L2126.8 135.294 L2126.8 131.035 L2135.07 129.368 L2139.74 129.368 L2139.74 159.993 L2147.38 159.993 L2147.38 163.928 L2127.47 163.928 L2127.47 159.993 Z\" fill=\"#000000\" fill-rule=\"evenodd\" fill-opacity=\"1\" /><path clip-path=\"url(#clip650)\" d=\"M2173.56 134.206 L2173.56 147.1 L2186.46 147.1 L2186.46 151.035 L2173.56 151.035 L2173.56 163.928 L2169.67 163.928 L2169.67 151.035 L2156.78 151.035 L2156.78 147.1 L2169.67 147.1 L2169.67 134.206 L2173.56 134.206 Z\" fill=\"#000000\" fill-rule=\"evenodd\" fill-opacity=\"1\" /><path clip-path=\"url(#clip650)\" d=\"M2217.5 138.002 L2208.12 150.618 L2217.98 163.928 L2212.96 163.928 L2205.41 153.743 L2197.87 163.928 L2192.84 163.928 L2202.91 150.363 L2193.7 138.002 L2198.72 138.002 L2205.6 147.238 L2212.47 138.002 L2217.5 138.002 Z\" fill=\"#000000\" fill-rule=\"evenodd\" fill-opacity=\"1\" /><path clip-path=\"url(#clip650)\" d=\"M2223.33 127.956 L2227.03 127.956 Q2230.51 133.419 2232.22 138.65 Q2233.96 143.882 2233.96 149.044 Q2233.96 154.229 2232.22 159.484 Q2230.51 164.738 2227.03 170.178 L2223.33 170.178 Q2226.41 164.877 2227.91 159.646 Q2229.44 154.391 2229.44 149.044 Q2229.44 143.697 2227.91 138.488 Q2226.41 133.28 2223.33 127.956 Z\" fill=\"#000000\" fill-rule=\"evenodd\" fill-opacity=\"1\" /></svg>\n"
      ]
     },
     "execution_count": 11,
     "metadata": {},
     "output_type": "execute_result"
    }
   ],
   "source": [
    "plot(x -> abs(x / ((x+1)*log(x+1))), xlims=(-1e-10, 1e-10), label = \"x/(1+x)log(1+x)\")"
   ]
  },
  {
   "cell_type": "markdown",
   "id": "875afab1",
   "metadata": {
    "slideshow": {
     "slide_type": "slide"
    }
   },
   "source": [
    "# Stable constitutive equations"
   ]
  },
  {
   "cell_type": "markdown",
   "id": "927a894a",
   "metadata": {
    "cell_style": "center",
    "slideshow": {
     "slide_type": "fragment"
    }
   },
   "source": [
    "Software packages (Abaqus UMAT, MOOSE, Albany-LCM, ...) make use of $\\boldsymbol F$ in their implementations.\n",
    "\n",
    "\\begin{equation}\n",
    "    \\boldsymbol{E} =  \\frac{1}{2} \\left(\\boldsymbol C - \\boldsymbol{I} \\right) = \\frac{1}{2} \\left(\\boldsymbol{F}^T \\boldsymbol{F} - \\boldsymbol{I} \\right)\n",
    "\\end{equation}\n",
    "when dispalcement is small we have loss of significance.\n",
    "\n",
    "What if we substitute $\\boldsymbol F = \\boldsymbol I + \\boldsymbol H$, where $\\boldsymbol H = \\nabla_X \\boldsymbol u$\n",
    "\n",
    "\\begin{equation}\n",
    "    \\boldsymbol{E} =  \\frac{1}{2} \\left(\\boldsymbol H + \\boldsymbol H^T + \\boldsymbol H^T \\boldsymbol H \\right)\n",
    "\\end{equation}"
   ]
  },
  {
   "cell_type": "markdown",
   "id": "1fe9c458",
   "metadata": {
    "slideshow": {
     "slide_type": "slide"
    }
   },
   "source": [
    "# Stable constitutive equations"
   ]
  },
  {
   "cell_type": "markdown",
   "id": "692da072",
   "metadata": {
    "cell_style": "split",
    "slideshow": {
     "slide_type": "fragment"
    }
   },
   "source": [
    "$$\n",
    "\\boldsymbol S_{\\text{vol}} = \\frac{\\kappa}{2} (J^2 -1)\\boldsymbol C^{-1}\n",
    "$$\n",
    "\n",
    "Standard approach\n",
    "\n",
    "$$\n",
    "\\boldsymbol{F} = \\begin{bmatrix}\n",
    "1 + u_{0,0} & u_{0,1} \\\\\n",
    "u_{1,0} & 1 + u_{1,1}\n",
    "\\end{bmatrix}\n",
    "$$\n",
    "\n",
    "$$\n",
    "J = 1 + (u_{0,0} + u_{1,1}) + u_{0,0} u_{1,1} - u_{0,1} u_{1,0} \n",
    "$$\n",
    "\n",
    "Stable computation of $\\mathtt{J_{-1}}=J - 1$ \n",
    "\n",
    "$$\n",
    "\\mathtt{J_{-1}} = u_{0,0} + u_{1,1} + u_{0,0} u_{1,1} - u_{0,1} u_{1,0} \n",
    "$$"
   ]
  },
  {
   "cell_type": "markdown",
   "id": "47a3fb3f",
   "metadata": {
    "cell_style": "split",
    "slideshow": {
     "slide_type": "fragment"
    }
   },
   "source": [
    "<img align=\"center\" src=\"Jm1.png\" width=\"90%\" height=\"90%\"/>"
   ]
  },
  {
   "cell_type": "markdown",
   "id": "2a846e7a",
   "metadata": {
    "slideshow": {
     "slide_type": "subslide"
    }
   },
   "source": [
    "$\\log J$ which appears in some constitutive models also has a huge condition number \n",
    "$\\kappa_{\\log}(J) = 1 / \\log J $ when $ J \\approx 1$.\n",
    "\n",
    "\\begin{equation}\n",
    "\t\\log J = \\mathtt{\\log1p} \\left(\\mathtt{J_{-1}} \\right).\n",
    "    \\label{logJ-stable}\n",
    "\\end{equation}"
   ]
  },
  {
   "cell_type": "markdown",
   "id": "f1d050ec",
   "metadata": {
    "slideshow": {
     "slide_type": "slide"
    }
   },
   "source": [
    "# Eigen solver "
   ]
  },
  {
   "cell_type": "markdown",
   "id": "84b77530",
   "metadata": {
    "cell_style": "split",
    "slideshow": {
     "slide_type": "fragment"
    }
   },
   "source": [
    "* For Ogden model we need to solve an eigensystem of 3x3 symmetric matrix\n",
    "\n",
    "* Suppose we create a matrix with eigenvalues \n",
    "\n",
    "$$ 1, \\,\\, 0.5 + e, \\,\\,  0.5 - e $$\n",
    "\n",
    "$\\qquad$ where $e \\in (\\epsilon_{\\text{machine}}, 0.1)$"
   ]
  },
  {
   "cell_type": "markdown",
   "id": "e594bf98",
   "metadata": {
    "cell_style": "split",
    "slideshow": {
     "slide_type": "fragment"
    }
   },
   "source": [
    "<img align=\"center\" src=\"eigenvalue-error.png\" width=\"90%\" height=\"90%\"/>"
   ]
  },
  {
   "cell_type": "markdown",
   "id": "c6adba1f",
   "metadata": {
    "slideshow": {
     "slide_type": "slide"
    }
   },
   "source": [
    "# Stable eigen solver \n",
    "\n",
    "Isaac Harari, Uri Albocher 2022: Computation of eigenvalues of a real, symmetric 3 × 3 matrix with particular reference to the pernicious case of two nearly equal eigenvalues"
   ]
  },
  {
   "cell_type": "markdown",
   "id": "0bd9becd",
   "metadata": {
    "cell_style": "split",
    "slideshow": {
     "slide_type": "fragment"
    }
   },
   "source": [
    "<img align=\"center\" src=\"eigenvalue-error2.png\" width=\"90%\" height=\"90%\"/>"
   ]
  },
  {
   "cell_type": "markdown",
   "id": "9b66ac34",
   "metadata": {
    "cell_style": "split",
    "slideshow": {
     "slide_type": "fragment"
    }
   },
   "source": [
    "<img align=\"center\" src=\"eigenvector-error.png\" width=\"90%\" height=\"90%\"/>"
   ]
  },
  {
   "cell_type": "markdown",
   "id": "88f5d903",
   "metadata": {
    "slideshow": {
     "slide_type": "skip"
    }
   },
   "source": [
    "<img align=\"center\" src=\"eigenvector-error2.png\" width=\"90%\" height=\"90%\"/>"
   ]
  },
  {
   "cell_type": "markdown",
   "id": "451f7564",
   "metadata": {
    "slideshow": {
     "slide_type": "slide"
    }
   },
   "source": [
    "<img align=\"center\" src=\"survey-softwares.png\" width=\"90%\" height=\"90%\"/>"
   ]
  },
  {
   "cell_type": "markdown",
   "id": "edead9a6",
   "metadata": {
    "slideshow": {
     "slide_type": "slide"
    }
   },
   "source": [
    "<div class=\"alert alert-block alert-success\", style=\"font-size: 50px\">\n",
    "we derived stable constitutive formulation for hyperelastic materials\n",
    "</div>\n"
   ]
  },
  {
   "cell_type": "markdown",
   "id": "d0c97c81",
   "metadata": {
    "slideshow": {
     "slide_type": "slide"
    }
   },
   "source": [
    "# Governing equation and Incompressiblity ($\\color{blue}{\\text{small strain}} $)"
   ]
  },
  {
   "cell_type": "markdown",
   "id": "c8f17b1b",
   "metadata": {
    "cell_style": "split",
    "slideshow": {
     "slide_type": "fragment"
    }
   },
   "source": [
    "* $\\color{blue}{\\text{Linear elasticity (strong form)}}$ \n",
    "\\begin{eqnarray}\n",
    "    \\nabla \\cdot \\boldsymbol \\sigma + \\boldsymbol f = 0. \\qquad \\text{in $\\Omega$} \n",
    "\\end{eqnarray}\n",
    "where\n",
    "\\begin{eqnarray}\n",
    "    \\boldsymbol \\sigma &=& \\lambda \\operatorname{trace} \\boldsymbol \\varepsilon ~ \\boldsymbol I + 2 \\mu \\boldsymbol \\varepsilon \\\\\n",
    "    \\boldsymbol \\varepsilon(\\boldsymbol u) &=& \\frac{1}{2} \\left( \\nabla \\boldsymbol u + (\\nabla \\boldsymbol u)^T \\right)\n",
    "\\end{eqnarray}\n",
    "\n",
    "\\begin{equation}\n",
    "    \\lambda = \\frac{2\\nu\\mu}{1-2\\nu}\n",
    "    \\label{lambda-definition}\n",
    "\\end{equation}\n",
    "\n",
    "* Incompressibility: $\\nu \\longrightarrow 0.5$, as a result $\\lambda \\longrightarrow \\infty $ "
   ]
  },
  {
   "cell_type": "markdown",
   "id": "9450e49b",
   "metadata": {
    "cell_style": "split",
    "slideshow": {
     "slide_type": "fragment"
    }
   },
   "source": [
    "* One approach is to define new variable $p$ \n",
    "\\begin{eqnarray} \n",
    "\tp &=& - \\frac{\\operatorname{trace} \\boldsymbol \\sigma}{3} = -(\\lambda+2\\mu/3) \\operatorname{trace} \\boldsymbol \\varepsilon \\\\\n",
    "    &=& -\\kappa \\operatorname{trace} \\boldsymbol \\varepsilon\n",
    "\\end{eqnarray}\n",
    "substituting $\\lambda = \\kappa - 2 \\mu / 3$ in definition of $\\boldsymbol \\sigma$\n",
    "\n",
    "\\begin{eqnarray}\n",
    "\\boldsymbol \\sigma &=& \\kappa \\operatorname{trace} \\boldsymbol \\varepsilon ~ \\boldsymbol I + 2 \\mu \\boldsymbol \\varepsilon_{\\text{dev}} \\\\\n",
    "& = & -p ~ \\boldsymbol I + 2 \\mu \\boldsymbol \\varepsilon_{\\text{dev}}\n",
    "\\end{eqnarray}\n",
    "\n",
    "* $\\color{blue}{\\text{Mixed-Linear elasticity (strong form)}}$\n",
    "\\begin{eqnarray}\n",
    "    \\nabla \\cdot \\boldsymbol \\sigma + \\boldsymbol f   &=& 0. \\qquad \\text{in $\\Omega$} \\nonumber \\\\\n",
    "\t\\nabla\\cdot\\boldsymbol u + \\frac{p}{\\kappa} &=& 0. \\qquad \\text{in $\\Omega$}\n",
    "    \\label{mixed-linear-strong-form}\n",
    "\\end{eqnarray}"
   ]
  },
  {
   "cell_type": "markdown",
   "id": "2b8347a5",
   "metadata": {
    "slideshow": {
     "slide_type": "slide"
    }
   },
   "source": [
    "# Governing equation and Incompressiblity ($\\color{blue}{\\text{small strain}} $ )"
   ]
  },
  {
   "cell_type": "markdown",
   "id": "dbc90c0a",
   "metadata": {
    "cell_style": "center",
    "slideshow": {
     "slide_type": "fragment"
    }
   },
   "source": [
    "$\\color{blue}{\\text{Mixed-Linear elasticity (weak form)}}$\n",
    "\n",
    "Find $(\\boldsymbol u_h, p_h) \\in \\mathbb{V}_h \\times \\mathbb{Q}_h $, such that for all $(\\boldsymbol v, q) \\in \\mathbb{V}_h^0 \\times \\mathbb{Q}_h$\n",
    "\n",
    "\\begin{eqnarray}\n",
    "     a(\\boldsymbol v, \\boldsymbol{u}_h) + b(\\boldsymbol v, p_h) &=& (\\boldsymbol v, \\boldsymbol f) + \\langle \\boldsymbol v, \\boldsymbol g^{\\boldsymbol u}\\rangle_{\\partial \\Omega^{N}} \\nonumber \\\\\n",
    "     b(q, \\boldsymbol{u}_h) + c(q, p_h) &=& 0\n",
    "     \\label{mixed-linear-weak-form2}\n",
    "\\end{eqnarray}\n",
    "\n",
    "where\n",
    "\\begin{equation}\n",
    "a(\\boldsymbol v, \\boldsymbol{u}_h) = \\int_{\\Omega} 2\\mu \\: \\boldsymbol \\varepsilon(\\boldsymbol v) \\!:\\! \\boldsymbol \\varepsilon(\\boldsymbol u_h) \\: dv, ~ ~ b(q, \\boldsymbol u_h)  = -\\int_{\\Omega} q \\: \\nabla \\cdot \\boldsymbol u_h \\:dv, ~ ~ c(q, p_h)  = - \\int_{\\Omega} \\frac{1}{\\kappa} \\: q \\: p_h \\:dv\n",
    "\\end{equation}\n",
    "\n",
    "\\begin{equation}\n",
    "\\begin{bmatrix}\n",
    "\\boldsymbol{A} & \\boldsymbol{B}^T \\\\\n",
    "\\boldsymbol{B} & \\boldsymbol{C}\n",
    "\\end{bmatrix}\n",
    "\\begin{bmatrix}\n",
    "\\boldsymbol{u}\\\\\n",
    "\\boldsymbol{p}\n",
    "\\end{bmatrix}\n",
    "= \\begin{bmatrix}\n",
    "\\boldsymbol{F}\\\\\n",
    "\\boldsymbol{0}\n",
    "\\end{bmatrix}\n",
    "\\end{equation}\n"
   ]
  },
  {
   "cell_type": "markdown",
   "id": "863397a6",
   "metadata": {
    "slideshow": {
     "slide_type": "slide"
    }
   },
   "source": [
    "## $\\color{blue}{\\text{Are we allowed to use any interpolation order for } (\\boldsymbol u, p) ?} $\n",
    "\n",
    "\n",
    "<img align=\"center\" src=\"mixed-element.png\" width=\"75%\" height=\"75%\"/>"
   ]
  },
  {
   "cell_type": "markdown",
   "id": "f5f1ad8b",
   "metadata": {
    "cell_style": "center",
    "slideshow": {
     "slide_type": "subslide"
    }
   },
   "source": [
    "### Brezzi-Babuska condition:\n",
    "\n",
    "Find $\\lambda \\in \\mathbb{R}$, $0 \\neq (\\boldsymbol u_h, p_h) \\in \\mathbb{V}_h \\times \\mathbb{Q}_h $, such that for all $(\\boldsymbol v, q) \\in \\mathbb{V}_h^0 \\times \\mathbb{Q}_h$\n",
    "\n",
    "\\begin{equation}\n",
    "    a(\\boldsymbol v, \\boldsymbol u) + b(\\boldsymbol v, p) + b(q, \\boldsymbol u) = -\\lambda \\langle p, q \\rangle_{\\mathbb{Q}} \n",
    "\\end{equation}\n",
    "\n",
    "then, $\\lambda \\geq 0$ and inf-sup constant is $\\beta_h = \\sqrt{\\lambda_{\\text{min}}}$. "
   ]
  },
  {
   "cell_type": "markdown",
   "id": "c77d535d",
   "metadata": {
    "slideshow": {
     "slide_type": "slide"
    }
   },
   "source": [
    "# Inf-sup constant for element with $\\color{blue}{\\text{continuous}} $ pressure"
   ]
  },
  {
   "cell_type": "markdown",
   "id": "269373d4",
   "metadata": {
    "cell_style": "split",
    "slideshow": {
     "slide_type": "fragment"
    }
   },
   "source": [
    "<img align=\"center\" src=\"cont-p-1.png\" width=\"80%\" height=\"80%\"/>"
   ]
  },
  {
   "cell_type": "markdown",
   "id": "dbd75e81",
   "metadata": {
    "cell_style": "split",
    "slideshow": {
     "slide_type": "fragment"
    }
   },
   "source": [
    "<img align=\"center\" src=\"cont-p-10.png\" width=\"80%\" height=\"80%\"/>"
   ]
  },
  {
   "cell_type": "markdown",
   "id": "da630b08",
   "metadata": {
    "slideshow": {
     "slide_type": "slide"
    }
   },
   "source": [
    "# Inf-sup constant for element with $\\color{blue}{\\text{discontinuous}} $ pressure"
   ]
  },
  {
   "cell_type": "markdown",
   "id": "447d7288",
   "metadata": {
    "cell_style": "split",
    "slideshow": {
     "slide_type": "fragment"
    }
   },
   "source": [
    "<img align=\"center\" src=\"dist-p-1.png\" width=\"80%\" height=\"80%\"/>\n",
    "\n",
    "### Q1P0 and Q3Q2 are unstable"
   ]
  },
  {
   "cell_type": "markdown",
   "id": "ea3969c1",
   "metadata": {
    "cell_style": "split",
    "slideshow": {
     "slide_type": "fragment"
    }
   },
   "source": [
    "<img align=\"center\" src=\"dist-p-10.png\" width=\"80%\" height=\"80%\"/>\n",
    "\n",
    "### Q2P1 is unstable for stretch element"
   ]
  },
  {
   "cell_type": "markdown",
   "id": "8dffea8d",
   "metadata": {
    "slideshow": {
     "slide_type": "slide"
    }
   },
   "source": [
    "### Srinivasan et al. (1994) \n",
    "<img align=\"center\" src=\"1994-Srinivasan.png\" width=\"80%\" height=\"80%\"/>\n",
    "\n",
    "### Gültekin et al (2019), ABAQUS, ... use Q1P0\n"
   ]
  },
  {
   "cell_type": "markdown",
   "id": "c81e8311",
   "metadata": {
    "slideshow": {
     "slide_type": "slide"
    }
   },
   "source": [
    "# Convergence study for element with $\\color{blue}{\\text{continuous}} $ pressure"
   ]
  },
  {
   "cell_type": "markdown",
   "id": "12a84d3f",
   "metadata": {
    "slideshow": {
     "slide_type": "subslide"
    }
   },
   "source": [
    "### Comparing $Q_kQ_{k-1}$ and $Q_kQ_{k-2}$ convergence order for $n\\times n$ uniform elements\n",
    "\n",
    "<img align=\"center\" src=\"conv-study-cont.png\" width=\"75%\" height=\"75%\"/>\n",
    "\n",
    "### In 2D, total DoFs/element $Q_2Q_1$:22,   $Q_3Q_1$:36 "
   ]
  },
  {
   "cell_type": "markdown",
   "id": "d7306cd8",
   "metadata": {
    "slideshow": {
     "slide_type": "slide"
    }
   },
   "source": [
    "# Convergence study for element with $\\color{blue}{\\text{discontinuous}} $ pressure"
   ]
  },
  {
   "cell_type": "markdown",
   "id": "3c325189",
   "metadata": {
    "slideshow": {
     "slide_type": "subslide"
    }
   },
   "source": [
    "### Comparing $Q_kP_{k-1} \\, (k > 1)$ and $Q_kQ_{k-2}$ convergence order for $n\\times n$ uniform elements\n",
    "\n",
    "<img align=\"center\" src=\"conv-study-disc.png\" width=\"80%\" height=\"80%\"/>\n",
    "\n",
    "### In 2D, total DoFs/element $Q_2P_1$:21,   $Q_3Q_1$:36 "
   ]
  },
  {
   "cell_type": "markdown",
   "id": "ef8358e7",
   "metadata": {
    "slideshow": {
     "slide_type": "slide"
    }
   },
   "source": [
    "<div class=\"alert alert-block alert-success\", style=\"font-size: 50px\">\n",
    "We determined the inf-sup stable mixed element\n",
    "</div>"
   ]
  },
  {
   "cell_type": "markdown",
   "id": "29864ea2",
   "metadata": {
    "cell_style": "center",
    "slideshow": {
     "slide_type": "slide"
    }
   },
   "source": [
    "# Governing equation and Incompressiblity ($\\color{blue}{\\text{finite strain}} $ )"
   ]
  },
  {
   "cell_type": "markdown",
   "id": "ed3f7543",
   "metadata": {
    "cell_style": "split",
    "slideshow": {
     "slide_type": "fragment"
    }
   },
   "source": [
    "### Incompressibility constraint\n",
    "$$\n",
    "J - 1 = 0\n",
    "$$\n",
    "\n",
    "### Lagrange-multiplier method\n",
    "\\begin{eqnarray}\n",
    "    \\Pi_{\\text{L}}(\\boldsymbol u, \\hat{p}) &=& \\Pi_{\\text{int}}(\\boldsymbol u, \\hat{p}) + \\Pi_{\\text{ext}}(\\boldsymbol u) \\nonumber \\\\\n",
    "    \\Pi_{\\text{int}}(\\boldsymbol u, \\hat{p}) &=& \\int_{\\Omega_0} \\left[\\hat{p} \\, \\left(J - 1 \\right) + \\psi_{\\text{iso}} \\right]dV \\nonumber \n",
    "\\end{eqnarray}\n",
    "$\\hat p$ is Lagrange multiplier NOT the pressure"
   ]
  },
  {
   "cell_type": "markdown",
   "id": "e1426ecb",
   "metadata": {
    "cell_style": "split",
    "slideshow": {
     "slide_type": "fragment"
    }
   },
   "source": [
    "### Perturbed Lagrange-multiplier method\n",
    "\\begin{eqnarray}\n",
    "    \\Pi_{\\text{PL}}(\\boldsymbol u, \\hat{p}) &=& \\Pi_{\\text{int}}(\\boldsymbol u, \\hat{p}) + \\Pi_{\\text{ext}}(\\boldsymbol u) - \\frac{1}{2} \\int_{\\Omega_0} \\frac{1}{\\kappa} \\hat{p}^2 d V \\\\\n",
    "    \\Pi_{\\text{int}}(\\boldsymbol u, \\hat{p}) &=& \\int_{\\Omega_0} \\left[\\hat{p} \\, U(J) + \\psi_{\\text{iso}} \\right]dV \\nonumber \n",
    "\\end{eqnarray}\n",
    "\n",
    "where $U(J)$ is strictly convex function, and  $U(J)=0$ *if and only if* $J=1$."
   ]
  },
  {
   "cell_type": "markdown",
   "id": "e70777e3",
   "metadata": {
    "slideshow": {
     "slide_type": "slide"
    }
   },
   "source": [
    "# Governing equation and Incompressiblity ($\\color{blue}{\\text{finite strain}} $ )"
   ]
  },
  {
   "cell_type": "markdown",
   "id": "414d4f63",
   "metadata": {
    "cell_style": "split",
    "slideshow": {
     "slide_type": "fragment"
    }
   },
   "source": [
    "### Constitutive equation for pressure \n",
    "\\begin{eqnarray}\n",
    "    p &=& - \\frac{\\operatorname{trace} \\boldsymbol \\sigma}{3} = -\\frac{1}{3J} \\operatorname{trace} (\\boldsymbol F \\boldsymbol S \\boldsymbol F^T) \\\\\n",
    "    &=& -\\frac{1}{3J} \\operatorname{trace} (\\boldsymbol S \\boldsymbol C) = - \\frac{\\partial \\psi_{\\text{vol}}}{\\partial J},\n",
    "\\end{eqnarray}\n",
    "\n",
    "we need to update $\\boldsymbol{S}_{\\text{vol}} = -p J \\boldsymbol{C}^{-1}$\n",
    "\n",
    "* Strong form\n",
    "\n",
    "\\begin{eqnarray}\n",
    "    \\nabla_X \\cdot \\boldsymbol P + \\boldsymbol f   &=& 0. \\qquad \\text{in $\\Omega_0$} \\nonumber \\\\\n",
    "\t\\frac{\\partial \\psi_{\\text{vol}}}{\\partial J} + \\frac{p}{\\kappa} &=& 0. \\qquad \\text{in $\\Omega$}\n",
    "\\end{eqnarray}"
   ]
  },
  {
   "cell_type": "markdown",
   "id": "a9973d00",
   "metadata": {
    "cell_style": "split",
    "slideshow": {
     "slide_type": "fragment"
    }
   },
   "source": [
    "* $\\color{blue}{\\text{Displacement-based formulation}} $ \n",
    "\n",
    "\\begin{equation}\n",
    "\\boldsymbol{S} = \\frac{\\partial \\psi}{\\partial \\boldsymbol{E}} =  \\frac{\\partial \\psi_{\\text{vol}}}{\\partial J}  \\frac{\\partial J}{\\partial \\boldsymbol{E}} +  \\frac{\\partial \\psi_{\\text{iso}}}{\\partial \\boldsymbol{E}} = \\boldsymbol{S}_{\\text{vol}} + \\boldsymbol{S}_{\\text{iso}}\n",
    "\\end{equation}\n",
    "\n",
    "$\\qquad$ where $\\boldsymbol{S}_{\\text{vol}} =\\frac{\\kappa}{2} (J^2 -1)\\boldsymbol C^{-1}$\n",
    "\n",
    "* Strong form\n",
    "\n",
    "\\begin{equation}\n",
    "\\nabla_X \\cdot \\boldsymbol{P} + \\boldsymbol{f} = 0  \\qquad \\text{in $\\Omega_0$}\n",
    "\\end{equation}\n",
    "\n",
    "$\\qquad$ where $\\boldsymbol{P}=\\boldsymbol{FS}$"
   ]
  },
  {
   "cell_type": "markdown",
   "id": "2ba96a83",
   "metadata": {
    "slideshow": {
     "slide_type": "slide"
    }
   },
   "source": [
    "\\begin{eqnarray}\n",
    "    \\int_{\\Omega_0} \\nabla_X \\boldsymbol v \\!:\\! \\boldsymbol P \\: dV &=& \\int_{\\Omega_0}\\boldsymbol v \\cdot \\boldsymbol f \\:dV\\int_{\\partial \\Omega^{N}_0} \\boldsymbol v \\cdot \\bar{\\boldsymbol t} \\: dS \\nonumber \\\\\n",
    "    \\int_{\\Omega_0} q \\: \\left( \\frac{\\partial \\psi_{\\text{vol}}}{\\partial J} + \\frac{p}{\\kappa} \\right) \\: J \\: dV &=& 0\n",
    "    \\label{mixed-hyperelastic-weak-form}\n",
    "\\end{eqnarray}"
   ]
  },
  {
   "cell_type": "markdown",
   "id": "33cde477",
   "metadata": {
    "slideshow": {
     "slide_type": "slide"
    }
   },
   "source": [
    "# Matrix-free implementation"
   ]
  },
  {
   "cell_type": "markdown",
   "id": "aee1bd07",
   "metadata": {
    "slideshow": {
     "slide_type": "fragment"
    }
   },
   "source": [
    "####  Finite Element Formulation\n",
    "\\begin{align}\n",
    "    \\text{Residual:} \\quad \\boldsymbol{v}^T F(\\boldsymbol{u}) &\\sim \\int_\\Omega \\boldsymbol{v} \\cdot \\color{olive}{f_0(\\boldsymbol{u}, \\nabla \\boldsymbol{u})} + \\color{black}{\\nabla \\boldsymbol{v}} : \\color{olive}{f_1(\\boldsymbol{u}, \\nabla \\boldsymbol{u})} \\nonumber \\\\ \n",
    "    \\text{Jacobian:} \\quad \\boldsymbol{v}^T J \\operatorname{d}\\! \\boldsymbol{u} &\\sim \\int_\\Omega \\begin{bmatrix} \\boldsymbol{v} \\\\ \\nabla \\boldsymbol{v} \\end{bmatrix}^T \\color{teal}{\\begin{bmatrix} f_{0,0} & f_{0,1} \\\\ f_{1,0} & f_{1,1} \\end{bmatrix}}\n",
    "    \\begin{bmatrix} \\operatorname{d}\\! \\boldsymbol{u} \\\\ \\nabla \\operatorname{d}\\! \\boldsymbol{u} \\end{bmatrix} \\nonumber\n",
    "\\end{align}\n",
    "\n",
    "\n",
    "\\begin{eqnarray}\n",
    "    \\boldsymbol J(\\boldsymbol u^k) \\operatorname{d} \\boldsymbol u^{k} &=& - \\boldsymbol R(\\boldsymbol u^{k}), \\nonumber\\\\\n",
    "    \\boldsymbol u^{k+1} &=& \\boldsymbol{u}^{k} + \\operatorname{d} \\boldsymbol u^{k}\n",
    "\\end{eqnarray}\n",
    "\n",
    "\n",
    "<div class=\"alert alert-block alert-info\", style=\"font-size: 40px\">\n",
    "For mixed problem we will have one more residual and Jacobian equations and we need to solve a block structure system.\n",
    "</div>\n",
    "\n"
   ]
  },
  {
   "cell_type": "markdown",
   "id": "89bdd674",
   "metadata": {
    "slideshow": {
     "slide_type": "subslide"
    }
   },
   "source": [
    "We use Krylov subspace method at each newton iteration to solve\n",
    "\n",
    "\\begin{equation}\n",
    "    \\text{single field:} ~ ~\\boldsymbol A \\boldsymbol x = \\boldsymbol b ~ ~ ~ ~ \\text{mixed fields:} ~ ~ \\begin{bmatrix}\n",
    "\\boldsymbol A & \\boldsymbol B \\\\\n",
    "\\boldsymbol C & \\boldsymbol D\n",
    "\\end{bmatrix} \\begin{bmatrix}\n",
    "\\boldsymbol x \\\\\n",
    "\\boldsymbol y\n",
    "\\end{bmatrix} = \\begin{bmatrix}\n",
    "\\boldsymbol b \\\\\n",
    "\\boldsymbol c\n",
    "\\end{bmatrix}\n",
    "\\end{equation}\n",
    "\n",
    "Krylov iteration methods are not necessarily fast on their own, and the iterations count depends on condition number of the operator.\n",
    "\n",
    "\\begin{equation}\n",
    "    \\boldsymbol{P}^{-1} \\boldsymbol A \\boldsymbol x = \\boldsymbol{P}^{-1} \\boldsymbol b\n",
    "    \\label{linear-system-eq-preconditioner}\n",
    "\\end{equation}\n",
    "\n",
    "For the preconditioner to be effective we need\n",
    "* $\\boldsymbol P^{-1} \\boldsymbol z $ is easy to compute for any vector $\\boldsymbol z$.\n",
    "* The condition number of the preconditioned problem is smaller than the original problem.\n",
    "\n",
    "One approach to apply $\\boldsymbol P^{-1}$ is multigrid."
   ]
  },
  {
   "cell_type": "markdown",
   "id": "dba4b965",
   "metadata": {
    "slideshow": {
     "slide_type": "slide"
    }
   },
   "source": [
    "# Multigrid method"
   ]
  },
  {
   "cell_type": "markdown",
   "id": "e91f03c3",
   "metadata": {
    "cell_style": "split",
    "slideshow": {
     "slide_type": "fragment"
    }
   },
   "source": [
    "## h-multigrid\n",
    "rely on mesh hierarchy\n",
    "\n",
    "## p-multigrid\n",
    "\n",
    "coarsens the operator by reducing the order of the basis functions\n",
    "\n",
    "## algebraic multigrid (AMG)\n",
    "\n",
    "extract all information from the assembled system matrix without requiring any mesh information"
   ]
  },
  {
   "cell_type": "markdown",
   "id": "6bceb060",
   "metadata": {
    "cell_style": "split",
    "slideshow": {
     "slide_type": "fragment"
    }
   },
   "source": [
    "<img align=\"center\" src=\"h-vs-p-multigrid.png\" width=\"80%\" height=\"100%\"/>\n",
    "\n",
    "<div class=\"alert alert-block alert-warning\">\n",
    "For unstructured mesh h-multigrid is difficult to implement\n",
    "</div>"
   ]
  },
  {
   "cell_type": "markdown",
   "id": "7b6eee37",
   "metadata": {
    "slideshow": {
     "slide_type": "slide"
    }
   },
   "source": [
    "# p-Multigrid"
   ]
  },
  {
   "cell_type": "markdown",
   "id": "4e7f0bcb",
   "metadata": {
    "cell_style": "split"
   },
   "source": [
    "<img align=\"center\" src=\"p-multigrid-cycle.png\" width=\"70%\" height=\"70%\"/>"
   ]
  },
  {
   "cell_type": "markdown",
   "id": "dcc44ad8",
   "metadata": {
    "cell_style": "split"
   },
   "source": [
    "* 2nd order Chebyshev/Jacobi iteration in the range $[0.1\\lambda_{max}, 1.1\\lambda_{max}]$\n",
    "* $\\lambda_{max}$ estimate eigenvalue of $\\left(\\text{diag}\\boldsymbol{A}_f \\right)^{-1}\\boldsymbol{A}_f$\n",
    "* AMG use only information of the matrix sparsity and its entries of the assembled operators"
   ]
  },
  {
   "cell_type": "markdown",
   "id": "fb5b2390",
   "metadata": {
    "slideshow": {
     "slide_type": "slide"
    }
   },
   "source": [
    "# Block preconditioner"
   ]
  },
  {
   "cell_type": "markdown",
   "id": "b0f0832d",
   "metadata": {
    "cell_style": "center",
    "slideshow": {
     "slide_type": "subslide"
    }
   },
   "source": [
    "\\begin{eqnarray}\n",
    "\\boldsymbol M = \\begin{bmatrix}\n",
    "\\boldsymbol A & \\boldsymbol B \\\\\n",
    "\\boldsymbol C & \\boldsymbol D\n",
    "\\end{bmatrix} &=& \\begin{bmatrix}\n",
    "\\boldsymbol I & \\boldsymbol 0 \\\\\n",
    "\\boldsymbol C \\boldsymbol A^{-1}& \\boldsymbol I\n",
    "\\end{bmatrix} \\begin{bmatrix}\n",
    "\\boldsymbol A & \\boldsymbol 0 \\\\\n",
    "\\boldsymbol 0 & \\boldsymbol S\n",
    "\\end{bmatrix} \\begin{bmatrix}\n",
    "\\boldsymbol I & \\boldsymbol A^{-1} \\boldsymbol B \\\\\n",
    "\\boldsymbol 0 & \\boldsymbol I\n",
    "\\end{bmatrix} \\nonumber \\\\\n",
    "&=& \\begin{bmatrix}\n",
    "\\boldsymbol I & \\boldsymbol 0 \\\\\n",
    "\\boldsymbol C \\boldsymbol A^{-1}& \\boldsymbol I\n",
    "\\end{bmatrix} \\begin{bmatrix}\n",
    "\\boldsymbol I & -\\boldsymbol B \\boldsymbol S^{-1}  \\\\\n",
    "\\boldsymbol 0 & -\\boldsymbol I\n",
    "\\end{bmatrix} \\begin{bmatrix}\n",
    "\\boldsymbol A & \\boldsymbol 0 \\\\\n",
    "\\boldsymbol 0 & -\\boldsymbol S\n",
    "\\end{bmatrix}  \\nonumber \\\\\n",
    "&=& \\begin{bmatrix}\n",
    "\\boldsymbol A & \\boldsymbol 0 \\\\\n",
    "\\boldsymbol C & \\boldsymbol S\n",
    "\\end{bmatrix} \\begin{bmatrix}\n",
    "\\boldsymbol I & \\boldsymbol A^{-1}\\boldsymbol B \\\\\n",
    "\\boldsymbol 0 & \\boldsymbol I\n",
    "\\end{bmatrix} \\nonumber \\\\\n",
    "&=&\\begin{bmatrix}\n",
    "\\boldsymbol I & \\boldsymbol 0 \\\\\n",
    "\\boldsymbol C \\boldsymbol A^{-1} & \\boldsymbol I\n",
    "\\end{bmatrix}\\begin{bmatrix}\n",
    "\\boldsymbol A & \\boldsymbol B \\\\\n",
    "\\boldsymbol 0 & \\boldsymbol S\n",
    "\\end{bmatrix}\n",
    "\\end{eqnarray}\n",
    "\n",
    "where $\\boldsymbol S = \\boldsymbol D - \\boldsymbol C \\boldsymbol A^{-1} \\boldsymbol B$ is called the Schur complement. \n",
    "\n",
    "\\begin{equation}\n",
    "\\boldsymbol P = \\begin{bmatrix}\n",
    "\\boldsymbol A & \\boldsymbol B \\\\\n",
    "\\boldsymbol 0 & \\boldsymbol S\n",
    "\\end{bmatrix} \\longrightarrow \\boldsymbol{M} \\boldsymbol P^{-1} = \\begin{bmatrix}\n",
    "\\boldsymbol I & \\boldsymbol 0 \\\\\n",
    "\\boldsymbol C \\boldsymbol{A}^{-1} & \\boldsymbol I\n",
    "\\end{bmatrix}\n",
    "\\end{equation}"
   ]
  },
  {
   "cell_type": "markdown",
   "id": "66a7e4ba",
   "metadata": {
    "slideshow": {
     "slide_type": "slide"
    }
   },
   "source": [
    "# Ratel: Extensible, Performance-Portable Solid Mechanics: (https://gitlab.com/micromorph/ratel)"
   ]
  },
  {
   "cell_type": "markdown",
   "id": "c96ede33",
   "metadata": {
    "slideshow": {
     "slide_type": "-"
    }
   },
   "source": [
    "<img align=\"center\" src=\"ratel.png\" width=\"75%\" height=\"75%\"/>"
   ]
  },
  {
   "cell_type": "markdown",
   "id": "3e1c51e8",
   "metadata": {
    "slideshow": {
     "slide_type": "slide"
    }
   },
   "source": [
    "### [libCEED](https://libceed.readthedocs.io): Efficient Extensible Discretization"
   ]
  },
  {
   "cell_type": "markdown",
   "id": "edaa1283",
   "metadata": {
    "slideshow": {
     "slide_type": "fragment"
    }
   },
   "source": [
    "<img align=\"center\" src=\"libCEEDAPI.png\" width=\"50%\" height=\"30%\"/>"
   ]
  },
  {
   "cell_type": "markdown",
   "id": "3fccff5c",
   "metadata": {
    "cell_style": "split",
    "slideshow": {
     "slide_type": "fragment"
    }
   },
   "source": [
    "\n",
    "* <font color='red'>$\\mathcal P$</font>: Process decomposition,\n",
    "\n",
    "* $\\mathcal E$</font> : Element restriction/assembly operator\n",
    "\n",
    "* <font color='blue'>$B$</font> : Basis (DoFs-to-Qpts) evaluator, \n",
    "\n",
    "* <font color='green'>$D$</font> : Operator at quadrature point- Qfunction ($f_0, f_1, f_{0,0},...$)"
   ]
  },
  {
   "cell_type": "markdown",
   "id": "27321161",
   "metadata": {
    "cell_style": "split",
    "slideshow": {
     "slide_type": "fragment"
    }
   },
   "source": [
    "* Purely algebraic high-order FEM Matrix-assembly and Matrix-free\n",
    "* Single source Vanilla C for physics\n",
    "* Various CPU and GPU backends with run-time selection `./bps -ceed /gpu/cuda`"
   ]
  },
  {
   "cell_type": "markdown",
   "id": "0eb73165",
   "metadata": {
    "slideshow": {
     "slide_type": "slide"
    }
   },
   "source": [
    "# Numerical experiment: displacement-based formulation"
   ]
  },
  {
   "cell_type": "markdown",
   "id": "2766be4c",
   "metadata": {
    "cell_style": "split",
    "slideshow": {
     "slide_type": "fragment"
    }
   },
   "source": [
    "<img align=\"center\" src=\"Punch.png\" width=\"45%\" height=\"45%\"/>\n",
    "\n",
    "Ref: Kadapa, Hossain (2022), linearised consistent mixed displacement-pressure formulation for\n",
    "hyperelasticity"
   ]
  },
  {
   "cell_type": "markdown",
   "id": "e9f608d2",
   "metadata": {
    "cell_style": "split",
    "slideshow": {
     "slide_type": "fragment"
    }
   },
   "source": [
    "### Isochoric Neo-Hookean model $E = 240.565$ Pa,  $\\nu = 0.3,0.45,0.49$ with applied pressure $p=320$ Pa\n",
    "\n",
    "\n",
    "<div class=\"alert alert-block alert-danger\", style=\"font-size: 40px\">\n",
    " High-order elements overcome locking effect!\n",
    "</div>"
   ]
  },
  {
   "cell_type": "markdown",
   "id": "345dae4e",
   "metadata": {
    "slideshow": {
     "slide_type": "subslide"
    }
   },
   "source": [
    "<img align=\"center\" src=\"IsoNH-Q2-0.3-16x10.gif\" width=\"100%\" height=\"100%\"/>"
   ]
  },
  {
   "cell_type": "markdown",
   "id": "cf388e48",
   "metadata": {
    "slideshow": {
     "slide_type": "slide"
    }
   },
   "source": [
    "<img align=\"center\" src=\"pressure-Q2-Q3-0.3.png\" width=\"75%\" height=\"75%\"/>\n",
    "\n",
    "### $\\nu=0.3$: Maximum pressure for Q2, Q3 elements are 160 Pa"
   ]
  },
  {
   "cell_type": "markdown",
   "id": "d5f65a1d",
   "metadata": {
    "slideshow": {
     "slide_type": "slide"
    }
   },
   "source": [
    "<img align=\"center\" src=\"pressure-Q2-Q3-0.45.png\" width=\"75%\" height=\"75%\"/>\n",
    "\n",
    "### $\\nu=0.45$ Maximum pressure for Q2, Q3 elements are 320 Pa and 280 Pa"
   ]
  },
  {
   "cell_type": "markdown",
   "id": "8f7688e3",
   "metadata": {
    "slideshow": {
     "slide_type": "slide"
    }
   },
   "source": [
    "<img align=\"center\" src=\"pressure-Q2-Q3-0.49.png\" width=\"75%\" height=\"75%\"/>\n",
    "\n",
    "### $\\nu=0.49$ Maximum pressure for Q2, Q3 elements are 720 Pa and 420 Pa"
   ]
  },
  {
   "cell_type": "markdown",
   "id": "f8d0fac1",
   "metadata": {
    "slideshow": {
     "slide_type": "slide"
    }
   },
   "source": [
    "<img align=\"center\" src=\"Q2-Q3-table.png\" width=\"75%\" height=\"75%\"/>\n",
    "\n",
    "###  p-multigrid  preconditioner run in parallel (4 ranks)"
   ]
  },
  {
   "cell_type": "markdown",
   "id": "58d1f2ad",
   "metadata": {
    "slideshow": {
     "slide_type": "slide"
    }
   },
   "source": [
    "# displacement-based vs mixed formulations (Neo-Hookean model)"
   ]
  },
  {
   "cell_type": "markdown",
   "id": "cb02efa5",
   "metadata": {
    "slideshow": {
     "slide_type": "slide"
    }
   },
   "source": [
    "<img align=\"center\" src=\"pressure-Q2-Q2Q1-0.3.png\" width=\"75%\" height=\"75%\"/>\n",
    "\n",
    "### $\\nu=0.3$ Maximum pressure for Q2, Q2Q1 elements are 190 Pa and 140 Pa"
   ]
  },
  {
   "cell_type": "markdown",
   "id": "381ad777",
   "metadata": {
    "slideshow": {
     "slide_type": "slide"
    }
   },
   "source": [
    "<img align=\"center\" src=\"pressure-Q2-Q2Q1-0.49.png\" width=\"75%\" height=\"75%\"/>\n",
    "\n",
    "### $\\nu=0.49$ Maximum pressure for Q2, Q2Q1 elements are 4600 Pa and 290 Pa"
   ]
  },
  {
   "cell_type": "markdown",
   "id": "de8a74c9",
   "metadata": {
    "slideshow": {
     "slide_type": "slide"
    }
   },
   "source": [
    "<img align=\"center\" src=\"pressure-Q2-Q2Q1-0.49999.png\" width=\"75%\" height=\"75%\"/>\n",
    "\n",
    "### $\\nu=0.49999$ Maximum pressure for Q2, Q2Q1 elements are 4100 Pa and 300 Pa"
   ]
  },
  {
   "cell_type": "markdown",
   "id": "db31d97e",
   "metadata": {
    "slideshow": {
     "slide_type": "slide"
    }
   },
   "source": [
    "<img align=\"center\" src=\"Q2-Q2Q1-table.png\" width=\"75%\" height=\"75%\"/>\n",
    "\n",
    "###  svd  preconditioner run in serial (1 rank)"
   ]
  },
  {
   "cell_type": "markdown",
   "id": "52cf1d53",
   "metadata": {
    "cell_style": "split",
    "slideshow": {
     "slide_type": "skip"
    }
   },
   "source": [
    "* Ogden\n",
    "\\begin{eqnarray}\n",
    "    \\alpha_1 &=1.3, \\qquad \\mu_1 &= 6.3 \\cdot 10^5 \\, \\text{Pa} \\nonumber \\\\\n",
    "    \\alpha_1 &=5.0, \\qquad \\mu_1 &= 0.012 \\cdot 10^5 \\, \\text{Pa} \\nonumber \\\\\n",
    "    \\alpha_1 &=-2.0 \\qquad \\mu_1 &= -0.1 \\cdot 10^5 \\, \\text{Pa} \\\\\n",
    "    \\label{ogden-material-properties}\n",
    "\\end{eqnarray}\n",
    "\n",
    "Ref: Holzapfel Ch06"
   ]
  },
  {
   "cell_type": "markdown",
   "id": "03fae093",
   "metadata": {
    "cell_style": "split",
    "slideshow": {
     "slide_type": "skip"
    }
   },
   "source": [
    "* Neo-Hookean\n",
    "\n",
    "\\begin{equation}\n",
    "    2\\mu = \\sum_{j=1}^N \\mu_j \\alpha_j \\quad \\text{with} \\quad \\mu_j \\alpha_j > 0\n",
    "    \\label{ogden-param-condition}\n",
    "\\end{equation}\n",
    "\n",
    "$\\mu = 4.225 \\cdot 10^5 $\n",
    "\n",
    "$\\kappa = 10^5 \\mu$\n",
    "\n",
    "$\\nu=0.499995$ and $E = 1.2675 \\cdot 10^5 $ Pa."
   ]
  },
  {
   "cell_type": "markdown",
   "id": "d670f413",
   "metadata": {
    "slideshow": {
     "slide_type": "skip"
    }
   },
   "source": [
    "<img align=\"center\" src=\"u-NH-Og.png\" width=\"75%\" height=\"75%\"/>"
   ]
  },
  {
   "cell_type": "markdown",
   "id": "486699d0",
   "metadata": {
    "slideshow": {
     "slide_type": "skip"
    }
   },
   "source": [
    "<img align=\"center\" src=\"p-NH-Og.png\" width=\"75%\" height=\"75%\"/>"
   ]
  },
  {
   "cell_type": "markdown",
   "id": "13514b7e",
   "metadata": {
    "slideshow": {
     "slide_type": "slide"
    }
   },
   "source": [
    "# Conclusion and future works\n"
   ]
  },
  {
   "cell_type": "markdown",
   "id": "56de98f0",
   "metadata": {
    "slideshow": {
     "slide_type": "subslide"
    }
   },
   "source": [
    "<div class=\"alert alert-block alert-success\", style=\"font-size: 45px\">\n",
    "We derived stable constitutive formulation for hyperelastic materials\n",
    "</div>\n",
    "\n",
    "### Stable numerics for finite strain elasticity\n",
    "**Rezgar Shakeri**, Leila Ghaffari, Karen Stengel, Jeremy L. Thompson, Jed Brown  \n",
    "    \n",
    "<div class=\"alert alert-block alert-success\", style=\"font-size: 45px\">\n",
    "We determined the inf-sup stable mixed element\n",
    "</div>\n",
    "\n",
    "<div class=\"alert alert-block alert-success\", style=\"font-size: 45px\">\n",
    "We implemented a locking-free mixed hyperealstic formulation for Neo-Hookean, Mooney-Rivlin and Ogden models in matrix-free way\n",
    "</div>\n",
    "\n",
    "### Performance-portable p-multigrid for nonlinear solid mechanics with mixed elements\n",
    "**Rezgar Shakeri**, Jeremy L. Thompson, Jed Brown  "
   ]
  },
  {
   "cell_type": "markdown",
   "id": "4d4fb926",
   "metadata": {
    "cell_style": "center",
    "slideshow": {
     "slide_type": "subslide"
    }
   },
   "source": [
    "<div class=\"alert alert-block alert-info\", style=\"font-size: 50px\">\n",
    "Discontinuous pressure  \n",
    "</div>\n",
    "\n",
    "<div class=\"alert alert-block alert-info\", style=\"font-size: 50px\">\n",
    "Implement the block preconditioner for the mixed-formulation.\n",
    "</div>\n",
    "\n",
    "<div class=\"alert alert-block alert-info\", style=\"font-size: 50px\">\n",
    "Write current configuration formulation to reduce the solve time\n",
    "</div>\n",
    "\n",
    "<div class=\"alert alert-block alert-info\", style=\"font-size: 50px\">\n",
    "Numerical experiment with different CPU and GPU backends in parallel.  \n",
    "</div>"
   ]
  },
  {
   "cell_type": "markdown",
   "id": "703ce671",
   "metadata": {
    "cell_style": "split",
    "slideshow": {
     "slide_type": "fragment"
    }
   },
   "source": [
    "### Performance Portable Solid Mechanics via Matrix-Free p-Multigrid\n",
    "Jed Brown, Valeria Barra, Natalie Beams, Leila Ghaffari, Matthew Knepley, William Moses, **Rezgar Shakeri**, Karen Stengel, Jeremy L. Thompson, Junchao Zhang"
   ]
  },
  {
   "cell_type": "markdown",
   "id": "48071d09",
   "metadata": {
    "cell_style": "split",
    "slideshow": {
     "slide_type": "fragment"
    }
   },
   "source": [
    "<img src=\"schwarz-compression.gif\" width=\"50%\" height=\"50%\" align=\"bottom\">"
   ]
  },
  {
   "cell_type": "markdown",
   "id": "3cf88165",
   "metadata": {
    "slideshow": {
     "slide_type": "slide"
    }
   },
   "source": [
    "# Thank you!"
   ]
  }
 ],
 "metadata": {
  "celltoolbar": "Slideshow",
  "kernelspec": {
   "display_name": "Julia 1.7.3",
   "language": "julia",
   "name": "julia-1.7"
  },
  "language_info": {
   "file_extension": ".jl",
   "mimetype": "application/julia",
   "name": "julia",
   "version": "1.7.3"
  }
 },
 "nbformat": 4,
 "nbformat_minor": 5
}
