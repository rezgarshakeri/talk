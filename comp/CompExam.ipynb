{
 "cells": [
  {
   "cell_type": "markdown",
   "id": "11d1ecef",
   "metadata": {
    "cell_style": "center",
    "slideshow": {
     "slide_type": "slide"
    }
   },
   "source": [
    "# <center>Pragmatism and the finite element method in the modern era</center>\n",
    "\n",
    "<br>\n",
    "<br>\n",
    "\n",
    "## <center>Rezgar Shakeri\n",
    "\n",
    "#### <center> Advisor: Jed Brown\n",
    "\n",
    "\n",
    "\n",
    "<br>\n",
    "<br>\n",
    "\n",
    "##### <center>13 Sep 2023</center>"
   ]
  },
  {
   "cell_type": "code",
   "execution_count": 17,
   "id": "bcb4a9cb",
   "metadata": {
    "slideshow": {
     "slide_type": "skip"
    }
   },
   "outputs": [],
   "source": [
    "#from IPython.display import SVG, Video, HTML, IFrame\n",
    "using Plots\n",
    "default(linewidth=3)"
   ]
  },
  {
   "cell_type": "markdown",
   "id": "9647a417",
   "metadata": {
    "slideshow": {
     "slide_type": "slide"
    }
   },
   "source": [
    "# Motivation"
   ]
  },
  {
   "cell_type": "markdown",
   "id": "793cfcd8",
   "metadata": {
    "cell_style": "split",
    "slideshow": {
     "slide_type": "fragment"
    }
   },
   "source": [
    "<img align=\"center\" src=\"motivation.png\" width=\"100%\" height=\"100%\"/>"
   ]
  },
  {
   "cell_type": "markdown",
   "id": "27a23124",
   "metadata": {
    "cell_style": "split",
    "slideshow": {
     "slide_type": "fragment"
    }
   },
   "source": [
    "* Rubbers are capable of sustaining large elastic deformations without damage.\n",
    "* Broad range of applications: sealing components, tyres for automobiles and aircraft, soft robotic\n",
    "* Key aspect of a modern design process: Predict the material behaviour to a prescribed loading\n",
    "#### 1) Stable constitutive modeling\n",
    "#### 2) Accurate, efficent and robust numerical solver"
   ]
  },
  {
   "cell_type": "markdown",
   "id": "3fa6787c",
   "metadata": {
    "slideshow": {
     "slide_type": "slide"
    }
   },
   "source": [
    "# Preliminaries\n"
   ]
  },
  {
   "cell_type": "markdown",
   "id": "f82917a4",
   "metadata": {
    "cell_style": "split",
    "slideshow": {
     "slide_type": "fragment"
    }
   },
   "source": [
    "<img align=\"center\" src=\"general-motion.png\" width=\"100%\" height=\"100%\"/>"
   ]
  },
  {
   "cell_type": "markdown",
   "id": "bfd7be7a",
   "metadata": {
    "cell_style": "split",
    "slideshow": {
     "slide_type": "fragment"
    }
   },
   "source": [
    "* Deformation gradient\n",
    "\\begin{equation}\n",
    "    \\boldsymbol F = \\nabla_X \\phi(\\boldsymbol X, t) = \\frac{\\partial \\boldsymbol x}{\\partial \\boldsymbol X} = \\boldsymbol{I} + \\frac{\\partial \\boldsymbol u}{\\partial \\boldsymbol X}\n",
    "    \\label{deformation-gradient}\n",
    "\\end{equation}\n",
    "* Displacement vector\n",
    "\\begin{equation}\n",
    "    \\boldsymbol u = \\boldsymbol x - \\boldsymbol X\n",
    "    \\label{displacement-vector}\n",
    "\\end{equation}\n",
    "* Change in volume\n",
    "\\begin{equation}\n",
    "    dv = J(\\boldsymbol X, t) dV, ~ ~ J = \\det \\boldsymbol F > 0\n",
    "    \\label{definition-J}\n",
    "\\end{equation}\n",
    "* Change in area\n",
    "\\begin{equation}\n",
    "    d \\boldsymbol a = J \\boldsymbol F ^{-T} d\\boldsymbol A\n",
    "    \\label{Nanson-formula}\n",
    "\\end{equation}\n",
    "* Change in line\n",
    "\\begin{equation}\n",
    "    d \\boldsymbol x = \\boldsymbol F d\\boldsymbol X\n",
    "\\end{equation}"
   ]
  },
  {
   "cell_type": "markdown",
   "id": "9d058129",
   "metadata": {
    "slideshow": {
     "slide_type": "slide"
    }
   },
   "source": [
    "# Preliminaries\n"
   ]
  },
  {
   "cell_type": "markdown",
   "id": "90e3fdf6",
   "metadata": {
    "cell_style": "split",
    "slideshow": {
     "slide_type": "fragment"
    }
   },
   "source": [
    "<img align=\"center\" src=\"polar-decomposition.png\" width=\"90%\" height=\"90%\"/>\n",
    "Ref: http://commons.wikimedia.org/wiki/File:Polar_decomposition_of_F.png"
   ]
  },
  {
   "cell_type": "markdown",
   "id": "811e8de9",
   "metadata": {
    "cell_style": "split",
    "slideshow": {
     "slide_type": "fragment"
    }
   },
   "source": [
    "* Polar decomposition\n",
    "\\begin{equation}\n",
    "    \\boldsymbol F = \\boldsymbol R \\textbf U = \\textbf v \\boldsymbol R, ~ ~ \\text{where} ~ ~ \\boldsymbol R \\boldsymbol R^{T} = \\boldsymbol I\n",
    "\\end{equation}\n",
    "* Principal stretches \n",
    "\\begin{equation}\n",
    "\t\\textbf{U} \\hat{\\boldsymbol N}_i= \\beta_i \\hat{\\boldsymbol N}_i, \\quad \\text{or} \\quad \\textbf{v} \\hat{\\boldsymbol n}_i= \\beta_i \\hat{\\boldsymbol n}_i\n",
    "    \\label{stretch-tensor-eigensystem}\n",
    "\\end{equation}\n",
    "where $\\hat{\\boldsymbol n}_i = \\boldsymbol R \\hat{\\boldsymbol N}_i$\n",
    "\n",
    "* Right and left Cauchy–Green tensors\n",
    "\\begin{equation}\n",
    "\t\\boldsymbol C = \\boldsymbol{F}^T \\boldsymbol{F} = \\textbf{U}^2. ~ ~ \\boldsymbol b = \\boldsymbol F \\boldsymbol F^T = \\textbf{v}^2.\n",
    "    \\label{right-left-cauchy-green}\n",
    "\\end{equation}\n",
    "* Green-Lagrange and Green-Euler strains\n",
    "\\begin{equation}\n",
    "  \\boldsymbol E = \\frac{1}{2} \\left( \\boldsymbol C - \\boldsymbol I \\right), ~ ~ ~ \\boldsymbol e = \\frac{1}{2} \\left( \\boldsymbol b - \\boldsymbol I \\right)\n",
    "\\end{equation}\n",
    "\n",
    "* Eigenvalue relations\n",
    "\\begin{equation}\n",
    "\\beta_i^C = \\beta_i^2, ~ ~ ~ \\beta_i^E = \\frac{1}{2} \\left( \\beta_i^2 - 1 \\right) ~ ~ i=1,2,3\n",
    "\\end{equation}"
   ]
  },
  {
   "cell_type": "markdown",
   "id": "80dc182c",
   "metadata": {
    "slideshow": {
     "slide_type": "slide"
    }
   },
   "source": [
    "## Strain energy function and Constitutive equation\n"
   ]
  },
  {
   "cell_type": "markdown",
   "id": "4f51d704",
   "metadata": {
    "cell_style": "split",
    "slideshow": {
     "slide_type": "fragment"
    }
   },
   "source": [
    "* For isotropic, $\\psi$ can only depends on the invariants of $\\boldsymbol C$ (or $\\boldsymbol E$)\n",
    "$$\n",
    "\\psi \\left( \\boldsymbol C \\right) = \\psi \\left( \\mathbb{I}_1, \\mathbb{I}_2, \\mathbb{I}_3 \\right)\n",
    "$$\n",
    "\n",
    "where\n",
    "\\begin{eqnarray}\n",
    "    \\mathbb{I}_1 (\\boldsymbol C) &=& \\operatorname{trace} \\boldsymbol C = \\beta_1^2 + \\beta_2^2 + \\beta_3^2 \\nonumber \\\\\n",
    "    \\mathbb{I}_2 (\\boldsymbol C) &=& \\frac 1 2 \\left( \\mathbb{I}_1^2 - \\boldsymbol C \\!:\\! \\boldsymbol C \\right) = \\beta_1^2 \\beta_2^2 + \\beta_2^2 \\beta_3^2 + \\beta_1^2 \\beta_3^2 \\nonumber \\\\\n",
    "    \\mathbb{I}_3 (\\boldsymbol C) &=& \\det \\boldsymbol C = J^2 = \\beta_1^2 \\beta_2^2 \\beta_3^2\n",
    "    \\label{invariants}\n",
    "\\end{eqnarray}\n",
    "\n",
    "* Or we can have\n",
    "\n",
    "$$\n",
    "\\psi \\left( \\boldsymbol C \\right) = \\psi \\left( \\beta_1, \\beta_2, \\beta_3 \\right)\n",
    "$$"
   ]
  },
  {
   "cell_type": "markdown",
   "id": "8b29a52a",
   "metadata": {
    "cell_style": "split",
    "slideshow": {
     "slide_type": "fragment"
    }
   },
   "source": [
    "* Constitutive equation is gradient of strain energy wrt $\\boldsymbol E$ \n",
    "\\begin{equation}\n",
    "\t\\boldsymbol{S} = \\frac{\\partial \\psi}{\\partial \\boldsymbol E} = 2 \\frac{\\partial \\psi}{\\partial \\boldsymbol C} = 2 \\sum_{i=1}^3 \\frac{\\partial\\psi}{\\partial \\mathbb{I}_i} \\frac{\\partial\\mathbb{I}_i}{\\partial \\boldsymbol C},\n",
    " \\label{strain-energy-grad}\n",
    "\\end{equation}\n",
    "\n",
    "* When $\\psi(\\beta_i)$ is a function of stretches\n",
    "\n",
    "\\begin{equation}\n",
    "    \\boldsymbol{S} = 2 \\frac{\\partial\\psi}{\\partial\\boldsymbol C} = 2 \\sum_{i=1}^3 \\frac{\\partial\\psi}{\\partial\\beta_i^2} \\frac{\\partial\\beta_i^2}{\\partial\\boldsymbol C} = \\sum_{i=1}^3 S_i \\hat{\\boldsymbol N}_i \\hat{\\boldsymbol N}_i^T,\n",
    "    \\label{strain-energy-grad-stretch}\n",
    "\\end{equation}\n",
    "\n",
    "where $S_i = \\frac{1}{\\beta_i} \\frac{\\partial \\psi}{\\partial \\beta_i} $ are three principal stresses\n"
   ]
  },
  {
   "cell_type": "markdown",
   "id": "ed0a0426",
   "metadata": {
    "slideshow": {
     "slide_type": "slide"
    }
   },
   "source": [
    "# Isochoric-volumetric split"
   ]
  },
  {
   "cell_type": "markdown",
   "id": "95bca700",
   "metadata": {
    "cell_style": "split",
    "slideshow": {
     "slide_type": "fragment"
    }
   },
   "source": [
    "* It is most beneficial to split the deformation locally into a so-called volumetric\n",
    "(dilational) part and an isochoric (distortional) part.\n",
    "\n",
    "\\begin{equation}\n",
    "    \\boldsymbol F = (J^{1/3} \\boldsymbol I) \\bar{\\boldsymbol F} = J^{1/3} \\bar{\\boldsymbol F},\n",
    "    \\label{modified-deformation-gradient}\n",
    "\\end{equation}\n",
    "\n",
    "\\begin{equation}\n",
    "    \\bar{\\boldsymbol C} = \\bar{\\boldsymbol F}^T \\bar{\\boldsymbol F} = J^{-2/3} \\boldsymbol C\n",
    "    \\label{modified-right-cauchy-green}\n",
    "\\end{equation}\n",
    "\n",
    "\\begin{equation}\n",
    "    \\bar{\\beta}_i = J^{-1/3} \\beta_i, \\, i=1,2,3\n",
    "\\end{equation}\n",
    "\n",
    "\\begin{equation}\n",
    "\\mathbb{\\bar{I}}_1 = J^{-2/3}\\mathbb{I}_1, \\quad \\mathbb{\\bar{I}}_2 = J^{-4/3}\\mathbb{I}_2\n",
    "\\end{equation}\n",
    "\n",
    "\\begin{equation}\n",
    "\\mathbb{\\bar{I}}_3 = \\left(J^{-2/3}\\right)^3\\mathbb{I}_3 = 1.\n",
    "\\end{equation}"
   ]
  },
  {
   "cell_type": "markdown",
   "id": "758bbd5a",
   "metadata": {
    "cell_style": "split",
    "slideshow": {
     "slide_type": "fragment"
    }
   },
   "source": [
    "* Neo-Hookean strain energy\n",
    "\n",
    "\\begin{eqnarray}\n",
    "\\psi &=& \\psi_{\\text{vol}}(J) + \\psi_{\\text{iso}}(\\mathbb{\\bar{I}}_1 ) \\nonumber \\\\ \n",
    "     &=& \\psi_{\\text{vol}}(J) + \\frac{\\mu}{2} \\left( \\bar{\\mathbb{I}}_1 - 3 \\right)\n",
    "\\end{eqnarray}\n",
    "\n",
    "* Mooney-Rivlin strain energy\n",
    "\n",
    "\\begin{eqnarray}\n",
    "\\psi &=& \\psi_{\\text{vol}}(J) + \\psi_{\\text{iso}}(\\mathbb{\\bar{I}}_1 , \\mathbb{\\bar{I}}_2) \\nonumber \\\\\n",
    "&=& \\psi_{\\text{vol}}(J) +\\frac{\\mu_1}{2} \\left( \\bar{\\mathbb{I}}_1 - 3 \\right) + \\frac{\\mu_2}{2} \\left( \\bar{\\mathbb{I}}_2 - 3 \\right)\n",
    "\\end{eqnarray}\n"
   ]
  },
  {
   "cell_type": "markdown",
   "id": "7b682cd8",
   "metadata": {
    "slideshow": {
     "slide_type": "slide"
    }
   },
   "source": [
    "# Isochoric-volumetric split"
   ]
  },
  {
   "cell_type": "markdown",
   "id": "11af58a9",
   "metadata": {
    "cell_style": "split",
    "slideshow": {
     "slide_type": "fragment"
    }
   },
   "source": [
    "* Ogden strain energy\n",
    "\n",
    "\\begin{eqnarray}\n",
    "\\psi &=& \\psi_{\\text{vol}}(J) + \\psi_{\\text{iso}} = \\psi_{\\text{vol}}(J) + \\sum_{i=1}^3\\bar{\\omega}(\\bar{\\beta}_i) \\nonumber \\\\\n",
    "\\end{eqnarray}\n",
    "\n",
    "where\n",
    "\\begin{equation}\n",
    "\\bar{\\omega}(\\bar{\\beta}_i) = \\sum_{j=1}^{N}\\frac{\\mu_j}{\\alpha_j}\\left(\\bar{\\beta}_i^{\\alpha_j} - 1 \\right)\n",
    "\\end{equation}\n",
    "\n",
    "\\begin{equation}\n",
    "    2\\mu = \\sum_{j=1}^N \\mu_j \\alpha_j \\quad \\text{with} \\quad \\mu_j \\alpha_j > 0\n",
    "    \\label{ogden-param-condition}\n",
    "\\end{equation}"
   ]
  },
  {
   "cell_type": "markdown",
   "id": "a4898115",
   "metadata": {
    "cell_style": "split",
    "slideshow": {
     "slide_type": "fragment"
    }
   },
   "source": [
    "\\begin{eqnarray}\n",
    "\\boldsymbol S &=& \\frac{\\partial \\psi}{\\partial \\boldsymbol E} =\\frac{\\partial \\psi_{\\text{vol}}}{\\partial J} \\frac{\\partial J}{\\partial \\boldsymbol E} + \\sum_{i=1}^3 \\frac{\\partial\\psi_{\\text{iso}}}{\\partial \\mathbb{\\bar{I}}_i} \\frac{\\partial \\mathbb{\\bar{I}}_i}{\\partial \\boldsymbol E} \\\\\n",
    "&=& \\boldsymbol S_{\\text{vol}} + \\boldsymbol S_{\\text{iso}}\n",
    "\\end{eqnarray}\n",
    "\n",
    "The volumetric part is the same for all models\n",
    "\\begin{equation}\n",
    "    \\psi_{\\text{vol}} = \\frac{\\kappa}{4} \\left( J^2 - 1 -2 \\log J \\right)\n",
    "    \\label{volumetric-energy-kappa}\n",
    "\\end{equation}\n",
    "\n",
    "\\begin{equation}\n",
    "    \\boldsymbol S_{\\text{vol}} = \\frac{\\kappa}{2} (J^2 -1)\\boldsymbol C^{-1}\n",
    "    \\label{S-vol-unstable}\n",
    "\\end{equation}\n",
    "\n",
    "* $ \\psi_{\\text{vol}}$ must satisfy some physical constraint. *Moerman et al. (2020), Novel hyperelastic models for large volumetric deformations*"
   ]
  },
  {
   "cell_type": "markdown",
   "id": "9c544a81",
   "metadata": {
    "slideshow": {
     "slide_type": "slide"
    }
   },
   "source": [
    "# Isochoric-volumetric split"
   ]
  },
  {
   "cell_type": "markdown",
   "id": "a1e511db",
   "metadata": {
    "cell_style": "split",
    "slideshow": {
     "slide_type": "fragment"
    }
   },
   "source": [
    "* Neo-Hookean model\n",
    "\\begin{equation}\n",
    "\t\\boldsymbol S_{\\text{iso}} = \\mu J^{-2/3}\\left(\\boldsymbol{I} - \\frac{1}{3} \\mathbb{I}_1 \\boldsymbol{C}^{-1} \\right)\n",
    "\\end{equation}\n",
    "* Ogden model\n",
    "\\begin{equation}\n",
    "\t\\boldsymbol S_{\\text{iso}}\n",
    "\t=2\\frac{\\partial \\psi_{\\text{iso}} (\\bar{\\beta}_i)}{\\partial \\boldsymbol C}\n",
    " = \\sum_{i=1}^{3} S_i \\hat{\\boldsymbol N}_i \\hat{\\boldsymbol N}_i^T\n",
    "\\end{equation}\n",
    "\n",
    "where\n",
    "\n",
    "\\begin{eqnarray}\n",
    "\tS_i &=& \\frac{1}{\\beta_i}\\frac{\\partial \\psi_{\\text{iso}}}{\\partial \\beta_i}\n",
    "\t=\\frac{1}{\\beta_i}\\frac{\\partial \\bar{\\beta}_k}{\\partial \\beta_i}\n",
    "\t\\frac{\\partial \\psi_{\\text{iso}}}{\\partial \\bar{\\beta}_k} \\nonumber \\\\\n",
    "\t&=&\\frac{J^{-1/3}}{\\beta_i} \\left(\\delta_{ik} -\\frac{1}{3}\\bar{\\beta}_i^{-1}\\bar{\\beta}_k \\right)\\sum_{j=1}^N \\mu_j \\bar{\\beta}_k^{\\alpha_j - 1}\n",
    "\\end{eqnarray}"
   ]
  },
  {
   "cell_type": "markdown",
   "id": "df33b6ee",
   "metadata": {
    "cell_style": "split",
    "slideshow": {
     "slide_type": "fragment"
    }
   },
   "source": [
    "## Surprise\n",
    "\n",
    "<div style=\"font-size: 50px\", class=\"alert alert-block alert-danger\">\n",
    "All standard formulations have stability issue\n",
    "</div>"
   ]
  },
  {
   "cell_type": "markdown",
   "id": "431b2a6c",
   "metadata": {
    "slideshow": {
     "slide_type": "slide"
    }
   },
   "source": [
    "# Source of instability"
   ]
  },
  {
   "cell_type": "markdown",
   "id": "0d93a6c6",
   "metadata": {
    "slideshow": {
     "slide_type": "subslide"
    }
   },
   "source": [
    "## Condition number of function $f(x)$\n",
    "\n",
    "### $$\\kappa_f(x) = \\lvert {x f{'}(x)}/{f(x)} \\rvert$$\n",
    "\n",
    "### 1) $f(x) = (1+x)-1$ when $x \\approx 0$\n",
    "### $$ \\kappa_f(x) = {x}/{(1+x) - 1} \\longrightarrow \\infty $$\n",
    "\n",
    "### 2) $f(x) = \\log(1+x)$ when $x \\approx 0$?\n",
    "### $$\\kappa_f(x) = \\frac{x}{1+x}\\frac{1}{\\log(1+x)} \\longrightarrow \\infty$$\n"
   ]
  },
  {
   "cell_type": "markdown",
   "id": "8038d2be",
   "metadata": {
    "slideshow": {
     "slide_type": "slide"
    }
   },
   "source": [
    "# Source of instability"
   ]
  },
  {
   "cell_type": "code",
   "execution_count": 18,
   "id": "ac7d810e",
   "metadata": {
    "cell_style": "center",
    "slideshow": {
     "slide_type": "subslide"
    }
   },
   "outputs": [
    {
     "data": {
      "image/svg+xml": [
       "<?xml version=\"1.0\" encoding=\"utf-8\"?>\n",
       "<svg xmlns=\"http://www.w3.org/2000/svg\" xmlns:xlink=\"http://www.w3.org/1999/xlink\" width=\"600\" height=\"400\" viewBox=\"0 0 2400 1600\">\n",
       "<defs>\n",
       "  <clipPath id=\"clip010\">\n",
       "    <rect x=\"0\" y=\"0\" width=\"2400\" height=\"1600\"/>\n",
       "  </clipPath>\n",
       "</defs>\n",
       "<path clip-path=\"url(#clip010)\" d=\"\n",
       "M0 1600 L2400 1600 L2400 0 L0 0  Z\n",
       "  \" fill=\"#ffffff\" fill-rule=\"evenodd\" fill-opacity=\"1\"/>\n",
       "<defs>\n",
       "  <clipPath id=\"clip011\">\n",
       "    <rect x=\"480\" y=\"0\" width=\"1681\" height=\"1600\"/>\n",
       "  </clipPath>\n",
       "</defs>\n",
       "<path clip-path=\"url(#clip010)\" d=\"\n",
       "M247.408 1469.17 L2352.76 1469.17 L2352.76 47.2441 L247.408 47.2441  Z\n",
       "  \" fill=\"#ffffff\" fill-rule=\"evenodd\" fill-opacity=\"1\"/>\n",
       "<defs>\n",
       "  <clipPath id=\"clip012\">\n",
       "    <rect x=\"247\" y=\"47\" width=\"2106\" height=\"1423\"/>\n",
       "  </clipPath>\n",
       "</defs>\n",
       "<polyline clip-path=\"url(#clip012)\" style=\"stroke:#000000; stroke-linecap:round; stroke-linejoin:round; stroke-width:2; stroke-opacity:0.1; fill:none\" points=\"\n",
       "  247.408,1469.17 247.408,47.2441 \n",
       "  \"/>\n",
       "<polyline clip-path=\"url(#clip012)\" style=\"stroke:#000000; stroke-linecap:round; stroke-linejoin:round; stroke-width:2; stroke-opacity:0.1; fill:none\" points=\"\n",
       "  773.745,1469.17 773.745,47.2441 \n",
       "  \"/>\n",
       "<polyline clip-path=\"url(#clip012)\" style=\"stroke:#000000; stroke-linecap:round; stroke-linejoin:round; stroke-width:2; stroke-opacity:0.1; fill:none\" points=\"\n",
       "  1300.08,1469.17 1300.08,47.2441 \n",
       "  \"/>\n",
       "<polyline clip-path=\"url(#clip012)\" style=\"stroke:#000000; stroke-linecap:round; stroke-linejoin:round; stroke-width:2; stroke-opacity:0.1; fill:none\" points=\"\n",
       "  1826.42,1469.17 1826.42,47.2441 \n",
       "  \"/>\n",
       "<polyline clip-path=\"url(#clip012)\" style=\"stroke:#000000; stroke-linecap:round; stroke-linejoin:round; stroke-width:2; stroke-opacity:0.1; fill:none\" points=\"\n",
       "  2352.76,1469.17 2352.76,47.2441 \n",
       "  \"/>\n",
       "<polyline clip-path=\"url(#clip010)\" style=\"stroke:#000000; stroke-linecap:round; stroke-linejoin:round; stroke-width:4; stroke-opacity:1; fill:none\" points=\"\n",
       "  247.408,1469.17 2352.76,1469.17 \n",
       "  \"/>\n",
       "<polyline clip-path=\"url(#clip010)\" style=\"stroke:#000000; stroke-linecap:round; stroke-linejoin:round; stroke-width:4; stroke-opacity:1; fill:none\" points=\"\n",
       "  247.408,1469.17 247.408,1450.27 \n",
       "  \"/>\n",
       "<polyline clip-path=\"url(#clip010)\" style=\"stroke:#000000; stroke-linecap:round; stroke-linejoin:round; stroke-width:4; stroke-opacity:1; fill:none\" points=\"\n",
       "  773.745,1469.17 773.745,1450.27 \n",
       "  \"/>\n",
       "<polyline clip-path=\"url(#clip010)\" style=\"stroke:#000000; stroke-linecap:round; stroke-linejoin:round; stroke-width:4; stroke-opacity:1; fill:none\" points=\"\n",
       "  1300.08,1469.17 1300.08,1450.27 \n",
       "  \"/>\n",
       "<polyline clip-path=\"url(#clip010)\" style=\"stroke:#000000; stroke-linecap:round; stroke-linejoin:round; stroke-width:4; stroke-opacity:1; fill:none\" points=\"\n",
       "  1826.42,1469.17 1826.42,1450.27 \n",
       "  \"/>\n",
       "<polyline clip-path=\"url(#clip010)\" style=\"stroke:#000000; stroke-linecap:round; stroke-linejoin:round; stroke-width:4; stroke-opacity:1; fill:none\" points=\"\n",
       "  2352.76,1469.17 2352.76,1450.27 \n",
       "  \"/>\n",
       "<path clip-path=\"url(#clip010)\" d=\"M167.2 1527.92 L211.714 1527.92 L211.714 1533.83 L167.2 1533.83 L167.2 1527.92 Z\" fill=\"#000000\" fill-rule=\"evenodd\" fill-opacity=\"1\" /><path clip-path=\"url(#clip010)\" d=\"M228.068 1547.27 L239.526 1547.27 L239.526 1507.72 L227.061 1510.22 L227.061 1503.83 L239.457 1501.33 L246.47 1501.33 L246.47 1547.27 L257.929 1547.27 L257.929 1553.17 L228.068 1553.17 L228.068 1547.27 Z\" fill=\"#000000\" fill-rule=\"evenodd\" fill-opacity=\"1\" /><path clip-path=\"url(#clip010)\" d=\"M272.095 1544.35 L279.422 1544.35 L279.422 1553.17 L272.095 1553.17 L272.095 1544.35 Z\" fill=\"#000000\" fill-rule=\"evenodd\" fill-opacity=\"1\" /><path clip-path=\"url(#clip010)\" d=\"M309.699 1505.95 Q304.283 1505.95 301.54 1511.29 Q298.831 1516.61 298.831 1527.3 Q298.831 1537.96 301.54 1543.31 Q304.283 1548.62 309.699 1548.62 Q315.151 1548.62 317.859 1543.31 Q320.602 1537.96 320.602 1527.3 Q320.602 1516.61 317.859 1511.29 Q315.151 1505.95 309.699 1505.95 M309.699 1500.39 Q318.414 1500.39 322.998 1507.3 Q327.616 1514.18 327.616 1527.3 Q327.616 1540.39 322.998 1547.3 Q318.414 1554.17 309.699 1554.17 Q300.984 1554.17 296.366 1547.3 Q291.783 1540.39 291.783 1527.3 Q291.783 1514.18 296.366 1507.3 Q300.984 1500.39 309.699 1500.39 Z\" fill=\"#000000\" fill-rule=\"evenodd\" fill-opacity=\"1\" /><path clip-path=\"url(#clip010)\" d=\"M694.284 1527.92 L738.797 1527.92 L738.797 1533.83 L694.284 1533.83 L694.284 1527.92 Z\" fill=\"#000000\" fill-rule=\"evenodd\" fill-opacity=\"1\" /><path clip-path=\"url(#clip010)\" d=\"M768.936 1505.95 Q763.519 1505.95 760.776 1511.29 Q758.068 1516.61 758.068 1527.3 Q758.068 1537.96 760.776 1543.31 Q763.519 1548.62 768.936 1548.62 Q774.387 1548.62 777.096 1543.31 Q779.839 1537.96 779.839 1527.3 Q779.839 1516.61 777.096 1511.29 Q774.387 1505.95 768.936 1505.95 M768.936 1500.39 Q777.651 1500.39 782.234 1507.3 Q786.852 1514.18 786.852 1527.3 Q786.852 1540.39 782.234 1547.3 Q777.651 1554.17 768.936 1554.17 Q760.221 1554.17 755.603 1547.3 Q751.019 1540.39 751.019 1527.3 Q751.019 1514.18 755.603 1507.3 Q760.221 1500.39 768.936 1500.39 Z\" fill=\"#000000\" fill-rule=\"evenodd\" fill-opacity=\"1\" /><path clip-path=\"url(#clip010)\" d=\"M799.179 1544.35 L806.505 1544.35 L806.505 1553.17 L799.179 1553.17 L799.179 1544.35 Z\" fill=\"#000000\" fill-rule=\"evenodd\" fill-opacity=\"1\" /><path clip-path=\"url(#clip010)\" d=\"M821.852 1501.33 L849.387 1501.33 L849.387 1507.23 L828.276 1507.23 L828.276 1519.94 Q829.804 1519.42 831.331 1519.18 Q832.859 1518.9 834.387 1518.9 Q843.067 1518.9 848.137 1523.65 Q853.206 1528.41 853.206 1536.54 Q853.206 1544.9 847.998 1549.56 Q842.79 1554.17 833.311 1554.17 Q830.047 1554.17 826.644 1553.62 Q823.276 1553.06 819.665 1551.95 L819.665 1544.9 Q822.79 1546.61 826.123 1547.44 Q829.456 1548.27 833.172 1548.27 Q839.179 1548.27 842.686 1545.11 Q846.192 1541.95 846.192 1536.54 Q846.192 1531.12 842.686 1527.96 Q839.179 1524.8 833.172 1524.8 Q830.359 1524.8 827.547 1525.42 Q824.769 1526.05 821.852 1527.37 L821.852 1501.33 Z\" fill=\"#000000\" fill-rule=\"evenodd\" fill-opacity=\"1\" /><path clip-path=\"url(#clip010)\" d=\"M1266.16 1505.95 Q1260.74 1505.95 1258 1511.29 Q1255.29 1516.61 1255.29 1527.3 Q1255.29 1537.96 1258 1543.31 Q1260.74 1548.62 1266.16 1548.62 Q1271.61 1548.62 1274.32 1543.31 Q1277.06 1537.96 1277.06 1527.3 Q1277.06 1516.61 1274.32 1511.29 Q1271.61 1505.95 1266.16 1505.95 M1266.16 1500.39 Q1274.87 1500.39 1279.46 1507.3 Q1284.08 1514.18 1284.08 1527.3 Q1284.08 1540.39 1279.46 1547.3 Q1274.87 1554.17 1266.16 1554.17 Q1257.44 1554.17 1252.83 1547.3 Q1248.24 1540.39 1248.24 1527.3 Q1248.24 1514.18 1252.83 1507.3 Q1257.44 1500.39 1266.16 1500.39 Z\" fill=\"#000000\" fill-rule=\"evenodd\" fill-opacity=\"1\" /><path clip-path=\"url(#clip010)\" d=\"M1296.4 1544.35 L1303.73 1544.35 L1303.73 1553.17 L1296.4 1553.17 L1296.4 1544.35 Z\" fill=\"#000000\" fill-rule=\"evenodd\" fill-opacity=\"1\" /><path clip-path=\"url(#clip010)\" d=\"M1334.01 1505.95 Q1328.59 1505.95 1325.85 1511.29 Q1323.14 1516.61 1323.14 1527.3 Q1323.14 1537.96 1325.85 1543.31 Q1328.59 1548.62 1334.01 1548.62 Q1339.46 1548.62 1342.17 1543.31 Q1344.91 1537.96 1344.91 1527.3 Q1344.91 1516.61 1342.17 1511.29 Q1339.46 1505.95 1334.01 1505.95 M1334.01 1500.39 Q1342.72 1500.39 1347.3 1507.3 Q1351.92 1514.18 1351.92 1527.3 Q1351.92 1540.39 1347.3 1547.3 Q1342.72 1554.17 1334.01 1554.17 Q1325.29 1554.17 1320.67 1547.3 Q1316.09 1540.39 1316.09 1527.3 Q1316.09 1514.18 1320.67 1507.3 Q1325.29 1500.39 1334.01 1500.39 Z\" fill=\"#000000\" fill-rule=\"evenodd\" fill-opacity=\"1\" /><path clip-path=\"url(#clip010)\" d=\"M1793.24 1505.95 Q1787.83 1505.95 1785.08 1511.29 Q1782.37 1516.61 1782.37 1527.3 Q1782.37 1537.96 1785.08 1543.31 Q1787.83 1548.62 1793.24 1548.62 Q1798.69 1548.62 1801.4 1543.31 Q1804.14 1537.96 1804.14 1527.3 Q1804.14 1516.61 1801.4 1511.29 Q1798.69 1505.95 1793.24 1505.95 M1793.24 1500.39 Q1801.96 1500.39 1806.54 1507.3 Q1811.16 1514.18 1811.16 1527.3 Q1811.16 1540.39 1806.54 1547.3 Q1801.96 1554.17 1793.24 1554.17 Q1784.53 1554.17 1779.91 1547.3 Q1775.33 1540.39 1775.33 1527.3 Q1775.33 1514.18 1779.91 1507.3 Q1784.53 1500.39 1793.24 1500.39 Z\" fill=\"#000000\" fill-rule=\"evenodd\" fill-opacity=\"1\" /><path clip-path=\"url(#clip010)\" d=\"M1823.48 1544.35 L1830.81 1544.35 L1830.81 1553.17 L1823.48 1553.17 L1823.48 1544.35 Z\" fill=\"#000000\" fill-rule=\"evenodd\" fill-opacity=\"1\" /><path clip-path=\"url(#clip010)\" d=\"M1846.16 1501.33 L1873.69 1501.33 L1873.69 1507.23 L1852.58 1507.23 L1852.58 1519.94 Q1854.11 1519.42 1855.64 1519.18 Q1857.17 1518.9 1858.69 1518.9 Q1867.37 1518.9 1872.44 1523.65 Q1877.51 1528.41 1877.51 1536.54 Q1877.51 1544.9 1872.3 1549.56 Q1867.1 1554.17 1857.62 1554.17 Q1854.35 1554.17 1850.95 1553.62 Q1847.58 1553.06 1843.97 1551.95 L1843.97 1544.9 Q1847.1 1546.61 1850.43 1547.44 Q1853.76 1548.27 1857.48 1548.27 Q1863.48 1548.27 1866.99 1545.11 Q1870.5 1541.95 1870.5 1536.54 Q1870.5 1531.12 1866.99 1527.96 Q1863.48 1524.8 1857.48 1524.8 Q1854.67 1524.8 1851.85 1525.42 Q1849.08 1526.05 1846.16 1527.37 L1846.16 1501.33 Z\" fill=\"#000000\" fill-rule=\"evenodd\" fill-opacity=\"1\" /><path clip-path=\"url(#clip010)\" d=\"M2303.49 1547.27 L2314.94 1547.27 L2314.94 1507.72 L2302.48 1510.22 L2302.48 1503.83 L2314.87 1501.33 L2321.89 1501.33 L2321.89 1547.27 L2333.35 1547.27 L2333.35 1553.17 L2303.49 1553.17 L2303.49 1547.27 Z\" fill=\"#000000\" fill-rule=\"evenodd\" fill-opacity=\"1\" /><path clip-path=\"url(#clip010)\" d=\"M2347.51 1544.35 L2354.84 1544.35 L2354.84 1553.17 L2347.51 1553.17 L2347.51 1544.35 Z\" fill=\"#000000\" fill-rule=\"evenodd\" fill-opacity=\"1\" /><path clip-path=\"url(#clip010)\" d=\"M2385.12 1505.95 Q2379.7 1505.95 2376.96 1511.29 Q2374.25 1516.61 2374.25 1527.3 Q2374.25 1537.96 2376.96 1543.31 Q2379.7 1548.62 2385.12 1548.62 Q2390.57 1548.62 2393.28 1543.31 Q2396.02 1537.96 2396.02 1527.3 Q2396.02 1516.61 2393.28 1511.29 Q2390.57 1505.95 2385.12 1505.95 M2385.12 1500.39 Q2393.83 1500.39 2398.42 1507.3 Q2403.03 1514.18 2403.03 1527.3 Q2403.03 1540.39 2398.42 1547.3 Q2393.83 1554.17 2385.12 1554.17 Q2376.4 1554.17 2371.78 1547.3 Q2367.2 1540.39 2367.2 1527.3 Q2367.2 1514.18 2371.78 1507.3 Q2376.4 1500.39 2385.12 1500.39 Z\" fill=\"#000000\" fill-rule=\"evenodd\" fill-opacity=\"1\" /><polyline clip-path=\"url(#clip012)\" style=\"stroke:#000000; stroke-linecap:round; stroke-linejoin:round; stroke-width:2; stroke-opacity:0.1; fill:none\" points=\"\n",
       "  247.408,1428.92 2352.76,1428.92 \n",
       "  \"/>\n",
       "<polyline clip-path=\"url(#clip012)\" style=\"stroke:#000000; stroke-linecap:round; stroke-linejoin:round; stroke-width:2; stroke-opacity:0.1; fill:none\" points=\"\n",
       "  247.408,1093.57 2352.76,1093.57 \n",
       "  \"/>\n",
       "<polyline clip-path=\"url(#clip012)\" style=\"stroke:#000000; stroke-linecap:round; stroke-linejoin:round; stroke-width:2; stroke-opacity:0.1; fill:none\" points=\"\n",
       "  247.408,758.206 2352.76,758.206 \n",
       "  \"/>\n",
       "<polyline clip-path=\"url(#clip012)\" style=\"stroke:#000000; stroke-linecap:round; stroke-linejoin:round; stroke-width:2; stroke-opacity:0.1; fill:none\" points=\"\n",
       "  247.408,422.847 2352.76,422.847 \n",
       "  \"/>\n",
       "<polyline clip-path=\"url(#clip012)\" style=\"stroke:#000000; stroke-linecap:round; stroke-linejoin:round; stroke-width:2; stroke-opacity:0.1; fill:none\" points=\"\n",
       "  247.408,87.4872 2352.76,87.4872 \n",
       "  \"/>\n",
       "<polyline clip-path=\"url(#clip010)\" style=\"stroke:#000000; stroke-linecap:round; stroke-linejoin:round; stroke-width:4; stroke-opacity:1; fill:none\" points=\"\n",
       "  247.408,1469.17 247.408,47.2441 \n",
       "  \"/>\n",
       "<polyline clip-path=\"url(#clip010)\" style=\"stroke:#000000; stroke-linecap:round; stroke-linejoin:round; stroke-width:4; stroke-opacity:1; fill:none\" points=\"\n",
       "  247.408,1428.92 266.306,1428.92 \n",
       "  \"/>\n",
       "<polyline clip-path=\"url(#clip010)\" style=\"stroke:#000000; stroke-linecap:round; stroke-linejoin:round; stroke-width:4; stroke-opacity:1; fill:none\" points=\"\n",
       "  247.408,1093.57 266.306,1093.57 \n",
       "  \"/>\n",
       "<polyline clip-path=\"url(#clip010)\" style=\"stroke:#000000; stroke-linecap:round; stroke-linejoin:round; stroke-width:4; stroke-opacity:1; fill:none\" points=\"\n",
       "  247.408,758.206 266.306,758.206 \n",
       "  \"/>\n",
       "<polyline clip-path=\"url(#clip010)\" style=\"stroke:#000000; stroke-linecap:round; stroke-linejoin:round; stroke-width:4; stroke-opacity:1; fill:none\" points=\"\n",
       "  247.408,422.847 266.306,422.847 \n",
       "  \"/>\n",
       "<polyline clip-path=\"url(#clip010)\" style=\"stroke:#000000; stroke-linecap:round; stroke-linejoin:round; stroke-width:4; stroke-opacity:1; fill:none\" points=\"\n",
       "  247.408,87.4872 266.306,87.4872 \n",
       "  \"/>\n",
       "<path clip-path=\"url(#clip010)\" d=\"M50.9921 1429.6 L95.5058 1429.6 L95.5058 1435.5 L50.9921 1435.5 L50.9921 1429.6 Z\" fill=\"#000000\" fill-rule=\"evenodd\" fill-opacity=\"1\" /><path clip-path=\"url(#clip010)\" d=\"M111.86 1448.94 L123.318 1448.94 L123.318 1409.39 L110.853 1411.89 L110.853 1405.5 L123.249 1403 L130.263 1403 L130.263 1448.94 L141.721 1448.94 L141.721 1454.84 L111.86 1454.84 L111.86 1448.94 Z\" fill=\"#000000\" fill-rule=\"evenodd\" fill-opacity=\"1\" /><path clip-path=\"url(#clip010)\" d=\"M155.887 1446.03 L163.214 1446.03 L163.214 1454.84 L155.887 1454.84 L155.887 1446.03 Z\" fill=\"#000000\" fill-rule=\"evenodd\" fill-opacity=\"1\" /><path clip-path=\"url(#clip010)\" d=\"M193.491 1407.62 Q188.075 1407.62 185.332 1412.97 Q182.623 1418.28 182.623 1428.98 Q182.623 1439.64 185.332 1444.98 Q188.075 1450.3 193.491 1450.3 Q198.943 1450.3 201.651 1444.98 Q204.394 1439.64 204.394 1428.98 Q204.394 1418.28 201.651 1412.97 Q198.943 1407.62 193.491 1407.62 M193.491 1402.07 Q202.207 1402.07 206.79 1408.98 Q211.408 1415.85 211.408 1428.98 Q211.408 1442.07 206.79 1448.98 Q202.207 1455.85 193.491 1455.85 Q184.776 1455.85 180.158 1448.98 Q175.575 1442.07 175.575 1428.98 Q175.575 1415.85 180.158 1408.98 Q184.776 1402.07 193.491 1402.07 Z\" fill=\"#000000\" fill-rule=\"evenodd\" fill-opacity=\"1\" /><path clip-path=\"url(#clip010)\" d=\"M52.4852 1094.24 L96.9988 1094.24 L96.9988 1100.15 L52.4852 1100.15 L52.4852 1094.24 Z\" fill=\"#000000\" fill-rule=\"evenodd\" fill-opacity=\"1\" /><path clip-path=\"url(#clip010)\" d=\"M127.138 1072.26 Q121.721 1072.26 118.978 1077.61 Q116.27 1082.92 116.27 1093.62 Q116.27 1104.28 118.978 1109.62 Q121.721 1114.94 127.138 1114.94 Q132.589 1114.94 135.297 1109.62 Q138.04 1104.28 138.04 1093.62 Q138.04 1082.92 135.297 1077.61 Q132.589 1072.26 127.138 1072.26 M127.138 1066.71 Q135.853 1066.71 140.436 1073.62 Q145.054 1080.49 145.054 1093.62 Q145.054 1106.71 140.436 1113.62 Q135.853 1120.49 127.138 1120.49 Q118.422 1120.49 113.804 1113.62 Q109.221 1106.71 109.221 1093.62 Q109.221 1080.49 113.804 1073.62 Q118.422 1066.71 127.138 1066.71 Z\" fill=\"#000000\" fill-rule=\"evenodd\" fill-opacity=\"1\" /><path clip-path=\"url(#clip010)\" d=\"M157.38 1110.67 L164.707 1110.67 L164.707 1119.49 L157.38 1119.49 L157.38 1110.67 Z\" fill=\"#000000\" fill-rule=\"evenodd\" fill-opacity=\"1\" /><path clip-path=\"url(#clip010)\" d=\"M180.054 1067.65 L207.589 1067.65 L207.589 1073.55 L186.478 1073.55 L186.478 1086.26 Q188.005 1085.74 189.533 1085.49 Q191.061 1085.21 192.589 1085.21 Q201.269 1085.21 206.339 1089.97 Q211.408 1094.73 211.408 1102.85 Q211.408 1111.22 206.2 1115.87 Q200.991 1120.49 191.512 1120.49 Q188.248 1120.49 184.846 1119.94 Q181.478 1119.38 177.866 1118.27 L177.866 1111.22 Q180.991 1112.92 184.325 1113.76 Q187.658 1114.59 191.373 1114.59 Q197.38 1114.59 200.887 1111.43 Q204.394 1108.27 204.394 1102.85 Q204.394 1097.44 200.887 1094.28 Q197.38 1091.12 191.373 1091.12 Q188.561 1091.12 185.748 1091.74 Q182.971 1092.37 180.054 1093.69 L180.054 1067.65 Z\" fill=\"#000000\" fill-rule=\"evenodd\" fill-opacity=\"1\" /><path clip-path=\"url(#clip010)\" d=\"M125.645 736.904 Q120.228 736.904 117.485 742.251 Q114.777 747.564 114.777 758.258 Q114.777 768.918 117.485 774.265 Q120.228 779.577 125.645 779.577 Q131.096 779.577 133.804 774.265 Q136.547 768.918 136.547 758.258 Q136.547 747.564 133.804 742.251 Q131.096 736.904 125.645 736.904 M125.645 731.348 Q134.36 731.348 138.943 738.258 Q143.561 745.133 143.561 758.258 Q143.561 771.348 138.943 778.258 Q134.36 785.133 125.645 785.133 Q116.929 785.133 112.311 778.258 Q107.728 771.348 107.728 758.258 Q107.728 745.133 112.311 738.258 Q116.929 731.348 125.645 731.348 Z\" fill=\"#000000\" fill-rule=\"evenodd\" fill-opacity=\"1\" /><path clip-path=\"url(#clip010)\" d=\"M155.887 775.307 L163.214 775.307 L163.214 784.126 L155.887 784.126 L155.887 775.307 Z\" fill=\"#000000\" fill-rule=\"evenodd\" fill-opacity=\"1\" /><path clip-path=\"url(#clip010)\" d=\"M193.491 736.904 Q188.075 736.904 185.332 742.251 Q182.623 747.564 182.623 758.258 Q182.623 768.918 185.332 774.265 Q188.075 779.577 193.491 779.577 Q198.943 779.577 201.651 774.265 Q204.394 768.918 204.394 758.258 Q204.394 747.564 201.651 742.251 Q198.943 736.904 193.491 736.904 M193.491 731.348 Q202.207 731.348 206.79 738.258 Q211.408 745.133 211.408 758.258 Q211.408 771.348 206.79 778.258 Q202.207 785.133 193.491 785.133 Q184.776 785.133 180.158 778.258 Q175.575 771.348 175.575 758.258 Q175.575 745.133 180.158 738.258 Q184.776 731.348 193.491 731.348 Z\" fill=\"#000000\" fill-rule=\"evenodd\" fill-opacity=\"1\" /><path clip-path=\"url(#clip010)\" d=\"M127.138 401.545 Q121.721 401.545 118.978 406.892 Q116.27 412.204 116.27 422.899 Q116.27 433.558 118.978 438.906 Q121.721 444.218 127.138 444.218 Q132.589 444.218 135.297 438.906 Q138.04 433.558 138.04 422.899 Q138.04 412.204 135.297 406.892 Q132.589 401.545 127.138 401.545 M127.138 395.989 Q135.853 395.989 140.436 402.899 Q145.054 409.774 145.054 422.899 Q145.054 435.989 140.436 442.899 Q135.853 449.774 127.138 449.774 Q118.422 449.774 113.804 442.899 Q109.221 435.989 109.221 422.899 Q109.221 409.774 113.804 402.899 Q118.422 395.989 127.138 395.989 Z\" fill=\"#000000\" fill-rule=\"evenodd\" fill-opacity=\"1\" /><path clip-path=\"url(#clip010)\" d=\"M157.38 439.947 L164.707 439.947 L164.707 448.767 L157.38 448.767 L157.38 439.947 Z\" fill=\"#000000\" fill-rule=\"evenodd\" fill-opacity=\"1\" /><path clip-path=\"url(#clip010)\" d=\"M180.054 396.927 L207.589 396.927 L207.589 402.829 L186.478 402.829 L186.478 415.538 Q188.005 415.017 189.533 414.774 Q191.061 414.496 192.589 414.496 Q201.269 414.496 206.339 419.253 Q211.408 424.01 211.408 432.135 Q211.408 440.503 206.2 445.156 Q200.991 449.774 191.512 449.774 Q188.248 449.774 184.846 449.218 Q181.478 448.662 177.866 447.551 L177.866 440.503 Q180.991 442.204 184.325 443.037 Q187.658 443.871 191.373 443.871 Q197.38 443.871 200.887 440.711 Q204.394 437.551 204.394 432.135 Q204.394 426.718 200.887 423.558 Q197.38 420.399 191.373 420.399 Q188.561 420.399 185.748 421.024 Q182.971 421.649 180.054 422.968 L180.054 396.927 Z\" fill=\"#000000\" fill-rule=\"evenodd\" fill-opacity=\"1\" /><path clip-path=\"url(#clip010)\" d=\"M111.86 107.504 L123.318 107.504 L123.318 67.9561 L110.853 70.4561 L110.853 64.0672 L123.249 61.5672 L130.263 61.5672 L130.263 107.504 L141.721 107.504 L141.721 113.407 L111.86 113.407 L111.86 107.504 Z\" fill=\"#000000\" fill-rule=\"evenodd\" fill-opacity=\"1\" /><path clip-path=\"url(#clip010)\" d=\"M155.887 104.588 L163.214 104.588 L163.214 113.407 L155.887 113.407 L155.887 104.588 Z\" fill=\"#000000\" fill-rule=\"evenodd\" fill-opacity=\"1\" /><path clip-path=\"url(#clip010)\" d=\"M193.491 66.1853 Q188.075 66.1853 185.332 71.5324 Q182.623 76.8449 182.623 87.5393 Q182.623 98.199 185.332 103.546 Q188.075 108.859 193.491 108.859 Q198.943 108.859 201.651 103.546 Q204.394 98.199 204.394 87.5393 Q204.394 76.8449 201.651 71.5324 Q198.943 66.1853 193.491 66.1853 M193.491 60.6297 Q202.207 60.6297 206.79 67.5394 Q211.408 74.4144 211.408 87.5393 Q211.408 100.63 206.79 107.539 Q202.207 114.414 193.491 114.414 Q184.776 114.414 180.158 107.539 Q175.575 100.63 175.575 87.5393 Q175.575 74.4144 180.158 67.5394 Q184.776 60.6297 193.491 60.6297 Z\" fill=\"#000000\" fill-rule=\"evenodd\" fill-opacity=\"1\" /><polyline clip-path=\"url(#clip012)\" style=\"stroke:#009af9; stroke-linecap:round; stroke-linejoin:round; stroke-width:12; stroke-opacity:1; fill:none\" points=\"\n",
       "  247.408,1428.92 261.115,1420.19 387.856,1339.44 464.021,1290.91 528.419,1249.88 598.372,1205.31 662.863,1164.21 732.004,1120.16 812.111,1069.12 883.3,1023.76 \n",
       "  945.727,983.986 1013.79,940.62 1082.26,896.996 1157.95,848.764 1229.98,802.873 1304.87,755.157 1367.91,714.99 1444.87,665.95 1515.38,621.027 1580.5,579.537 \n",
       "  1646.46,537.509 1720.38,490.408 1787.37,447.726 1864.07,398.858 1935.08,353.611 2005.09,309.003 2073.07,265.692 2142.75,221.293 2219.1,172.648 2330,101.984 \n",
       "  2352.76,87.4872 \n",
       "  \"/>\n",
       "<polyline clip-path=\"url(#clip012)\" style=\"stroke:#e26f46; stroke-linecap:round; stroke-linejoin:round; stroke-width:12; stroke-opacity:1; fill:none\" points=\"\n",
       "  247.408,1428.92 261.115,1420.19 387.856,1339.44 464.021,1290.91 528.419,1249.88 598.372,1205.31 662.863,1164.21 732.004,1120.16 812.111,1069.12 883.3,1023.76 \n",
       "  945.727,983.986 1013.79,940.62 1082.26,896.996 1157.95,848.764 1229.98,802.873 1304.87,755.157 1367.91,714.99 1444.87,665.95 1515.38,621.027 1580.5,579.537 \n",
       "  1646.46,537.509 1720.38,490.408 1787.37,447.726 1864.07,398.858 1935.08,353.611 2005.09,309.003 2073.07,265.692 2142.75,221.293 2219.1,172.648 2330,101.984 \n",
       "  2352.76,87.4872 \n",
       "  \"/>\n",
       "<path clip-path=\"url(#clip010)\" d=\"\n",
       "M1831.46 289.042 L2282.58 289.042 L2282.58 94.6416 L1831.46 94.6416  Z\n",
       "  \" fill=\"#ffffff\" fill-rule=\"evenodd\" fill-opacity=\"1\"/>\n",
       "<polyline clip-path=\"url(#clip010)\" style=\"stroke:#000000; stroke-linecap:round; stroke-linejoin:round; stroke-width:4; stroke-opacity:1; fill:none\" points=\"\n",
       "  1831.46,289.042 2282.58,289.042 2282.58,94.6416 1831.46,94.6416 1831.46,289.042 \n",
       "  \"/>\n",
       "<polyline clip-path=\"url(#clip010)\" style=\"stroke:#009af9; stroke-linecap:round; stroke-linejoin:round; stroke-width:5; stroke-opacity:1; fill:none\" points=\"\n",
       "  1854.86,159.442 1995.21,159.442 \n",
       "  \"/>\n",
       "<path clip-path=\"url(#clip010)\" d=\"M2031.89 136.077 Q2028.01 142.732 2026.13 149.242 Q2024.25 155.752 2024.25 162.436 Q2024.25 169.12 2026.13 175.689 Q2028.04 182.228 2031.89 188.854 L2027.26 188.854 Q2022.92 182.054 2020.75 175.486 Q2018.61 168.918 2018.61 162.436 Q2018.61 155.984 2020.75 149.445 Q2022.89 142.905 2027.26 136.077 L2031.89 136.077 Z\" fill=\"#000000\" fill-rule=\"evenodd\" fill-opacity=\"1\" /><path clip-path=\"url(#clip010)\" d=\"M2043.98 176.123 L2053.53 176.123 L2053.53 143.166 L2043.14 145.249 L2043.14 139.925 L2053.47 137.842 L2059.32 137.842 L2059.32 176.123 L2068.87 176.123 L2068.87 181.042 L2043.98 181.042 L2043.98 176.123 Z\" fill=\"#000000\" fill-rule=\"evenodd\" fill-opacity=\"1\" /><path clip-path=\"url(#clip010)\" d=\"M2101.59 143.889 L2101.59 160.006 L2117.71 160.006 L2117.71 164.925 L2101.59 164.925 L2101.59 181.042 L2096.73 181.042 L2096.73 164.925 L2080.61 164.925 L2080.61 160.006 L2096.73 160.006 L2096.73 143.889 L2101.59 143.889 Z\" fill=\"#000000\" fill-rule=\"evenodd\" fill-opacity=\"1\" /><path clip-path=\"url(#clip010)\" d=\"M2156.51 148.634 L2144.79 164.404 L2157.12 181.042 L2150.84 181.042 L2141.41 168.31 L2131.97 181.042 L2125.69 181.042 L2138.28 164.086 L2126.76 148.634 L2133.04 148.634 L2141.64 160.179 L2150.23 148.634 L2156.51 148.634 Z\" fill=\"#000000\" fill-rule=\"evenodd\" fill-opacity=\"1\" /><path clip-path=\"url(#clip010)\" d=\"M2163.8 136.077 L2168.43 136.077 Q2172.77 142.905 2174.91 149.445 Q2177.08 155.984 2177.08 162.436 Q2177.08 168.918 2174.91 175.486 Q2172.77 182.054 2168.43 188.854 L2163.8 188.854 Q2167.65 182.228 2169.53 175.689 Q2171.44 169.12 2171.44 162.436 Q2171.44 155.752 2169.53 149.242 Q2167.65 142.732 2163.8 136.077 Z\" fill=\"#000000\" fill-rule=\"evenodd\" fill-opacity=\"1\" /><path clip-path=\"url(#clip010)\" d=\"M2185.07 162.436 L2200.67 162.436 L2200.67 167.182 L2185.07 167.182 L2185.07 162.436 Z\" fill=\"#000000\" fill-rule=\"evenodd\" fill-opacity=\"1\" /><path clip-path=\"url(#clip010)\" d=\"M2210.91 176.123 L2220.46 176.123 L2220.46 143.166 L2210.07 145.249 L2210.07 139.925 L2220.4 137.842 L2226.24 137.842 L2226.24 176.123 L2235.79 176.123 L2235.79 181.042 L2210.91 181.042 L2210.91 176.123 Z\" fill=\"#000000\" fill-rule=\"evenodd\" fill-opacity=\"1\" /><polyline clip-path=\"url(#clip010)\" style=\"stroke:#e26f46; stroke-linecap:round; stroke-linejoin:round; stroke-width:5; stroke-opacity:1; fill:none\" points=\"\n",
       "  1854.86,224.242 1995.21,224.242 \n",
       "  \"/>\n",
       "<path clip-path=\"url(#clip010)\" d=\"M2049.42 213.434 L2037.7 229.204 L2050.03 245.842 L2043.75 245.842 L2034.32 233.11 L2024.88 245.842 L2018.61 245.842 L2031.19 228.886 L2019.68 213.434 L2025.96 213.434 L2034.55 224.979 L2043.14 213.434 L2049.42 213.434 Z\" fill=\"#000000\" fill-rule=\"evenodd\" fill-opacity=\"1\" /></svg>\n"
      ]
     },
     "execution_count": 18,
     "metadata": {},
     "output_type": "execute_result"
    }
   ],
   "source": [
    "plot(x -> (1 + x) - 1, xlims=(-1e-0 , 1e-0), label = \"(1+x)-1\")\n",
    "\n",
    "plot!(x -> x, label= \"x\", tickfontsize=12, legendfontsize=10)"
   ]
  },
  {
   "cell_type": "code",
   "execution_count": 19,
   "id": "b95e3939",
   "metadata": {
    "slideshow": {
     "slide_type": "subslide"
    }
   },
   "outputs": [
    {
     "data": {
      "image/svg+xml": [
       "<?xml version=\"1.0\" encoding=\"utf-8\"?>\n",
       "<svg xmlns=\"http://www.w3.org/2000/svg\" xmlns:xlink=\"http://www.w3.org/1999/xlink\" width=\"600\" height=\"400\" viewBox=\"0 0 2400 1600\">\n",
       "<defs>\n",
       "  <clipPath id=\"clip050\">\n",
       "    <rect x=\"0\" y=\"0\" width=\"2400\" height=\"1600\"/>\n",
       "  </clipPath>\n",
       "</defs>\n",
       "<path clip-path=\"url(#clip050)\" d=\"\n",
       "M0 1600 L2400 1600 L2400 0 L0 0  Z\n",
       "  \" fill=\"#ffffff\" fill-rule=\"evenodd\" fill-opacity=\"1\"/>\n",
       "<defs>\n",
       "  <clipPath id=\"clip051\">\n",
       "    <rect x=\"480\" y=\"0\" width=\"1681\" height=\"1600\"/>\n",
       "  </clipPath>\n",
       "</defs>\n",
       "<path clip-path=\"url(#clip050)\" d=\"\n",
       "M509.646 1450.74 L2352.76 1450.74 L2352.76 47.2441 L509.646 47.2441  Z\n",
       "  \" fill=\"#ffffff\" fill-rule=\"evenodd\" fill-opacity=\"1\"/>\n",
       "<defs>\n",
       "  <clipPath id=\"clip052\">\n",
       "    <rect x=\"509\" y=\"47\" width=\"1844\" height=\"1404\"/>\n",
       "  </clipPath>\n",
       "</defs>\n",
       "<polyline clip-path=\"url(#clip052)\" style=\"stroke:#000000; stroke-linecap:round; stroke-linejoin:round; stroke-width:2; stroke-opacity:0.1; fill:none\" points=\"\n",
       "  509.646,1450.74 509.646,47.2441 \n",
       "  \"/>\n",
       "<polyline clip-path=\"url(#clip052)\" style=\"stroke:#000000; stroke-linecap:round; stroke-linejoin:round; stroke-width:2; stroke-opacity:0.1; fill:none\" points=\"\n",
       "  970.424,1450.74 970.424,47.2441 \n",
       "  \"/>\n",
       "<polyline clip-path=\"url(#clip052)\" style=\"stroke:#000000; stroke-linecap:round; stroke-linejoin:round; stroke-width:2; stroke-opacity:0.1; fill:none\" points=\"\n",
       "  1431.2,1450.74 1431.2,47.2441 \n",
       "  \"/>\n",
       "<polyline clip-path=\"url(#clip052)\" style=\"stroke:#000000; stroke-linecap:round; stroke-linejoin:round; stroke-width:2; stroke-opacity:0.1; fill:none\" points=\"\n",
       "  1891.98,1450.74 1891.98,47.2441 \n",
       "  \"/>\n",
       "<polyline clip-path=\"url(#clip052)\" style=\"stroke:#000000; stroke-linecap:round; stroke-linejoin:round; stroke-width:2; stroke-opacity:0.1; fill:none\" points=\"\n",
       "  2352.76,1450.74 2352.76,47.2441 \n",
       "  \"/>\n",
       "<polyline clip-path=\"url(#clip050)\" style=\"stroke:#000000; stroke-linecap:round; stroke-linejoin:round; stroke-width:4; stroke-opacity:1; fill:none\" points=\"\n",
       "  509.646,1450.74 2352.76,1450.74 \n",
       "  \"/>\n",
       "<polyline clip-path=\"url(#clip050)\" style=\"stroke:#000000; stroke-linecap:round; stroke-linejoin:round; stroke-width:4; stroke-opacity:1; fill:none\" points=\"\n",
       "  509.646,1450.74 509.646,1431.85 \n",
       "  \"/>\n",
       "<polyline clip-path=\"url(#clip050)\" style=\"stroke:#000000; stroke-linecap:round; stroke-linejoin:round; stroke-width:4; stroke-opacity:1; fill:none\" points=\"\n",
       "  970.424,1450.74 970.424,1431.85 \n",
       "  \"/>\n",
       "<polyline clip-path=\"url(#clip050)\" style=\"stroke:#000000; stroke-linecap:round; stroke-linejoin:round; stroke-width:4; stroke-opacity:1; fill:none\" points=\"\n",
       "  1431.2,1450.74 1431.2,1431.85 \n",
       "  \"/>\n",
       "<polyline clip-path=\"url(#clip050)\" style=\"stroke:#000000; stroke-linecap:round; stroke-linejoin:round; stroke-width:4; stroke-opacity:1; fill:none\" points=\"\n",
       "  1891.98,1450.74 1891.98,1431.85 \n",
       "  \"/>\n",
       "<polyline clip-path=\"url(#clip050)\" style=\"stroke:#000000; stroke-linecap:round; stroke-linejoin:round; stroke-width:4; stroke-opacity:1; fill:none\" points=\"\n",
       "  2352.76,1450.74 2352.76,1431.85 \n",
       "  \"/>\n",
       "<path clip-path=\"url(#clip050)\" d=\"M299.024 1532.99 L343.538 1532.99 L343.538 1538.89 L299.024 1538.89 L299.024 1532.99 Z\" fill=\"#000000\" fill-rule=\"evenodd\" fill-opacity=\"1\" /><path clip-path=\"url(#clip050)\" d=\"M359.892 1552.33 L371.35 1552.33 L371.35 1512.78 L358.885 1515.28 L358.885 1508.89 L371.281 1506.39 L378.295 1506.39 L378.295 1552.33 L389.753 1552.33 L389.753 1558.23 L359.892 1558.23 L359.892 1552.33 Z\" fill=\"#000000\" fill-rule=\"evenodd\" fill-opacity=\"1\" /><path clip-path=\"url(#clip050)\" d=\"M403.92 1549.41 L411.246 1549.41 L411.246 1558.23 L403.92 1558.23 L403.92 1549.41 Z\" fill=\"#000000\" fill-rule=\"evenodd\" fill-opacity=\"1\" /><path clip-path=\"url(#clip050)\" d=\"M441.524 1511.01 Q436.107 1511.01 433.364 1516.36 Q430.656 1521.67 430.656 1532.37 Q430.656 1543.02 433.364 1548.37 Q436.107 1553.68 441.524 1553.68 Q446.975 1553.68 449.683 1548.37 Q452.426 1543.02 452.426 1532.37 Q452.426 1521.67 449.683 1516.36 Q446.975 1511.01 441.524 1511.01 M441.524 1505.46 Q450.239 1505.46 454.822 1512.37 Q459.44 1519.24 459.44 1532.37 Q459.44 1545.46 454.822 1552.37 Q450.239 1559.24 441.524 1559.24 Q432.808 1559.24 428.19 1552.37 Q423.607 1545.46 423.607 1532.37 Q423.607 1519.24 428.19 1512.37 Q432.808 1505.46 441.524 1505.46 Z\" fill=\"#000000\" fill-rule=\"evenodd\" fill-opacity=\"1\" /><path clip-path=\"url(#clip050)\" d=\"M514.023 1520.04 L498.155 1535.98 L514.023 1551.84 L509.891 1556.05 L493.954 1540.11 L478.017 1556.05 L473.919 1551.84 L489.753 1535.98 L473.919 1520.04 L478.017 1515.84 L493.954 1531.77 L509.891 1515.84 L514.023 1520.04 Z\" fill=\"#000000\" fill-rule=\"evenodd\" fill-opacity=\"1\" /><path clip-path=\"url(#clip050)\" d=\"M532.565 1552.33 L544.023 1552.33 L544.023 1512.78 L531.558 1515.28 L531.558 1508.89 L543.954 1506.39 L550.968 1506.39 L550.968 1552.33 L562.426 1552.33 L562.426 1558.23 L532.565 1558.23 L532.565 1552.33 Z\" fill=\"#000000\" fill-rule=\"evenodd\" fill-opacity=\"1\" /><path clip-path=\"url(#clip050)\" d=\"M591.592 1511.01 Q586.176 1511.01 583.433 1516.36 Q580.724 1521.67 580.724 1532.37 Q580.724 1543.02 583.433 1548.37 Q586.176 1553.68 591.592 1553.68 Q597.044 1553.68 599.752 1548.37 Q602.495 1543.02 602.495 1532.37 Q602.495 1521.67 599.752 1516.36 Q597.044 1511.01 591.592 1511.01 M591.592 1505.46 Q600.308 1505.46 604.891 1512.37 Q609.509 1519.24 609.509 1532.37 Q609.509 1545.46 604.891 1552.37 Q600.308 1559.24 591.592 1559.24 Q582.877 1559.24 578.259 1552.37 Q573.676 1545.46 573.676 1532.37 Q573.676 1519.24 578.259 1512.37 Q582.877 1505.46 591.592 1505.46 Z\" fill=\"#000000\" fill-rule=\"evenodd\" fill-opacity=\"1\" /><path clip-path=\"url(#clip050)\" d=\"M609.509 1496.61 L645.676 1496.61 L645.676 1501.4 L609.509 1501.4 L609.509 1496.61 Z\" fill=\"#000000\" fill-rule=\"evenodd\" fill-opacity=\"1\" /><path clip-path=\"url(#clip050)\" d=\"M658.964 1512.32 L668.274 1512.32 L668.274 1480.19 L658.146 1482.22 L658.146 1477.03 L668.217 1475 L673.916 1475 L673.916 1512.32 L683.226 1512.32 L683.226 1517.12 L658.964 1517.12 L658.964 1512.32 Z\" fill=\"#000000\" fill-rule=\"evenodd\" fill-opacity=\"1\" /><path clip-path=\"url(#clip050)\" d=\"M694.793 1475 L717.165 1475 L717.165 1479.79 L700.012 1479.79 L700.012 1490.12 Q701.253 1489.7 702.494 1489.5 Q703.736 1489.27 704.977 1489.27 Q712.03 1489.27 716.149 1493.14 Q720.268 1497 720.268 1503.6 Q720.268 1510.4 716.036 1514.18 Q711.804 1517.94 704.103 1517.94 Q701.451 1517.94 698.686 1517.48 Q695.949 1517.03 693.015 1516.13 L693.015 1510.4 Q695.554 1511.79 698.263 1512.46 Q700.971 1513.14 703.99 1513.14 Q708.87 1513.14 711.72 1510.57 Q714.569 1508.01 714.569 1503.6 Q714.569 1499.2 711.72 1496.64 Q708.87 1494.07 703.99 1494.07 Q701.705 1494.07 699.419 1494.58 Q697.162 1495.08 694.793 1496.16 L694.793 1475 Z\" fill=\"#000000\" fill-rule=\"evenodd\" fill-opacity=\"1\" /><path clip-path=\"url(#clip050)\" d=\"M759.097 1532.99 L803.61 1532.99 L803.61 1538.89 L759.097 1538.89 L759.097 1532.99 Z\" fill=\"#000000\" fill-rule=\"evenodd\" fill-opacity=\"1\" /><path clip-path=\"url(#clip050)\" d=\"M818.818 1506.39 L846.353 1506.39 L846.353 1512.3 L825.242 1512.3 L825.242 1525 Q826.77 1524.48 828.298 1524.24 Q829.825 1523.96 831.353 1523.96 Q840.034 1523.96 845.103 1528.72 Q850.172 1533.48 850.172 1541.6 Q850.172 1549.97 844.964 1554.62 Q839.756 1559.24 830.277 1559.24 Q827.013 1559.24 823.61 1558.68 Q820.242 1558.13 816.631 1557.02 L816.631 1549.97 Q819.756 1551.67 823.089 1552.5 Q826.423 1553.34 830.138 1553.34 Q836.145 1553.34 839.652 1550.18 Q843.159 1547.02 843.159 1541.6 Q843.159 1536.18 839.652 1533.02 Q836.145 1529.87 830.138 1529.87 Q827.325 1529.87 824.513 1530.49 Q821.735 1531.12 818.818 1532.43 L818.818 1506.39 Z\" fill=\"#000000\" fill-rule=\"evenodd\" fill-opacity=\"1\" /><path clip-path=\"url(#clip050)\" d=\"M863.992 1549.41 L871.318 1549.41 L871.318 1558.23 L863.992 1558.23 L863.992 1549.41 Z\" fill=\"#000000\" fill-rule=\"evenodd\" fill-opacity=\"1\" /><path clip-path=\"url(#clip050)\" d=\"M901.596 1511.01 Q896.179 1511.01 893.436 1516.36 Q890.728 1521.67 890.728 1532.37 Q890.728 1543.02 893.436 1548.37 Q896.179 1553.68 901.596 1553.68 Q907.047 1553.68 909.755 1548.37 Q912.499 1543.02 912.499 1532.37 Q912.499 1521.67 909.755 1516.36 Q907.047 1511.01 901.596 1511.01 M901.596 1505.46 Q910.311 1505.46 914.894 1512.37 Q919.512 1519.24 919.512 1532.37 Q919.512 1545.46 914.894 1552.37 Q910.311 1559.24 901.596 1559.24 Q892.881 1559.24 888.263 1552.37 Q883.679 1545.46 883.679 1532.37 Q883.679 1519.24 888.263 1512.37 Q892.881 1505.46 901.596 1505.46 Z\" fill=\"#000000\" fill-rule=\"evenodd\" fill-opacity=\"1\" /><path clip-path=\"url(#clip050)\" d=\"M974.095 1520.04 L958.227 1535.98 L974.095 1551.84 L969.963 1556.05 L954.026 1540.11 L938.089 1556.05 L933.991 1551.84 L949.825 1535.98 L933.991 1520.04 L938.089 1515.84 L954.026 1531.77 L969.963 1515.84 L974.095 1520.04 Z\" fill=\"#000000\" fill-rule=\"evenodd\" fill-opacity=\"1\" /><path clip-path=\"url(#clip050)\" d=\"M992.637 1552.33 L1004.1 1552.33 L1004.1 1512.78 L991.63 1515.28 L991.63 1508.89 L1004.03 1506.39 L1011.04 1506.39 L1011.04 1552.33 L1022.5 1552.33 L1022.5 1558.23 L992.637 1558.23 L992.637 1552.33 Z\" fill=\"#000000\" fill-rule=\"evenodd\" fill-opacity=\"1\" /><path clip-path=\"url(#clip050)\" d=\"M1051.66 1511.01 Q1046.25 1511.01 1043.5 1516.36 Q1040.8 1521.67 1040.8 1532.37 Q1040.8 1543.02 1043.5 1548.37 Q1046.25 1553.68 1051.66 1553.68 Q1057.12 1553.68 1059.82 1548.37 Q1062.57 1543.02 1062.57 1532.37 Q1062.57 1521.67 1059.82 1516.36 Q1057.12 1511.01 1051.66 1511.01 M1051.66 1505.46 Q1060.38 1505.46 1064.96 1512.37 Q1069.58 1519.24 1069.58 1532.37 Q1069.58 1545.46 1064.96 1552.37 Q1060.38 1559.24 1051.66 1559.24 Q1042.95 1559.24 1038.33 1552.37 Q1033.75 1545.46 1033.75 1532.37 Q1033.75 1519.24 1038.33 1512.37 Q1042.95 1505.46 1051.66 1505.46 Z\" fill=\"#000000\" fill-rule=\"evenodd\" fill-opacity=\"1\" /><path clip-path=\"url(#clip050)\" d=\"M1069.58 1496.61 L1105.75 1496.61 L1105.75 1501.4 L1069.58 1501.4 L1069.58 1496.61 Z\" fill=\"#000000\" fill-rule=\"evenodd\" fill-opacity=\"1\" /><path clip-path=\"url(#clip050)\" d=\"M1119.04 1512.32 L1128.35 1512.32 L1128.35 1480.19 L1118.22 1482.22 L1118.22 1477.03 L1128.29 1475 L1133.99 1475 L1133.99 1512.32 L1143.3 1512.32 L1143.3 1517.12 L1119.04 1517.12 L1119.04 1512.32 Z\" fill=\"#000000\" fill-rule=\"evenodd\" fill-opacity=\"1\" /><path clip-path=\"url(#clip050)\" d=\"M1167.7 1493.79 Q1163.86 1493.79 1161.61 1496.41 Q1159.38 1499.03 1159.38 1503.6 Q1159.38 1508.15 1161.61 1510.8 Q1163.86 1513.42 1167.7 1513.42 Q1171.54 1513.42 1173.77 1510.8 Q1176.02 1508.15 1176.02 1503.6 Q1176.02 1499.03 1173.77 1496.41 Q1171.54 1493.79 1167.7 1493.79 M1179.01 1475.93 L1179.01 1481.12 Q1176.87 1480.1 1174.67 1479.57 Q1172.5 1479.03 1170.35 1479.03 Q1164.71 1479.03 1161.72 1482.84 Q1158.76 1486.65 1158.33 1494.35 Q1160 1491.9 1162.51 1490.6 Q1165.02 1489.27 1168.04 1489.27 Q1174.39 1489.27 1178.05 1493.14 Q1181.75 1496.97 1181.75 1503.6 Q1181.75 1510.09 1177.91 1514.01 Q1174.08 1517.94 1167.7 1517.94 Q1160.39 1517.94 1156.53 1512.35 Q1152.66 1506.74 1152.66 1496.1 Q1152.66 1486.11 1157.4 1480.19 Q1162.14 1474.24 1170.13 1474.24 Q1172.27 1474.24 1174.44 1474.66 Q1176.64 1475.08 1179.01 1475.93 Z\" fill=\"#000000\" fill-rule=\"evenodd\" fill-opacity=\"1\" /><path clip-path=\"url(#clip050)\" d=\"M1431.2 1487.52 Q1425.78 1487.52 1423.04 1492.87 Q1420.33 1498.18 1420.33 1508.88 Q1420.33 1519.53 1423.04 1524.88 Q1425.78 1530.19 1431.2 1530.19 Q1436.65 1530.19 1439.36 1524.88 Q1442.1 1519.53 1442.1 1508.88 Q1442.1 1498.18 1439.36 1492.87 Q1436.65 1487.52 1431.2 1487.52 M1431.2 1481.97 Q1439.92 1481.97 1444.5 1488.88 Q1449.12 1495.75 1449.12 1508.88 Q1449.12 1521.97 1444.5 1528.88 Q1439.92 1535.75 1431.2 1535.75 Q1422.49 1535.75 1417.87 1528.88 Q1413.28 1521.97 1413.28 1508.88 Q1413.28 1495.75 1417.87 1488.88 Q1422.49 1481.97 1431.2 1481.97 Z\" fill=\"#000000\" fill-rule=\"evenodd\" fill-opacity=\"1\" /><path clip-path=\"url(#clip050)\" d=\"M1711.61 1506.39 L1739.14 1506.39 L1739.14 1512.3 L1718.03 1512.3 L1718.03 1525 Q1719.56 1524.48 1721.09 1524.24 Q1722.61 1523.96 1724.14 1523.96 Q1732.82 1523.96 1737.89 1528.72 Q1742.96 1533.48 1742.96 1541.6 Q1742.96 1549.97 1737.75 1554.62 Q1732.54 1559.24 1723.06 1559.24 Q1719.8 1559.24 1716.4 1558.68 Q1713.03 1558.13 1709.42 1557.02 L1709.42 1549.97 Q1712.54 1551.67 1715.88 1552.5 Q1719.21 1553.34 1722.93 1553.34 Q1728.93 1553.34 1732.44 1550.18 Q1735.95 1547.02 1735.95 1541.6 Q1735.95 1536.18 1732.44 1533.02 Q1728.93 1529.87 1722.93 1529.87 Q1720.11 1529.87 1717.3 1530.49 Q1714.52 1531.12 1711.61 1532.43 L1711.61 1506.39 Z\" fill=\"#000000\" fill-rule=\"evenodd\" fill-opacity=\"1\" /><path clip-path=\"url(#clip050)\" d=\"M1756.78 1549.41 L1764.11 1549.41 L1764.11 1558.23 L1756.78 1558.23 L1756.78 1549.41 Z\" fill=\"#000000\" fill-rule=\"evenodd\" fill-opacity=\"1\" /><path clip-path=\"url(#clip050)\" d=\"M1794.38 1511.01 Q1788.97 1511.01 1786.22 1516.36 Q1783.52 1521.67 1783.52 1532.37 Q1783.52 1543.02 1786.22 1548.37 Q1788.97 1553.68 1794.38 1553.68 Q1799.83 1553.68 1802.54 1548.37 Q1805.29 1543.02 1805.29 1532.37 Q1805.29 1521.67 1802.54 1516.36 Q1799.83 1511.01 1794.38 1511.01 M1794.38 1505.46 Q1803.1 1505.46 1807.68 1512.37 Q1812.3 1519.24 1812.3 1532.37 Q1812.3 1545.46 1807.68 1552.37 Q1803.1 1559.24 1794.38 1559.24 Q1785.67 1559.24 1781.05 1552.37 Q1776.47 1545.46 1776.47 1532.37 Q1776.47 1519.24 1781.05 1512.37 Q1785.67 1505.46 1794.38 1505.46 Z\" fill=\"#000000\" fill-rule=\"evenodd\" fill-opacity=\"1\" /><path clip-path=\"url(#clip050)\" d=\"M1866.88 1520.04 L1851.02 1535.98 L1866.88 1551.84 L1862.75 1556.05 L1846.81 1540.11 L1830.88 1556.05 L1826.78 1551.84 L1842.61 1535.98 L1826.78 1520.04 L1830.88 1515.84 L1846.81 1531.77 L1862.75 1515.84 L1866.88 1520.04 Z\" fill=\"#000000\" fill-rule=\"evenodd\" fill-opacity=\"1\" /><path clip-path=\"url(#clip050)\" d=\"M1885.42 1552.33 L1896.88 1552.33 L1896.88 1512.78 L1884.42 1515.28 L1884.42 1508.89 L1896.81 1506.39 L1903.83 1506.39 L1903.83 1552.33 L1915.29 1552.33 L1915.29 1558.23 L1885.42 1558.23 L1885.42 1552.33 Z\" fill=\"#000000\" fill-rule=\"evenodd\" fill-opacity=\"1\" /><path clip-path=\"url(#clip050)\" d=\"M1944.45 1511.01 Q1939.04 1511.01 1936.29 1516.36 Q1933.58 1521.67 1933.58 1532.37 Q1933.58 1543.02 1936.29 1548.37 Q1939.04 1553.68 1944.45 1553.68 Q1949.9 1553.68 1952.61 1548.37 Q1955.35 1543.02 1955.35 1532.37 Q1955.35 1521.67 1952.61 1516.36 Q1949.9 1511.01 1944.45 1511.01 M1944.45 1505.46 Q1953.17 1505.46 1957.75 1512.37 Q1962.37 1519.24 1962.37 1532.37 Q1962.37 1545.46 1957.75 1552.37 Q1953.17 1559.24 1944.45 1559.24 Q1935.74 1559.24 1931.12 1552.37 Q1926.54 1545.46 1926.54 1532.37 Q1926.54 1519.24 1931.12 1512.37 Q1935.74 1505.46 1944.45 1505.46 Z\" fill=\"#000000\" fill-rule=\"evenodd\" fill-opacity=\"1\" /><path clip-path=\"url(#clip050)\" d=\"M1962.37 1496.61 L1998.54 1496.61 L1998.54 1501.4 L1962.37 1501.4 L1962.37 1496.61 Z\" fill=\"#000000\" fill-rule=\"evenodd\" fill-opacity=\"1\" /><path clip-path=\"url(#clip050)\" d=\"M2011.82 1512.32 L2021.13 1512.32 L2021.13 1480.19 L2011.01 1482.22 L2011.01 1477.03 L2021.08 1475 L2026.78 1475 L2026.78 1512.32 L2036.09 1512.32 L2036.09 1517.12 L2011.82 1517.12 L2011.82 1512.32 Z\" fill=\"#000000\" fill-rule=\"evenodd\" fill-opacity=\"1\" /><path clip-path=\"url(#clip050)\" d=\"M2060.49 1493.79 Q2056.65 1493.79 2054.4 1496.41 Q2052.17 1499.03 2052.17 1503.6 Q2052.17 1508.15 2054.4 1510.8 Q2056.65 1513.42 2060.49 1513.42 Q2064.33 1513.42 2066.55 1510.8 Q2068.81 1508.15 2068.81 1503.6 Q2068.81 1499.03 2066.55 1496.41 Q2064.33 1493.79 2060.49 1493.79 M2071.8 1475.93 L2071.8 1481.12 Q2069.66 1480.1 2067.46 1479.57 Q2065.28 1479.03 2063.14 1479.03 Q2057.5 1479.03 2054.51 1482.84 Q2051.55 1486.65 2051.12 1494.35 Q2052.79 1491.9 2055.3 1490.6 Q2057.81 1489.27 2060.83 1489.27 Q2067.18 1489.27 2070.84 1493.14 Q2074.54 1496.97 2074.54 1503.6 Q2074.54 1510.09 2070.7 1514.01 Q2066.86 1517.94 2060.49 1517.94 Q2053.18 1517.94 2049.32 1512.35 Q2045.45 1506.74 2045.45 1496.1 Q2045.45 1486.11 2050.19 1480.19 Q2054.93 1474.24 2062.92 1474.24 Q2065.06 1474.24 2067.23 1474.66 Q2069.43 1475.08 2071.8 1475.93 Z\" fill=\"#000000\" fill-rule=\"evenodd\" fill-opacity=\"1\" /><path clip-path=\"url(#clip050)\" d=\"M2173.07 1552.33 L2184.53 1552.33 L2184.53 1512.78 L2172.06 1515.28 L2172.06 1508.89 L2184.46 1506.39 L2191.47 1506.39 L2191.47 1552.33 L2202.93 1552.33 L2202.93 1558.23 L2173.07 1558.23 L2173.07 1552.33 Z\" fill=\"#000000\" fill-rule=\"evenodd\" fill-opacity=\"1\" /><path clip-path=\"url(#clip050)\" d=\"M2217.1 1549.41 L2224.43 1549.41 L2224.43 1558.23 L2217.1 1558.23 L2217.1 1549.41 Z\" fill=\"#000000\" fill-rule=\"evenodd\" fill-opacity=\"1\" /><path clip-path=\"url(#clip050)\" d=\"M2254.7 1511.01 Q2249.29 1511.01 2246.54 1516.36 Q2243.84 1521.67 2243.84 1532.37 Q2243.84 1543.02 2246.54 1548.37 Q2249.29 1553.68 2254.7 1553.68 Q2260.15 1553.68 2262.86 1548.37 Q2265.61 1543.02 2265.61 1532.37 Q2265.61 1521.67 2262.86 1516.36 Q2260.15 1511.01 2254.7 1511.01 M2254.7 1505.46 Q2263.42 1505.46 2268 1512.37 Q2272.62 1519.24 2272.62 1532.37 Q2272.62 1545.46 2268 1552.37 Q2263.42 1559.24 2254.7 1559.24 Q2245.99 1559.24 2241.37 1552.37 Q2236.79 1545.46 2236.79 1532.37 Q2236.79 1519.24 2241.37 1512.37 Q2245.99 1505.46 2254.7 1505.46 Z\" fill=\"#000000\" fill-rule=\"evenodd\" fill-opacity=\"1\" /><path clip-path=\"url(#clip050)\" d=\"M2327.2 1520.04 L2311.33 1535.98 L2327.2 1551.84 L2323.07 1556.05 L2307.13 1540.11 L2291.2 1556.05 L2287.1 1551.84 L2302.93 1535.98 L2287.1 1520.04 L2291.2 1515.84 L2307.13 1531.77 L2323.07 1515.84 L2327.2 1520.04 Z\" fill=\"#000000\" fill-rule=\"evenodd\" fill-opacity=\"1\" /><path clip-path=\"url(#clip050)\" d=\"M2345.74 1552.33 L2357.2 1552.33 L2357.2 1512.78 L2344.74 1515.28 L2344.74 1508.89 L2357.13 1506.39 L2364.15 1506.39 L2364.15 1552.33 L2375.61 1552.33 L2375.61 1558.23 L2345.74 1558.23 L2345.74 1552.33 Z\" fill=\"#000000\" fill-rule=\"evenodd\" fill-opacity=\"1\" /><path clip-path=\"url(#clip050)\" d=\"M2404.77 1511.01 Q2399.36 1511.01 2396.61 1516.36 Q2393.9 1521.67 2393.9 1532.37 Q2393.9 1543.02 2396.61 1548.37 Q2399.36 1553.68 2404.77 1553.68 Q2410.22 1553.68 2412.93 1548.37 Q2415.67 1543.02 2415.67 1532.37 Q2415.67 1521.67 2412.93 1516.36 Q2410.22 1511.01 2404.77 1511.01 M2404.77 1505.46 Q2413.49 1505.46 2418.07 1512.37 Q2422.69 1519.24 2422.69 1532.37 Q2422.69 1545.46 2418.07 1552.37 Q2413.49 1559.24 2404.77 1559.24 Q2396.06 1559.24 2391.44 1552.37 Q2386.86 1545.46 2386.86 1532.37 Q2386.86 1519.24 2391.44 1512.37 Q2396.06 1505.46 2404.77 1505.46 Z\" fill=\"#000000\" fill-rule=\"evenodd\" fill-opacity=\"1\" /><path clip-path=\"url(#clip050)\" d=\"M2422.69 1496.61 L2458.86 1496.61 L2458.86 1501.4 L2422.69 1501.4 L2422.69 1496.61 Z\" fill=\"#000000\" fill-rule=\"evenodd\" fill-opacity=\"1\" /><path clip-path=\"url(#clip050)\" d=\"M2472.14 1512.32 L2481.45 1512.32 L2481.45 1480.19 L2471.33 1482.22 L2471.33 1477.03 L2481.4 1475 L2487.1 1475 L2487.1 1512.32 L2496.41 1512.32 L2496.41 1517.12 L2472.14 1517.12 L2472.14 1512.32 Z\" fill=\"#000000\" fill-rule=\"evenodd\" fill-opacity=\"1\" /><path clip-path=\"url(#clip050)\" d=\"M2507.97 1475 L2530.34 1475 L2530.34 1479.79 L2513.19 1479.79 L2513.19 1490.12 Q2514.43 1489.7 2515.67 1489.5 Q2516.92 1489.27 2518.16 1489.27 Q2525.21 1489.27 2529.33 1493.14 Q2533.45 1497 2533.45 1503.6 Q2533.45 1510.4 2529.22 1514.18 Q2524.98 1517.94 2517.28 1517.94 Q2514.63 1517.94 2511.87 1517.48 Q2509.13 1517.03 2506.19 1516.13 L2506.19 1510.4 Q2508.73 1511.79 2511.44 1512.46 Q2514.15 1513.14 2517.17 1513.14 Q2522.05 1513.14 2524.9 1510.57 Q2527.75 1508.01 2527.75 1503.6 Q2527.75 1499.2 2524.9 1496.64 Q2522.05 1494.07 2517.17 1494.07 Q2514.88 1494.07 2512.6 1494.58 Q2510.34 1495.08 2507.97 1496.16 L2507.97 1475 Z\" fill=\"#000000\" fill-rule=\"evenodd\" fill-opacity=\"1\" /><polyline clip-path=\"url(#clip052)\" style=\"stroke:#000000; stroke-linecap:round; stroke-linejoin:round; stroke-width:2; stroke-opacity:0.1; fill:none\" points=\"\n",
       "  509.646,1389.99 2352.76,1389.99 \n",
       "  \"/>\n",
       "<polyline clip-path=\"url(#clip052)\" style=\"stroke:#000000; stroke-linecap:round; stroke-linejoin:round; stroke-width:2; stroke-opacity:0.1; fill:none\" points=\"\n",
       "  509.646,1086.23 2352.76,1086.23 \n",
       "  \"/>\n",
       "<polyline clip-path=\"url(#clip052)\" style=\"stroke:#000000; stroke-linecap:round; stroke-linejoin:round; stroke-width:2; stroke-opacity:0.1; fill:none\" points=\"\n",
       "  509.646,782.475 2352.76,782.475 \n",
       "  \"/>\n",
       "<polyline clip-path=\"url(#clip052)\" style=\"stroke:#000000; stroke-linecap:round; stroke-linejoin:round; stroke-width:2; stroke-opacity:0.1; fill:none\" points=\"\n",
       "  509.646,478.716 2352.76,478.716 \n",
       "  \"/>\n",
       "<polyline clip-path=\"url(#clip052)\" style=\"stroke:#000000; stroke-linecap:round; stroke-linejoin:round; stroke-width:2; stroke-opacity:0.1; fill:none\" points=\"\n",
       "  509.646,174.958 2352.76,174.958 \n",
       "  \"/>\n",
       "<polyline clip-path=\"url(#clip050)\" style=\"stroke:#000000; stroke-linecap:round; stroke-linejoin:round; stroke-width:4; stroke-opacity:1; fill:none\" points=\"\n",
       "  509.646,1450.74 509.646,47.2441 \n",
       "  \"/>\n",
       "<polyline clip-path=\"url(#clip050)\" style=\"stroke:#000000; stroke-linecap:round; stroke-linejoin:round; stroke-width:4; stroke-opacity:1; fill:none\" points=\"\n",
       "  509.646,1389.99 528.544,1389.99 \n",
       "  \"/>\n",
       "<polyline clip-path=\"url(#clip050)\" style=\"stroke:#000000; stroke-linecap:round; stroke-linejoin:round; stroke-width:4; stroke-opacity:1; fill:none\" points=\"\n",
       "  509.646,1086.23 528.544,1086.23 \n",
       "  \"/>\n",
       "<polyline clip-path=\"url(#clip050)\" style=\"stroke:#000000; stroke-linecap:round; stroke-linejoin:round; stroke-width:4; stroke-opacity:1; fill:none\" points=\"\n",
       "  509.646,782.475 528.544,782.475 \n",
       "  \"/>\n",
       "<polyline clip-path=\"url(#clip050)\" style=\"stroke:#000000; stroke-linecap:round; stroke-linejoin:round; stroke-width:4; stroke-opacity:1; fill:none\" points=\"\n",
       "  509.646,478.716 528.544,478.716 \n",
       "  \"/>\n",
       "<polyline clip-path=\"url(#clip050)\" style=\"stroke:#000000; stroke-linecap:round; stroke-linejoin:round; stroke-width:4; stroke-opacity:1; fill:none\" points=\"\n",
       "  509.646,174.958 528.544,174.958 \n",
       "  \"/>\n",
       "<path clip-path=\"url(#clip050)\" d=\"M52.4027 1400.34 L96.9164 1400.34 L96.9164 1406.24 L52.4027 1406.24 L52.4027 1400.34 Z\" fill=\"#000000\" fill-rule=\"evenodd\" fill-opacity=\"1\" /><path clip-path=\"url(#clip050)\" d=\"M113.27 1419.68 L124.729 1419.68 L124.729 1380.13 L112.263 1382.63 L112.263 1376.24 L124.659 1373.74 L131.673 1373.74 L131.673 1419.68 L143.131 1419.68 L143.131 1425.58 L113.27 1425.58 L113.27 1419.68 Z\" fill=\"#000000\" fill-rule=\"evenodd\" fill-opacity=\"1\" /><path clip-path=\"url(#clip050)\" d=\"M157.298 1416.76 L164.624 1416.76 L164.624 1425.58 L157.298 1425.58 L157.298 1416.76 Z\" fill=\"#000000\" fill-rule=\"evenodd\" fill-opacity=\"1\" /><path clip-path=\"url(#clip050)\" d=\"M194.902 1378.36 Q189.485 1378.36 186.742 1383.71 Q184.034 1389.02 184.034 1399.71 Q184.034 1410.37 186.742 1415.72 Q189.485 1421.03 194.902 1421.03 Q200.353 1421.03 203.062 1415.72 Q205.805 1410.37 205.805 1399.71 Q205.805 1389.02 203.062 1383.71 Q200.353 1378.36 194.902 1378.36 M194.902 1372.81 Q203.617 1372.81 208.2 1379.71 Q212.819 1386.59 212.819 1399.71 Q212.819 1412.81 208.2 1419.71 Q203.617 1426.59 194.902 1426.59 Q186.187 1426.59 181.569 1419.71 Q176.985 1412.81 176.985 1399.71 Q176.985 1386.59 181.569 1379.71 Q186.187 1372.81 194.902 1372.81 Z\" fill=\"#000000\" fill-rule=\"evenodd\" fill-opacity=\"1\" /><path clip-path=\"url(#clip050)\" d=\"M267.402 1387.39 L251.534 1403.33 L267.402 1419.19 L263.27 1423.4 L247.332 1407.46 L231.395 1423.4 L227.298 1419.19 L243.131 1403.33 L227.298 1387.39 L231.395 1383.19 L247.332 1399.12 L263.27 1383.19 L267.402 1387.39 Z\" fill=\"#000000\" fill-rule=\"evenodd\" fill-opacity=\"1\" /><path clip-path=\"url(#clip050)\" d=\"M285.943 1419.68 L297.401 1419.68 L297.401 1380.13 L284.936 1382.63 L284.936 1376.24 L297.332 1373.74 L304.346 1373.74 L304.346 1419.68 L315.804 1419.68 L315.804 1425.58 L285.943 1425.58 L285.943 1419.68 Z\" fill=\"#000000\" fill-rule=\"evenodd\" fill-opacity=\"1\" /><path clip-path=\"url(#clip050)\" d=\"M344.971 1378.36 Q339.554 1378.36 336.811 1383.71 Q334.103 1389.02 334.103 1399.71 Q334.103 1410.37 336.811 1415.72 Q339.554 1421.03 344.971 1421.03 Q350.422 1421.03 353.13 1415.72 Q355.873 1410.37 355.873 1399.71 Q355.873 1389.02 353.13 1383.71 Q350.422 1378.36 344.971 1378.36 M344.971 1372.81 Q353.686 1372.81 358.269 1379.71 Q362.887 1386.59 362.887 1399.71 Q362.887 1412.81 358.269 1419.71 Q353.686 1426.59 344.971 1426.59 Q336.255 1426.59 331.637 1419.71 Q327.054 1412.81 327.054 1399.71 Q327.054 1386.59 331.637 1379.71 Q336.255 1372.81 344.971 1372.81 Z\" fill=\"#000000\" fill-rule=\"evenodd\" fill-opacity=\"1\" /><path clip-path=\"url(#clip050)\" d=\"M362.887 1363.96 L399.054 1363.96 L399.054 1368.75 L362.887 1368.75 L362.887 1363.96 Z\" fill=\"#000000\" fill-rule=\"evenodd\" fill-opacity=\"1\" /><path clip-path=\"url(#clip050)\" d=\"M412.342 1379.67 L421.652 1379.67 L421.652 1347.54 L411.524 1349.57 L411.524 1344.38 L421.596 1342.35 L427.294 1342.35 L427.294 1379.67 L436.604 1379.67 L436.604 1384.47 L412.342 1384.47 L412.342 1379.67 Z\" fill=\"#000000\" fill-rule=\"evenodd\" fill-opacity=\"1\" /><path clip-path=\"url(#clip050)\" d=\"M448.171 1342.35 L470.543 1342.35 L470.543 1347.14 L453.39 1347.14 L453.39 1357.47 Q454.631 1357.05 455.873 1356.85 Q457.114 1356.62 458.355 1356.62 Q465.408 1356.62 469.527 1360.49 Q473.646 1364.35 473.646 1370.95 Q473.646 1377.75 469.414 1381.53 Q465.183 1385.29 457.481 1385.29 Q454.829 1385.29 452.064 1384.83 Q449.328 1384.38 446.394 1383.48 L446.394 1377.75 Q448.933 1379.14 451.641 1379.81 Q454.349 1380.49 457.368 1380.49 Q462.249 1380.49 465.098 1377.92 Q467.947 1375.35 467.947 1370.95 Q467.947 1366.55 465.098 1363.99 Q462.249 1361.42 457.368 1361.42 Q455.083 1361.42 452.798 1361.93 Q450.541 1362.43 448.171 1363.51 L448.171 1342.35 Z\" fill=\"#000000\" fill-rule=\"evenodd\" fill-opacity=\"1\" /><path clip-path=\"url(#clip050)\" d=\"M50.9921 1096.58 L95.5058 1096.58 L95.5058 1102.48 L50.9921 1102.48 L50.9921 1096.58 Z\" fill=\"#000000\" fill-rule=\"evenodd\" fill-opacity=\"1\" /><path clip-path=\"url(#clip050)\" d=\"M110.714 1069.98 L138.249 1069.98 L138.249 1075.89 L117.138 1075.89 L117.138 1088.6 Q118.665 1088.07 120.193 1087.83 Q121.721 1087.55 123.249 1087.55 Q131.929 1087.55 136.999 1092.31 Q142.068 1097.07 142.068 1105.19 Q142.068 1113.56 136.86 1118.21 Q131.651 1122.83 122.172 1122.83 Q118.908 1122.83 115.506 1122.28 Q112.138 1121.72 108.527 1120.61 L108.527 1113.56 Q111.652 1115.26 114.985 1116.1 Q118.318 1116.93 122.033 1116.93 Q128.04 1116.93 131.547 1113.77 Q135.054 1110.61 135.054 1105.19 Q135.054 1099.78 131.547 1096.62 Q128.04 1093.46 122.033 1093.46 Q119.221 1093.46 116.408 1094.08 Q113.631 1094.71 110.714 1096.03 L110.714 1069.98 Z\" fill=\"#000000\" fill-rule=\"evenodd\" fill-opacity=\"1\" /><path clip-path=\"url(#clip050)\" d=\"M155.887 1113.01 L163.214 1113.01 L163.214 1121.82 L155.887 1121.82 L155.887 1113.01 Z\" fill=\"#000000\" fill-rule=\"evenodd\" fill-opacity=\"1\" /><path clip-path=\"url(#clip050)\" d=\"M193.491 1074.6 Q188.075 1074.6 185.332 1079.95 Q182.623 1085.26 182.623 1095.96 Q182.623 1106.62 185.332 1111.96 Q188.075 1117.28 193.491 1117.28 Q198.943 1117.28 201.651 1111.96 Q204.394 1106.62 204.394 1095.96 Q204.394 1085.26 201.651 1079.95 Q198.943 1074.6 193.491 1074.6 M193.491 1069.05 Q202.207 1069.05 206.79 1075.96 Q211.408 1082.83 211.408 1095.96 Q211.408 1109.05 206.79 1115.96 Q202.207 1122.83 193.491 1122.83 Q184.776 1122.83 180.158 1115.96 Q175.575 1109.05 175.575 1095.96 Q175.575 1082.83 180.158 1075.96 Q184.776 1069.05 193.491 1069.05 Z\" fill=\"#000000\" fill-rule=\"evenodd\" fill-opacity=\"1\" /><path clip-path=\"url(#clip050)\" d=\"M265.991 1083.63 L250.123 1099.57 L265.991 1115.44 L261.859 1119.64 L245.922 1103.7 L229.984 1119.64 L225.887 1115.44 L241.72 1099.57 L225.887 1083.63 L229.984 1079.43 L245.922 1095.37 L261.859 1079.43 L265.991 1083.63 Z\" fill=\"#000000\" fill-rule=\"evenodd\" fill-opacity=\"1\" /><path clip-path=\"url(#clip050)\" d=\"M284.533 1115.92 L295.991 1115.92 L295.991 1076.37 L283.526 1078.87 L283.526 1072.48 L295.921 1069.98 L302.935 1069.98 L302.935 1115.92 L314.393 1115.92 L314.393 1121.82 L284.533 1121.82 L284.533 1115.92 Z\" fill=\"#000000\" fill-rule=\"evenodd\" fill-opacity=\"1\" /><path clip-path=\"url(#clip050)\" d=\"M343.56 1074.6 Q338.143 1074.6 335.4 1079.95 Q332.692 1085.26 332.692 1095.96 Q332.692 1106.62 335.4 1111.96 Q338.143 1117.28 343.56 1117.28 Q349.011 1117.28 351.72 1111.96 Q354.463 1106.62 354.463 1095.96 Q354.463 1085.26 351.72 1079.95 Q349.011 1074.6 343.56 1074.6 M343.56 1069.05 Q352.275 1069.05 356.859 1075.96 Q361.477 1082.83 361.477 1095.96 Q361.477 1109.05 356.859 1115.96 Q352.275 1122.83 343.56 1122.83 Q334.845 1122.83 330.227 1115.96 Q325.643 1109.05 325.643 1095.96 Q325.643 1082.83 330.227 1075.96 Q334.845 1069.05 343.56 1069.05 Z\" fill=\"#000000\" fill-rule=\"evenodd\" fill-opacity=\"1\" /><path clip-path=\"url(#clip050)\" d=\"M361.477 1060.2 L397.644 1060.2 L397.644 1064.99 L361.477 1064.99 L361.477 1060.2 Z\" fill=\"#000000\" fill-rule=\"evenodd\" fill-opacity=\"1\" /><path clip-path=\"url(#clip050)\" d=\"M410.932 1075.91 L420.241 1075.91 L420.241 1043.78 L410.113 1045.81 L410.113 1040.62 L420.185 1038.59 L425.884 1038.59 L425.884 1075.91 L435.194 1075.91 L435.194 1080.71 L410.932 1080.71 L410.932 1075.91 Z\" fill=\"#000000\" fill-rule=\"evenodd\" fill-opacity=\"1\" /><path clip-path=\"url(#clip050)\" d=\"M459.597 1057.38 Q455.76 1057.38 453.503 1060 Q451.274 1062.63 451.274 1067.2 Q451.274 1071.74 453.503 1074.39 Q455.76 1077.01 459.597 1077.01 Q463.433 1077.01 465.662 1074.39 Q467.919 1071.74 467.919 1067.2 Q467.919 1062.63 465.662 1060 Q463.433 1057.38 459.597 1057.38 M470.91 1039.52 L470.91 1044.71 Q468.765 1043.7 466.565 1043.16 Q464.393 1042.62 462.249 1042.62 Q456.606 1042.62 453.616 1046.43 Q450.654 1050.24 450.23 1057.94 Q451.895 1055.49 454.406 1054.19 Q456.917 1052.86 459.935 1052.86 Q466.283 1052.86 469.95 1056.73 Q473.646 1060.57 473.646 1067.2 Q473.646 1073.68 469.809 1077.61 Q465.973 1081.53 459.597 1081.53 Q452.29 1081.53 448.425 1075.94 Q444.56 1070.33 444.56 1059.69 Q444.56 1049.7 449.299 1043.78 Q454.039 1037.83 462.023 1037.83 Q464.167 1037.83 466.339 1038.25 Q468.54 1038.67 470.91 1039.52 Z\" fill=\"#000000\" fill-rule=\"evenodd\" fill-opacity=\"1\" /><path clip-path=\"url(#clip050)\" d=\"M455.73 761.173 Q450.313 761.173 447.57 766.52 Q444.862 771.832 444.862 782.527 Q444.862 793.186 447.57 798.534 Q450.313 803.846 455.73 803.846 Q461.181 803.846 463.889 798.534 Q466.632 793.186 466.632 782.527 Q466.632 771.832 463.889 766.52 Q461.181 761.173 455.73 761.173 M455.73 755.617 Q464.445 755.617 469.028 762.527 Q473.646 769.402 473.646 782.527 Q473.646 795.617 469.028 802.527 Q464.445 809.402 455.73 809.402 Q447.014 809.402 442.396 802.527 Q437.813 795.617 437.813 782.527 Q437.813 769.402 442.396 762.527 Q447.014 755.617 455.73 755.617 Z\" fill=\"#000000\" fill-rule=\"evenodd\" fill-opacity=\"1\" /><path clip-path=\"url(#clip050)\" d=\"M110.714 462.468 L138.249 462.468 L138.249 468.371 L117.138 468.371 L117.138 481.079 Q118.665 480.558 120.193 480.315 Q121.721 480.037 123.249 480.037 Q131.929 480.037 136.999 484.794 Q142.068 489.551 142.068 497.676 Q142.068 506.044 136.86 510.697 Q131.651 515.315 122.172 515.315 Q118.908 515.315 115.506 514.759 Q112.138 514.204 108.527 513.093 L108.527 506.044 Q111.652 507.745 114.985 508.579 Q118.318 509.412 122.033 509.412 Q128.04 509.412 131.547 506.252 Q135.054 503.093 135.054 497.676 Q135.054 492.259 131.547 489.1 Q128.04 485.94 122.033 485.94 Q119.221 485.94 116.408 486.565 Q113.631 487.19 110.714 488.509 L110.714 462.468 Z\" fill=\"#000000\" fill-rule=\"evenodd\" fill-opacity=\"1\" /><path clip-path=\"url(#clip050)\" d=\"M155.887 505.488 L163.214 505.488 L163.214 514.308 L155.887 514.308 L155.887 505.488 Z\" fill=\"#000000\" fill-rule=\"evenodd\" fill-opacity=\"1\" /><path clip-path=\"url(#clip050)\" d=\"M193.491 467.086 Q188.075 467.086 185.332 472.433 Q182.623 477.746 182.623 488.44 Q182.623 499.1 185.332 504.447 Q188.075 509.759 193.491 509.759 Q198.943 509.759 201.651 504.447 Q204.394 499.1 204.394 488.44 Q204.394 477.746 201.651 472.433 Q198.943 467.086 193.491 467.086 M193.491 461.53 Q202.207 461.53 206.79 468.44 Q211.408 475.315 211.408 488.44 Q211.408 501.53 206.79 508.44 Q202.207 515.315 193.491 515.315 Q184.776 515.315 180.158 508.44 Q175.575 501.53 175.575 488.44 Q175.575 475.315 180.158 468.44 Q184.776 461.53 193.491 461.53 Z\" fill=\"#000000\" fill-rule=\"evenodd\" fill-opacity=\"1\" /><path clip-path=\"url(#clip050)\" d=\"M265.991 476.114 L250.123 492.051 L265.991 507.919 L261.859 512.12 L245.922 496.183 L229.984 512.12 L225.887 507.919 L241.72 492.051 L225.887 476.114 L229.984 471.912 L245.922 487.85 L261.859 471.912 L265.991 476.114 Z\" fill=\"#000000\" fill-rule=\"evenodd\" fill-opacity=\"1\" /><path clip-path=\"url(#clip050)\" d=\"M284.533 508.405 L295.991 508.405 L295.991 468.857 L283.526 471.357 L283.526 464.968 L295.921 462.468 L302.935 462.468 L302.935 508.405 L314.393 508.405 L314.393 514.308 L284.533 514.308 L284.533 508.405 Z\" fill=\"#000000\" fill-rule=\"evenodd\" fill-opacity=\"1\" /><path clip-path=\"url(#clip050)\" d=\"M343.56 467.086 Q338.143 467.086 335.4 472.433 Q332.692 477.746 332.692 488.44 Q332.692 499.1 335.4 504.447 Q338.143 509.759 343.56 509.759 Q349.011 509.759 351.72 504.447 Q354.463 499.1 354.463 488.44 Q354.463 477.746 351.72 472.433 Q349.011 467.086 343.56 467.086 M343.56 461.53 Q352.275 461.53 356.859 468.44 Q361.477 475.315 361.477 488.44 Q361.477 501.53 356.859 508.44 Q352.275 515.315 343.56 515.315 Q334.845 515.315 330.227 508.44 Q325.643 501.53 325.643 488.44 Q325.643 475.315 330.227 468.44 Q334.845 461.53 343.56 461.53 Z\" fill=\"#000000\" fill-rule=\"evenodd\" fill-opacity=\"1\" /><path clip-path=\"url(#clip050)\" d=\"M361.477 452.682 L397.644 452.682 L397.644 457.478 L361.477 457.478 L361.477 452.682 Z\" fill=\"#000000\" fill-rule=\"evenodd\" fill-opacity=\"1\" /><path clip-path=\"url(#clip050)\" d=\"M410.932 468.396 L420.241 468.396 L420.241 436.263 L410.113 438.294 L410.113 433.103 L420.185 431.072 L425.884 431.072 L425.884 468.396 L435.194 468.396 L435.194 473.192 L410.932 473.192 L410.932 468.396 Z\" fill=\"#000000\" fill-rule=\"evenodd\" fill-opacity=\"1\" /><path clip-path=\"url(#clip050)\" d=\"M459.597 449.861 Q455.76 449.861 453.503 452.485 Q451.274 455.109 451.274 459.679 Q451.274 464.221 453.503 466.873 Q455.76 469.496 459.597 469.496 Q463.433 469.496 465.662 466.873 Q467.919 464.221 467.919 459.679 Q467.919 455.109 465.662 452.485 Q463.433 449.861 459.597 449.861 M470.91 432.003 L470.91 437.194 Q468.765 436.179 466.565 435.643 Q464.393 435.106 462.249 435.106 Q456.606 435.106 453.616 438.915 Q450.654 442.724 450.23 450.425 Q451.895 447.971 454.406 446.673 Q456.917 445.347 459.935 445.347 Q466.283 445.347 469.95 449.212 Q473.646 453.049 473.646 459.679 Q473.646 466.168 469.809 470.089 Q465.973 474.01 459.597 474.01 Q452.29 474.01 448.425 468.424 Q444.56 462.81 444.56 452.175 Q444.56 442.188 449.299 436.263 Q454.039 430.311 462.023 430.311 Q464.167 430.311 466.339 430.734 Q468.54 431.157 470.91 432.003 Z\" fill=\"#000000\" fill-rule=\"evenodd\" fill-opacity=\"1\" /><path clip-path=\"url(#clip050)\" d=\"M113.27 204.647 L124.729 204.647 L124.729 165.098 L112.263 167.598 L112.263 161.209 L124.659 158.709 L131.673 158.709 L131.673 204.647 L143.131 204.647 L143.131 210.549 L113.27 210.549 L113.27 204.647 Z\" fill=\"#000000\" fill-rule=\"evenodd\" fill-opacity=\"1\" /><path clip-path=\"url(#clip050)\" d=\"M157.298 201.73 L164.624 201.73 L164.624 210.549 L157.298 210.549 L157.298 201.73 Z\" fill=\"#000000\" fill-rule=\"evenodd\" fill-opacity=\"1\" /><path clip-path=\"url(#clip050)\" d=\"M194.902 163.328 Q189.485 163.328 186.742 168.675 Q184.034 173.987 184.034 184.682 Q184.034 195.341 186.742 200.688 Q189.485 206.001 194.902 206.001 Q200.353 206.001 203.062 200.688 Q205.805 195.341 205.805 184.682 Q205.805 173.987 203.062 168.675 Q200.353 163.328 194.902 163.328 M194.902 157.772 Q203.617 157.772 208.2 164.682 Q212.819 171.557 212.819 184.682 Q212.819 197.772 208.2 204.681 Q203.617 211.556 194.902 211.556 Q186.187 211.556 181.569 204.681 Q176.985 197.772 176.985 184.682 Q176.985 171.557 181.569 164.682 Q186.187 157.772 194.902 157.772 Z\" fill=\"#000000\" fill-rule=\"evenodd\" fill-opacity=\"1\" /><path clip-path=\"url(#clip050)\" d=\"M267.402 172.355 L251.534 188.293 L267.402 204.161 L263.27 208.362 L247.332 192.425 L231.395 208.362 L227.298 204.161 L243.131 188.293 L227.298 172.355 L231.395 168.154 L247.332 184.091 L263.27 168.154 L267.402 172.355 Z\" fill=\"#000000\" fill-rule=\"evenodd\" fill-opacity=\"1\" /><path clip-path=\"url(#clip050)\" d=\"M285.943 204.647 L297.401 204.647 L297.401 165.098 L284.936 167.598 L284.936 161.209 L297.332 158.709 L304.346 158.709 L304.346 204.647 L315.804 204.647 L315.804 210.549 L285.943 210.549 L285.943 204.647 Z\" fill=\"#000000\" fill-rule=\"evenodd\" fill-opacity=\"1\" /><path clip-path=\"url(#clip050)\" d=\"M344.971 163.328 Q339.554 163.328 336.811 168.675 Q334.103 173.987 334.103 184.682 Q334.103 195.341 336.811 200.688 Q339.554 206.001 344.971 206.001 Q350.422 206.001 353.13 200.688 Q355.873 195.341 355.873 184.682 Q355.873 173.987 353.13 168.675 Q350.422 163.328 344.971 163.328 M344.971 157.772 Q353.686 157.772 358.269 164.682 Q362.887 171.557 362.887 184.682 Q362.887 197.772 358.269 204.681 Q353.686 211.556 344.971 211.556 Q336.255 211.556 331.637 204.681 Q327.054 197.772 327.054 184.682 Q327.054 171.557 331.637 164.682 Q336.255 157.772 344.971 157.772 Z\" fill=\"#000000\" fill-rule=\"evenodd\" fill-opacity=\"1\" /><path clip-path=\"url(#clip050)\" d=\"M362.887 148.924 L399.054 148.924 L399.054 153.72 L362.887 153.72 L362.887 148.924 Z\" fill=\"#000000\" fill-rule=\"evenodd\" fill-opacity=\"1\" /><path clip-path=\"url(#clip050)\" d=\"M412.342 164.638 L421.652 164.638 L421.652 132.505 L411.524 134.536 L411.524 129.345 L421.596 127.314 L427.294 127.314 L427.294 164.638 L436.604 164.638 L436.604 169.434 L412.342 169.434 L412.342 164.638 Z\" fill=\"#000000\" fill-rule=\"evenodd\" fill-opacity=\"1\" /><path clip-path=\"url(#clip050)\" d=\"M448.171 127.314 L470.543 127.314 L470.543 132.11 L453.39 132.11 L453.39 142.435 Q454.631 142.012 455.873 141.815 Q457.114 141.589 458.355 141.589 Q465.408 141.589 469.527 145.454 Q473.646 149.319 473.646 155.921 Q473.646 162.72 469.414 166.5 Q465.183 170.252 457.481 170.252 Q454.829 170.252 452.064 169.801 Q449.328 169.349 446.394 168.446 L446.394 162.72 Q448.933 164.102 451.641 164.779 Q454.349 165.456 457.368 165.456 Q462.249 165.456 465.098 162.889 Q467.947 160.322 467.947 155.921 Q467.947 151.519 465.098 148.952 Q462.249 146.385 457.368 146.385 Q455.083 146.385 452.798 146.893 Q450.541 147.401 448.171 148.473 L448.171 127.314 Z\" fill=\"#000000\" fill-rule=\"evenodd\" fill-opacity=\"1\" /><polyline clip-path=\"url(#clip052)\" style=\"stroke:#009af9; stroke-linecap:round; stroke-linejoin:round; stroke-width:12; stroke-opacity:1; fill:none\" points=\"\n",
       "  509.646,1389.51 512.646,1389.51 515.646,1389.51 518.646,1389.51 521.646,1389.51 528.58,1389.51 535.515,1389.51 542.45,1389.51 549.384,1389.51 552.852,1389.51 \n",
       "  556.319,1389.51 558.053,1389.51 559.786,1389.51 560.653,1389.51 561.52,1389.51 562.387,1322.06 563.254,1322.06 564.12,1322.06 564.987,1322.06 565.854,1322.06 \n",
       "  566.721,1322.06 568.455,1322.06 570.188,1322.06 573.655,1322.06 577.123,1322.06 590.992,1322.06 604.861,1322.06 618.731,1322.06 632.6,1322.06 640.935,1322.06 \n",
       "  649.27,1322.06 653.437,1322.06 657.604,1322.06 658.646,1322.06 659.688,1322.06 660.73,1322.06 661.772,1322.06 662.293,1322.06 662.814,1322.06 663.335,1322.06 \n",
       "  663.856,1254.61 664.376,1254.61 664.897,1254.61 665.418,1254.61 665.939,1254.61 668.023,1254.61 670.107,1254.61 672.19,1254.61 674.274,1254.61 678.442,1254.61 \n",
       "  682.609,1254.61 690.944,1254.61 699.279,1254.61 713.373,1254.61 727.467,1254.61 734.514,1254.61 741.561,1254.61 748.608,1254.61 755.655,1254.61 757.568,1254.61 \n",
       "  759.482,1254.61 761.396,1254.61 763.31,1254.61 763.788,1254.61 764.267,1254.61 764.745,1254.61 765.224,1254.61 765.702,1254.61 766.18,1187.16 766.659,1187.16 \n",
       "  767.137,1187.16 768.094,1187.16 769.051,1187.16 770.008,1187.16 770.965,1187.16 774.792,1187.16 778.62,1187.16 782.447,1187.16 786.275,1187.16 801.585,1187.16 \n",
       "  816.895,1187.16 831.009,1187.16 845.124,1187.16 852.181,1187.16 859.238,1187.16 861.003,1187.16 862.767,1187.16 864.531,1187.16 866.296,1187.16 866.737,1187.16 \n",
       "  867.178,1187.16 867.619,1187.16 868.06,1187.16 868.501,1119.71 868.942,1119.71 869.383,1119.71 869.824,1119.71 870.707,1119.71 871.589,1119.71 872.471,1119.71 \n",
       "  873.353,1119.71 875.245,1119.71 877.136,1119.71 879.028,1119.71 880.919,1119.71 884.702,1119.71 888.485,1119.71 896.051,1119.71 903.617,1119.71 918.75,1119.71 \n",
       "  933.882,1119.71 942.648,1119.71 951.414,1119.71 955.797,1119.71 960.18,1119.71 962.372,1119.71 964.563,1119.71 965.659,1119.71 966.755,1119.71 967.851,1119.71 \n",
       "  968.946,1119.71 969.494,1119.71 970.042,1119.71 970.59,1119.71 971.138,1052.27 971.686,1052.27 972.234,1052.27 972.782,1052.27 973.329,1052.27 975.521,1052.27 \n",
       "  977.712,1052.27 982.096,1052.27 986.479,1052.27 995.245,1052.27 1004.01,1052.27 1019.59,1052.27 1035.17,1052.27 1042.96,1052.27 1050.75,1052.27 1054.65,1052.27 \n",
       "  1058.54,1052.27 1062.44,1052.27 1066.33,1052.27 1068.04,1052.27 1069.75,1052.27 1070.6,1052.27 1071.46,1052.27 1071.88,1052.27 1072.31,1052.27 1072.74,1052.27 \n",
       "  1073.16,984.818 1073.59,984.818 1074.02,984.818 1074.45,984.818 1074.87,984.818 1075.73,984.818 1076.58,984.818 1078.29,984.818 1080,984.818 1086.83,984.818 \n",
       "  1093.66,984.818 1107.32,984.818 1120.98,984.818 1135.88,984.818 1150.78,984.818 1158.22,984.818 1165.67,984.818 1167.53,984.818 1169.4,984.818 1171.26,984.818 \n",
       "  1173.12,984.818 1173.59,984.818 1174.05,984.818 1174.52,984.818 1174.98,984.818 1175.45,917.371 1175.91,917.371 1176.38,917.371 1176.84,917.371 1177.78,917.371 \n",
       "  1178.71,917.371 1179.64,917.371 1180.57,917.371 1188.06,917.371 1195.55,917.371 1203.04,917.371 1210.54,917.371 1225.52,917.371 1240.51,917.371 1248.79,917.371 \n",
       "  1257.07,917.371 1261.22,917.371 1265.36,917.371 1267.43,917.371 1269.5,917.371 1271.57,917.371 1273.64,917.371 1274.68,917.371 1275.71,917.371 1276.23,917.371 \n",
       "  1276.75,917.371 1277.27,917.371 1277.78,849.923 1278.3,849.923 1278.82,849.923 1279.34,849.923 1279.85,849.923 1280.89,849.923 1281.92,849.923 1286.07,849.923 \n",
       "  1290.21,849.923 1298.49,849.923 1306.78,849.923 1322.54,849.923 1338.3,849.923 1354.07,849.923 1369.83,849.923 1371.88,849.923 1373.93,849.923 1374.95,849.923 \n",
       "  1375.98,849.923 1377,849.923 1378.02,849.923 1378.54,849.923 1379.05,849.923 1379.56,849.923 1380.07,782.475 1380.59,782.475 1381.1,782.475 1381.61,782.475 \n",
       "  1382.12,782.475 1384.17,782.475 1386.22,782.475 1390.32,782.475 1394.42,782.475 1398.51,782.475 1402.61,782.475 1419,782.475 1435.39,782.475 1462.99,782.475 \n",
       "  1490.58,782.475 1499,782.475 1507.42,782.475 1515.85,782.475 1524.27,782.475 1526.37,782.475 1528.48,782.475 1529.53,782.475 1530.59,782.475 1531.11,782.475 \n",
       "  1531.64,782.475 1532.17,782.475 1532.69,782.475 1533.22,782.475 1533.74,647.579 1534.27,647.579 1534.8,647.579 1535.85,647.579 1536.9,647.579 1539.01,647.579 \n",
       "  1541.11,647.579 1545.33,647.579 1549.54,647.579 1553.75,647.579 1557.96,647.579 1588.82,647.579 1619.68,647.579 1648.19,647.579 1676.69,647.579 1691.12,647.579 \n",
       "  1705.56,647.579 1712.78,647.579 1720,647.579 1727.22,647.579 1734.43,647.579 1735.45,647.579 1736.46,647.579 1736.96,647.579 1737.47,647.579 1737.97,647.579 \n",
       "  1738.48,512.683 1738.98,512.683 1739.49,512.683 1740,512.683 1740.5,512.683 1741.51,512.683 1742.52,512.683 1746.57,512.683 1750.61,512.683 1758.7,512.683 \n",
       "  1766.79,512.683 1782.97,512.683 1799.15,512.683 1828.47,512.683 1857.79,512.683 1891.37,512.683 1924.94,512.683 1928.82,512.683 1932.71,512.683 1934.65,512.683 \n",
       "  1936.59,512.683 1938.54,512.683 1940.48,512.683 1940.97,512.683 1941.45,512.683 1941.94,512.683 1942.42,512.683 1942.91,377.787 1943.39,377.787 1943.88,377.787 \n",
       "  1944.37,377.787 1945.34,377.787 1946.31,377.787 1947.28,377.787 1948.25,377.787 1952.14,377.787 1956.02,377.787 1971.56,377.787 1987.11,377.787 2017.75,377.787 \n",
       "  2048.4,377.787 2078.15,377.787 2107.91,377.787 2123.16,377.787 2138.41,377.787 2140.31,377.787 2142.22,377.787 2143.17,377.787 2144.13,377.787 2145.08,377.787 \n",
       "  2146.03,377.787 2146.51,377.787 2146.99,377.787 2147.46,242.892 2147.94,242.892 2148.42,242.892 2148.89,242.892 2149.37,242.892 2149.85,242.892 2151.75,242.892 \n",
       "  2153.66,242.892 2157.47,242.892 2161.28,242.892 2165.1,242.892 2168.91,242.892 2202.33,242.892 2235.75,242.892 2284.29,242.892 2332.84,242.892 2342.8,242.892 \n",
       "  2352.76,107.996 \n",
       "  \"/>\n",
       "<polyline clip-path=\"url(#clip052)\" style=\"stroke:#e26f46; stroke-linecap:round; stroke-linejoin:round; stroke-width:12; stroke-opacity:1; fill:none\" points=\"\n",
       "  509.646,1389.99 521.646,1382.08 632.6,1308.94 699.279,1264.98 755.655,1227.82 816.895,1187.44 873.353,1150.22 933.882,1110.32 1004.01,1064.09 1066.33,1023.01 \n",
       "  1120.98,986.979 1180.57,947.699 1240.51,908.186 1306.78,864.499 1369.83,822.933 1435.39,779.713 1490.58,743.331 1557.96,698.912 1619.68,658.222 1676.69,620.642 \n",
       "  1734.43,582.574 1799.15,539.911 1857.79,501.251 1924.94,456.989 1987.11,416.005 2048.4,375.6 2107.91,336.371 2168.91,296.155 2235.75,252.094 2332.84,188.089 \n",
       "  2352.76,174.958 \n",
       "  \"/>\n",
       "<path clip-path=\"url(#clip050)\" d=\"\n",
       "M1838.21 288.427 L2291.32 288.427 L2291.32 94.0274 L1838.21 94.0274  Z\n",
       "  \" fill=\"#ffffff\" fill-rule=\"evenodd\" fill-opacity=\"1\"/>\n",
       "<polyline clip-path=\"url(#clip050)\" style=\"stroke:#000000; stroke-linecap:round; stroke-linejoin:round; stroke-width:4; stroke-opacity:1; fill:none\" points=\"\n",
       "  1838.21,288.427 2291.32,288.427 2291.32,94.0274 1838.21,94.0274 1838.21,288.427 \n",
       "  \"/>\n",
       "<polyline clip-path=\"url(#clip050)\" style=\"stroke:#009af9; stroke-linecap:round; stroke-linejoin:round; stroke-width:5; stroke-opacity:1; fill:none\" points=\"\n",
       "  1858.69,158.827 1981.56,158.827 \n",
       "  \"/>\n",
       "<path clip-path=\"url(#clip050)\" d=\"M2002.04 135.404 L2007.36 135.404 L2007.36 180.427 L2002.04 180.427 L2002.04 135.404 Z\" fill=\"#000000\" fill-rule=\"evenodd\" fill-opacity=\"1\" /><path clip-path=\"url(#clip050)\" d=\"M2031.06 151.753 Q2026.78 151.753 2024.29 155.109 Q2021.8 158.437 2021.8 164.253 Q2021.8 170.069 2024.26 173.425 Q2026.75 176.753 2031.06 176.753 Q2035.32 176.753 2037.8 173.396 Q2040.29 170.04 2040.29 164.253 Q2040.29 158.495 2037.8 155.138 Q2035.32 151.753 2031.06 151.753 M2031.06 147.239 Q2038.01 147.239 2041.97 151.753 Q2045.93 156.267 2045.93 164.253 Q2045.93 172.21 2041.97 176.753 Q2038.01 181.267 2031.06 181.267 Q2024.09 181.267 2020.12 176.753 Q2016.19 172.21 2016.19 164.253 Q2016.19 156.267 2020.12 151.753 Q2024.09 147.239 2031.06 147.239 Z\" fill=\"#000000\" fill-rule=\"evenodd\" fill-opacity=\"1\" /><path clip-path=\"url(#clip050)\" d=\"M2076.09 163.848 Q2076.09 158.061 2073.68 154.878 Q2071.31 151.695 2067 151.695 Q2062.72 151.695 2060.32 154.878 Q2057.94 158.061 2057.94 163.848 Q2057.94 169.606 2060.32 172.789 Q2062.72 175.971 2067 175.971 Q2071.31 175.971 2073.68 172.789 Q2076.09 169.606 2076.09 163.848 M2081.41 176.405 Q2081.41 184.681 2077.73 188.703 Q2074.06 192.754 2066.48 192.754 Q2063.67 192.754 2061.18 192.32 Q2058.7 191.915 2056.35 191.047 L2056.35 185.867 Q2058.7 187.14 2060.98 187.748 Q2063.27 188.356 2065.64 188.356 Q2070.88 188.356 2073.48 185.607 Q2076.09 182.887 2076.09 177.36 L2076.09 174.727 Q2074.44 177.592 2071.86 179.01 Q2069.29 180.427 2065.7 180.427 Q2059.74 180.427 2056.09 175.885 Q2052.45 171.342 2052.45 163.848 Q2052.45 156.325 2056.09 151.782 Q2059.74 147.239 2065.7 147.239 Q2069.29 147.239 2071.86 148.657 Q2074.44 150.075 2076.09 152.939 L2076.09 148.02 L2081.41 148.02 L2081.41 176.405 Z\" fill=\"#000000\" fill-rule=\"evenodd\" fill-opacity=\"1\" /><path clip-path=\"url(#clip050)\" d=\"M2105.16 135.462 Q2101.29 142.117 2099.41 148.628 Q2097.53 155.138 2097.53 161.822 Q2097.53 168.506 2099.41 175.074 Q2101.32 181.614 2105.16 188.24 L2100.54 188.24 Q2096.2 181.44 2094.02 174.872 Q2091.88 168.304 2091.88 161.822 Q2091.88 155.37 2094.02 148.83 Q2096.17 142.291 2100.54 135.462 L2105.16 135.462 Z\" fill=\"#000000\" fill-rule=\"evenodd\" fill-opacity=\"1\" /><path clip-path=\"url(#clip050)\" d=\"M2117.26 175.508 L2126.81 175.508 L2126.81 142.551 L2116.42 144.635 L2116.42 139.311 L2126.75 137.227 L2132.6 137.227 L2132.6 175.508 L2142.14 175.508 L2142.14 180.427 L2117.26 180.427 L2117.26 175.508 Z\" fill=\"#000000\" fill-rule=\"evenodd\" fill-opacity=\"1\" /><path clip-path=\"url(#clip050)\" d=\"M2174.87 143.275 L2174.87 159.392 L2190.99 159.392 L2190.99 164.311 L2174.87 164.311 L2174.87 180.427 L2170.01 180.427 L2170.01 164.311 L2153.89 164.311 L2153.89 159.392 L2170.01 159.392 L2170.01 143.275 L2174.87 143.275 Z\" fill=\"#000000\" fill-rule=\"evenodd\" fill-opacity=\"1\" /><path clip-path=\"url(#clip050)\" d=\"M2229.79 148.02 L2218.07 163.79 L2230.4 180.427 L2224.12 180.427 L2214.68 167.696 L2205.25 180.427 L2198.97 180.427 L2211.56 163.471 L2200.04 148.02 L2206.32 148.02 L2214.92 159.565 L2223.51 148.02 L2229.79 148.02 Z\" fill=\"#000000\" fill-rule=\"evenodd\" fill-opacity=\"1\" /><path clip-path=\"url(#clip050)\" d=\"M2237.08 135.462 L2241.71 135.462 Q2246.05 142.291 2248.19 148.83 Q2250.36 155.37 2250.36 161.822 Q2250.36 168.304 2248.19 174.872 Q2246.05 181.44 2241.71 188.24 L2237.08 188.24 Q2240.93 181.614 2242.81 175.074 Q2244.72 168.506 2244.72 161.822 Q2244.72 155.138 2242.81 148.628 Q2240.93 142.117 2237.08 135.462 Z\" fill=\"#000000\" fill-rule=\"evenodd\" fill-opacity=\"1\" /><polyline clip-path=\"url(#clip050)\" style=\"stroke:#e26f46; stroke-linecap:round; stroke-linejoin:round; stroke-width:5; stroke-opacity:1; fill:none\" points=\"\n",
       "  1858.69,223.627 1981.56,223.627 \n",
       "  \"/>\n",
       "<path clip-path=\"url(#clip050)\" d=\"M2002.04 200.204 L2007.36 200.204 L2007.36 245.227 L2002.04 245.227 L2002.04 200.204 Z\" fill=\"#000000\" fill-rule=\"evenodd\" fill-opacity=\"1\" /><path clip-path=\"url(#clip050)\" d=\"M2031.06 216.553 Q2026.78 216.553 2024.29 219.909 Q2021.8 223.237 2021.8 229.053 Q2021.8 234.869 2024.26 238.225 Q2026.75 241.553 2031.06 241.553 Q2035.32 241.553 2037.8 238.196 Q2040.29 234.84 2040.29 229.053 Q2040.29 223.295 2037.8 219.938 Q2035.32 216.553 2031.06 216.553 M2031.06 212.039 Q2038.01 212.039 2041.97 216.553 Q2045.93 221.067 2045.93 229.053 Q2045.93 237.01 2041.97 241.553 Q2038.01 246.067 2031.06 246.067 Q2024.09 246.067 2020.12 241.553 Q2016.19 237.01 2016.19 229.053 Q2016.19 221.067 2020.12 216.553 Q2024.09 212.039 2031.06 212.039 Z\" fill=\"#000000\" fill-rule=\"evenodd\" fill-opacity=\"1\" /><path clip-path=\"url(#clip050)\" d=\"M2076.09 228.648 Q2076.09 222.861 2073.68 219.678 Q2071.31 216.495 2067 216.495 Q2062.72 216.495 2060.32 219.678 Q2057.94 222.861 2057.94 228.648 Q2057.94 234.406 2060.32 237.589 Q2062.72 240.771 2067 240.771 Q2071.31 240.771 2073.68 237.589 Q2076.09 234.406 2076.09 228.648 M2081.41 241.205 Q2081.41 249.481 2077.73 253.503 Q2074.06 257.554 2066.48 257.554 Q2063.67 257.554 2061.18 257.12 Q2058.7 256.715 2056.35 255.847 L2056.35 250.667 Q2058.7 251.94 2060.98 252.548 Q2063.27 253.156 2065.64 253.156 Q2070.88 253.156 2073.48 250.407 Q2076.09 247.687 2076.09 242.16 L2076.09 239.527 Q2074.44 242.392 2071.86 243.81 Q2069.29 245.227 2065.7 245.227 Q2059.74 245.227 2056.09 240.685 Q2052.45 236.142 2052.45 228.648 Q2052.45 221.125 2056.09 216.582 Q2059.74 212.039 2065.7 212.039 Q2069.29 212.039 2071.86 213.457 Q2074.44 214.875 2076.09 217.739 L2076.09 212.82 L2081.41 212.82 L2081.41 241.205 Z\" fill=\"#000000\" fill-rule=\"evenodd\" fill-opacity=\"1\" /><path clip-path=\"url(#clip050)\" d=\"M2094.14 240.308 L2103.69 240.308 L2103.69 207.351 L2093.3 209.435 L2093.3 204.111 L2103.63 202.027 L2109.48 202.027 L2109.48 240.308 L2119.02 240.308 L2119.02 245.227 L2094.14 245.227 L2094.14 240.308 Z\" fill=\"#000000\" fill-rule=\"evenodd\" fill-opacity=\"1\" /><path clip-path=\"url(#clip050)\" d=\"M2135.23 240.366 L2135.23 257.554 L2129.88 257.554 L2129.88 212.82 L2135.23 212.82 L2135.23 217.739 Q2136.91 214.846 2139.45 213.457 Q2142.03 212.039 2145.59 212.039 Q2151.49 212.039 2155.16 216.726 Q2158.87 221.414 2158.87 229.053 Q2158.87 236.692 2155.16 241.379 Q2151.49 246.067 2145.59 246.067 Q2142.03 246.067 2139.45 244.678 Q2136.91 243.26 2135.23 240.366 M2153.34 229.053 Q2153.34 223.179 2150.91 219.851 Q2148.51 216.495 2144.29 216.495 Q2140.06 216.495 2137.63 219.851 Q2135.23 223.179 2135.23 229.053 Q2135.23 234.927 2137.63 238.283 Q2140.06 241.611 2144.29 241.611 Q2148.51 241.611 2150.91 238.283 Q2153.34 234.927 2153.34 229.053 Z\" fill=\"#000000\" fill-rule=\"evenodd\" fill-opacity=\"1\" /><path clip-path=\"url(#clip050)\" d=\"M2180.48 200.262 Q2176.61 206.917 2174.72 213.428 Q2172.84 219.938 2172.84 226.622 Q2172.84 233.306 2174.72 239.874 Q2176.63 246.414 2180.48 253.04 L2175.85 253.04 Q2171.51 246.24 2169.34 239.672 Q2167.2 233.104 2167.2 226.622 Q2167.2 220.17 2169.34 213.63 Q2171.48 207.091 2175.85 200.262 L2180.48 200.262 Z\" fill=\"#000000\" fill-rule=\"evenodd\" fill-opacity=\"1\" /><path clip-path=\"url(#clip050)\" d=\"M2217.75 212.82 L2206.03 228.59 L2218.36 245.227 L2212.08 245.227 L2202.65 232.496 L2193.21 245.227 L2186.94 245.227 L2199.52 228.271 L2188.01 212.82 L2194.28 212.82 L2202.88 224.365 L2211.47 212.82 L2217.75 212.82 Z\" fill=\"#000000\" fill-rule=\"evenodd\" fill-opacity=\"1\" /><path clip-path=\"url(#clip050)\" d=\"M2225.04 200.262 L2229.67 200.262 Q2234.01 207.091 2236.15 213.63 Q2238.32 220.17 2238.32 226.622 Q2238.32 233.104 2236.15 239.672 Q2234.01 246.24 2229.67 253.04 L2225.04 253.04 Q2228.89 246.414 2230.77 239.874 Q2232.68 233.306 2232.68 226.622 Q2232.68 219.938 2230.77 213.428 Q2228.89 206.917 2225.04 200.262 Z\" fill=\"#000000\" fill-rule=\"evenodd\" fill-opacity=\"1\" /></svg>\n"
      ]
     },
     "execution_count": 19,
     "metadata": {},
     "output_type": "execute_result"
    }
   ],
   "source": [
    "plot(x -> log(1 + x), xlims=(-1e-15 , 1e-15), label = \"log(1+x)\")\n",
    "\n",
    "plot!(x -> log1p(x), label= \"log1p(x)\", tickfontsize=12, legendfontsize=10)"
   ]
  },
  {
   "cell_type": "code",
   "execution_count": 20,
   "id": "50e85aa1",
   "metadata": {
    "slideshow": {
     "slide_type": "skip"
    }
   },
   "outputs": [
    {
     "data": {
      "image/svg+xml": [
       "<?xml version=\"1.0\" encoding=\"utf-8\"?>\n",
       "<svg xmlns=\"http://www.w3.org/2000/svg\" xmlns:xlink=\"http://www.w3.org/1999/xlink\" width=\"600\" height=\"400\" viewBox=\"0 0 2400 1600\">\n",
       "<defs>\n",
       "  <clipPath id=\"clip090\">\n",
       "    <rect x=\"0\" y=\"0\" width=\"2400\" height=\"1600\"/>\n",
       "  </clipPath>\n",
       "</defs>\n",
       "<path clip-path=\"url(#clip090)\" d=\"\n",
       "M0 1600 L2400 1600 L2400 0 L0 0  Z\n",
       "  \" fill=\"#ffffff\" fill-rule=\"evenodd\" fill-opacity=\"1\"/>\n",
       "<defs>\n",
       "  <clipPath id=\"clip091\">\n",
       "    <rect x=\"480\" y=\"0\" width=\"1681\" height=\"1600\"/>\n",
       "  </clipPath>\n",
       "</defs>\n",
       "<path clip-path=\"url(#clip090)\" d=\"\n",
       "M214.353 1474.16 L2352.76 1474.16 L2352.76 47.2441 L214.353 47.2441  Z\n",
       "  \" fill=\"#ffffff\" fill-rule=\"evenodd\" fill-opacity=\"1\"/>\n",
       "<defs>\n",
       "  <clipPath id=\"clip092\">\n",
       "    <rect x=\"214\" y=\"47\" width=\"2139\" height=\"1428\"/>\n",
       "  </clipPath>\n",
       "</defs>\n",
       "<polyline clip-path=\"url(#clip092)\" style=\"stroke:#000000; stroke-linecap:round; stroke-linejoin:round; stroke-width:2; stroke-opacity:0.1; fill:none\" points=\"\n",
       "  748.953,1474.16 748.953,47.2441 \n",
       "  \"/>\n",
       "<polyline clip-path=\"url(#clip092)\" style=\"stroke:#000000; stroke-linecap:round; stroke-linejoin:round; stroke-width:2; stroke-opacity:0.1; fill:none\" points=\"\n",
       "  1283.55,1474.16 1283.55,47.2441 \n",
       "  \"/>\n",
       "<polyline clip-path=\"url(#clip092)\" style=\"stroke:#000000; stroke-linecap:round; stroke-linejoin:round; stroke-width:2; stroke-opacity:0.1; fill:none\" points=\"\n",
       "  1818.16,1474.16 1818.16,47.2441 \n",
       "  \"/>\n",
       "<polyline clip-path=\"url(#clip092)\" style=\"stroke:#000000; stroke-linecap:round; stroke-linejoin:round; stroke-width:2; stroke-opacity:0.1; fill:none\" points=\"\n",
       "  2352.76,1474.16 2352.76,47.2441 \n",
       "  \"/>\n",
       "<polyline clip-path=\"url(#clip090)\" style=\"stroke:#000000; stroke-linecap:round; stroke-linejoin:round; stroke-width:4; stroke-opacity:1; fill:none\" points=\"\n",
       "  214.353,1474.16 2352.76,1474.16 \n",
       "  \"/>\n",
       "<polyline clip-path=\"url(#clip090)\" style=\"stroke:#000000; stroke-linecap:round; stroke-linejoin:round; stroke-width:4; stroke-opacity:1; fill:none\" points=\"\n",
       "  748.953,1474.16 748.953,1455.27 \n",
       "  \"/>\n",
       "<polyline clip-path=\"url(#clip090)\" style=\"stroke:#000000; stroke-linecap:round; stroke-linejoin:round; stroke-width:4; stroke-opacity:1; fill:none\" points=\"\n",
       "  1283.55,1474.16 1283.55,1455.27 \n",
       "  \"/>\n",
       "<polyline clip-path=\"url(#clip090)\" style=\"stroke:#000000; stroke-linecap:round; stroke-linejoin:round; stroke-width:4; stroke-opacity:1; fill:none\" points=\"\n",
       "  1818.16,1474.16 1818.16,1455.27 \n",
       "  \"/>\n",
       "<polyline clip-path=\"url(#clip090)\" style=\"stroke:#000000; stroke-linecap:round; stroke-linejoin:round; stroke-width:4; stroke-opacity:1; fill:none\" points=\"\n",
       "  2352.76,1474.16 2352.76,1455.27 \n",
       "  \"/>\n",
       "<path clip-path=\"url(#clip090)\" d=\"M608.633 1535.4 L638.309 1535.4 L638.309 1539.33 L608.633 1539.33 L608.633 1535.4 Z\" fill=\"#000000\" fill-rule=\"evenodd\" fill-opacity=\"1\" /><path clip-path=\"url(#clip090)\" d=\"M648.448 1517.66 L666.804 1517.66 L666.804 1521.6 L652.73 1521.6 L652.73 1530.07 Q653.748 1529.72 654.767 1529.56 Q655.785 1529.38 656.804 1529.38 Q662.591 1529.38 665.971 1532.55 Q669.35 1535.72 669.35 1541.14 Q669.35 1546.72 665.878 1549.82 Q662.406 1552.9 656.086 1552.9 Q653.91 1552.9 651.642 1552.53 Q649.397 1552.16 646.989 1551.41 L646.989 1546.72 Q649.073 1547.85 651.295 1548.41 Q653.517 1548.96 655.994 1548.96 Q659.998 1548.96 662.336 1546.85 Q664.674 1544.75 664.674 1541.14 Q664.674 1537.53 662.336 1535.42 Q659.998 1533.31 655.994 1533.31 Q654.119 1533.31 652.244 1533.73 Q650.392 1534.15 648.448 1535.03 L648.448 1517.66 Z\" fill=\"#000000\" fill-rule=\"evenodd\" fill-opacity=\"1\" /><path clip-path=\"url(#clip090)\" d=\"M678.563 1546.35 L683.447 1546.35 L683.447 1552.22 L678.563 1552.22 L678.563 1546.35 Z\" fill=\"#000000\" fill-rule=\"evenodd\" fill-opacity=\"1\" /><path clip-path=\"url(#clip090)\" d=\"M703.632 1520.74 Q700.021 1520.74 698.193 1524.31 Q696.387 1527.85 696.387 1534.98 Q696.387 1542.09 698.193 1545.65 Q700.021 1549.19 703.632 1549.19 Q707.267 1549.19 709.072 1545.65 Q710.901 1542.09 710.901 1534.98 Q710.901 1527.85 709.072 1524.31 Q707.267 1520.74 703.632 1520.74 M703.632 1517.04 Q709.443 1517.04 712.498 1521.65 Q715.577 1526.23 715.577 1534.98 Q715.577 1543.71 712.498 1548.31 Q709.443 1552.9 703.632 1552.9 Q697.822 1552.9 694.744 1548.31 Q691.688 1543.71 691.688 1534.98 Q691.688 1526.23 694.744 1521.65 Q697.822 1517.04 703.632 1517.04 Z\" fill=\"#000000\" fill-rule=\"evenodd\" fill-opacity=\"1\" /><path clip-path=\"url(#clip090)\" d=\"M751.966 1526.76 L741.387 1537.39 L751.966 1547.97 L749.211 1550.77 L738.586 1540.14 L727.961 1550.77 L725.23 1547.97 L735.785 1537.39 L725.23 1526.76 L727.961 1523.96 L738.586 1534.59 L749.211 1523.96 L751.966 1526.76 Z\" fill=\"#000000\" fill-rule=\"evenodd\" fill-opacity=\"1\" /><path clip-path=\"url(#clip090)\" d=\"M764.327 1548.29 L771.965 1548.29 L771.965 1521.92 L763.655 1523.59 L763.655 1519.33 L771.919 1517.66 L776.595 1517.66 L776.595 1548.29 L784.234 1548.29 L784.234 1552.22 L764.327 1552.22 L764.327 1548.29 Z\" fill=\"#000000\" fill-rule=\"evenodd\" fill-opacity=\"1\" /><path clip-path=\"url(#clip090)\" d=\"M803.678 1520.74 Q800.067 1520.74 798.238 1524.31 Q796.433 1527.85 796.433 1534.98 Q796.433 1542.09 798.238 1545.65 Q800.067 1549.19 803.678 1549.19 Q807.312 1549.19 809.118 1545.65 Q810.947 1542.09 810.947 1534.98 Q810.947 1527.85 809.118 1524.31 Q807.312 1520.74 803.678 1520.74 M803.678 1517.04 Q809.488 1517.04 812.544 1521.65 Q815.623 1526.23 815.623 1534.98 Q815.623 1543.71 812.544 1548.31 Q809.488 1552.9 803.678 1552.9 Q797.868 1552.9 794.789 1548.31 Q791.734 1543.71 791.734 1534.98 Q791.734 1526.23 794.789 1521.65 Q797.868 1517.04 803.678 1517.04 Z\" fill=\"#000000\" fill-rule=\"evenodd\" fill-opacity=\"1\" /><path clip-path=\"url(#clip090)\" d=\"M815.623 1511.14 L839.734 1511.14 L839.734 1514.34 L815.623 1514.34 L815.623 1511.14 Z\" fill=\"#000000\" fill-rule=\"evenodd\" fill-opacity=\"1\" /><path clip-path=\"url(#clip090)\" d=\"M848.593 1521.62 L854.799 1521.62 L854.799 1500.19 L848.047 1501.55 L848.047 1498.09 L854.762 1496.73 L858.561 1496.73 L858.561 1521.62 L864.767 1521.62 L864.767 1524.81 L848.593 1524.81 L848.593 1521.62 Z\" fill=\"#000000\" fill-rule=\"evenodd\" fill-opacity=\"1\" /><path clip-path=\"url(#clip090)\" d=\"M873.099 1521.62 L879.306 1521.62 L879.306 1500.19 L872.554 1501.55 L872.554 1498.09 L879.268 1496.73 L883.067 1496.73 L883.067 1521.62 L889.274 1521.62 L889.274 1524.81 L873.099 1524.81 L873.099 1521.62 Z\" fill=\"#000000\" fill-rule=\"evenodd\" fill-opacity=\"1\" /><path clip-path=\"url(#clip090)\" d=\"M1283.55 1505.08 Q1279.94 1505.08 1278.11 1508.65 Q1276.31 1512.19 1276.31 1519.32 Q1276.31 1526.43 1278.11 1529.99 Q1279.94 1533.53 1283.55 1533.53 Q1287.19 1533.53 1288.99 1529.99 Q1290.82 1526.43 1290.82 1519.32 Q1290.82 1512.19 1288.99 1508.65 Q1287.19 1505.08 1283.55 1505.08 M1283.55 1501.38 Q1289.36 1501.38 1292.42 1505.99 Q1295.5 1510.57 1295.5 1519.32 Q1295.5 1528.05 1292.42 1532.65 Q1289.36 1537.24 1283.55 1537.24 Q1277.74 1537.24 1274.67 1532.65 Q1271.61 1528.05 1271.61 1519.32 Q1271.61 1510.57 1274.67 1505.99 Q1277.74 1501.38 1283.55 1501.38 Z\" fill=\"#000000\" fill-rule=\"evenodd\" fill-opacity=\"1\" /><path clip-path=\"url(#clip090)\" d=\"M1698.47 1517.66 L1716.83 1517.66 L1716.83 1521.6 L1702.75 1521.6 L1702.75 1530.07 Q1703.77 1529.72 1704.79 1529.56 Q1705.81 1529.38 1706.83 1529.38 Q1712.61 1529.38 1715.99 1532.55 Q1719.37 1535.72 1719.37 1541.14 Q1719.37 1546.72 1715.9 1549.82 Q1712.43 1552.9 1706.11 1552.9 Q1703.93 1552.9 1701.67 1552.53 Q1699.42 1552.16 1697.01 1551.41 L1697.01 1546.72 Q1699.1 1547.85 1701.32 1548.41 Q1703.54 1548.96 1706.02 1548.96 Q1710.02 1548.96 1712.36 1546.85 Q1714.7 1544.75 1714.7 1541.14 Q1714.7 1537.53 1712.36 1535.42 Q1710.02 1533.31 1706.02 1533.31 Q1704.14 1533.31 1702.27 1533.73 Q1700.42 1534.15 1698.47 1535.03 L1698.47 1517.66 Z\" fill=\"#000000\" fill-rule=\"evenodd\" fill-opacity=\"1\" /><path clip-path=\"url(#clip090)\" d=\"M1728.59 1546.35 L1733.47 1546.35 L1733.47 1552.22 L1728.59 1552.22 L1728.59 1546.35 Z\" fill=\"#000000\" fill-rule=\"evenodd\" fill-opacity=\"1\" /><path clip-path=\"url(#clip090)\" d=\"M1753.66 1520.74 Q1750.04 1520.74 1748.22 1524.31 Q1746.41 1527.85 1746.41 1534.98 Q1746.41 1542.09 1748.22 1545.65 Q1750.04 1549.19 1753.66 1549.19 Q1757.29 1549.19 1759.1 1545.65 Q1760.92 1542.09 1760.92 1534.98 Q1760.92 1527.85 1759.1 1524.31 Q1757.29 1520.74 1753.66 1520.74 M1753.66 1517.04 Q1759.47 1517.04 1762.52 1521.65 Q1765.6 1526.23 1765.6 1534.98 Q1765.6 1543.71 1762.52 1548.31 Q1759.47 1552.9 1753.66 1552.9 Q1747.85 1552.9 1744.77 1548.31 Q1741.71 1543.71 1741.71 1534.98 Q1741.71 1526.23 1744.77 1521.65 Q1747.85 1517.04 1753.66 1517.04 Z\" fill=\"#000000\" fill-rule=\"evenodd\" fill-opacity=\"1\" /><path clip-path=\"url(#clip090)\" d=\"M1801.99 1526.76 L1791.41 1537.39 L1801.99 1547.97 L1799.23 1550.77 L1788.61 1540.14 L1777.98 1550.77 L1775.25 1547.97 L1785.81 1537.39 L1775.25 1526.76 L1777.98 1523.96 L1788.61 1534.59 L1799.23 1523.96 L1801.99 1526.76 Z\" fill=\"#000000\" fill-rule=\"evenodd\" fill-opacity=\"1\" /><path clip-path=\"url(#clip090)\" d=\"M1814.35 1548.29 L1821.99 1548.29 L1821.99 1521.92 L1813.68 1523.59 L1813.68 1519.33 L1821.94 1517.66 L1826.62 1517.66 L1826.62 1548.29 L1834.26 1548.29 L1834.26 1552.22 L1814.35 1552.22 L1814.35 1548.29 Z\" fill=\"#000000\" fill-rule=\"evenodd\" fill-opacity=\"1\" /><path clip-path=\"url(#clip090)\" d=\"M1853.7 1520.74 Q1850.09 1520.74 1848.26 1524.31 Q1846.46 1527.85 1846.46 1534.98 Q1846.46 1542.09 1848.26 1545.65 Q1850.09 1549.19 1853.7 1549.19 Q1857.34 1549.19 1859.14 1545.65 Q1860.97 1542.09 1860.97 1534.98 Q1860.97 1527.85 1859.14 1524.31 Q1857.34 1520.74 1853.7 1520.74 M1853.7 1517.04 Q1859.51 1517.04 1862.57 1521.65 Q1865.65 1526.23 1865.65 1534.98 Q1865.65 1543.71 1862.57 1548.31 Q1859.51 1552.9 1853.7 1552.9 Q1847.89 1552.9 1844.81 1548.31 Q1841.76 1543.71 1841.76 1534.98 Q1841.76 1526.23 1844.81 1521.65 Q1847.89 1517.04 1853.7 1517.04 Z\" fill=\"#000000\" fill-rule=\"evenodd\" fill-opacity=\"1\" /><path clip-path=\"url(#clip090)\" d=\"M1865.65 1511.14 L1889.76 1511.14 L1889.76 1514.34 L1865.65 1514.34 L1865.65 1511.14 Z\" fill=\"#000000\" fill-rule=\"evenodd\" fill-opacity=\"1\" /><path clip-path=\"url(#clip090)\" d=\"M1898.62 1521.62 L1904.82 1521.62 L1904.82 1500.19 L1898.07 1501.55 L1898.07 1498.09 L1904.79 1496.73 L1908.58 1496.73 L1908.58 1521.62 L1914.79 1521.62 L1914.79 1524.81 L1898.62 1524.81 L1898.62 1521.62 Z\" fill=\"#000000\" fill-rule=\"evenodd\" fill-opacity=\"1\" /><path clip-path=\"url(#clip090)\" d=\"M1923.12 1521.62 L1929.33 1521.62 L1929.33 1500.19 L1922.58 1501.55 L1922.58 1498.09 L1929.29 1496.73 L1933.09 1496.73 L1933.09 1521.62 L1939.3 1521.62 L1939.3 1524.81 L1923.12 1524.81 L1923.12 1521.62 Z\" fill=\"#000000\" fill-rule=\"evenodd\" fill-opacity=\"1\" /><path clip-path=\"url(#clip090)\" d=\"M2232.56 1548.29 L2240.2 1548.29 L2240.2 1521.92 L2231.89 1523.59 L2231.89 1519.33 L2240.15 1517.66 L2244.83 1517.66 L2244.83 1548.29 L2252.47 1548.29 L2252.47 1552.22 L2232.56 1552.22 L2232.56 1548.29 Z\" fill=\"#000000\" fill-rule=\"evenodd\" fill-opacity=\"1\" /><path clip-path=\"url(#clip090)\" d=\"M2261.91 1546.35 L2266.8 1546.35 L2266.8 1552.22 L2261.91 1552.22 L2261.91 1546.35 Z\" fill=\"#000000\" fill-rule=\"evenodd\" fill-opacity=\"1\" /><path clip-path=\"url(#clip090)\" d=\"M2286.98 1520.74 Q2283.37 1520.74 2281.54 1524.31 Q2279.74 1527.85 2279.74 1534.98 Q2279.74 1542.09 2281.54 1545.65 Q2283.37 1549.19 2286.98 1549.19 Q2290.62 1549.19 2292.42 1545.65 Q2294.25 1542.09 2294.25 1534.98 Q2294.25 1527.85 2292.42 1524.31 Q2290.62 1520.74 2286.98 1520.74 M2286.98 1517.04 Q2292.79 1517.04 2295.85 1521.65 Q2298.93 1526.23 2298.93 1534.98 Q2298.93 1543.71 2295.85 1548.31 Q2292.79 1552.9 2286.98 1552.9 Q2281.17 1552.9 2278.09 1548.31 Q2275.04 1543.71 2275.04 1534.98 Q2275.04 1526.23 2278.09 1521.65 Q2281.17 1517.04 2286.98 1517.04 Z\" fill=\"#000000\" fill-rule=\"evenodd\" fill-opacity=\"1\" /><path clip-path=\"url(#clip090)\" d=\"M2335.32 1526.76 L2324.74 1537.39 L2335.32 1547.97 L2332.56 1550.77 L2321.94 1540.14 L2311.31 1550.77 L2308.58 1547.97 L2319.14 1537.39 L2308.58 1526.76 L2311.31 1523.96 L2321.94 1534.59 L2332.56 1523.96 L2335.32 1526.76 Z\" fill=\"#000000\" fill-rule=\"evenodd\" fill-opacity=\"1\" /><path clip-path=\"url(#clip090)\" d=\"M2347.68 1548.29 L2355.32 1548.29 L2355.32 1521.92 L2347.01 1523.59 L2347.01 1519.33 L2355.27 1517.66 L2359.95 1517.66 L2359.95 1548.29 L2367.58 1548.29 L2367.58 1552.22 L2347.68 1552.22 L2347.68 1548.29 Z\" fill=\"#000000\" fill-rule=\"evenodd\" fill-opacity=\"1\" /><path clip-path=\"url(#clip090)\" d=\"M2387.03 1520.74 Q2383.42 1520.74 2381.59 1524.31 Q2379.78 1527.85 2379.78 1534.98 Q2379.78 1542.09 2381.59 1545.65 Q2383.42 1549.19 2387.03 1549.19 Q2390.66 1549.19 2392.47 1545.65 Q2394.3 1542.09 2394.3 1534.98 Q2394.3 1527.85 2392.47 1524.31 Q2390.66 1520.74 2387.03 1520.74 M2387.03 1517.04 Q2392.84 1517.04 2395.89 1521.65 Q2398.97 1526.23 2398.97 1534.98 Q2398.97 1543.71 2395.89 1548.31 Q2392.84 1552.9 2387.03 1552.9 Q2381.22 1552.9 2378.14 1548.31 Q2375.08 1543.71 2375.08 1534.98 Q2375.08 1526.23 2378.14 1521.65 Q2381.22 1517.04 2387.03 1517.04 Z\" fill=\"#000000\" fill-rule=\"evenodd\" fill-opacity=\"1\" /><path clip-path=\"url(#clip090)\" d=\"M2398.97 1511.14 L2423.08 1511.14 L2423.08 1514.34 L2398.97 1514.34 L2398.97 1511.14 Z\" fill=\"#000000\" fill-rule=\"evenodd\" fill-opacity=\"1\" /><path clip-path=\"url(#clip090)\" d=\"M2431.94 1521.62 L2438.15 1521.62 L2438.15 1500.19 L2431.4 1501.55 L2431.4 1498.09 L2438.11 1496.73 L2441.91 1496.73 L2441.91 1521.62 L2448.12 1521.62 L2448.12 1524.81 L2431.94 1524.81 L2431.94 1521.62 Z\" fill=\"#000000\" fill-rule=\"evenodd\" fill-opacity=\"1\" /><path clip-path=\"url(#clip090)\" d=\"M2463.92 1499.24 Q2460.98 1499.24 2459.5 1502.13 Q2458.03 1505.01 2458.03 1510.8 Q2458.03 1516.58 2459.5 1519.47 Q2460.98 1522.35 2463.92 1522.35 Q2466.87 1522.35 2468.34 1519.47 Q2469.82 1516.58 2469.82 1510.8 Q2469.82 1505.01 2468.34 1502.13 Q2466.87 1499.24 2463.92 1499.24 M2463.92 1496.23 Q2468.64 1496.23 2471.12 1499.97 Q2473.62 1503.69 2473.62 1510.8 Q2473.62 1517.89 2471.12 1521.64 Q2468.64 1525.36 2463.92 1525.36 Q2459.2 1525.36 2456.69 1521.64 Q2454.21 1517.89 2454.21 1510.8 Q2454.21 1503.69 2456.69 1499.97 Q2459.2 1496.23 2463.92 1496.23 Z\" fill=\"#000000\" fill-rule=\"evenodd\" fill-opacity=\"1\" /><polyline clip-path=\"url(#clip092)\" style=\"stroke:#000000; stroke-linecap:round; stroke-linejoin:round; stroke-width:2; stroke-opacity:0.1; fill:none\" points=\"\n",
       "  214.353,1254.01 2352.76,1254.01 \n",
       "  \"/>\n",
       "<polyline clip-path=\"url(#clip092)\" style=\"stroke:#000000; stroke-linecap:round; stroke-linejoin:round; stroke-width:2; stroke-opacity:0.1; fill:none\" points=\"\n",
       "  214.353,860.339 2352.76,860.339 \n",
       "  \"/>\n",
       "<polyline clip-path=\"url(#clip092)\" style=\"stroke:#000000; stroke-linecap:round; stroke-linejoin:round; stroke-width:2; stroke-opacity:0.1; fill:none\" points=\"\n",
       "  214.353,466.667 2352.76,466.667 \n",
       "  \"/>\n",
       "<polyline clip-path=\"url(#clip092)\" style=\"stroke:#000000; stroke-linecap:round; stroke-linejoin:round; stroke-width:2; stroke-opacity:0.1; fill:none\" points=\"\n",
       "  214.353,72.9939 2352.76,72.9939 \n",
       "  \"/>\n",
       "<polyline clip-path=\"url(#clip090)\" style=\"stroke:#000000; stroke-linecap:round; stroke-linejoin:round; stroke-width:4; stroke-opacity:1; fill:none\" points=\"\n",
       "  214.353,1474.16 214.353,47.2441 \n",
       "  \"/>\n",
       "<polyline clip-path=\"url(#clip090)\" style=\"stroke:#000000; stroke-linecap:round; stroke-linejoin:round; stroke-width:4; stroke-opacity:1; fill:none\" points=\"\n",
       "  214.353,1254.01 233.25,1254.01 \n",
       "  \"/>\n",
       "<polyline clip-path=\"url(#clip090)\" style=\"stroke:#000000; stroke-linecap:round; stroke-linejoin:round; stroke-width:4; stroke-opacity:1; fill:none\" points=\"\n",
       "  214.353,860.339 233.25,860.339 \n",
       "  \"/>\n",
       "<polyline clip-path=\"url(#clip090)\" style=\"stroke:#000000; stroke-linecap:round; stroke-linejoin:round; stroke-width:4; stroke-opacity:1; fill:none\" points=\"\n",
       "  214.353,466.667 233.25,466.667 \n",
       "  \"/>\n",
       "<polyline clip-path=\"url(#clip090)\" style=\"stroke:#000000; stroke-linecap:round; stroke-linejoin:round; stroke-width:4; stroke-opacity:1; fill:none\" points=\"\n",
       "  214.353,72.9939 233.25,72.9939 \n",
       "  \"/>\n",
       "<path clip-path=\"url(#clip090)\" d=\"M51.6634 1267.36 L59.3023 1267.36 L59.3023 1240.99 L50.9921 1242.66 L50.9921 1238.4 L59.256 1236.73 L63.9319 1236.73 L63.9319 1267.36 L71.5707 1267.36 L71.5707 1271.29 L51.6634 1271.29 L51.6634 1267.36 Z\" fill=\"#000000\" fill-rule=\"evenodd\" fill-opacity=\"1\" /><path clip-path=\"url(#clip090)\" d=\"M81.0151 1265.41 L85.8993 1265.41 L85.8993 1271.29 L81.0151 1271.29 L81.0151 1265.41 Z\" fill=\"#000000\" fill-rule=\"evenodd\" fill-opacity=\"1\" /><path clip-path=\"url(#clip090)\" d=\"M106.084 1239.81 Q102.473 1239.81 100.645 1243.38 Q98.8391 1246.92 98.8391 1254.05 Q98.8391 1261.15 100.645 1264.72 Q102.473 1268.26 106.084 1268.26 Q109.719 1268.26 111.524 1264.72 Q113.353 1261.15 113.353 1254.05 Q113.353 1246.92 111.524 1243.38 Q109.719 1239.81 106.084 1239.81 M106.084 1236.11 Q111.895 1236.11 114.95 1240.71 Q118.029 1245.3 118.029 1254.05 Q118.029 1262.77 114.95 1267.38 Q111.895 1271.96 106.084 1271.96 Q100.274 1271.96 97.1956 1267.38 Q94.14 1262.77 94.14 1254.05 Q94.14 1245.3 97.1956 1240.71 Q100.274 1236.11 106.084 1236.11 Z\" fill=\"#000000\" fill-rule=\"evenodd\" fill-opacity=\"1\" /><path clip-path=\"url(#clip090)\" d=\"M136.246 1239.81 Q132.635 1239.81 130.807 1243.38 Q129.001 1246.92 129.001 1254.05 Q129.001 1261.15 130.807 1264.72 Q132.635 1268.26 136.246 1268.26 Q139.881 1268.26 141.686 1264.72 Q143.515 1261.15 143.515 1254.05 Q143.515 1246.92 141.686 1243.38 Q139.881 1239.81 136.246 1239.81 M136.246 1236.11 Q142.056 1236.11 145.112 1240.71 Q148.191 1245.3 148.191 1254.05 Q148.191 1262.77 145.112 1267.38 Q142.056 1271.96 136.246 1271.96 Q130.436 1271.96 127.357 1267.38 Q124.302 1262.77 124.302 1254.05 Q124.302 1245.3 127.357 1240.71 Q130.436 1236.11 136.246 1236.11 Z\" fill=\"#000000\" fill-rule=\"evenodd\" fill-opacity=\"1\" /><path clip-path=\"url(#clip090)\" d=\"M166.408 1239.81 Q162.797 1239.81 160.968 1243.38 Q159.163 1246.92 159.163 1254.05 Q159.163 1261.15 160.968 1264.72 Q162.797 1268.26 166.408 1268.26 Q170.042 1268.26 171.848 1264.72 Q173.677 1261.15 173.677 1254.05 Q173.677 1246.92 171.848 1243.38 Q170.042 1239.81 166.408 1239.81 M166.408 1236.11 Q172.218 1236.11 175.274 1240.71 Q178.353 1245.3 178.353 1254.05 Q178.353 1262.77 175.274 1267.38 Q172.218 1271.96 166.408 1271.96 Q160.598 1271.96 157.519 1267.38 Q154.464 1262.77 154.464 1254.05 Q154.464 1245.3 157.519 1240.71 Q160.598 1236.11 166.408 1236.11 Z\" fill=\"#000000\" fill-rule=\"evenodd\" fill-opacity=\"1\" /><path clip-path=\"url(#clip090)\" d=\"M52.8903 873.684 L60.5291 873.684 L60.5291 847.319 L52.219 848.985 L52.219 844.726 L60.4828 843.059 L65.1587 843.059 L65.1587 873.684 L72.7976 873.684 L72.7976 877.619 L52.8903 877.619 L52.8903 873.684 Z\" fill=\"#000000\" fill-rule=\"evenodd\" fill-opacity=\"1\" /><path clip-path=\"url(#clip090)\" d=\"M82.242 871.74 L87.1262 871.74 L87.1262 877.619 L82.242 877.619 L82.242 871.74 Z\" fill=\"#000000\" fill-rule=\"evenodd\" fill-opacity=\"1\" /><path clip-path=\"url(#clip090)\" d=\"M107.311 846.138 Q103.7 846.138 101.871 849.703 Q100.066 853.245 100.066 860.374 Q100.066 867.481 101.871 871.045 Q103.7 874.587 107.311 874.587 Q110.946 874.587 112.751 871.045 Q114.58 867.481 114.58 860.374 Q114.58 853.245 112.751 849.703 Q110.946 846.138 107.311 846.138 M107.311 842.434 Q113.121 842.434 116.177 847.041 Q119.256 851.624 119.256 860.374 Q119.256 869.101 116.177 873.707 Q113.121 878.291 107.311 878.291 Q101.501 878.291 98.4224 873.707 Q95.3669 869.101 95.3669 860.374 Q95.3669 851.624 98.4224 847.041 Q101.501 842.434 107.311 842.434 Z\" fill=\"#000000\" fill-rule=\"evenodd\" fill-opacity=\"1\" /><path clip-path=\"url(#clip090)\" d=\"M137.473 846.138 Q133.862 846.138 132.033 849.703 Q130.228 853.245 130.228 860.374 Q130.228 867.481 132.033 871.045 Q133.862 874.587 137.473 874.587 Q141.107 874.587 142.913 871.045 Q144.742 867.481 144.742 860.374 Q144.742 853.245 142.913 849.703 Q141.107 846.138 137.473 846.138 M137.473 842.434 Q143.283 842.434 146.339 847.041 Q149.418 851.624 149.418 860.374 Q149.418 869.101 146.339 873.707 Q143.283 878.291 137.473 878.291 Q131.663 878.291 128.584 873.707 Q125.529 869.101 125.529 860.374 Q125.529 851.624 128.584 847.041 Q131.663 842.434 137.473 842.434 Z\" fill=\"#000000\" fill-rule=\"evenodd\" fill-opacity=\"1\" /><path clip-path=\"url(#clip090)\" d=\"M158.445 873.684 L166.084 873.684 L166.084 847.319 L157.774 848.985 L157.774 844.726 L166.038 843.059 L170.714 843.059 L170.714 873.684 L178.353 873.684 L178.353 877.619 L158.445 877.619 L158.445 873.684 Z\" fill=\"#000000\" fill-rule=\"evenodd\" fill-opacity=\"1\" /><path clip-path=\"url(#clip090)\" d=\"M53.2606 480.012 L60.8995 480.012 L60.8995 453.646 L52.5893 455.313 L52.5893 451.053 L60.8532 449.387 L65.5291 449.387 L65.5291 480.012 L73.1679 480.012 L73.1679 483.947 L53.2606 483.947 L53.2606 480.012 Z\" fill=\"#000000\" fill-rule=\"evenodd\" fill-opacity=\"1\" /><path clip-path=\"url(#clip090)\" d=\"M82.6123 478.067 L87.4966 478.067 L87.4966 483.947 L82.6123 483.947 L82.6123 478.067 Z\" fill=\"#000000\" fill-rule=\"evenodd\" fill-opacity=\"1\" /><path clip-path=\"url(#clip090)\" d=\"M107.682 452.465 Q104.071 452.465 102.242 456.03 Q100.436 459.572 100.436 466.701 Q100.436 473.808 102.242 477.373 Q104.071 480.914 107.682 480.914 Q111.316 480.914 113.121 477.373 Q114.95 473.808 114.95 466.701 Q114.95 459.572 113.121 456.03 Q111.316 452.465 107.682 452.465 M107.682 448.762 Q113.492 448.762 116.547 453.368 Q119.626 457.951 119.626 466.701 Q119.626 475.428 116.547 480.035 Q113.492 484.618 107.682 484.618 Q101.871 484.618 98.7928 480.035 Q95.7373 475.428 95.7373 466.701 Q95.7373 457.951 98.7928 453.368 Q101.871 448.762 107.682 448.762 Z\" fill=\"#000000\" fill-rule=\"evenodd\" fill-opacity=\"1\" /><path clip-path=\"url(#clip090)\" d=\"M137.844 452.465 Q134.232 452.465 132.404 456.03 Q130.598 459.572 130.598 466.701 Q130.598 473.808 132.404 477.373 Q134.232 480.914 137.844 480.914 Q141.478 480.914 143.283 477.373 Q145.112 473.808 145.112 466.701 Q145.112 459.572 143.283 456.03 Q141.478 452.465 137.844 452.465 M137.844 448.762 Q143.654 448.762 146.709 453.368 Q149.788 457.951 149.788 466.701 Q149.788 475.428 146.709 480.035 Q143.654 484.618 137.844 484.618 Q132.033 484.618 128.955 480.035 Q125.899 475.428 125.899 466.701 Q125.899 457.951 128.955 453.368 Q132.033 448.762 137.844 448.762 Z\" fill=\"#000000\" fill-rule=\"evenodd\" fill-opacity=\"1\" /><path clip-path=\"url(#clip090)\" d=\"M162.033 480.012 L178.353 480.012 L178.353 483.947 L156.408 483.947 L156.408 480.012 Q159.07 477.257 163.654 472.627 Q168.26 467.975 169.441 466.632 Q171.686 464.109 172.566 462.373 Q173.468 460.613 173.468 458.924 Q173.468 456.169 171.524 454.433 Q169.603 452.697 166.501 452.697 Q164.302 452.697 161.848 453.461 Q159.417 454.225 156.64 455.776 L156.64 451.053 Q159.464 449.919 161.917 449.34 Q164.371 448.762 166.408 448.762 Q171.779 448.762 174.973 451.447 Q178.167 454.132 178.167 458.623 Q178.167 460.752 177.357 462.674 Q176.57 464.572 174.464 467.164 Q173.885 467.836 170.783 471.053 Q167.681 474.248 162.033 480.012 Z\" fill=\"#000000\" fill-rule=\"evenodd\" fill-opacity=\"1\" /><path clip-path=\"url(#clip090)\" d=\"M52.3116 86.3388 L59.9504 86.3388 L59.9504 59.9732 L51.6403 61.6398 L51.6403 57.3806 L59.9041 55.7139 L64.58 55.7139 L64.58 86.3388 L72.2189 86.3388 L72.2189 90.2739 L52.3116 90.2739 L52.3116 86.3388 Z\" fill=\"#000000\" fill-rule=\"evenodd\" fill-opacity=\"1\" /><path clip-path=\"url(#clip090)\" d=\"M81.6633 84.3943 L86.5475 84.3943 L86.5475 90.2739 L81.6633 90.2739 L81.6633 84.3943 Z\" fill=\"#000000\" fill-rule=\"evenodd\" fill-opacity=\"1\" /><path clip-path=\"url(#clip090)\" d=\"M106.733 58.7926 Q103.121 58.7926 101.293 62.3574 Q99.4872 65.8991 99.4872 73.0287 Q99.4872 80.1351 101.293 83.6999 Q103.121 87.2415 106.733 87.2415 Q110.367 87.2415 112.172 83.6999 Q114.001 80.1351 114.001 73.0287 Q114.001 65.8991 112.172 62.3574 Q110.367 58.7926 106.733 58.7926 M106.733 55.0889 Q112.543 55.0889 115.598 59.6954 Q118.677 64.2787 118.677 73.0287 Q118.677 81.7555 115.598 86.3619 Q112.543 90.9452 106.733 90.9452 Q100.922 90.9452 97.8437 86.3619 Q94.7882 81.7555 94.7882 73.0287 Q94.7882 64.2787 97.8437 59.6954 Q100.922 55.0889 106.733 55.0889 Z\" fill=\"#000000\" fill-rule=\"evenodd\" fill-opacity=\"1\" /><path clip-path=\"url(#clip090)\" d=\"M136.894 58.7926 Q133.283 58.7926 131.455 62.3574 Q129.649 65.8991 129.649 73.0287 Q129.649 80.1351 131.455 83.6999 Q133.283 87.2415 136.894 87.2415 Q140.529 87.2415 142.334 83.6999 Q144.163 80.1351 144.163 73.0287 Q144.163 65.8991 142.334 62.3574 Q140.529 58.7926 136.894 58.7926 M136.894 55.0889 Q142.705 55.0889 145.76 59.6954 Q148.839 64.2787 148.839 73.0287 Q148.839 81.7555 145.76 86.3619 Q142.705 90.9452 136.894 90.9452 Q131.084 90.9452 128.006 86.3619 Q124.95 81.7555 124.95 73.0287 Q124.95 64.2787 128.006 59.6954 Q131.084 55.0889 136.894 55.0889 Z\" fill=\"#000000\" fill-rule=\"evenodd\" fill-opacity=\"1\" /><path clip-path=\"url(#clip090)\" d=\"M171.223 71.6398 Q174.579 72.3574 176.454 74.6259 Q178.353 76.8944 178.353 80.2277 Q178.353 85.3434 174.834 88.1443 Q171.316 90.9452 164.834 90.9452 Q162.658 90.9452 160.343 90.5054 Q158.052 90.0888 155.598 89.2323 L155.598 84.7184 Q157.542 85.8527 159.857 86.4314 Q162.172 87.0101 164.695 87.0101 Q169.093 87.0101 171.385 85.274 Q173.7 83.5379 173.7 80.2277 Q173.7 77.1722 171.547 75.4592 Q169.417 73.7231 165.598 73.7231 L161.57 73.7231 L161.57 69.8805 L165.783 69.8805 Q169.232 69.8805 171.061 68.5148 Q172.89 67.1259 172.89 64.5333 Q172.89 61.8713 170.991 60.4593 Q169.116 59.0241 165.598 59.0241 Q163.677 59.0241 161.478 59.4408 Q159.279 59.8574 156.64 60.7371 L156.64 56.5704 Q159.302 55.8297 161.617 55.4593 Q163.954 55.0889 166.015 55.0889 Q171.339 55.0889 174.441 57.5195 Q177.542 59.9269 177.542 64.0472 Q177.542 66.9176 175.899 68.9083 Q174.255 70.8759 171.223 71.6398 Z\" fill=\"#000000\" fill-rule=\"evenodd\" fill-opacity=\"1\" /><polyline clip-path=\"url(#clip092)\" style=\"stroke:#009af9; stroke-linecap:round; stroke-linejoin:round; stroke-width:12; stroke-opacity:1; fill:none\" points=\"\n",
       "  214.353,1254.04 228.275,1254.2 357.005,1254.03 434.367,1254.18 499.775,1253.89 535.301,1253.78 570.827,1254.32 603.579,1254.2 636.331,1254.08 706.557,1253.71 \n",
       "  787.922,1253.93 824.075,1254.52 860.229,1254.11 876.081,1253.93 891.932,1253.74 907.784,1253.54 923.636,1254.61 932.277,1254.14 940.918,1253.65 945.239,1253.39 \n",
       "  949.56,1254.53 953.88,1254.28 958.201,1254.02 962.522,1253.76 966.842,1253.48 971.163,1254.7 975.484,1254.44 984.125,1253.88 992.766,1253.29 997.113,1254.02 \n",
       "  1001.46,1254.76 1005.81,1253.85 1010.15,1254.62 1018.84,1254.46 1027.54,1254.3 1044.92,1253.93 1062.31,1253.51 1067.11,1253.94 1071.92,1254.38 1076.72,1254.84 \n",
       "  1081.53,1253.02 1086.33,1253.47 1091.14,1253.95 1095.95,1254.45 1100.75,1254.98 1105.56,1252.91 1110.36,1253.42 1115.17,1253.97 1119.97,1254.54 1124.78,1255.15 \n",
       "  1129.58,1252.77 1134.39,1253.36 1139.19,1253.99 1143.77,1253.19 1148.34,1252.34 1152.91,1255.01 1157.48,1254.17 1162.06,1253.26 1166.63,1252.27 1171.2,1255.37 \n",
       "  1175.77,1254.4 1180.34,1253.34 1184.92,1252.18 1185.49,1254.41 1186.06,1251.87 1186.63,1254.13 1187.2,1256.41 1188.35,1256.15 1189.49,1255.88 1191.78,1255.32 \n",
       "  1194.06,1254.73 1198.63,1253.46 1203.21,1252.04 1204.35,1251.66 1205.49,1251.27 1206.06,1254.09 1206.63,1256.94 1207.21,1253.72 1207.78,1256.62 1210.06,1255.95 \n",
       "  1212.35,1255.23 1212.94,1252.71 1213.54,1256.81 1214.13,1254.26 1214.73,1251.67 1215.92,1253.25 1217.1,1254.88 1217.7,1252.18 1218.29,1256.58 1218.89,1253.84 \n",
       "  1219.48,1251.05 1220.67,1252.73 1221.86,1254.49 1222.45,1251.57 1223.05,1256.31 1223.64,1253.35 1224.24,1250.33 1225.42,1252.14 1226.61,1254.02 1227.8,1255.99 \n",
       "  1228.99,1258.04 1229.58,1254.78 1230.18,1251.43 1230.77,1256.87 1231.37,1253.48 1231.96,1250 1232.56,1255.61 1233.15,1252.09 1233.74,1257.86 1234.34,1254.27 \n",
       "  1234.93,1250.59 1235.53,1256.56 1236.12,1252.82 1236.71,1258.96 1237.31,1255.16 1237.9,1251.26 1238.5,1257.63 1239.09,1253.65 1239.69,1249.57 1240.28,1256.18 \n",
       "  1240.87,1252.02 1241.47,1258.84 1242.06,1254.6 1242.66,1250.24 1243.25,1257.34 1243.85,1252.89 1244.44,1248.3 1245.03,1255.7 1245.63,1251.01 1246.22,1258.69 \n",
       "  1246.82,1253.9 1247.41,1248.95 1248.01,1256.98 1248.6,1251.92 1249.19,1260.28 1249.79,1255.09 1250.38,1249.72 1250.98,1258.5 1251.57,1252.99 1252.17,1247.27 \n",
       "  1252.76,1256.51 1253.35,1250.64 1253.95,1260.32 1254.54,1254.28 1255.14,1247.99 1255.73,1258.23 1256.33,1251.76 1256.92,1262.54 1257.51,1255.87 1258.11,1248.88 \n",
       "  1258.7,1260.37 1259.3,1253.15 1259.89,1245.58 1260.49,1257.86 1261.08,1250.01 1261.67,1263.09 1262.27,1254.94 1262.86,1246.32 1263.46,1260.45 1264.05,1251.48 \n",
       "  1264.65,1241.94 1265.24,1257.3 1265.83,1247.32 1266.43,1263.93 1267.02,1253.47 1267.62,1242.23 1268.21,1260.58 1268.8,1248.72 1269.4,1268.88 1269.99,1256.35 \n",
       "  1270.59,1242.66 1271.18,1265.43 1271.78,1250.83 1272.37,1234.67 1272.96,1260.83 1273.56,1243.34 1274.15,1273.35 1274.75,1254.36 1275.34,1232.61 1275.94,1268.8 \n",
       "  1276.53,1244.6 1277.12,1288.59 1277.72,1261.48 1278.31,1228.2 1278.91,1286.98 1279.5,1247.7 1280.1,1194.9 1280.69,1283.37 1281.28,1212.27 1281.88,1369.61 \n",
       "  1282.47,1267.82 1283.07,917.286 1283.66,87.6286 1284.26,664.17 1284.85,1433.78 1285.44,1224.66 1286.04,1115.5 1286.63,1352.14 1287.23,1257.74 1287.82,1189.6 \n",
       "  1288.42,1330.38 1288.92,1200.09 1289.42,1251.48 1289.92,1294.78 1290.42,1195.57 1290.92,1236.79 1291.42,1272.77 1291.92,1304.43 1292.42,1227.08 1292.92,1257.81 \n",
       "  1293.42,1285.41 1293.92,1220.18 1294.42,1246.98 1294.92,1271.42 1295.42,1215.02 1295.92,1238.78 1296.42,1260.69 1296.92,1280.96 1297.42,1232.36 1297.92,1252.2 \n",
       "  1298.42,1270.71 1298.92,1227.19 1299.42,1245.32 1299.92,1262.34 1300.42,1278.35 1300.92,1239.62 1301.42,1255.38 1301.92,1270.27 1302.42,1234.84 1302.92,1249.49 \n",
       "  1303.42,1263.41 1303.92,1276.64 1304.42,1244.45 1304.92,1257.51 1305.42,1269.97 1305.92,1240.09 1306.42,1252.39 1306.92,1264.15 1307.42,1236.28 1307.92,1247.89 \n",
       "  1308.43,1259.04 1308.93,1269.75 1309.43,1243.92 1309.93,1254.51 1310.43,1264.71 1310.93,1240.39 1311.43,1250.47 1311.93,1260.2 1312.43,1269.59 1312.93,1246.84 \n",
       "  1313.43,1256.14 1313.93,1265.13 1314.43,1243.56 1314.93,1252.47 1315.43,1261.1 1315.93,1240.59 1316.43,1249.14 1316.93,1257.43 1317.43,1265.47 1317.93,1246.09 \n",
       "  1318.43,1254.07 1318.93,1261.82 1319.43,1243.3 1319.93,1250.99 1320.43,1258.47 1320.93,1265.74 1321.43,1248.16 1321.93,1255.38 1322.43,1262.41 1322.93,1245.54 \n",
       "  1323.43,1252.52 1323.93,1259.33 1324.43,1243.11 1324.93,1249.87 1325.43,1256.47 1325.93,1262.91 1326.43,1247.4 1326.93,1253.8 1327.43,1260.05 1327.93,1245.1 \n",
       "  1328.43,1251.31 1328.93,1257.39 1329.44,1263.33 1329.94,1248.99 1330.44,1254.89 1330.94,1260.67 1331.44,1246.81 1331.94,1252.55 1332.44,1258.18 1332.94,1244.76 \n",
       "  1333.44,1250.35 1333.94,1255.83 1334.44,1261.2 1334.94,1248.28 1335.44,1253.62 1335.94,1258.86 1336.44,1246.33 1336.94,1251.53 1337.44,1256.65 1337.94,1261.66 \n",
       "  1338.44,1249.56 1338.94,1254.55 1339.44,1259.46 1339.94,1247.7 1340.44,1252.57 1340.94,1257.36 1341.44,1262.07 1341.94,1250.69 1342.44,1255.38 1342.94,1259.98 \n",
       "  1343.44,1248.91 1343.94,1253.49 1344.44,1258 1344.94,1247.21 1345.44,1251.69 1345.94,1256.11 1346.44,1260.45 1346.94,1249.98 1347.44,1254.31 1347.94,1258.56 \n",
       "  1348.44,1248.35 1348.94,1252.59 1349.44,1256.76 1349.94,1260.87 1350.45,1250.95 1350.95,1255.04 1351.45,1259.07 1351.95,1249.38 1352.45,1253.39 1354.89,1253.47 \n",
       "  1357.33,1253.55 1359.77,1253.62 1362.22,1253.69 1367.1,1253.81 1371.99,1253.92 1381.76,1254.1 1391.53,1254.25 1411.08,1254.48 1430.62,1254.65 1448.52,1254.58 \n",
       "  1466.43,1254.53 1484.33,1254.49 1502.23,1254.45 1506.37,1253.72 1510.5,1253.01 1514.63,1252.32 1518.77,1255.63 1522.9,1254.93 1527.04,1254.25 1531.17,1253.59 \n",
       "  1535.3,1252.95 1539.44,1252.33 1543.57,1255.33 1547.7,1254.69 1551.84,1254.08 1555.97,1253.48 1560.1,1252.9 1564.24,1255.67 1568.37,1255.07 1585.12,1254.95 \n",
       "  1601.87,1254.85 1618.62,1254.75 1635.37,1254.66 1710.46,1254.99 1778.49,1254.88 1817.44,1254.33 1856.4,1253.85 1892.46,1254.23 1928.52,1254.57 1964.08,1254.12 \n",
       "  1999.63,1253.71 2034.16,1254.03 2068.68,1254.33 2104.07,1254.16 2139.45,1254.01 2178.23,1253.6 2217,1254.22 2273.32,1254.17 2329.65,1254.13 2341.2,1254.09 \n",
       "  2352.76,1254.04 \n",
       "  \"/>\n",
       "<path clip-path=\"url(#clip090)\" d=\"\n",
       "M1663.16 198.488 L2281.48 198.488 L2281.48 94.8081 L1663.16 94.8081  Z\n",
       "  \" fill=\"#ffffff\" fill-rule=\"evenodd\" fill-opacity=\"1\"/>\n",
       "<polyline clip-path=\"url(#clip090)\" style=\"stroke:#000000; stroke-linecap:round; stroke-linejoin:round; stroke-width:4; stroke-opacity:1; fill:none\" points=\"\n",
       "  1663.16,198.488 2281.48,198.488 2281.48,94.8081 1663.16,94.8081 1663.16,198.488 \n",
       "  \"/>\n",
       "<polyline clip-path=\"url(#clip090)\" style=\"stroke:#009af9; stroke-linecap:round; stroke-linejoin:round; stroke-width:4; stroke-opacity:1; fill:none\" points=\"\n",
       "  1686.92,146.648 1829.48,146.648 \n",
       "  \"/>\n",
       "<path clip-path=\"url(#clip090)\" d=\"M1877.89 138.002 L1868.52 150.618 L1878.38 163.928 L1873.36 163.928 L1865.81 153.743 L1858.26 163.928 L1853.24 163.928 L1863.31 150.363 L1854.1 138.002 L1859.12 138.002 L1865.99 147.238 L1872.87 138.002 L1877.89 138.002 Z\" fill=\"#000000\" fill-rule=\"evenodd\" fill-opacity=\"1\" /><path clip-path=\"url(#clip090)\" d=\"M1891.97 129.368 L1895.9 129.368 L1883.87 168.326 L1879.93 168.326 L1891.97 129.368 Z\" fill=\"#000000\" fill-rule=\"evenodd\" fill-opacity=\"1\" /><path clip-path=\"url(#clip090)\" d=\"M1910.6 127.956 Q1907.5 133.28 1905.99 138.488 Q1904.49 143.697 1904.49 149.044 Q1904.49 154.391 1905.99 159.646 Q1907.52 164.877 1910.6 170.178 L1906.9 170.178 Q1903.43 164.738 1901.69 159.484 Q1899.98 154.229 1899.98 149.044 Q1899.98 143.882 1901.69 138.65 Q1903.4 133.419 1906.9 127.956 L1910.6 127.956 Z\" fill=\"#000000\" fill-rule=\"evenodd\" fill-opacity=\"1\" /><path clip-path=\"url(#clip090)\" d=\"M1920.28 159.993 L1927.92 159.993 L1927.92 133.627 L1919.61 135.294 L1919.61 131.035 L1927.87 129.368 L1932.55 129.368 L1932.55 159.993 L1940.18 159.993 L1940.18 163.928 L1920.28 163.928 L1920.28 159.993 Z\" fill=\"#000000\" fill-rule=\"evenodd\" fill-opacity=\"1\" /><path clip-path=\"url(#clip090)\" d=\"M1966.36 134.206 L1966.36 147.1 L1979.26 147.1 L1979.26 151.035 L1966.36 151.035 L1966.36 163.928 L1962.48 163.928 L1962.48 151.035 L1949.58 151.035 L1949.58 147.1 L1962.48 147.1 L1962.48 134.206 L1966.36 134.206 Z\" fill=\"#000000\" fill-rule=\"evenodd\" fill-opacity=\"1\" /><path clip-path=\"url(#clip090)\" d=\"M2010.3 138.002 L2000.92 150.618 L2010.79 163.928 L2005.76 163.928 L1998.22 153.743 L1990.67 163.928 L1985.65 163.928 L1995.72 150.363 L1986.5 138.002 L1991.53 138.002 L1998.4 147.238 L2005.28 138.002 L2010.3 138.002 Z\" fill=\"#000000\" fill-rule=\"evenodd\" fill-opacity=\"1\" /><path clip-path=\"url(#clip090)\" d=\"M2016.13 127.956 L2019.84 127.956 Q2023.31 133.419 2025.02 138.65 Q2026.76 143.882 2026.76 149.044 Q2026.76 154.229 2025.02 159.484 Q2023.31 164.738 2019.84 170.178 L2016.13 170.178 Q2019.21 164.877 2020.72 159.646 Q2022.24 154.391 2022.24 149.044 Q2022.24 143.697 2020.72 138.488 Q2019.21 133.28 2016.13 127.956 Z\" fill=\"#000000\" fill-rule=\"evenodd\" fill-opacity=\"1\" /><path clip-path=\"url(#clip090)\" d=\"M2035.3 127.91 L2039.56 127.91 L2039.56 163.928 L2035.3 163.928 L2035.3 127.91 Z\" fill=\"#000000\" fill-rule=\"evenodd\" fill-opacity=\"1\" /><path clip-path=\"url(#clip090)\" d=\"M2058.52 140.988 Q2055.09 140.988 2053.1 143.674 Q2051.11 146.336 2051.11 150.988 Q2051.11 155.641 2053.08 158.326 Q2055.07 160.988 2058.52 160.988 Q2061.92 160.988 2063.91 158.303 Q2065.9 155.618 2065.9 150.988 Q2065.9 146.382 2063.91 143.697 Q2061.92 140.988 2058.52 140.988 M2058.52 137.377 Q2064.07 137.377 2067.24 140.988 Q2070.41 144.6 2070.41 150.988 Q2070.41 157.354 2067.24 160.988 Q2064.07 164.599 2058.52 164.599 Q2052.94 164.599 2049.77 160.988 Q2046.62 157.354 2046.62 150.988 Q2046.62 144.6 2049.77 140.988 Q2052.94 137.377 2058.52 137.377 Z\" fill=\"#000000\" fill-rule=\"evenodd\" fill-opacity=\"1\" /><path clip-path=\"url(#clip090)\" d=\"M2094.54 150.664 Q2094.54 146.035 2092.61 143.488 Q2090.72 140.942 2087.27 140.942 Q2083.84 140.942 2081.92 143.488 Q2080.02 146.035 2080.02 150.664 Q2080.02 155.271 2081.92 157.817 Q2083.84 160.363 2087.27 160.363 Q2090.72 160.363 2092.61 157.817 Q2094.54 155.271 2094.54 150.664 M2098.79 160.711 Q2098.79 167.331 2095.85 170.548 Q2092.91 173.789 2086.85 173.789 Q2084.6 173.789 2082.61 173.442 Q2080.62 173.118 2078.75 172.423 L2078.75 168.28 Q2080.62 169.298 2082.45 169.785 Q2084.28 170.271 2086.18 170.271 Q2090.37 170.271 2092.45 168.072 Q2094.54 165.896 2094.54 161.474 L2094.54 159.368 Q2093.22 161.66 2091.16 162.794 Q2089.1 163.928 2086.23 163.928 Q2081.46 163.928 2078.54 160.294 Q2075.62 156.66 2075.62 150.664 Q2075.62 144.646 2078.54 141.012 Q2081.46 137.377 2086.23 137.377 Q2089.1 137.377 2091.16 138.512 Q2093.22 139.646 2094.54 141.937 L2094.54 138.002 L2098.79 138.002 L2098.79 160.711 Z\" fill=\"#000000\" fill-rule=\"evenodd\" fill-opacity=\"1\" /><path clip-path=\"url(#clip090)\" d=\"M2117.8 127.956 Q2114.7 133.28 2113.19 138.488 Q2111.69 143.697 2111.69 149.044 Q2111.69 154.391 2113.19 159.646 Q2114.72 164.877 2117.8 170.178 L2114.1 170.178 Q2110.62 164.738 2108.89 159.484 Q2107.17 154.229 2107.17 149.044 Q2107.17 143.882 2108.89 138.65 Q2110.6 133.419 2114.1 127.956 L2117.8 127.956 Z\" fill=\"#000000\" fill-rule=\"evenodd\" fill-opacity=\"1\" /><path clip-path=\"url(#clip090)\" d=\"M2127.47 159.993 L2135.11 159.993 L2135.11 133.627 L2126.8 135.294 L2126.8 131.035 L2135.07 129.368 L2139.74 129.368 L2139.74 159.993 L2147.38 159.993 L2147.38 163.928 L2127.47 163.928 L2127.47 159.993 Z\" fill=\"#000000\" fill-rule=\"evenodd\" fill-opacity=\"1\" /><path clip-path=\"url(#clip090)\" d=\"M2173.56 134.206 L2173.56 147.1 L2186.46 147.1 L2186.46 151.035 L2173.56 151.035 L2173.56 163.928 L2169.67 163.928 L2169.67 151.035 L2156.78 151.035 L2156.78 147.1 L2169.67 147.1 L2169.67 134.206 L2173.56 134.206 Z\" fill=\"#000000\" fill-rule=\"evenodd\" fill-opacity=\"1\" /><path clip-path=\"url(#clip090)\" d=\"M2217.5 138.002 L2208.12 150.618 L2217.98 163.928 L2212.96 163.928 L2205.41 153.743 L2197.87 163.928 L2192.84 163.928 L2202.91 150.363 L2193.7 138.002 L2198.72 138.002 L2205.6 147.238 L2212.47 138.002 L2217.5 138.002 Z\" fill=\"#000000\" fill-rule=\"evenodd\" fill-opacity=\"1\" /><path clip-path=\"url(#clip090)\" d=\"M2223.33 127.956 L2227.03 127.956 Q2230.51 133.419 2232.22 138.65 Q2233.96 143.882 2233.96 149.044 Q2233.96 154.229 2232.22 159.484 Q2230.51 164.738 2227.03 170.178 L2223.33 170.178 Q2226.41 164.877 2227.91 159.646 Q2229.44 154.391 2229.44 149.044 Q2229.44 143.697 2227.91 138.488 Q2226.41 133.28 2223.33 127.956 Z\" fill=\"#000000\" fill-rule=\"evenodd\" fill-opacity=\"1\" /></svg>\n"
      ]
     },
     "execution_count": 20,
     "metadata": {},
     "output_type": "execute_result"
    }
   ],
   "source": [
    "plot(x -> abs(x / ((x+1)*log(x+1))), xlims=(-1e-10, 1e-10), label = \"x/(1+x)log(1+x)\")"
   ]
  },
  {
   "cell_type": "code",
   "execution_count": 21,
   "id": "86f61434",
   "metadata": {
    "slideshow": {
     "slide_type": "skip"
    }
   },
   "outputs": [
    {
     "data": {
      "image/svg+xml": [
       "<?xml version=\"1.0\" encoding=\"utf-8\"?>\n",
       "<svg xmlns=\"http://www.w3.org/2000/svg\" xmlns:xlink=\"http://www.w3.org/1999/xlink\" width=\"600\" height=\"400\" viewBox=\"0 0 2400 1600\">\n",
       "<defs>\n",
       "  <clipPath id=\"clip130\">\n",
       "    <rect x=\"0\" y=\"0\" width=\"2400\" height=\"1600\"/>\n",
       "  </clipPath>\n",
       "</defs>\n",
       "<path clip-path=\"url(#clip130)\" d=\"\n",
       "M0 1600 L2400 1600 L2400 0 L0 0  Z\n",
       "  \" fill=\"#ffffff\" fill-rule=\"evenodd\" fill-opacity=\"1\"/>\n",
       "<defs>\n",
       "  <clipPath id=\"clip131\">\n",
       "    <rect x=\"480\" y=\"0\" width=\"1681\" height=\"1600\"/>\n",
       "  </clipPath>\n",
       "</defs>\n",
       "<path clip-path=\"url(#clip130)\" d=\"\n",
       "M214.353 1474.16 L2352.76 1474.16 L2352.76 47.2441 L214.353 47.2441  Z\n",
       "  \" fill=\"#ffffff\" fill-rule=\"evenodd\" fill-opacity=\"1\"/>\n",
       "<defs>\n",
       "  <clipPath id=\"clip132\">\n",
       "    <rect x=\"214\" y=\"47\" width=\"2139\" height=\"1428\"/>\n",
       "  </clipPath>\n",
       "</defs>\n",
       "<polyline clip-path=\"url(#clip132)\" style=\"stroke:#000000; stroke-linecap:round; stroke-linejoin:round; stroke-width:2; stroke-opacity:0.1; fill:none\" points=\"\n",
       "  748.953,1474.16 748.953,47.2441 \n",
       "  \"/>\n",
       "<polyline clip-path=\"url(#clip132)\" style=\"stroke:#000000; stroke-linecap:round; stroke-linejoin:round; stroke-width:2; stroke-opacity:0.1; fill:none\" points=\"\n",
       "  1283.55,1474.16 1283.55,47.2441 \n",
       "  \"/>\n",
       "<polyline clip-path=\"url(#clip132)\" style=\"stroke:#000000; stroke-linecap:round; stroke-linejoin:round; stroke-width:2; stroke-opacity:0.1; fill:none\" points=\"\n",
       "  1818.16,1474.16 1818.16,47.2441 \n",
       "  \"/>\n",
       "<polyline clip-path=\"url(#clip132)\" style=\"stroke:#000000; stroke-linecap:round; stroke-linejoin:round; stroke-width:2; stroke-opacity:0.1; fill:none\" points=\"\n",
       "  2352.76,1474.16 2352.76,47.2441 \n",
       "  \"/>\n",
       "<polyline clip-path=\"url(#clip130)\" style=\"stroke:#000000; stroke-linecap:round; stroke-linejoin:round; stroke-width:4; stroke-opacity:1; fill:none\" points=\"\n",
       "  214.353,1474.16 2352.76,1474.16 \n",
       "  \"/>\n",
       "<polyline clip-path=\"url(#clip130)\" style=\"stroke:#000000; stroke-linecap:round; stroke-linejoin:round; stroke-width:4; stroke-opacity:1; fill:none\" points=\"\n",
       "  748.953,1474.16 748.953,1455.27 \n",
       "  \"/>\n",
       "<polyline clip-path=\"url(#clip130)\" style=\"stroke:#000000; stroke-linecap:round; stroke-linejoin:round; stroke-width:4; stroke-opacity:1; fill:none\" points=\"\n",
       "  1283.55,1474.16 1283.55,1455.27 \n",
       "  \"/>\n",
       "<polyline clip-path=\"url(#clip130)\" style=\"stroke:#000000; stroke-linecap:round; stroke-linejoin:round; stroke-width:4; stroke-opacity:1; fill:none\" points=\"\n",
       "  1818.16,1474.16 1818.16,1455.27 \n",
       "  \"/>\n",
       "<polyline clip-path=\"url(#clip130)\" style=\"stroke:#000000; stroke-linecap:round; stroke-linejoin:round; stroke-width:4; stroke-opacity:1; fill:none\" points=\"\n",
       "  2352.76,1474.16 2352.76,1455.27 \n",
       "  \"/>\n",
       "<path clip-path=\"url(#clip130)\" d=\"M608.633 1535.4 L638.309 1535.4 L638.309 1539.33 L608.633 1539.33 L608.633 1535.4 Z\" fill=\"#000000\" fill-rule=\"evenodd\" fill-opacity=\"1\" /><path clip-path=\"url(#clip130)\" d=\"M648.448 1517.66 L666.804 1517.66 L666.804 1521.6 L652.73 1521.6 L652.73 1530.07 Q653.748 1529.72 654.767 1529.56 Q655.785 1529.38 656.804 1529.38 Q662.591 1529.38 665.971 1532.55 Q669.35 1535.72 669.35 1541.14 Q669.35 1546.72 665.878 1549.82 Q662.406 1552.9 656.086 1552.9 Q653.91 1552.9 651.642 1552.53 Q649.397 1552.16 646.989 1551.41 L646.989 1546.72 Q649.073 1547.85 651.295 1548.41 Q653.517 1548.96 655.994 1548.96 Q659.998 1548.96 662.336 1546.85 Q664.674 1544.75 664.674 1541.14 Q664.674 1537.53 662.336 1535.42 Q659.998 1533.31 655.994 1533.31 Q654.119 1533.31 652.244 1533.73 Q650.392 1534.15 648.448 1535.03 L648.448 1517.66 Z\" fill=\"#000000\" fill-rule=\"evenodd\" fill-opacity=\"1\" /><path clip-path=\"url(#clip130)\" d=\"M678.563 1546.35 L683.447 1546.35 L683.447 1552.22 L678.563 1552.22 L678.563 1546.35 Z\" fill=\"#000000\" fill-rule=\"evenodd\" fill-opacity=\"1\" /><path clip-path=\"url(#clip130)\" d=\"M703.632 1520.74 Q700.021 1520.74 698.193 1524.31 Q696.387 1527.85 696.387 1534.98 Q696.387 1542.09 698.193 1545.65 Q700.021 1549.19 703.632 1549.19 Q707.267 1549.19 709.072 1545.65 Q710.901 1542.09 710.901 1534.98 Q710.901 1527.85 709.072 1524.31 Q707.267 1520.74 703.632 1520.74 M703.632 1517.04 Q709.443 1517.04 712.498 1521.65 Q715.577 1526.23 715.577 1534.98 Q715.577 1543.71 712.498 1548.31 Q709.443 1552.9 703.632 1552.9 Q697.822 1552.9 694.744 1548.31 Q691.688 1543.71 691.688 1534.98 Q691.688 1526.23 694.744 1521.65 Q697.822 1517.04 703.632 1517.04 Z\" fill=\"#000000\" fill-rule=\"evenodd\" fill-opacity=\"1\" /><path clip-path=\"url(#clip130)\" d=\"M751.966 1526.76 L741.387 1537.39 L751.966 1547.97 L749.211 1550.77 L738.586 1540.14 L727.961 1550.77 L725.23 1547.97 L735.785 1537.39 L725.23 1526.76 L727.961 1523.96 L738.586 1534.59 L749.211 1523.96 L751.966 1526.76 Z\" fill=\"#000000\" fill-rule=\"evenodd\" fill-opacity=\"1\" /><path clip-path=\"url(#clip130)\" d=\"M764.327 1548.29 L771.965 1548.29 L771.965 1521.92 L763.655 1523.59 L763.655 1519.33 L771.919 1517.66 L776.595 1517.66 L776.595 1548.29 L784.234 1548.29 L784.234 1552.22 L764.327 1552.22 L764.327 1548.29 Z\" fill=\"#000000\" fill-rule=\"evenodd\" fill-opacity=\"1\" /><path clip-path=\"url(#clip130)\" d=\"M803.678 1520.74 Q800.067 1520.74 798.238 1524.31 Q796.433 1527.85 796.433 1534.98 Q796.433 1542.09 798.238 1545.65 Q800.067 1549.19 803.678 1549.19 Q807.312 1549.19 809.118 1545.65 Q810.947 1542.09 810.947 1534.98 Q810.947 1527.85 809.118 1524.31 Q807.312 1520.74 803.678 1520.74 M803.678 1517.04 Q809.488 1517.04 812.544 1521.65 Q815.623 1526.23 815.623 1534.98 Q815.623 1543.71 812.544 1548.31 Q809.488 1552.9 803.678 1552.9 Q797.868 1552.9 794.789 1548.31 Q791.734 1543.71 791.734 1534.98 Q791.734 1526.23 794.789 1521.65 Q797.868 1517.04 803.678 1517.04 Z\" fill=\"#000000\" fill-rule=\"evenodd\" fill-opacity=\"1\" /><path clip-path=\"url(#clip130)\" d=\"M815.623 1511.14 L839.734 1511.14 L839.734 1514.34 L815.623 1514.34 L815.623 1511.14 Z\" fill=\"#000000\" fill-rule=\"evenodd\" fill-opacity=\"1\" /><path clip-path=\"url(#clip130)\" d=\"M848.593 1521.62 L854.799 1521.62 L854.799 1500.19 L848.047 1501.55 L848.047 1498.09 L854.762 1496.73 L858.561 1496.73 L858.561 1521.62 L864.767 1521.62 L864.767 1524.81 L848.593 1524.81 L848.593 1521.62 Z\" fill=\"#000000\" fill-rule=\"evenodd\" fill-opacity=\"1\" /><path clip-path=\"url(#clip130)\" d=\"M873.099 1521.62 L879.306 1521.62 L879.306 1500.19 L872.554 1501.55 L872.554 1498.09 L879.268 1496.73 L883.067 1496.73 L883.067 1521.62 L889.274 1521.62 L889.274 1524.81 L873.099 1524.81 L873.099 1521.62 Z\" fill=\"#000000\" fill-rule=\"evenodd\" fill-opacity=\"1\" /><path clip-path=\"url(#clip130)\" d=\"M1283.55 1505.08 Q1279.94 1505.08 1278.11 1508.65 Q1276.31 1512.19 1276.31 1519.32 Q1276.31 1526.43 1278.11 1529.99 Q1279.94 1533.53 1283.55 1533.53 Q1287.19 1533.53 1288.99 1529.99 Q1290.82 1526.43 1290.82 1519.32 Q1290.82 1512.19 1288.99 1508.65 Q1287.19 1505.08 1283.55 1505.08 M1283.55 1501.38 Q1289.36 1501.38 1292.42 1505.99 Q1295.5 1510.57 1295.5 1519.32 Q1295.5 1528.05 1292.42 1532.65 Q1289.36 1537.24 1283.55 1537.24 Q1277.74 1537.24 1274.67 1532.65 Q1271.61 1528.05 1271.61 1519.32 Q1271.61 1510.57 1274.67 1505.99 Q1277.74 1501.38 1283.55 1501.38 Z\" fill=\"#000000\" fill-rule=\"evenodd\" fill-opacity=\"1\" /><path clip-path=\"url(#clip130)\" d=\"M1698.47 1517.66 L1716.83 1517.66 L1716.83 1521.6 L1702.75 1521.6 L1702.75 1530.07 Q1703.77 1529.72 1704.79 1529.56 Q1705.81 1529.38 1706.83 1529.38 Q1712.61 1529.38 1715.99 1532.55 Q1719.37 1535.72 1719.37 1541.14 Q1719.37 1546.72 1715.9 1549.82 Q1712.43 1552.9 1706.11 1552.9 Q1703.93 1552.9 1701.67 1552.53 Q1699.42 1552.16 1697.01 1551.41 L1697.01 1546.72 Q1699.1 1547.85 1701.32 1548.41 Q1703.54 1548.96 1706.02 1548.96 Q1710.02 1548.96 1712.36 1546.85 Q1714.7 1544.75 1714.7 1541.14 Q1714.7 1537.53 1712.36 1535.42 Q1710.02 1533.31 1706.02 1533.31 Q1704.14 1533.31 1702.27 1533.73 Q1700.42 1534.15 1698.47 1535.03 L1698.47 1517.66 Z\" fill=\"#000000\" fill-rule=\"evenodd\" fill-opacity=\"1\" /><path clip-path=\"url(#clip130)\" d=\"M1728.59 1546.35 L1733.47 1546.35 L1733.47 1552.22 L1728.59 1552.22 L1728.59 1546.35 Z\" fill=\"#000000\" fill-rule=\"evenodd\" fill-opacity=\"1\" /><path clip-path=\"url(#clip130)\" d=\"M1753.66 1520.74 Q1750.04 1520.74 1748.22 1524.31 Q1746.41 1527.85 1746.41 1534.98 Q1746.41 1542.09 1748.22 1545.65 Q1750.04 1549.19 1753.66 1549.19 Q1757.29 1549.19 1759.1 1545.65 Q1760.92 1542.09 1760.92 1534.98 Q1760.92 1527.85 1759.1 1524.31 Q1757.29 1520.74 1753.66 1520.74 M1753.66 1517.04 Q1759.47 1517.04 1762.52 1521.65 Q1765.6 1526.23 1765.6 1534.98 Q1765.6 1543.71 1762.52 1548.31 Q1759.47 1552.9 1753.66 1552.9 Q1747.85 1552.9 1744.77 1548.31 Q1741.71 1543.71 1741.71 1534.98 Q1741.71 1526.23 1744.77 1521.65 Q1747.85 1517.04 1753.66 1517.04 Z\" fill=\"#000000\" fill-rule=\"evenodd\" fill-opacity=\"1\" /><path clip-path=\"url(#clip130)\" d=\"M1801.99 1526.76 L1791.41 1537.39 L1801.99 1547.97 L1799.23 1550.77 L1788.61 1540.14 L1777.98 1550.77 L1775.25 1547.97 L1785.81 1537.39 L1775.25 1526.76 L1777.98 1523.96 L1788.61 1534.59 L1799.23 1523.96 L1801.99 1526.76 Z\" fill=\"#000000\" fill-rule=\"evenodd\" fill-opacity=\"1\" /><path clip-path=\"url(#clip130)\" d=\"M1814.35 1548.29 L1821.99 1548.29 L1821.99 1521.92 L1813.68 1523.59 L1813.68 1519.33 L1821.94 1517.66 L1826.62 1517.66 L1826.62 1548.29 L1834.26 1548.29 L1834.26 1552.22 L1814.35 1552.22 L1814.35 1548.29 Z\" fill=\"#000000\" fill-rule=\"evenodd\" fill-opacity=\"1\" /><path clip-path=\"url(#clip130)\" d=\"M1853.7 1520.74 Q1850.09 1520.74 1848.26 1524.31 Q1846.46 1527.85 1846.46 1534.98 Q1846.46 1542.09 1848.26 1545.65 Q1850.09 1549.19 1853.7 1549.19 Q1857.34 1549.19 1859.14 1545.65 Q1860.97 1542.09 1860.97 1534.98 Q1860.97 1527.85 1859.14 1524.31 Q1857.34 1520.74 1853.7 1520.74 M1853.7 1517.04 Q1859.51 1517.04 1862.57 1521.65 Q1865.65 1526.23 1865.65 1534.98 Q1865.65 1543.71 1862.57 1548.31 Q1859.51 1552.9 1853.7 1552.9 Q1847.89 1552.9 1844.81 1548.31 Q1841.76 1543.71 1841.76 1534.98 Q1841.76 1526.23 1844.81 1521.65 Q1847.89 1517.04 1853.7 1517.04 Z\" fill=\"#000000\" fill-rule=\"evenodd\" fill-opacity=\"1\" /><path clip-path=\"url(#clip130)\" d=\"M1865.65 1511.14 L1889.76 1511.14 L1889.76 1514.34 L1865.65 1514.34 L1865.65 1511.14 Z\" fill=\"#000000\" fill-rule=\"evenodd\" fill-opacity=\"1\" /><path clip-path=\"url(#clip130)\" d=\"M1898.62 1521.62 L1904.82 1521.62 L1904.82 1500.19 L1898.07 1501.55 L1898.07 1498.09 L1904.79 1496.73 L1908.58 1496.73 L1908.58 1521.62 L1914.79 1521.62 L1914.79 1524.81 L1898.62 1524.81 L1898.62 1521.62 Z\" fill=\"#000000\" fill-rule=\"evenodd\" fill-opacity=\"1\" /><path clip-path=\"url(#clip130)\" d=\"M1923.12 1521.62 L1929.33 1521.62 L1929.33 1500.19 L1922.58 1501.55 L1922.58 1498.09 L1929.29 1496.73 L1933.09 1496.73 L1933.09 1521.62 L1939.3 1521.62 L1939.3 1524.81 L1923.12 1524.81 L1923.12 1521.62 Z\" fill=\"#000000\" fill-rule=\"evenodd\" fill-opacity=\"1\" /><path clip-path=\"url(#clip130)\" d=\"M2232.56 1548.29 L2240.2 1548.29 L2240.2 1521.92 L2231.89 1523.59 L2231.89 1519.33 L2240.15 1517.66 L2244.83 1517.66 L2244.83 1548.29 L2252.47 1548.29 L2252.47 1552.22 L2232.56 1552.22 L2232.56 1548.29 Z\" fill=\"#000000\" fill-rule=\"evenodd\" fill-opacity=\"1\" /><path clip-path=\"url(#clip130)\" d=\"M2261.91 1546.35 L2266.8 1546.35 L2266.8 1552.22 L2261.91 1552.22 L2261.91 1546.35 Z\" fill=\"#000000\" fill-rule=\"evenodd\" fill-opacity=\"1\" /><path clip-path=\"url(#clip130)\" d=\"M2286.98 1520.74 Q2283.37 1520.74 2281.54 1524.31 Q2279.74 1527.85 2279.74 1534.98 Q2279.74 1542.09 2281.54 1545.65 Q2283.37 1549.19 2286.98 1549.19 Q2290.62 1549.19 2292.42 1545.65 Q2294.25 1542.09 2294.25 1534.98 Q2294.25 1527.85 2292.42 1524.31 Q2290.62 1520.74 2286.98 1520.74 M2286.98 1517.04 Q2292.79 1517.04 2295.85 1521.65 Q2298.93 1526.23 2298.93 1534.98 Q2298.93 1543.71 2295.85 1548.31 Q2292.79 1552.9 2286.98 1552.9 Q2281.17 1552.9 2278.09 1548.31 Q2275.04 1543.71 2275.04 1534.98 Q2275.04 1526.23 2278.09 1521.65 Q2281.17 1517.04 2286.98 1517.04 Z\" fill=\"#000000\" fill-rule=\"evenodd\" fill-opacity=\"1\" /><path clip-path=\"url(#clip130)\" d=\"M2335.32 1526.76 L2324.74 1537.39 L2335.32 1547.97 L2332.56 1550.77 L2321.94 1540.14 L2311.31 1550.77 L2308.58 1547.97 L2319.14 1537.39 L2308.58 1526.76 L2311.31 1523.96 L2321.94 1534.59 L2332.56 1523.96 L2335.32 1526.76 Z\" fill=\"#000000\" fill-rule=\"evenodd\" fill-opacity=\"1\" /><path clip-path=\"url(#clip130)\" d=\"M2347.68 1548.29 L2355.32 1548.29 L2355.32 1521.92 L2347.01 1523.59 L2347.01 1519.33 L2355.27 1517.66 L2359.95 1517.66 L2359.95 1548.29 L2367.58 1548.29 L2367.58 1552.22 L2347.68 1552.22 L2347.68 1548.29 Z\" fill=\"#000000\" fill-rule=\"evenodd\" fill-opacity=\"1\" /><path clip-path=\"url(#clip130)\" d=\"M2387.03 1520.74 Q2383.42 1520.74 2381.59 1524.31 Q2379.78 1527.85 2379.78 1534.98 Q2379.78 1542.09 2381.59 1545.65 Q2383.42 1549.19 2387.03 1549.19 Q2390.66 1549.19 2392.47 1545.65 Q2394.3 1542.09 2394.3 1534.98 Q2394.3 1527.85 2392.47 1524.31 Q2390.66 1520.74 2387.03 1520.74 M2387.03 1517.04 Q2392.84 1517.04 2395.89 1521.65 Q2398.97 1526.23 2398.97 1534.98 Q2398.97 1543.71 2395.89 1548.31 Q2392.84 1552.9 2387.03 1552.9 Q2381.22 1552.9 2378.14 1548.31 Q2375.08 1543.71 2375.08 1534.98 Q2375.08 1526.23 2378.14 1521.65 Q2381.22 1517.04 2387.03 1517.04 Z\" fill=\"#000000\" fill-rule=\"evenodd\" fill-opacity=\"1\" /><path clip-path=\"url(#clip130)\" d=\"M2398.97 1511.14 L2423.08 1511.14 L2423.08 1514.34 L2398.97 1514.34 L2398.97 1511.14 Z\" fill=\"#000000\" fill-rule=\"evenodd\" fill-opacity=\"1\" /><path clip-path=\"url(#clip130)\" d=\"M2431.94 1521.62 L2438.15 1521.62 L2438.15 1500.19 L2431.4 1501.55 L2431.4 1498.09 L2438.11 1496.73 L2441.91 1496.73 L2441.91 1521.62 L2448.12 1521.62 L2448.12 1524.81 L2431.94 1524.81 L2431.94 1521.62 Z\" fill=\"#000000\" fill-rule=\"evenodd\" fill-opacity=\"1\" /><path clip-path=\"url(#clip130)\" d=\"M2463.92 1499.24 Q2460.98 1499.24 2459.5 1502.13 Q2458.03 1505.01 2458.03 1510.8 Q2458.03 1516.58 2459.5 1519.47 Q2460.98 1522.35 2463.92 1522.35 Q2466.87 1522.35 2468.34 1519.47 Q2469.82 1516.58 2469.82 1510.8 Q2469.82 1505.01 2468.34 1502.13 Q2466.87 1499.24 2463.92 1499.24 M2463.92 1496.23 Q2468.64 1496.23 2471.12 1499.97 Q2473.62 1503.69 2473.62 1510.8 Q2473.62 1517.89 2471.12 1521.64 Q2468.64 1525.36 2463.92 1525.36 Q2459.2 1525.36 2456.69 1521.64 Q2454.21 1517.89 2454.21 1510.8 Q2454.21 1503.69 2456.69 1499.97 Q2459.2 1496.23 2463.92 1496.23 Z\" fill=\"#000000\" fill-rule=\"evenodd\" fill-opacity=\"1\" /><polyline clip-path=\"url(#clip132)\" style=\"stroke:#000000; stroke-linecap:round; stroke-linejoin:round; stroke-width:2; stroke-opacity:0.1; fill:none\" points=\"\n",
       "  214.353,1254.01 2352.76,1254.01 \n",
       "  \"/>\n",
       "<polyline clip-path=\"url(#clip132)\" style=\"stroke:#000000; stroke-linecap:round; stroke-linejoin:round; stroke-width:2; stroke-opacity:0.1; fill:none\" points=\"\n",
       "  214.353,860.339 2352.76,860.339 \n",
       "  \"/>\n",
       "<polyline clip-path=\"url(#clip132)\" style=\"stroke:#000000; stroke-linecap:round; stroke-linejoin:round; stroke-width:2; stroke-opacity:0.1; fill:none\" points=\"\n",
       "  214.353,466.667 2352.76,466.667 \n",
       "  \"/>\n",
       "<polyline clip-path=\"url(#clip132)\" style=\"stroke:#000000; stroke-linecap:round; stroke-linejoin:round; stroke-width:2; stroke-opacity:0.1; fill:none\" points=\"\n",
       "  214.353,72.9939 2352.76,72.9939 \n",
       "  \"/>\n",
       "<polyline clip-path=\"url(#clip130)\" style=\"stroke:#000000; stroke-linecap:round; stroke-linejoin:round; stroke-width:4; stroke-opacity:1; fill:none\" points=\"\n",
       "  214.353,1474.16 214.353,47.2441 \n",
       "  \"/>\n",
       "<polyline clip-path=\"url(#clip130)\" style=\"stroke:#000000; stroke-linecap:round; stroke-linejoin:round; stroke-width:4; stroke-opacity:1; fill:none\" points=\"\n",
       "  214.353,1254.01 233.25,1254.01 \n",
       "  \"/>\n",
       "<polyline clip-path=\"url(#clip130)\" style=\"stroke:#000000; stroke-linecap:round; stroke-linejoin:round; stroke-width:4; stroke-opacity:1; fill:none\" points=\"\n",
       "  214.353,860.339 233.25,860.339 \n",
       "  \"/>\n",
       "<polyline clip-path=\"url(#clip130)\" style=\"stroke:#000000; stroke-linecap:round; stroke-linejoin:round; stroke-width:4; stroke-opacity:1; fill:none\" points=\"\n",
       "  214.353,466.667 233.25,466.667 \n",
       "  \"/>\n",
       "<polyline clip-path=\"url(#clip130)\" style=\"stroke:#000000; stroke-linecap:round; stroke-linejoin:round; stroke-width:4; stroke-opacity:1; fill:none\" points=\"\n",
       "  214.353,72.9939 233.25,72.9939 \n",
       "  \"/>\n",
       "<path clip-path=\"url(#clip130)\" d=\"M51.6634 1267.36 L59.3023 1267.36 L59.3023 1240.99 L50.9921 1242.66 L50.9921 1238.4 L59.256 1236.73 L63.9319 1236.73 L63.9319 1267.36 L71.5707 1267.36 L71.5707 1271.29 L51.6634 1271.29 L51.6634 1267.36 Z\" fill=\"#000000\" fill-rule=\"evenodd\" fill-opacity=\"1\" /><path clip-path=\"url(#clip130)\" d=\"M81.0151 1265.41 L85.8993 1265.41 L85.8993 1271.29 L81.0151 1271.29 L81.0151 1265.41 Z\" fill=\"#000000\" fill-rule=\"evenodd\" fill-opacity=\"1\" /><path clip-path=\"url(#clip130)\" d=\"M106.084 1239.81 Q102.473 1239.81 100.645 1243.38 Q98.8391 1246.92 98.8391 1254.05 Q98.8391 1261.15 100.645 1264.72 Q102.473 1268.26 106.084 1268.26 Q109.719 1268.26 111.524 1264.72 Q113.353 1261.15 113.353 1254.05 Q113.353 1246.92 111.524 1243.38 Q109.719 1239.81 106.084 1239.81 M106.084 1236.11 Q111.895 1236.11 114.95 1240.71 Q118.029 1245.3 118.029 1254.05 Q118.029 1262.77 114.95 1267.38 Q111.895 1271.96 106.084 1271.96 Q100.274 1271.96 97.1956 1267.38 Q94.14 1262.77 94.14 1254.05 Q94.14 1245.3 97.1956 1240.71 Q100.274 1236.11 106.084 1236.11 Z\" fill=\"#000000\" fill-rule=\"evenodd\" fill-opacity=\"1\" /><path clip-path=\"url(#clip130)\" d=\"M136.246 1239.81 Q132.635 1239.81 130.807 1243.38 Q129.001 1246.92 129.001 1254.05 Q129.001 1261.15 130.807 1264.72 Q132.635 1268.26 136.246 1268.26 Q139.881 1268.26 141.686 1264.72 Q143.515 1261.15 143.515 1254.05 Q143.515 1246.92 141.686 1243.38 Q139.881 1239.81 136.246 1239.81 M136.246 1236.11 Q142.056 1236.11 145.112 1240.71 Q148.191 1245.3 148.191 1254.05 Q148.191 1262.77 145.112 1267.38 Q142.056 1271.96 136.246 1271.96 Q130.436 1271.96 127.357 1267.38 Q124.302 1262.77 124.302 1254.05 Q124.302 1245.3 127.357 1240.71 Q130.436 1236.11 136.246 1236.11 Z\" fill=\"#000000\" fill-rule=\"evenodd\" fill-opacity=\"1\" /><path clip-path=\"url(#clip130)\" d=\"M166.408 1239.81 Q162.797 1239.81 160.968 1243.38 Q159.163 1246.92 159.163 1254.05 Q159.163 1261.15 160.968 1264.72 Q162.797 1268.26 166.408 1268.26 Q170.042 1268.26 171.848 1264.72 Q173.677 1261.15 173.677 1254.05 Q173.677 1246.92 171.848 1243.38 Q170.042 1239.81 166.408 1239.81 M166.408 1236.11 Q172.218 1236.11 175.274 1240.71 Q178.353 1245.3 178.353 1254.05 Q178.353 1262.77 175.274 1267.38 Q172.218 1271.96 166.408 1271.96 Q160.598 1271.96 157.519 1267.38 Q154.464 1262.77 154.464 1254.05 Q154.464 1245.3 157.519 1240.71 Q160.598 1236.11 166.408 1236.11 Z\" fill=\"#000000\" fill-rule=\"evenodd\" fill-opacity=\"1\" /><path clip-path=\"url(#clip130)\" d=\"M52.8903 873.684 L60.5291 873.684 L60.5291 847.319 L52.219 848.985 L52.219 844.726 L60.4828 843.059 L65.1587 843.059 L65.1587 873.684 L72.7976 873.684 L72.7976 877.619 L52.8903 877.619 L52.8903 873.684 Z\" fill=\"#000000\" fill-rule=\"evenodd\" fill-opacity=\"1\" /><path clip-path=\"url(#clip130)\" d=\"M82.242 871.74 L87.1262 871.74 L87.1262 877.619 L82.242 877.619 L82.242 871.74 Z\" fill=\"#000000\" fill-rule=\"evenodd\" fill-opacity=\"1\" /><path clip-path=\"url(#clip130)\" d=\"M107.311 846.138 Q103.7 846.138 101.871 849.703 Q100.066 853.245 100.066 860.374 Q100.066 867.481 101.871 871.045 Q103.7 874.587 107.311 874.587 Q110.946 874.587 112.751 871.045 Q114.58 867.481 114.58 860.374 Q114.58 853.245 112.751 849.703 Q110.946 846.138 107.311 846.138 M107.311 842.434 Q113.121 842.434 116.177 847.041 Q119.256 851.624 119.256 860.374 Q119.256 869.101 116.177 873.707 Q113.121 878.291 107.311 878.291 Q101.501 878.291 98.4224 873.707 Q95.3669 869.101 95.3669 860.374 Q95.3669 851.624 98.4224 847.041 Q101.501 842.434 107.311 842.434 Z\" fill=\"#000000\" fill-rule=\"evenodd\" fill-opacity=\"1\" /><path clip-path=\"url(#clip130)\" d=\"M137.473 846.138 Q133.862 846.138 132.033 849.703 Q130.228 853.245 130.228 860.374 Q130.228 867.481 132.033 871.045 Q133.862 874.587 137.473 874.587 Q141.107 874.587 142.913 871.045 Q144.742 867.481 144.742 860.374 Q144.742 853.245 142.913 849.703 Q141.107 846.138 137.473 846.138 M137.473 842.434 Q143.283 842.434 146.339 847.041 Q149.418 851.624 149.418 860.374 Q149.418 869.101 146.339 873.707 Q143.283 878.291 137.473 878.291 Q131.663 878.291 128.584 873.707 Q125.529 869.101 125.529 860.374 Q125.529 851.624 128.584 847.041 Q131.663 842.434 137.473 842.434 Z\" fill=\"#000000\" fill-rule=\"evenodd\" fill-opacity=\"1\" /><path clip-path=\"url(#clip130)\" d=\"M158.445 873.684 L166.084 873.684 L166.084 847.319 L157.774 848.985 L157.774 844.726 L166.038 843.059 L170.714 843.059 L170.714 873.684 L178.353 873.684 L178.353 877.619 L158.445 877.619 L158.445 873.684 Z\" fill=\"#000000\" fill-rule=\"evenodd\" fill-opacity=\"1\" /><path clip-path=\"url(#clip130)\" d=\"M53.2606 480.012 L60.8995 480.012 L60.8995 453.646 L52.5893 455.313 L52.5893 451.053 L60.8532 449.387 L65.5291 449.387 L65.5291 480.012 L73.1679 480.012 L73.1679 483.947 L53.2606 483.947 L53.2606 480.012 Z\" fill=\"#000000\" fill-rule=\"evenodd\" fill-opacity=\"1\" /><path clip-path=\"url(#clip130)\" d=\"M82.6123 478.067 L87.4966 478.067 L87.4966 483.947 L82.6123 483.947 L82.6123 478.067 Z\" fill=\"#000000\" fill-rule=\"evenodd\" fill-opacity=\"1\" /><path clip-path=\"url(#clip130)\" d=\"M107.682 452.465 Q104.071 452.465 102.242 456.03 Q100.436 459.572 100.436 466.701 Q100.436 473.808 102.242 477.373 Q104.071 480.914 107.682 480.914 Q111.316 480.914 113.121 477.373 Q114.95 473.808 114.95 466.701 Q114.95 459.572 113.121 456.03 Q111.316 452.465 107.682 452.465 M107.682 448.762 Q113.492 448.762 116.547 453.368 Q119.626 457.951 119.626 466.701 Q119.626 475.428 116.547 480.035 Q113.492 484.618 107.682 484.618 Q101.871 484.618 98.7928 480.035 Q95.7373 475.428 95.7373 466.701 Q95.7373 457.951 98.7928 453.368 Q101.871 448.762 107.682 448.762 Z\" fill=\"#000000\" fill-rule=\"evenodd\" fill-opacity=\"1\" /><path clip-path=\"url(#clip130)\" d=\"M137.844 452.465 Q134.232 452.465 132.404 456.03 Q130.598 459.572 130.598 466.701 Q130.598 473.808 132.404 477.373 Q134.232 480.914 137.844 480.914 Q141.478 480.914 143.283 477.373 Q145.112 473.808 145.112 466.701 Q145.112 459.572 143.283 456.03 Q141.478 452.465 137.844 452.465 M137.844 448.762 Q143.654 448.762 146.709 453.368 Q149.788 457.951 149.788 466.701 Q149.788 475.428 146.709 480.035 Q143.654 484.618 137.844 484.618 Q132.033 484.618 128.955 480.035 Q125.899 475.428 125.899 466.701 Q125.899 457.951 128.955 453.368 Q132.033 448.762 137.844 448.762 Z\" fill=\"#000000\" fill-rule=\"evenodd\" fill-opacity=\"1\" /><path clip-path=\"url(#clip130)\" d=\"M162.033 480.012 L178.353 480.012 L178.353 483.947 L156.408 483.947 L156.408 480.012 Q159.07 477.257 163.654 472.627 Q168.26 467.975 169.441 466.632 Q171.686 464.109 172.566 462.373 Q173.468 460.613 173.468 458.924 Q173.468 456.169 171.524 454.433 Q169.603 452.697 166.501 452.697 Q164.302 452.697 161.848 453.461 Q159.417 454.225 156.64 455.776 L156.64 451.053 Q159.464 449.919 161.917 449.34 Q164.371 448.762 166.408 448.762 Q171.779 448.762 174.973 451.447 Q178.167 454.132 178.167 458.623 Q178.167 460.752 177.357 462.674 Q176.57 464.572 174.464 467.164 Q173.885 467.836 170.783 471.053 Q167.681 474.248 162.033 480.012 Z\" fill=\"#000000\" fill-rule=\"evenodd\" fill-opacity=\"1\" /><path clip-path=\"url(#clip130)\" d=\"M52.3116 86.3388 L59.9504 86.3388 L59.9504 59.9732 L51.6403 61.6398 L51.6403 57.3806 L59.9041 55.7139 L64.58 55.7139 L64.58 86.3388 L72.2189 86.3388 L72.2189 90.2739 L52.3116 90.2739 L52.3116 86.3388 Z\" fill=\"#000000\" fill-rule=\"evenodd\" fill-opacity=\"1\" /><path clip-path=\"url(#clip130)\" d=\"M81.6633 84.3943 L86.5475 84.3943 L86.5475 90.2739 L81.6633 90.2739 L81.6633 84.3943 Z\" fill=\"#000000\" fill-rule=\"evenodd\" fill-opacity=\"1\" /><path clip-path=\"url(#clip130)\" d=\"M106.733 58.7926 Q103.121 58.7926 101.293 62.3574 Q99.4872 65.8991 99.4872 73.0287 Q99.4872 80.1351 101.293 83.6999 Q103.121 87.2415 106.733 87.2415 Q110.367 87.2415 112.172 83.6999 Q114.001 80.1351 114.001 73.0287 Q114.001 65.8991 112.172 62.3574 Q110.367 58.7926 106.733 58.7926 M106.733 55.0889 Q112.543 55.0889 115.598 59.6954 Q118.677 64.2787 118.677 73.0287 Q118.677 81.7555 115.598 86.3619 Q112.543 90.9452 106.733 90.9452 Q100.922 90.9452 97.8437 86.3619 Q94.7882 81.7555 94.7882 73.0287 Q94.7882 64.2787 97.8437 59.6954 Q100.922 55.0889 106.733 55.0889 Z\" fill=\"#000000\" fill-rule=\"evenodd\" fill-opacity=\"1\" /><path clip-path=\"url(#clip130)\" d=\"M136.894 58.7926 Q133.283 58.7926 131.455 62.3574 Q129.649 65.8991 129.649 73.0287 Q129.649 80.1351 131.455 83.6999 Q133.283 87.2415 136.894 87.2415 Q140.529 87.2415 142.334 83.6999 Q144.163 80.1351 144.163 73.0287 Q144.163 65.8991 142.334 62.3574 Q140.529 58.7926 136.894 58.7926 M136.894 55.0889 Q142.705 55.0889 145.76 59.6954 Q148.839 64.2787 148.839 73.0287 Q148.839 81.7555 145.76 86.3619 Q142.705 90.9452 136.894 90.9452 Q131.084 90.9452 128.006 86.3619 Q124.95 81.7555 124.95 73.0287 Q124.95 64.2787 128.006 59.6954 Q131.084 55.0889 136.894 55.0889 Z\" fill=\"#000000\" fill-rule=\"evenodd\" fill-opacity=\"1\" /><path clip-path=\"url(#clip130)\" d=\"M171.223 71.6398 Q174.579 72.3574 176.454 74.6259 Q178.353 76.8944 178.353 80.2277 Q178.353 85.3434 174.834 88.1443 Q171.316 90.9452 164.834 90.9452 Q162.658 90.9452 160.343 90.5054 Q158.052 90.0888 155.598 89.2323 L155.598 84.7184 Q157.542 85.8527 159.857 86.4314 Q162.172 87.0101 164.695 87.0101 Q169.093 87.0101 171.385 85.274 Q173.7 83.5379 173.7 80.2277 Q173.7 77.1722 171.547 75.4592 Q169.417 73.7231 165.598 73.7231 L161.57 73.7231 L161.57 69.8805 L165.783 69.8805 Q169.232 69.8805 171.061 68.5148 Q172.89 67.1259 172.89 64.5333 Q172.89 61.8713 170.991 60.4593 Q169.116 59.0241 165.598 59.0241 Q163.677 59.0241 161.478 59.4408 Q159.279 59.8574 156.64 60.7371 L156.64 56.5704 Q159.302 55.8297 161.617 55.4593 Q163.954 55.0889 166.015 55.0889 Q171.339 55.0889 174.441 57.5195 Q177.542 59.9269 177.542 64.0472 Q177.542 66.9176 175.899 68.9083 Q174.255 70.8759 171.223 71.6398 Z\" fill=\"#000000\" fill-rule=\"evenodd\" fill-opacity=\"1\" /><polyline clip-path=\"url(#clip132)\" style=\"stroke:#009af9; stroke-linecap:round; stroke-linejoin:round; stroke-width:12; stroke-opacity:1; fill:none\" points=\"\n",
       "  214.353,1254.04 228.275,1254.2 357.005,1254.03 434.367,1254.18 499.775,1253.89 535.301,1253.78 570.827,1254.32 603.579,1254.2 636.331,1254.08 706.557,1253.71 \n",
       "  787.922,1253.93 824.075,1254.52 860.229,1254.11 876.081,1253.93 891.932,1253.74 907.784,1253.54 923.636,1254.61 932.277,1254.14 940.918,1253.65 945.239,1253.39 \n",
       "  949.56,1254.53 953.88,1254.28 958.201,1254.02 962.522,1253.76 966.842,1253.48 971.163,1254.7 975.484,1254.44 984.125,1253.88 992.766,1253.29 997.113,1254.02 \n",
       "  1001.46,1254.76 1005.81,1253.85 1010.15,1254.62 1018.84,1254.46 1027.54,1254.3 1044.92,1253.93 1062.31,1253.51 1067.11,1253.94 1071.92,1254.38 1076.72,1254.84 \n",
       "  1081.53,1253.02 1086.33,1253.47 1091.14,1253.95 1095.95,1254.45 1100.75,1254.98 1105.56,1252.91 1110.36,1253.42 1115.17,1253.97 1119.97,1254.54 1124.78,1255.15 \n",
       "  1129.58,1252.77 1134.39,1253.36 1139.19,1253.99 1143.77,1253.19 1148.34,1252.34 1152.91,1255.01 1157.48,1254.17 1162.06,1253.26 1166.63,1252.27 1171.2,1255.37 \n",
       "  1175.77,1254.4 1180.34,1253.34 1184.92,1252.18 1185.49,1254.41 1186.06,1251.87 1186.63,1254.13 1187.2,1256.41 1188.35,1256.15 1189.49,1255.88 1191.78,1255.32 \n",
       "  1194.06,1254.73 1198.63,1253.46 1203.21,1252.04 1204.35,1251.66 1205.49,1251.27 1206.06,1254.09 1206.63,1256.94 1207.21,1253.72 1207.78,1256.62 1210.06,1255.95 \n",
       "  1212.35,1255.23 1212.94,1252.71 1213.54,1256.81 1214.13,1254.26 1214.73,1251.67 1215.92,1253.25 1217.1,1254.88 1217.7,1252.18 1218.29,1256.58 1218.89,1253.84 \n",
       "  1219.48,1251.05 1220.67,1252.73 1221.86,1254.49 1222.45,1251.57 1223.05,1256.31 1223.64,1253.35 1224.24,1250.33 1225.42,1252.14 1226.61,1254.02 1227.8,1255.99 \n",
       "  1228.99,1258.04 1229.58,1254.78 1230.18,1251.43 1230.77,1256.87 1231.37,1253.48 1231.96,1250 1232.56,1255.61 1233.15,1252.09 1233.74,1257.86 1234.34,1254.27 \n",
       "  1234.93,1250.59 1235.53,1256.56 1236.12,1252.82 1236.71,1258.96 1237.31,1255.16 1237.9,1251.26 1238.5,1257.63 1239.09,1253.65 1239.69,1249.57 1240.28,1256.18 \n",
       "  1240.87,1252.02 1241.47,1258.84 1242.06,1254.6 1242.66,1250.24 1243.25,1257.34 1243.85,1252.89 1244.44,1248.3 1245.03,1255.7 1245.63,1251.01 1246.22,1258.69 \n",
       "  1246.82,1253.9 1247.41,1248.95 1248.01,1256.98 1248.6,1251.92 1249.19,1260.28 1249.79,1255.09 1250.38,1249.72 1250.98,1258.5 1251.57,1252.99 1252.17,1247.27 \n",
       "  1252.76,1256.51 1253.35,1250.64 1253.95,1260.32 1254.54,1254.28 1255.14,1247.99 1255.73,1258.23 1256.33,1251.76 1256.92,1262.54 1257.51,1255.87 1258.11,1248.88 \n",
       "  1258.7,1260.37 1259.3,1253.15 1259.89,1245.58 1260.49,1257.86 1261.08,1250.01 1261.67,1263.09 1262.27,1254.94 1262.86,1246.32 1263.46,1260.45 1264.05,1251.48 \n",
       "  1264.65,1241.94 1265.24,1257.3 1265.83,1247.32 1266.43,1263.93 1267.02,1253.47 1267.62,1242.23 1268.21,1260.58 1268.8,1248.72 1269.4,1268.88 1269.99,1256.35 \n",
       "  1270.59,1242.66 1271.18,1265.43 1271.78,1250.83 1272.37,1234.67 1272.96,1260.83 1273.56,1243.34 1274.15,1273.35 1274.75,1254.36 1275.34,1232.61 1275.94,1268.8 \n",
       "  1276.53,1244.6 1277.12,1288.59 1277.72,1261.48 1278.31,1228.2 1278.91,1286.98 1279.5,1247.7 1280.1,1194.9 1280.69,1283.37 1281.28,1212.27 1281.88,1369.61 \n",
       "  1282.47,1267.82 1283.07,917.286 1283.66,87.6286 1284.26,664.17 1284.85,1433.78 1285.44,1224.66 1286.04,1115.5 1286.63,1352.14 1287.23,1257.74 1287.82,1189.6 \n",
       "  1288.42,1330.38 1288.92,1200.09 1289.42,1251.48 1289.92,1294.78 1290.42,1195.57 1290.92,1236.79 1291.42,1272.77 1291.92,1304.43 1292.42,1227.08 1292.92,1257.81 \n",
       "  1293.42,1285.41 1293.92,1220.18 1294.42,1246.98 1294.92,1271.42 1295.42,1215.02 1295.92,1238.78 1296.42,1260.69 1296.92,1280.96 1297.42,1232.36 1297.92,1252.2 \n",
       "  1298.42,1270.71 1298.92,1227.19 1299.42,1245.32 1299.92,1262.34 1300.42,1278.35 1300.92,1239.62 1301.42,1255.38 1301.92,1270.27 1302.42,1234.84 1302.92,1249.49 \n",
       "  1303.42,1263.41 1303.92,1276.64 1304.42,1244.45 1304.92,1257.51 1305.42,1269.97 1305.92,1240.09 1306.42,1252.39 1306.92,1264.15 1307.42,1236.28 1307.92,1247.89 \n",
       "  1308.43,1259.04 1308.93,1269.75 1309.43,1243.92 1309.93,1254.51 1310.43,1264.71 1310.93,1240.39 1311.43,1250.47 1311.93,1260.2 1312.43,1269.59 1312.93,1246.84 \n",
       "  1313.43,1256.14 1313.93,1265.13 1314.43,1243.56 1314.93,1252.47 1315.43,1261.1 1315.93,1240.59 1316.43,1249.14 1316.93,1257.43 1317.43,1265.47 1317.93,1246.09 \n",
       "  1318.43,1254.07 1318.93,1261.82 1319.43,1243.3 1319.93,1250.99 1320.43,1258.47 1320.93,1265.74 1321.43,1248.16 1321.93,1255.38 1322.43,1262.41 1322.93,1245.54 \n",
       "  1323.43,1252.52 1323.93,1259.33 1324.43,1243.11 1324.93,1249.87 1325.43,1256.47 1325.93,1262.91 1326.43,1247.4 1326.93,1253.8 1327.43,1260.05 1327.93,1245.1 \n",
       "  1328.43,1251.31 1328.93,1257.39 1329.44,1263.33 1329.94,1248.99 1330.44,1254.89 1330.94,1260.67 1331.44,1246.81 1331.94,1252.55 1332.44,1258.18 1332.94,1244.76 \n",
       "  1333.44,1250.35 1333.94,1255.83 1334.44,1261.2 1334.94,1248.28 1335.44,1253.62 1335.94,1258.86 1336.44,1246.33 1336.94,1251.53 1337.44,1256.65 1337.94,1261.66 \n",
       "  1338.44,1249.56 1338.94,1254.55 1339.44,1259.46 1339.94,1247.7 1340.44,1252.57 1340.94,1257.36 1341.44,1262.07 1341.94,1250.69 1342.44,1255.38 1342.94,1259.98 \n",
       "  1343.44,1248.91 1343.94,1253.49 1344.44,1258 1344.94,1247.21 1345.44,1251.69 1345.94,1256.11 1346.44,1260.45 1346.94,1249.98 1347.44,1254.31 1347.94,1258.56 \n",
       "  1348.44,1248.35 1348.94,1252.59 1349.44,1256.76 1349.94,1260.87 1350.45,1250.95 1350.95,1255.04 1351.45,1259.07 1351.95,1249.38 1352.45,1253.39 1354.89,1253.47 \n",
       "  1357.33,1253.55 1359.77,1253.62 1362.22,1253.69 1367.1,1253.81 1371.99,1253.92 1381.76,1254.1 1391.53,1254.25 1411.08,1254.48 1430.62,1254.65 1448.52,1254.58 \n",
       "  1466.43,1254.53 1484.33,1254.49 1502.23,1254.45 1506.37,1253.72 1510.5,1253.01 1514.63,1252.32 1518.77,1255.63 1522.9,1254.93 1527.04,1254.25 1531.17,1253.59 \n",
       "  1535.3,1252.95 1539.44,1252.33 1543.57,1255.33 1547.7,1254.69 1551.84,1254.08 1555.97,1253.48 1560.1,1252.9 1564.24,1255.67 1568.37,1255.07 1585.12,1254.95 \n",
       "  1601.87,1254.85 1618.62,1254.75 1635.37,1254.66 1710.46,1254.99 1778.49,1254.88 1817.44,1254.33 1856.4,1253.85 1892.46,1254.23 1928.52,1254.57 1964.08,1254.12 \n",
       "  1999.63,1253.71 2034.16,1254.03 2068.68,1254.33 2104.07,1254.16 2139.45,1254.01 2178.23,1253.6 2217,1254.22 2273.32,1254.17 2329.65,1254.13 2341.2,1254.09 \n",
       "  2352.76,1254.04 \n",
       "  \"/>\n",
       "<path clip-path=\"url(#clip130)\" d=\"\n",
       "M1823.39 198.488 L2281.48 198.488 L2281.48 94.8081 L1823.39 94.8081  Z\n",
       "  \" fill=\"#ffffff\" fill-rule=\"evenodd\" fill-opacity=\"1\"/>\n",
       "<polyline clip-path=\"url(#clip130)\" style=\"stroke:#000000; stroke-linecap:round; stroke-linejoin:round; stroke-width:4; stroke-opacity:1; fill:none\" points=\"\n",
       "  1823.39,198.488 2281.48,198.488 2281.48,94.8081 1823.39,94.8081 1823.39,198.488 \n",
       "  \"/>\n",
       "<polyline clip-path=\"url(#clip130)\" style=\"stroke:#009af9; stroke-linecap:round; stroke-linejoin:round; stroke-width:4; stroke-opacity:1; fill:none\" points=\"\n",
       "  1847.15,146.648 1989.71,146.648 \n",
       "  \"/>\n",
       "<path clip-path=\"url(#clip130)\" d=\"M2038.12 138.002 L2028.75 150.618 L2038.61 163.928 L2033.59 163.928 L2026.04 153.743 L2018.49 163.928 L2013.47 163.928 L2023.54 150.363 L2014.33 138.002 L2019.35 138.002 L2026.23 147.238 L2033.1 138.002 L2038.12 138.002 Z\" fill=\"#000000\" fill-rule=\"evenodd\" fill-opacity=\"1\" /><path clip-path=\"url(#clip130)\" d=\"M2052.2 129.368 L2056.13 129.368 L2044.1 168.326 L2040.16 168.326 L2052.2 129.368 Z\" fill=\"#000000\" fill-rule=\"evenodd\" fill-opacity=\"1\" /><path clip-path=\"url(#clip130)\" d=\"M2070.83 127.956 Q2067.73 133.28 2066.23 138.488 Q2064.72 143.697 2064.72 149.044 Q2064.72 154.391 2066.23 159.646 Q2067.75 164.877 2070.83 170.178 L2067.13 170.178 Q2063.66 164.738 2061.92 159.484 Q2060.21 154.229 2060.21 149.044 Q2060.21 143.882 2061.92 138.65 Q2063.63 133.419 2067.13 127.956 L2070.83 127.956 Z\" fill=\"#000000\" fill-rule=\"evenodd\" fill-opacity=\"1\" /><path clip-path=\"url(#clip130)\" d=\"M2080.51 159.993 L2088.15 159.993 L2088.15 133.627 L2079.84 135.294 L2079.84 131.035 L2088.1 129.368 L2092.78 129.368 L2092.78 159.993 L2100.41 159.993 L2100.41 163.928 L2080.51 163.928 L2080.51 159.993 Z\" fill=\"#000000\" fill-rule=\"evenodd\" fill-opacity=\"1\" /><path clip-path=\"url(#clip130)\" d=\"M2126.6 134.206 L2126.6 147.1 L2139.49 147.1 L2139.49 151.035 L2126.6 151.035 L2126.6 163.928 L2122.71 163.928 L2122.71 151.035 L2109.81 151.035 L2109.81 147.1 L2122.71 147.1 L2122.71 134.206 L2126.6 134.206 Z\" fill=\"#000000\" fill-rule=\"evenodd\" fill-opacity=\"1\" /><path clip-path=\"url(#clip130)\" d=\"M2170.53 138.002 L2161.16 150.618 L2171.02 163.928 L2165.99 163.928 L2158.45 153.743 L2150.9 163.928 L2145.88 163.928 L2155.95 150.363 L2146.73 138.002 L2151.76 138.002 L2158.63 147.238 L2165.51 138.002 L2170.53 138.002 Z\" fill=\"#000000\" fill-rule=\"evenodd\" fill-opacity=\"1\" /><path clip-path=\"url(#clip130)\" d=\"M2176.36 127.956 L2180.07 127.956 Q2183.54 133.419 2185.25 138.65 Q2186.99 143.882 2186.99 149.044 Q2186.99 154.229 2185.25 159.484 Q2183.54 164.738 2180.07 170.178 L2176.36 170.178 Q2179.44 164.877 2180.95 159.646 Q2182.47 154.391 2182.47 149.044 Q2182.47 143.697 2180.95 138.488 Q2179.44 133.28 2176.36 127.956 Z\" fill=\"#000000\" fill-rule=\"evenodd\" fill-opacity=\"1\" /><path clip-path=\"url(#clip130)\" d=\"M2193.38 149.044 L2205.85 149.044 L2205.85 152.84 L2193.38 152.84 L2193.38 149.044 Z\" fill=\"#000000\" fill-rule=\"evenodd\" fill-opacity=\"1\" /><path clip-path=\"url(#clip130)\" d=\"M2214.05 159.993 L2221.69 159.993 L2221.69 133.627 L2213.38 135.294 L2213.38 131.035 L2221.64 129.368 L2226.32 129.368 L2226.32 159.993 L2233.96 159.993 L2233.96 163.928 L2214.05 163.928 L2214.05 159.993 Z\" fill=\"#000000\" fill-rule=\"evenodd\" fill-opacity=\"1\" /></svg>\n"
      ]
     },
     "execution_count": 21,
     "metadata": {},
     "output_type": "execute_result"
    }
   ],
   "source": [
    "plot(x -> abs(x / ((1+x) - 1)), xlims=(-1e-10, 1e-10), label = \"x/(1+x)-1\")"
   ]
  },
  {
   "cell_type": "markdown",
   "id": "875afab1",
   "metadata": {
    "slideshow": {
     "slide_type": "slide"
    }
   },
   "source": [
    "# Stable constitutive equations"
   ]
  },
  {
   "cell_type": "markdown",
   "id": "927a894a",
   "metadata": {
    "cell_style": "split",
    "slideshow": {
     "slide_type": "fragment"
    }
   },
   "source": [
    "Software packages (Abaqus UMAT, MOOSE, Albany-LCM, ...) make use of $\\boldsymbol F$ in their implementations.\n",
    "\n",
    "\\begin{equation}\n",
    "    \\boldsymbol{E} =  \\frac{1}{2} \\left(\\boldsymbol C - \\boldsymbol{I} \\right) = \\frac{1}{2} \\left(\\boldsymbol{F}^T \\boldsymbol{F} - \\boldsymbol{I} \\right)\n",
    "\\end{equation}\n",
    "when dispalcement is small we have loss of significance."
   ]
  },
  {
   "cell_type": "markdown",
   "id": "49b274a2",
   "metadata": {
    "cell_style": "split",
    "slideshow": {
     "slide_type": "fragment"
    }
   },
   "source": [
    "What if we substitute $\\boldsymbol F = \\boldsymbol I + \\boldsymbol H$, where $\\boldsymbol H = \\nabla_X \\boldsymbol u$\n",
    "\n",
    "\\begin{equation}\n",
    "    \\boldsymbol{E} =  \\frac{1}{2} \\left(\\boldsymbol H + \\boldsymbol H^T + \\boldsymbol H^T \\boldsymbol H \\right)\n",
    "\\end{equation}"
   ]
  },
  {
   "cell_type": "markdown",
   "id": "1fe9c458",
   "metadata": {
    "slideshow": {
     "slide_type": "slide"
    }
   },
   "source": [
    "# Stable constitutive equations"
   ]
  },
  {
   "cell_type": "markdown",
   "id": "692da072",
   "metadata": {
    "cell_style": "split",
    "slideshow": {
     "slide_type": "fragment"
    }
   },
   "source": [
    "$$\n",
    "\\boldsymbol S_{\\text{vol}} = \\frac{\\kappa}{2} (J^2 -1)\\boldsymbol C^{-1}\n",
    "$$\n",
    "\n",
    "Standard approach\n",
    "\n",
    "$$\n",
    "\\boldsymbol{F} = \\begin{bmatrix}\n",
    "1 + u_{0,0} & u_{0,1} \\\\\n",
    "u_{1,0} & 1 + u_{1,1}\n",
    "\\end{bmatrix}\n",
    "$$\n",
    "\n",
    "$$\n",
    "J = 1 + (u_{0,0} + u_{1,1}) + u_{0,0} u_{1,1} - u_{0,1} u_{1,0} \n",
    "$$\n",
    "\n",
    "Stable computation of $\\mathtt{J_{-1}}=J - 1$ \n",
    "\n",
    "$$\n",
    "\\mathtt{J_{-1}} = u_{0,0} + u_{1,1} + u_{0,0} u_{1,1} - u_{0,1} u_{1,0} \n",
    "$$"
   ]
  },
  {
   "cell_type": "markdown",
   "id": "47a3fb3f",
   "metadata": {
    "cell_style": "split",
    "slideshow": {
     "slide_type": "fragment"
    }
   },
   "source": [
    "<img align=\"center\" src=\"Jm1.png\" width=\"90%\" height=\"90%\"/>"
   ]
  },
  {
   "cell_type": "markdown",
   "id": "2a846e7a",
   "metadata": {
    "slideshow": {
     "slide_type": "subslide"
    }
   },
   "source": [
    "Using the definition of $\\mathtt{J_{-1}}$ we can replace the ill-condition $\\log J$ ( when $ J \\approx 1$) with\n",
    "\n",
    "\\begin{equation}\n",
    "\t\\log J = \\mathtt{\\log1p} \\left(\\mathtt{J_{-1}} \\right).\n",
    "    \\label{logJ-stable}\n",
    "\\end{equation}"
   ]
  },
  {
   "cell_type": "markdown",
   "id": "f1d050ec",
   "metadata": {
    "slideshow": {
     "slide_type": "slide"
    }
   },
   "source": [
    "# Eigen solver "
   ]
  },
  {
   "cell_type": "markdown",
   "id": "84b77530",
   "metadata": {
    "cell_style": "split",
    "slideshow": {
     "slide_type": "fragment"
    }
   },
   "source": [
    "* For Ogden model we need to solve an eigensystem of 3x3 symmetric matrix\n",
    "\n",
    "* Suppose we create a matrix with eigenvalues \n",
    "\n",
    "$$ 1, \\,\\, 0.5 + e, \\,\\,  0.5 - e $$\n",
    "\n",
    "$\\qquad$ where $e \\in (\\epsilon_{\\text{machine}}, 0.1)$"
   ]
  },
  {
   "cell_type": "markdown",
   "id": "e594bf98",
   "metadata": {
    "cell_style": "split",
    "slideshow": {
     "slide_type": "fragment"
    }
   },
   "source": [
    "<img align=\"center\" src=\"eigenvalue-error.png\" width=\"90%\" height=\"90%\"/>"
   ]
  },
  {
   "cell_type": "markdown",
   "id": "c6adba1f",
   "metadata": {
    "slideshow": {
     "slide_type": "slide"
    }
   },
   "source": [
    "# Stable eigen solver \n",
    "\n",
    "Isaac Harari, Uri Albocher 2022: Computation of eigenvalues of a real, symmetric 3 × 3 matrix with particular reference to the pernicious case of two nearly equal eigenvalues"
   ]
  },
  {
   "cell_type": "markdown",
   "id": "0bd9becd",
   "metadata": {
    "cell_style": "split",
    "slideshow": {
     "slide_type": "fragment"
    }
   },
   "source": [
    "<img align=\"center\" src=\"eigenvalue-error2.png\" width=\"90%\" height=\"90%\"/>"
   ]
  },
  {
   "cell_type": "markdown",
   "id": "9b66ac34",
   "metadata": {
    "cell_style": "split",
    "slideshow": {
     "slide_type": "fragment"
    }
   },
   "source": [
    "<img align=\"center\" src=\"eigenvector-error.png\" width=\"90%\" height=\"90%\"/>"
   ]
  },
  {
   "cell_type": "markdown",
   "id": "88f5d903",
   "metadata": {
    "slideshow": {
     "slide_type": "skip"
    }
   },
   "source": [
    "<img align=\"center\" src=\"eigenvector-error2.png\" width=\"90%\" height=\"90%\"/>"
   ]
  },
  {
   "cell_type": "markdown",
   "id": "451f7564",
   "metadata": {
    "slideshow": {
     "slide_type": "slide"
    }
   },
   "source": [
    "<img align=\"center\" src=\"survey-softwares.png\" width=\"90%\" height=\"90%\"/>"
   ]
  },
  {
   "cell_type": "markdown",
   "id": "edead9a6",
   "metadata": {
    "slideshow": {
     "slide_type": "slide"
    }
   },
   "source": [
    "<div class=\"alert alert-block alert-success\", style=\"font-size: 50px\">\n",
    "we derived stable constitutive formulation for hyperelastic materials\n",
    "</div>\n"
   ]
  },
  {
   "cell_type": "markdown",
   "id": "d0c97c81",
   "metadata": {
    "slideshow": {
     "slide_type": "slide"
    }
   },
   "source": [
    "# Governing equation and Incompressiblity ($\\color{blue}{\\text{small strain}} $)"
   ]
  },
  {
   "cell_type": "markdown",
   "id": "c8f17b1b",
   "metadata": {
    "cell_style": "split",
    "slideshow": {
     "slide_type": "fragment"
    }
   },
   "source": [
    "* $\\color{blue}{\\text{Linear elasticity (strong form)}}$ \n",
    "\\begin{eqnarray}\n",
    "    \\nabla \\cdot \\boldsymbol \\sigma + \\boldsymbol f = 0. \\qquad \\text{in $\\Omega$} \n",
    "\\end{eqnarray}\n",
    "where\n",
    "\\begin{eqnarray}\n",
    "    \\boldsymbol \\sigma(\\boldsymbol u) &=& \\lambda \\operatorname{trace} \\boldsymbol \\varepsilon ~ \\boldsymbol I + 2 \\mu \\boldsymbol \\varepsilon \\\\\n",
    "    \\boldsymbol \\varepsilon(\\boldsymbol u) &=& \\frac{1}{2} \\left( \\nabla \\boldsymbol u + (\\nabla \\boldsymbol u)^T \\right)\n",
    "\\end{eqnarray}\n",
    "\n",
    "\\begin{equation}\n",
    "    \\lambda = \\frac{2\\nu\\mu}{1-2\\nu}\n",
    "    \\label{lambda-definition}\n",
    "\\end{equation}\n",
    "\n",
    "* Incompressibility: $\\nu \\longrightarrow 0.5$, as a result $\\lambda \\longrightarrow \\infty $ "
   ]
  },
  {
   "cell_type": "markdown",
   "id": "9450e49b",
   "metadata": {
    "cell_style": "split",
    "slideshow": {
     "slide_type": "fragment"
    }
   },
   "source": [
    "* One approach is to define new variable $p$ \n",
    "\\begin{eqnarray} \n",
    "\tp &=& - \\frac{\\operatorname{trace} \\boldsymbol \\sigma}{3} = -(\\lambda+2\\mu/3) \\operatorname{trace} \\boldsymbol \\varepsilon \\\\\n",
    "    &=& -\\kappa \\operatorname{trace} \\boldsymbol \\varepsilon\n",
    "\\end{eqnarray}\n",
    "substituting $\\lambda = \\kappa - 2 \\mu / 3$ in definition of $\\boldsymbol \\sigma$\n",
    "\n",
    "\\begin{eqnarray}\n",
    "\\boldsymbol \\sigma(\\boldsymbol u, p) &=& \\kappa \\operatorname{trace} \\boldsymbol \\varepsilon ~ \\boldsymbol I + 2 \\mu \\boldsymbol \\varepsilon_{\\text{dev}} \\\\\n",
    "& = & -p ~ \\boldsymbol I + 2 \\mu \\boldsymbol \\varepsilon_{\\text{dev}}\n",
    "\\end{eqnarray}\n",
    "\n",
    "* $\\color{blue}{\\text{Mixed-Linear elasticity (strong form)}}$\n",
    "\\begin{eqnarray}\n",
    "    \\nabla \\cdot \\boldsymbol \\sigma + \\boldsymbol f   &=& 0. \\qquad \\text{in $\\Omega$} \\nonumber \\\\\n",
    "\t\\nabla\\cdot\\boldsymbol u + \\frac{p}{\\kappa} &=& 0. \\qquad \\text{in $\\Omega$}\n",
    "    \\label{mixed-linear-strong-form}\n",
    "\\end{eqnarray}"
   ]
  },
  {
   "cell_type": "markdown",
   "id": "2b8347a5",
   "metadata": {
    "slideshow": {
     "slide_type": "slide"
    }
   },
   "source": [
    "# Governing equation and Incompressiblity ($\\color{blue}{\\text{small strain}} $ )"
   ]
  },
  {
   "cell_type": "markdown",
   "id": "dbc90c0a",
   "metadata": {
    "cell_style": "center",
    "slideshow": {
     "slide_type": "fragment"
    }
   },
   "source": [
    "$\\color{blue}{\\text{Mixed-Linear elasticity (weak form)}}$\n",
    "\n",
    "Find $(\\boldsymbol u_h, p_h) \\in \\mathbb{V}_h \\times \\mathbb{Q}_h $, such that for all $(\\boldsymbol v, q) \\in \\mathbb{V}_h^0 \\times \\mathbb{Q}_h$\n",
    "\n",
    "\\begin{eqnarray}\n",
    "     a(\\boldsymbol v, \\boldsymbol{u}_h) + b(\\boldsymbol v, p_h) &=& (\\boldsymbol v, \\boldsymbol f) + \\langle \\boldsymbol v, \\boldsymbol g^{\\boldsymbol u}\\rangle_{\\partial \\Omega^{N}} \\nonumber \\\\\n",
    "     b(q, \\boldsymbol{u}_h) + c(q, p_h) &=& 0\n",
    "     \\label{mixed-linear-weak-form2}\n",
    "\\end{eqnarray}\n",
    "\n",
    "where\n",
    "\\begin{equation}\n",
    "a(\\boldsymbol v, \\boldsymbol{u}_h) = \\int_{\\Omega} 2\\mu \\: \\boldsymbol \\varepsilon(\\boldsymbol v) \\!:\\! \\boldsymbol \\varepsilon(\\boldsymbol u_h) \\: dv, ~ ~ b(q, \\boldsymbol u_h)  = -\\int_{\\Omega} q \\: \\nabla \\cdot \\boldsymbol u_h \\:dv, ~ ~ c(q, p_h)  = - \\int_{\\Omega} \\frac{1}{\\kappa} \\: q \\: p_h \\:dv\n",
    "\\end{equation}\n",
    "\n",
    "\\begin{equation}\n",
    "\\begin{bmatrix}\n",
    "\\boldsymbol{A} & \\boldsymbol{B}^T \\\\\n",
    "\\boldsymbol{B} & \\boldsymbol{C}\n",
    "\\end{bmatrix}\n",
    "\\begin{bmatrix}\n",
    "\\boldsymbol{u}\\\\\n",
    "\\boldsymbol{p}\n",
    "\\end{bmatrix}\n",
    "= \\begin{bmatrix}\n",
    "\\boldsymbol{F}\\\\\n",
    "\\boldsymbol{0}\n",
    "\\end{bmatrix}\n",
    "\\end{equation}\n"
   ]
  },
  {
   "cell_type": "markdown",
   "id": "863397a6",
   "metadata": {
    "slideshow": {
     "slide_type": "slide"
    }
   },
   "source": [
    "## $\\color{blue}{\\text{Are we allowed to use any interpolation order for } (\\boldsymbol u, p) ?} $\n",
    "\n",
    "\n",
    "<img align=\"center\" src=\"mixed-element.png\" width=\"75%\" height=\"75%\"/>"
   ]
  },
  {
   "cell_type": "markdown",
   "id": "f5f1ad8b",
   "metadata": {
    "cell_style": "center",
    "slideshow": {
     "slide_type": "subslide"
    }
   },
   "source": [
    "### Brezzi-Babuska condition:\n",
    "\n",
    "Find $\\lambda \\in \\mathbb{R}$, $0 \\neq (\\boldsymbol u_h, p_h) \\in \\mathbb{V}_h \\times \\mathbb{Q}_h $, such that for all $(\\boldsymbol v, q) \\in \\mathbb{V}_h^0 \\times \\mathbb{Q}_h$\n",
    "\n",
    "\\begin{equation}\n",
    "    a(\\boldsymbol v, \\boldsymbol u) + b(\\boldsymbol v, p) + b(q, \\boldsymbol u) = -\\lambda \\langle p, q \\rangle_{\\mathbb{Q}} \n",
    "\\end{equation}\n",
    "\n",
    "then, $\\lambda \\geq 0$ and inf-sup constant is $\\beta = \\sqrt{\\lambda_{\\text{min}}}$, $\\quad \\beta \\geq \\beta_h >0$ "
   ]
  },
  {
   "cell_type": "markdown",
   "id": "c77d535d",
   "metadata": {
    "slideshow": {
     "slide_type": "slide"
    }
   },
   "source": [
    "# Inf-sup constant for element with $\\color{blue}{\\text{continuous}} $ pressure"
   ]
  },
  {
   "cell_type": "markdown",
   "id": "269373d4",
   "metadata": {
    "cell_style": "split",
    "slideshow": {
     "slide_type": "fragment"
    }
   },
   "source": [
    "<img align=\"center\" src=\"cont-p-1.png\" width=\"80%\" height=\"80%\"/>"
   ]
  },
  {
   "cell_type": "markdown",
   "id": "dbd75e81",
   "metadata": {
    "cell_style": "split",
    "slideshow": {
     "slide_type": "fragment"
    }
   },
   "source": [
    "<img align=\"center\" src=\"cont-p-10.png\" width=\"80%\" height=\"80%\"/>"
   ]
  },
  {
   "cell_type": "markdown",
   "id": "da630b08",
   "metadata": {
    "slideshow": {
     "slide_type": "slide"
    }
   },
   "source": [
    "# Inf-sup constant for element with $\\color{blue}{\\text{discontinuous}} $ pressure"
   ]
  },
  {
   "cell_type": "markdown",
   "id": "447d7288",
   "metadata": {
    "cell_style": "split",
    "slideshow": {
     "slide_type": "fragment"
    }
   },
   "source": [
    "<img align=\"center\" src=\"dist-p-1.png\" width=\"80%\" height=\"80%\"/>\n",
    "\n",
    "### Q1P0 and Q3Q2 are unstable"
   ]
  },
  {
   "cell_type": "markdown",
   "id": "ea3969c1",
   "metadata": {
    "cell_style": "split",
    "slideshow": {
     "slide_type": "fragment"
    }
   },
   "source": [
    "<img align=\"center\" src=\"dist-p-10.png\" width=\"80%\" height=\"80%\"/>\n",
    "\n",
    "### Q2P1 is unstable for stretch element"
   ]
  },
  {
   "cell_type": "markdown",
   "id": "8dffea8d",
   "metadata": {
    "slideshow": {
     "slide_type": "slide"
    }
   },
   "source": [
    "### Srinivasan et al. (1994) \n",
    "<img align=\"center\" src=\"1994-Srinivasan.png\" width=\"80%\" height=\"80%\"/>\n",
    "\n",
    "### Gültekin et al (2019), ABAQUS, ... use Q1P0\n"
   ]
  },
  {
   "cell_type": "markdown",
   "id": "c81e8311",
   "metadata": {
    "slideshow": {
     "slide_type": "slide"
    }
   },
   "source": [
    "# Convergence study for element with $\\color{blue}{\\text{continuous}} $ pressure"
   ]
  },
  {
   "cell_type": "markdown",
   "id": "12a84d3f",
   "metadata": {
    "slideshow": {
     "slide_type": "subslide"
    }
   },
   "source": [
    "### Comparing $Q_kQ_{k-1}$ and $Q_kQ_{k-2}$ convergence order for $n\\times n$ uniform elements\n",
    "\n",
    "<img align=\"center\" src=\"conv-study-cont.png\" width=\"75%\" height=\"75%\"/>\n",
    "\n",
    "### In 2D, total DoFs/element $Q_2Q_1$:22,   $Q_3Q_1$:36 "
   ]
  },
  {
   "cell_type": "markdown",
   "id": "d7306cd8",
   "metadata": {
    "slideshow": {
     "slide_type": "slide"
    }
   },
   "source": [
    "# Convergence study for element with $\\color{blue}{\\text{discontinuous}} $ pressure"
   ]
  },
  {
   "cell_type": "markdown",
   "id": "3c325189",
   "metadata": {
    "slideshow": {
     "slide_type": "subslide"
    }
   },
   "source": [
    "### Comparing $Q_kP_{k-1} \\, (k > 1)$ and $Q_kQ_{k-2}$ convergence order for $n\\times n$ uniform elements\n",
    "\n",
    "<img align=\"center\" src=\"conv-study-disc.png\" width=\"80%\" height=\"80%\"/>\n",
    "\n",
    "### In 2D, total DoFs/element $Q_2P_1$:21,   $Q_3Q_1$:36 "
   ]
  },
  {
   "cell_type": "markdown",
   "id": "ef8358e7",
   "metadata": {
    "slideshow": {
     "slide_type": "slide"
    }
   },
   "source": [
    "<div class=\"alert alert-block alert-success\", style=\"font-size: 50px\">\n",
    "We determined the inf-sup stable mixed element\n",
    "</div>"
   ]
  },
  {
   "cell_type": "markdown",
   "id": "29864ea2",
   "metadata": {
    "cell_style": "center",
    "slideshow": {
     "slide_type": "slide"
    }
   },
   "source": [
    "# Governing equation and Incompressiblity ($\\color{blue}{\\text{finite strain}} $ )"
   ]
  },
  {
   "cell_type": "markdown",
   "id": "ed3f7543",
   "metadata": {
    "cell_style": "split",
    "slideshow": {
     "slide_type": "fragment"
    }
   },
   "source": [
    "### Incompressibility constraint\n",
    "$$\n",
    "J - 1 = 0\n",
    "$$\n",
    "\n",
    "### Lagrange-multiplier method\n",
    "\\begin{eqnarray}\n",
    "    \\Pi_{\\text{L}}(\\boldsymbol u, \\hat{p}) &=& \\Pi_{\\text{int}}(\\boldsymbol u, \\hat{p}) + \\Pi_{\\text{ext}}(\\boldsymbol u) \\nonumber \\\\\n",
    "    \\Pi_{\\text{int}}(\\boldsymbol u, \\hat{p}) &=& \\int_{\\Omega_0} \\left[\\hat{p} \\, \\left(J - 1 \\right) + \\psi_{\\text{iso}} \\right]dV \\nonumber \n",
    "\\end{eqnarray}\n",
    "$\\hat p$ is Lagrange multiplier NOT the pressure"
   ]
  },
  {
   "cell_type": "markdown",
   "id": "e1426ecb",
   "metadata": {
    "cell_style": "split",
    "slideshow": {
     "slide_type": "fragment"
    }
   },
   "source": [
    "### Perturbed Lagrange-multiplier method\n",
    "\\begin{eqnarray}\n",
    "    \\Pi_{\\text{PL}}(\\boldsymbol u, \\hat{p}) &=& \\Pi_{\\text{int}}(\\boldsymbol u, \\hat{p}) + \\Pi_{\\text{ext}}(\\boldsymbol u) - \\frac{1}{2} \\int_{\\Omega_0} \\frac{1}{\\kappa} \\hat{p}^2 d V \\\\\n",
    "    \\Pi_{\\text{int}}(\\boldsymbol u, \\hat{p}) &=& \\int_{\\Omega_0} \\left[\\hat{p} \\, U(J) + \\psi_{\\text{iso}} \\right]dV \\nonumber \n",
    "\\end{eqnarray}\n",
    "\n",
    "where $U(J)$ is strictly convex function, and  $U(J)=0$ *if and only if* $J=1$."
   ]
  },
  {
   "cell_type": "markdown",
   "id": "e70777e3",
   "metadata": {
    "slideshow": {
     "slide_type": "slide"
    }
   },
   "source": [
    "# Governing equation and Incompressiblity ($\\color{blue}{\\text{finite strain}} $ )"
   ]
  },
  {
   "cell_type": "markdown",
   "id": "414d4f63",
   "metadata": {
    "cell_style": "split",
    "slideshow": {
     "slide_type": "fragment"
    }
   },
   "source": [
    "### Constitutive equation for pressure \n",
    "\\begin{eqnarray}\n",
    "    p &=& - \\frac{\\operatorname{trace} \\boldsymbol \\sigma}{3} = -\\frac{1}{3J} \\operatorname{trace} (\\boldsymbol F \\boldsymbol S \\boldsymbol F^T) \\\\\n",
    "    &=& -\\frac{1}{3J} \\operatorname{trace} (\\boldsymbol S \\boldsymbol C) = - \\frac{\\partial \\psi_{\\text{vol}}}{\\partial J},\n",
    "\\end{eqnarray}\n",
    "\n",
    "$\\boldsymbol{S}_{\\text{vol}} = -p J \\boldsymbol{C}^{-1}$\n",
    "\n",
    "* Strong form\n",
    "\n",
    "\\begin{eqnarray}\n",
    "    \\nabla_X \\cdot \\boldsymbol P + \\boldsymbol f   &=& 0. \\qquad \\text{in $\\Omega_0$} \\nonumber \\\\\n",
    "\t\\frac{\\partial \\psi_{\\text{vol}}}{\\partial J} + \\frac{p}{\\kappa} &=& 0. \\qquad \\text{in $\\Omega$}\n",
    "\\end{eqnarray}"
   ]
  },
  {
   "cell_type": "markdown",
   "id": "a9973d00",
   "metadata": {
    "cell_style": "split",
    "slideshow": {
     "slide_type": "fragment"
    }
   },
   "source": [
    "* $\\color{blue}{\\text{Displacement-based formulation}} $ \n",
    "\n",
    "\\begin{equation}\n",
    "\\boldsymbol{S} = \\frac{\\partial \\psi}{\\partial \\boldsymbol{E}} =  \\frac{\\partial \\psi_{\\text{vol}}}{\\partial J}  \\frac{\\partial J}{\\partial \\boldsymbol{E}} +  \\frac{\\partial \\psi_{\\text{iso}}}{\\partial \\boldsymbol{E}} = \\boldsymbol{S}_{\\text{vol}} + \\boldsymbol{S}_{\\text{iso}}\n",
    "\\end{equation}\n",
    "\n",
    "$\\qquad$ where $\\boldsymbol{S}_{\\text{vol}} =\\frac{\\kappa}{2} (J^2 -1)\\boldsymbol C^{-1}$\n",
    "\n",
    "* Strong form\n",
    "\n",
    "\\begin{equation}\n",
    "\\nabla_X \\cdot \\boldsymbol{P} + \\boldsymbol{f} = 0  \\qquad \\text{in $\\Omega_0$}\n",
    "\\end{equation}\n",
    "\n",
    "$\\qquad$ where $\\boldsymbol{P}=\\boldsymbol{FS}$"
   ]
  },
  {
   "cell_type": "markdown",
   "id": "2ba96a83",
   "metadata": {
    "slideshow": {
     "slide_type": "slide"
    }
   },
   "source": [
    "\\begin{eqnarray}\n",
    "    \\int_{\\Omega_0} \\nabla_X \\boldsymbol v \\!:\\! \\boldsymbol P \\: dV &=& \\int_{\\Omega_0}\\boldsymbol v \\cdot \\boldsymbol f \\:dV\\int_{\\partial \\Omega^{N}_0} \\boldsymbol v \\cdot \\bar{\\boldsymbol t} \\: dS \\nonumber \\\\\n",
    "    \\int_{\\Omega_0} q \\: \\left( \\frac{\\partial \\psi_{\\text{vol}}}{\\partial J} + \\frac{p}{\\kappa} \\right) \\: J \\: dV &=& 0\n",
    "    \\label{mixed-hyperelastic-weak-form}\n",
    "\\end{eqnarray}\n",
    "\n",
    "where we have used $\\int_{\\Omega} (...) dv = \\int_{\\Omega_0} (...) J dV$"
   ]
  },
  {
   "cell_type": "markdown",
   "id": "33cde477",
   "metadata": {
    "slideshow": {
     "slide_type": "slide"
    }
   },
   "source": [
    "# Matrix-free implementation"
   ]
  },
  {
   "cell_type": "markdown",
   "id": "aee1bd07",
   "metadata": {
    "slideshow": {
     "slide_type": "fragment"
    }
   },
   "source": [
    "####  Finite Element Formulation\n",
    "\\begin{align}\n",
    "    \\text{Residual:} \\quad \\boldsymbol{v}^T F(\\boldsymbol{u}) &\\sim \\int_\\Omega \\boldsymbol{v} \\cdot \\color{olive}{f_0(\\boldsymbol{u}, \\nabla \\boldsymbol{u})} + \\color{black}{\\nabla \\boldsymbol{v}} : \\color{olive}{f_1(\\boldsymbol{u}, \\nabla \\boldsymbol{u})} \\nonumber \\\\ \n",
    "    \\text{Jacobian:} \\quad \\boldsymbol{v}^T J \\operatorname{d}\\! \\boldsymbol{u} &\\sim \\int_\\Omega \\begin{bmatrix} \\boldsymbol{v} \\\\ \\nabla \\boldsymbol{v} \\end{bmatrix}^T \\color{teal}{\\begin{bmatrix} f_{0,0} & f_{0,1} \\\\ f_{1,0} & f_{1,1} \\end{bmatrix}}\n",
    "    \\begin{bmatrix} \\operatorname{d}\\! \\boldsymbol{u} \\\\ \\nabla \\operatorname{d}\\! \\boldsymbol{u} \\end{bmatrix} \\nonumber\n",
    "\\end{align}\n",
    "\n",
    "####  Newton's method\n",
    "\n",
    "\\begin{eqnarray}\n",
    "    \\boldsymbol J(\\boldsymbol u^k) \\operatorname{d} \\boldsymbol u^{k} &=& - \\boldsymbol R(\\boldsymbol u^{k}), \\nonumber\\\\\n",
    "    \\boldsymbol u^{k+1} &=& \\boldsymbol{u}^{k} + \\operatorname{d} \\boldsymbol u^{k}\n",
    "\\end{eqnarray}\n",
    "\n",
    "\n",
    "<div class=\"alert alert-block alert-info\", style=\"font-size: 40px\">\n",
    "For mixed problem we will have one more residual and Jacobian equations and we need to solve a block structure system.\n",
    "</div>\n",
    "\n"
   ]
  },
  {
   "cell_type": "markdown",
   "id": "89bdd674",
   "metadata": {
    "slideshow": {
     "slide_type": "subslide"
    }
   },
   "source": [
    "We use Krylov subspace method at each newton iteration to solve\n",
    "\n",
    "\\begin{equation}\n",
    "    \\text{single field:} ~ ~\\boldsymbol A \\boldsymbol x = \\boldsymbol b ~ ~ ~ ~ \\text{mixed fields:} ~ ~ \\begin{bmatrix}\n",
    "\\boldsymbol A & \\boldsymbol B \\\\\n",
    "\\boldsymbol C & \\boldsymbol D\n",
    "\\end{bmatrix} \\begin{bmatrix}\n",
    "\\boldsymbol x \\\\\n",
    "\\boldsymbol y\n",
    "\\end{bmatrix} = \\begin{bmatrix}\n",
    "\\boldsymbol b \\\\\n",
    "\\boldsymbol c\n",
    "\\end{bmatrix}\n",
    "\\end{equation}\n",
    "\n",
    "Krylov iteration methods are not necessarily fast on their own, and the iterations count depends on condition number of the operator.\n",
    "\n",
    "\\begin{equation}\n",
    "    \\boldsymbol{P}^{-1} \\boldsymbol A \\boldsymbol x = \\boldsymbol{P}^{-1} \\boldsymbol b\n",
    "    \\label{linear-system-eq-preconditioner}\n",
    "\\end{equation}\n",
    "\n",
    "For the preconditioner to be effective we need\n",
    "* $\\boldsymbol P^{-1} \\boldsymbol z $ is easy to compute for any vector $\\boldsymbol z$.\n",
    "* The condition number of the preconditioned problem is smaller than the original problem.\n",
    "\n",
    "One approach to apply $\\boldsymbol P^{-1}$ is multigrid."
   ]
  },
  {
   "cell_type": "markdown",
   "id": "dba4b965",
   "metadata": {
    "slideshow": {
     "slide_type": "slide"
    }
   },
   "source": [
    "# Multigrid method"
   ]
  },
  {
   "cell_type": "markdown",
   "id": "e91f03c3",
   "metadata": {
    "cell_style": "split",
    "slideshow": {
     "slide_type": "fragment"
    }
   },
   "source": [
    "## h-multigrid\n",
    "rely on mesh hierarchy\n",
    "\n",
    "## p-multigrid\n",
    "\n",
    "coarsens the operator by reducing the order of the basis functions\n",
    "\n",
    "## algebraic multigrid (AMG)\n",
    "\n",
    "extract all information from the assembled system matrix without requiring any mesh information"
   ]
  },
  {
   "cell_type": "markdown",
   "id": "6bceb060",
   "metadata": {
    "cell_style": "split",
    "slideshow": {
     "slide_type": "fragment"
    }
   },
   "source": [
    "<img align=\"center\" src=\"h-vs-p-multigrid.png\" width=\"80%\" height=\"100%\"/>\n",
    "\n",
    "<div class=\"alert alert-block alert-warning\">\n",
    "For unstructured mesh h-multigrid is difficult to implement\n",
    "</div>"
   ]
  },
  {
   "cell_type": "markdown",
   "id": "7b6eee37",
   "metadata": {
    "slideshow": {
     "slide_type": "slide"
    }
   },
   "source": [
    "# p-Multigrid"
   ]
  },
  {
   "cell_type": "markdown",
   "id": "4e7f0bcb",
   "metadata": {
    "cell_style": "split"
   },
   "source": [
    "<img align=\"center\" src=\"p-multigrid-cycle.png\" width=\"70%\" height=\"70%\"/>"
   ]
  },
  {
   "cell_type": "markdown",
   "id": "dcc44ad8",
   "metadata": {
    "cell_style": "split"
   },
   "source": [
    "* 2nd order Chebyshev/Jacobi iteration in the range $[0.1\\lambda_{max}, 1.1\\lambda_{max}]$\n",
    "* $\\lambda_{max}$ estimate eigenvalue of $\\left(\\text{diag}\\boldsymbol{A}_f \\right)^{-1}\\boldsymbol{A}_f$"
   ]
  },
  {
   "cell_type": "markdown",
   "id": "fb5b2390",
   "metadata": {
    "slideshow": {
     "slide_type": "slide"
    }
   },
   "source": [
    "# Block preconditioner"
   ]
  },
  {
   "cell_type": "markdown",
   "id": "b0f0832d",
   "metadata": {
    "cell_style": "center",
    "slideshow": {
     "slide_type": "subslide"
    }
   },
   "source": [
    "\\begin{eqnarray}\n",
    "\\boldsymbol M = \\begin{bmatrix}\n",
    "\\boldsymbol A & \\boldsymbol B \\\\\n",
    "\\boldsymbol C & \\boldsymbol D\n",
    "\\end{bmatrix} &=& \\begin{bmatrix}\n",
    "\\boldsymbol I & \\boldsymbol 0 \\\\\n",
    "\\boldsymbol C \\boldsymbol A^{-1}& \\boldsymbol I\n",
    "\\end{bmatrix} \\begin{bmatrix}\n",
    "\\boldsymbol A & \\boldsymbol 0 \\\\\n",
    "\\boldsymbol 0 & \\boldsymbol S\n",
    "\\end{bmatrix} \\begin{bmatrix}\n",
    "\\boldsymbol I & \\boldsymbol A^{-1} \\boldsymbol B \\\\\n",
    "\\boldsymbol 0 & \\boldsymbol I\n",
    "\\end{bmatrix} \\nonumber \\\\\n",
    "&=& \\begin{bmatrix}\n",
    "\\boldsymbol I & \\boldsymbol 0 \\\\\n",
    "\\boldsymbol C \\boldsymbol A^{-1}& \\boldsymbol I\n",
    "\\end{bmatrix} \\begin{bmatrix}\n",
    "\\boldsymbol I & -\\boldsymbol B \\boldsymbol S^{-1}  \\\\\n",
    "\\boldsymbol 0 & -\\boldsymbol I\n",
    "\\end{bmatrix} \\begin{bmatrix}\n",
    "\\boldsymbol A & \\boldsymbol 0 \\\\\n",
    "\\boldsymbol 0 & -\\boldsymbol S\n",
    "\\end{bmatrix}  \\nonumber \\\\\n",
    "&=& \\begin{bmatrix}\n",
    "\\boldsymbol A & \\boldsymbol 0 \\\\\n",
    "\\boldsymbol C & \\boldsymbol S\n",
    "\\end{bmatrix} \\begin{bmatrix}\n",
    "\\boldsymbol I & \\boldsymbol A^{-1}\\boldsymbol B \\\\\n",
    "\\boldsymbol 0 & \\boldsymbol I\n",
    "\\end{bmatrix} \\nonumber \\\\\n",
    "&=&\\begin{bmatrix}\n",
    "\\boldsymbol I & \\boldsymbol 0 \\\\\n",
    "\\boldsymbol C \\boldsymbol A^{-1} & \\boldsymbol I\n",
    "\\end{bmatrix}\\begin{bmatrix}\n",
    "\\boldsymbol A & \\boldsymbol B \\\\\n",
    "\\boldsymbol 0 & \\boldsymbol S\n",
    "\\end{bmatrix}\n",
    "\\end{eqnarray}\n",
    "\n",
    "where $\\boldsymbol S = \\boldsymbol D - \\boldsymbol C \\boldsymbol A^{-1} \\boldsymbol B$ is called the Schur complement. \n",
    "\n",
    "\\begin{equation}\n",
    "\\boldsymbol P = \\begin{bmatrix}\n",
    "\\boldsymbol A & \\boldsymbol B \\\\\n",
    "\\boldsymbol 0 & \\boldsymbol S\n",
    "\\end{bmatrix} \\longrightarrow \\boldsymbol{M} \\boldsymbol P^{-1} = \\begin{bmatrix}\n",
    "\\boldsymbol I & \\boldsymbol 0 \\\\\n",
    "\\boldsymbol C \\boldsymbol{A}^{-1} & \\boldsymbol I\n",
    "\\end{bmatrix}\n",
    "\\end{equation}"
   ]
  },
  {
   "cell_type": "markdown",
   "id": "66a7e4ba",
   "metadata": {
    "slideshow": {
     "slide_type": "slide"
    }
   },
   "source": [
    "# Ratel: Extensible, Performance-Portable Solid Mechanics: (https://gitlab.com/micromorph/ratel)"
   ]
  },
  {
   "cell_type": "markdown",
   "id": "c96ede33",
   "metadata": {
    "slideshow": {
     "slide_type": "-"
    }
   },
   "source": [
    "<img align=\"center\" src=\"ratel.png\" width=\"75%\" height=\"75%\"/>"
   ]
  },
  {
   "cell_type": "markdown",
   "id": "3e1c51e8",
   "metadata": {
    "slideshow": {
     "slide_type": "slide"
    }
   },
   "source": [
    "### [libCEED](https://libceed.readthedocs.io): Efficient Extensible Discretization"
   ]
  },
  {
   "cell_type": "markdown",
   "id": "edaa1283",
   "metadata": {
    "slideshow": {
     "slide_type": "fragment"
    }
   },
   "source": [
    "<img align=\"center\" src=\"libCEEDAPI.png\" width=\"50%\" height=\"30%\"/>"
   ]
  },
  {
   "cell_type": "markdown",
   "id": "3fccff5c",
   "metadata": {
    "cell_style": "split",
    "slideshow": {
     "slide_type": "fragment"
    }
   },
   "source": [
    "\n",
    "* <font color='red'>$\\mathcal P$</font>: Process decomposition,\n",
    "\n",
    "* $\\mathcal E$</font> : Element restriction/assembly operator\n",
    "\n",
    "* <font color='blue'>$B$</font> : Basis (DoFs-to-Qpts) evaluator, \n",
    "\n",
    "* <font color='green'>$D$</font> : Operator at quadrature point- Qfunction ($f_0, f_1, f_{0,0},...$)"
   ]
  },
  {
   "cell_type": "markdown",
   "id": "27321161",
   "metadata": {
    "cell_style": "split",
    "slideshow": {
     "slide_type": "fragment"
    }
   },
   "source": [
    "* Purely algebraic high-order FEM Matrix-assembly and Matrix-free\n",
    "* Single source Vanilla C for physics\n",
    "* Various CPU and GPU backends with run-time selection `./bps -ceed /gpu/cuda`"
   ]
  },
  {
   "cell_type": "markdown",
   "id": "0eb73165",
   "metadata": {
    "slideshow": {
     "slide_type": "slide"
    }
   },
   "source": [
    "# Numerical experiment: displacement-based formulation"
   ]
  },
  {
   "cell_type": "markdown",
   "id": "2766be4c",
   "metadata": {
    "cell_style": "split",
    "slideshow": {
     "slide_type": "fragment"
    }
   },
   "source": [
    "<img align=\"center\" src=\"Punch.png\" width=\"55%\" height=\"55%\"/>\n",
    "\n",
    "Ref: Reese et al. (2000), Kadapa, Hossain (2022)"
   ]
  },
  {
   "cell_type": "markdown",
   "id": "e9f608d2",
   "metadata": {
    "cell_style": "split",
    "slideshow": {
     "slide_type": "fragment"
    }
   },
   "source": [
    "### Isochoric Neo-Hookean model $E = 240.565$ Pa,  $\\nu = 0.3,0.45,0.49$ with applied pressure $p=320$ Pa"
   ]
  },
  {
   "cell_type": "markdown",
   "id": "345dae4e",
   "metadata": {
    "slideshow": {
     "slide_type": "slide"
    }
   },
   "source": [
    "<img align=\"center\" src=\"IsoNH-Q2-0.3-16x10.gif\" width=\"85%\" height=\"85%\"/>"
   ]
  },
  {
   "cell_type": "markdown",
   "id": "e2f246e2",
   "metadata": {
    "slideshow": {
     "slide_type": "slide"
    }
   },
   "source": [
    "<div class=\"alert alert-block alert-danger\", style=\"font-size: 40px\">\n",
    " High-order elements overcome locking effect!\n",
    "</div>\n",
    "\n",
    "### Gurev et al. (2015) \n",
    "<img align=\"center\" src=\"2015-Gurev.png\" width=\"75%\" height=\"75%\"/>"
   ]
  },
  {
   "cell_type": "markdown",
   "id": "cf388e48",
   "metadata": {
    "slideshow": {
     "slide_type": "slide"
    }
   },
   "source": [
    "<img align=\"center\" src=\"pressure-Q2-Q3-0.3.png\" width=\"75%\" height=\"75%\"/>\n",
    "\n",
    "### $\\nu=0.3$: Maximum pressure for Q2, Q3 elements are 160 Pa"
   ]
  },
  {
   "cell_type": "markdown",
   "id": "d5f65a1d",
   "metadata": {
    "slideshow": {
     "slide_type": "slide"
    }
   },
   "source": [
    "<img align=\"center\" src=\"pressure-Q2-Q3-0.45.png\" width=\"75%\" height=\"75%\"/>\n",
    "\n",
    "### $\\nu=0.45$ Maximum pressure for Q2, Q3 elements are 320 Pa and 280 Pa"
   ]
  },
  {
   "cell_type": "markdown",
   "id": "8f7688e3",
   "metadata": {
    "slideshow": {
     "slide_type": "slide"
    }
   },
   "source": [
    "<img align=\"center\" src=\"pressure-Q2-Q3-0.49.png\" width=\"75%\" height=\"75%\"/>\n",
    "\n",
    "### $\\nu=0.49$ Maximum pressure for Q2, Q3 elements are 720 Pa and 420 Pa"
   ]
  },
  {
   "cell_type": "markdown",
   "id": "f8d0fac1",
   "metadata": {
    "slideshow": {
     "slide_type": "slide"
    }
   },
   "source": [
    "<img align=\"center\" src=\"Q2-Q3-table.png\" width=\"70%\" height=\"70%\"/>\n",
    "\n",
    "###  Quasistaic solver (10 time steps), p-multigrid  preconditioner run in parallel (4 ranks)"
   ]
  },
  {
   "cell_type": "markdown",
   "id": "58d1f2ad",
   "metadata": {
    "slideshow": {
     "slide_type": "slide"
    }
   },
   "source": [
    "# displacement-based vs mixed formulations (Neo-Hookean model)"
   ]
  },
  {
   "cell_type": "markdown",
   "id": "cb02efa5",
   "metadata": {
    "slideshow": {
     "slide_type": "slide"
    }
   },
   "source": [
    "<img align=\"center\" src=\"pressure-Q2-Q2Q1-0.3.png\" width=\"75%\" height=\"75%\"/>\n",
    "\n",
    "### $\\nu=0.3$ Maximum pressure for Q2, Q2Q1 elements are 190 Pa and 140 Pa"
   ]
  },
  {
   "cell_type": "markdown",
   "id": "381ad777",
   "metadata": {
    "slideshow": {
     "slide_type": "slide"
    }
   },
   "source": [
    "<img align=\"center\" src=\"pressure-Q2-Q2Q1-0.49.png\" width=\"75%\" height=\"75%\"/>\n",
    "\n",
    "### $\\nu=0.49$ Maximum pressure for Q2, Q2Q1 elements are 4600 Pa and 290 Pa"
   ]
  },
  {
   "cell_type": "markdown",
   "id": "de8a74c9",
   "metadata": {
    "slideshow": {
     "slide_type": "slide"
    }
   },
   "source": [
    "<img align=\"center\" src=\"pressure-Q2-Q2Q1-0.49999.png\" width=\"75%\" height=\"75%\"/>\n",
    "\n",
    "### $\\nu=0.49999$ Maximum pressure for Q2, Q2Q1 elements are 4100 Pa and 300 Pa"
   ]
  },
  {
   "cell_type": "markdown",
   "id": "db31d97e",
   "metadata": {
    "slideshow": {
     "slide_type": "slide"
    }
   },
   "source": [
    "<img align=\"center\" src=\"Q2-Q2Q1-table.png\" width=\"75%\" height=\"75%\"/>\n",
    "\n",
    "###  svd  preconditioner run in serial (1 rank)"
   ]
  },
  {
   "cell_type": "markdown",
   "id": "52cf1d53",
   "metadata": {
    "cell_style": "split",
    "slideshow": {
     "slide_type": "skip"
    }
   },
   "source": [
    "* Ogden\n",
    "\\begin{eqnarray}\n",
    "    \\alpha_1 &=1.3, \\qquad \\mu_1 &= 6.3 \\cdot 10^5 \\, \\text{Pa} \\nonumber \\\\\n",
    "    \\alpha_1 &=5.0, \\qquad \\mu_1 &= 0.012 \\cdot 10^5 \\, \\text{Pa} \\nonumber \\\\\n",
    "    \\alpha_1 &=-2.0 \\qquad \\mu_1 &= -0.1 \\cdot 10^5 \\, \\text{Pa} \\\\\n",
    "    \\label{ogden-material-properties}\n",
    "\\end{eqnarray}\n",
    "\n",
    "Ref: Holzapfel Ch06"
   ]
  },
  {
   "cell_type": "markdown",
   "id": "03fae093",
   "metadata": {
    "cell_style": "split",
    "slideshow": {
     "slide_type": "skip"
    }
   },
   "source": [
    "* Neo-Hookean\n",
    "\n",
    "\\begin{equation}\n",
    "    2\\mu = \\sum_{j=1}^N \\mu_j \\alpha_j \\quad \\text{with} \\quad \\mu_j \\alpha_j > 0\n",
    "    \\label{ogden-param-condition}\n",
    "\\end{equation}\n",
    "\n",
    "$\\mu = 4.225 \\cdot 10^5 $\n",
    "\n",
    "$\\kappa = 10^5 \\mu$\n",
    "\n",
    "$\\nu=0.499995$ and $E = 1.2675 \\cdot 10^5 $ Pa."
   ]
  },
  {
   "cell_type": "markdown",
   "id": "d670f413",
   "metadata": {
    "slideshow": {
     "slide_type": "skip"
    }
   },
   "source": [
    "<img align=\"center\" src=\"u-NH-Og.png\" width=\"75%\" height=\"75%\"/>"
   ]
  },
  {
   "cell_type": "markdown",
   "id": "486699d0",
   "metadata": {
    "slideshow": {
     "slide_type": "skip"
    }
   },
   "source": [
    "<img align=\"center\" src=\"p-NH-Og.png\" width=\"75%\" height=\"75%\"/>"
   ]
  },
  {
   "cell_type": "markdown",
   "id": "13514b7e",
   "metadata": {
    "slideshow": {
     "slide_type": "slide"
    }
   },
   "source": [
    "# Conclusion and future works\n"
   ]
  },
  {
   "cell_type": "markdown",
   "id": "56de98f0",
   "metadata": {
    "slideshow": {
     "slide_type": "subslide"
    }
   },
   "source": [
    "<div class=\"alert alert-block alert-success\", style=\"font-size: 45px\">\n",
    "We derived stable constitutive formulation for hyperelastic materials\n",
    "</div>\n",
    "\n",
    "### Stable numerics for finite strain elasticity\n",
    "**Rezgar Shakeri**, Leila Ghaffari, Karen Stengel, Jeremy L. Thompson, Jed Brown  \n",
    "    \n",
    "<div class=\"alert alert-block alert-success\", style=\"font-size: 45px\">\n",
    "We determined the inf-sup stable mixed element\n",
    "</div>\n",
    "\n",
    "<div class=\"alert alert-block alert-success\", style=\"font-size: 45px\">\n",
    "We implemented a locking-free mixed hyperealstic formulation for Neo-Hookean, Mooney-Rivlin and Ogden models in matrix-free way\n",
    "</div>\n",
    "\n",
    "### Performance-portable p-multigrid for nonlinear solid mechanics with mixed elements\n",
    "**Rezgar Shakeri**, Jeremy L. Thompson, Jed Brown  "
   ]
  },
  {
   "cell_type": "markdown",
   "id": "4d4fb926",
   "metadata": {
    "cell_style": "center",
    "slideshow": {
     "slide_type": "subslide"
    }
   },
   "source": [
    "<div class=\"alert alert-block alert-info\", style=\"font-size: 50px\">\n",
    "Discontinuous pressure  \n",
    "</div>\n",
    "\n",
    "<div class=\"alert alert-block alert-info\", style=\"font-size: 50px\">\n",
    "Implement the block preconditioner for the mixed-formulation.\n",
    "</div>\n",
    "\n",
    "<div class=\"alert alert-block alert-info\", style=\"font-size: 50px\">\n",
    "Write current configuration formulation to reduce the solve time\n",
    "</div>\n",
    "\n",
    "<div class=\"alert alert-block alert-info\", style=\"font-size: 50px\">\n",
    "Numerical experiment with different CPU and GPU backends in parallel.  \n",
    "</div>"
   ]
  },
  {
   "cell_type": "markdown",
   "id": "ff23cadb",
   "metadata": {
    "slideshow": {
     "slide_type": "slide"
    }
   },
   "source": [
    "## Experiment with more complex Geometry"
   ]
  },
  {
   "cell_type": "markdown",
   "id": "27255b75",
   "metadata": {
    "cell_style": "split",
    "slideshow": {
     "slide_type": "fragment"
    }
   },
   "source": [
    "<img src=\"schwarz-compression.gif\" width=\"50%\" height=\"50%\" align=\"bottom\">"
   ]
  },
  {
   "cell_type": "markdown",
   "id": "703ce671",
   "metadata": {
    "cell_style": "split",
    "slideshow": {
     "slide_type": "fragment"
    }
   },
   "source": [
    "### Performance Portable Solid Mechanics via Matrix-Free p-Multigrid\n",
    "Jed Brown, Valeria Barra, Natalie Beams, Leila Ghaffari, Matthew Knepley, William Moses, **Rezgar Shakeri**, Karen Stengel, Jeremy L. Thompson, Junchao Zhang"
   ]
  },
  {
   "cell_type": "markdown",
   "id": "3cf88165",
   "metadata": {
    "slideshow": {
     "slide_type": "slide"
    }
   },
   "source": [
    "# Thank you!"
   ]
  }
 ],
 "metadata": {
  "celltoolbar": "Slideshow",
  "kernelspec": {
   "display_name": "Julia 1.7.3",
   "language": "julia",
   "name": "julia-1.7"
  },
  "language_info": {
   "file_extension": ".jl",
   "mimetype": "application/julia",
   "name": "julia",
   "version": "1.7.3"
  }
 },
 "nbformat": 4,
 "nbformat_minor": 5
}
