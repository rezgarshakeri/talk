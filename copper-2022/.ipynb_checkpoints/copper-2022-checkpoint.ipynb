{
 "cells": [
  {
   "cell_type": "markdown",
   "id": "af105b2a",
   "metadata": {
    "cell_style": "center",
    "slideshow": {
     "slide_type": "slide"
    }
   },
   "source": [
    "# <center>Efficient multigrid methods for high-order nonlinear solid mechanics on emerging architectures</center>\n",
    "\n",
    "<br>\n",
    "<br>\n",
    "<br>\n",
    "\n",
    "## <center>Rezgar Shakeri<sup>1</sup>, \n",
    "<br>\n",
    "<center>Valeria Barra<sup>2</sup>, Natalie Beams<sup>3</sup>, Jed Brown<sup>4</sup>, Yohann Dudouit<sup>5</sup>, Karen Stengel<sup>4</sup>, Jeremy L. Thompson<sup>4</sup></center>  \n",
    "\n",
    "<br>\n",
    "  \n",
    "<center><sub><sup><sup>1</sup> Department of Civil Engineering, CU Boulder</sup></sub></center>  \n",
    "<center><sub><sup><sup>2</sup> Department of Environmental Science and Engineering, California Institute of Technology</sup></sub></center>\n",
    "<center><sub><sup><sup>3</sup> Innovative Computing Laboratory, University of Tennessee</sup></sub></center>  \n",
    "<center><sub><sup><sup>4</sup> Department of Computer Science, CU Boulder</sup></sub></center>  \n",
    "<center><sub><sup><sup>5</sup> Lawrence Livermore National Laboratory</sup></sub></center>  \n",
    "\n",
    "<br>\n",
    "<br>\n",
    "<br>\n",
    "\n",
    "<center>Copper-Iterative, 07 Apr 2022</center>"
   ]
  },
  {
   "cell_type": "code",
   "execution_count": 12,
   "id": "38887863",
   "metadata": {
    "slideshow": {
     "slide_type": "skip"
    }
   },
   "outputs": [],
   "source": [
    "from IPython.display import SVG, Video, HTML, IFrame"
   ]
  },
  {
   "cell_type": "markdown",
   "id": "020918e4",
   "metadata": {
    "slideshow": {
     "slide_type": "slide"
    }
   },
   "source": [
    "# Outline"
   ]
  },
  {
   "cell_type": "markdown",
   "id": "f633a0fa",
   "metadata": {
    "cell_style": "split",
    "slideshow": {
     "slide_type": "-"
    }
   },
   "source": [
    "### Why Matrix Free ?\n",
    "\n",
    "### Model Equations\n",
    "\n",
    "* Neo-Hookean at hyperelasticity at finite strain\n",
    "* Initial vs Current Configuration\n",
    "\n",
    "### Matrix Free FE\n",
    "\n",
    "* Math\n",
    "* libCEED\n",
    "\n",
    "### P-Multigrid\n",
    "\n",
    "### Results\n"
   ]
  },
  {
   "cell_type": "markdown",
   "id": "8ed4ac03",
   "metadata": {
    "cell_style": "split",
    "slideshow": {
     "slide_type": "-"
    }
   },
   "source": [
    "<img src=\"schwarz-compression.gif\" width=\"80%\" height=\"60%\" align=\"bottom\">"
   ]
  },
  {
   "cell_type": "markdown",
   "id": "225f35ac",
   "metadata": {
    "slideshow": {
     "slide_type": "slide"
    }
   },
   "source": [
    "# Why Matrix Free ?\n",
    "<img src=\"flop-per-byte-dp-2022.svg\" width=\"50%\" height=\"40%\" align=\"bottom\">\n",
    "\n",
    "* Modern hardware does 10 flops per byte.\n",
    "\n",
    "* Matrix-free methods store and move less data, compute faster.\n",
    "\n",
    "* Assembled matrices need at least 4 bytes transferred per flop."
   ]
  },
  {
   "cell_type": "markdown",
   "id": "ab70e76e",
   "metadata": {
    "slideshow": {
     "slide_type": "slide"
    }
   },
   "source": [
    "# Model Equations"
   ]
  },
  {
   "cell_type": "markdown",
   "id": "560b860f",
   "metadata": {
    "cell_style": "split",
    "slideshow": {
     "slide_type": "-"
    }
   },
   "source": [
    "* Strong form\n",
    "\\begin{equation}\n",
    "-\\nabla_X \\cdot \\boldsymbol{P} - \\rho_0 \\boldsymbol{g} = 0\n",
    "\\end{equation}\n",
    "where $\\boldsymbol{P}=\\boldsymbol{FS}$ and\n",
    "$$\n",
    "\\color{blue}{\n",
    "\\boldsymbol{S}=\\lambda \\, \\log J \\, \\boldsymbol{C}^{-1} + \\mu \\left( \\boldsymbol{I} - \\boldsymbol{C}^{-1} \\right).}\n",
    "$$\n",
    "\n",
    "* Variational form ($\\color{red}{\\text{Initial}}$ configuration)\n",
    "\\begin{equation}\n",
    "\\int_{\\Omega_0}{\\nabla_X \\boldsymbol{v} \\colon \\boldsymbol{FS}} \\, dV \n",
    " - \\int_{\\Omega_0}{\\boldsymbol{v} \\cdot \\rho_0 \\boldsymbol{g}} \\, dV\n",
    " = 0, \\quad \\forall \\boldsymbol v \\in \\mathcal V,\n",
    "\\end{equation}\n",
    "\n",
    "* Variational form ($\\color{red}{\\text{Current}}$ configuration)\n",
    "\\begin{equation}\n",
    "\\int_{\\Omega_0}{\\nabla_x \\boldsymbol{v} \\colon \\boldsymbol{\\tau}} \\, dV \n",
    " - \\int_{\\Omega_0}{\\boldsymbol{v} \\cdot \\rho_0 \\boldsymbol{g}} \\, dV\n",
    " = 0, \\quad \\forall \\boldsymbol v \\in \\mathcal V,\n",
    "\\end{equation}\n",
    "where\n",
    "$$\n",
    "\\color{teal}{\n",
    "\\boldsymbol{\\tau}=\\lambda \\, \\log J \\, \\boldsymbol{I} + \\, \\mu \\left( \\boldsymbol{b}-\\boldsymbol{I} \\right).}\n",
    "$$"
   ]
  },
  {
   "cell_type": "markdown",
   "id": "20d7bf22",
   "metadata": {
    "cell_style": "split",
    "slideshow": {
     "slide_type": "-"
    }
   },
   "source": [
    "<img src=\"initial-vs-current.png\" width=\"100%\" height=\"100%\" align=\"bottom\">\n"
   ]
  },
  {
   "cell_type": "markdown",
   "id": "c78ce75f",
   "metadata": {
    "slideshow": {
     "slide_type": "slide"
    }
   },
   "source": [
    "### Matrix-free Finite Element Formulation\n",
    "\n",
    "\\begin{gather*}\n",
    "    v^T F(u) \\sim \\int_\\Omega v \\cdot \\color{olive}{f_0(u, \\nabla u)} + \\nabla v \\!:\\! \\color{olive}{f_1(u, \\nabla u)} \\quad\n",
    "    v^T J du \\sim \\int_\\Omega \\begin{bmatrix} v \\\\ \\nabla v \\end{bmatrix}^T \\color{teal}{\\begin{bmatrix} f_{0,0} & f_{0,1} \\\\ f_{1,0} & f_{1,1} \\end{bmatrix}}\n",
    "    \\begin{bmatrix} du \\\\ \\nabla du \\end{bmatrix} \\\\\n",
    "\\end{gather*}\n",
    "\n",
    "### [libCEED](https://libceed.readthedocs.io): Efficient Extensible Discretization\n",
    "\n",
    "<img align=\"center\" src=\"libCEEDAPI.png\" width=\"50%\" height=\"30%\"/>\n",
    "\n",
    "* <font color='red'>$\\mathcal P$</font>: Process decomposition,\n",
    "\n",
    "* $\\mathcal E$</font> : Element restriction,\n",
    "\n",
    "* <font color='blue'>$B$</font> : Basis (DoFs-to-Qpts) evaluator, \n",
    "\n",
    "* <font color='green'>$D$</font> : Operator at quadrature point \n"
   ]
  },
  {
   "cell_type": "markdown",
   "id": "21f09f2e",
   "metadata": {
    "slideshow": {
     "slide_type": "slide"
    }
   },
   "source": [
    "## [libCEED](https://libceed.readthedocs.io): fast algebra for finite elements"
   ]
  },
  {
   "cell_type": "markdown",
   "id": "954a5033",
   "metadata": {
    "cell_style": "split",
    "slideshow": {
     "slide_type": "-"
    }
   },
   "source": [
    "* Backend plugins with run-time selection\n",
    "  * debug and optimized built-in backends\n",
    "  * libxsmm\n",
    "  * CUDA (with and without NVRTC)\n",
    "  * MAGMA to CUDA and HIP\n",
    "  * OCCA to OpenMP, OpenCL, CUDA, and HIP\n",
    "* Single source vanilla C for QFunctions\n",
    "  * Easy to debug and understand locally\n",
    "* 2-clause BSD, Python interface\n",
    "* Available via MFEM, PETSc, and Nek5000\n",
    "\n",
    "\n",
    "Thanks to many developers, including Jeremy Thompson, Yohann Dudouit, Natalie Beams, Valeria Barra, Leila Ghaffari, Tzanio Kolev, Veselin Dobrev, David Medina"
   ]
  },
  {
   "cell_type": "markdown",
   "id": "939588e8",
   "metadata": {
    "cell_style": "split",
    "slideshow": {
     "slide_type": "-"
    }
   },
   "source": [
    "<img align=\"center\" src=\"libCEEDBackends.png\" width=\"100%\" height=\"100%\"/>"
   ]
  },
  {
   "cell_type": "markdown",
   "id": "486431a6",
   "metadata": {
    "slideshow": {
     "slide_type": "slide"
    }
   },
   "source": [
    "# P-Multigrid"
   ]
  },
  {
   "cell_type": "markdown",
   "id": "2b6103d1",
   "metadata": {
    "cell_style": "split",
    "slideshow": {
     "slide_type": "-"
    }
   },
   "source": [
    "* h-multigrid vs p-multigrid\n",
    "\n",
    "<img align=\"center\" src=\"p-h-multigrid.png\" width=\"100%\" height=\"100%\"/>\n"
   ]
  },
  {
   "cell_type": "markdown",
   "id": "d54b987e",
   "metadata": {
    "cell_style": "split",
    "slideshow": {
     "slide_type": "-"
    }
   },
   "source": [
    "* P-Multigrid V-Cycle\n",
    "* 2nd order Chebyshev/Jacobi iteration in the range $[0.1\\lambda_{max}, 1.1\\lambda_max]$\n",
    "* $\\lambda_{max}$ estimate eigenvalue of $\\left(\\text{diag}\\boldsymbol{A}_f \\right)^{-1}\\boldsymbol{A}_f$\n",
    "<img align=\"center\" src=\"p-multigrid-cycle.png\" width=\"100%\" height=\"100%\"/>\n"
   ]
  },
  {
   "cell_type": "markdown",
   "id": "be82716d",
   "metadata": {
    "slideshow": {
     "slide_type": "slide"
    }
   },
   "source": [
    "# Assembled vs Matrix Free\n",
    "\n",
    "<img align=\"center\" src=\"assemble-vs-matrixfree.png\" width=\"80%\" height=\"60%\"/>\n"
   ]
  },
  {
   "cell_type": "markdown",
   "id": "1c0dd4b5",
   "metadata": {
    "slideshow": {
     "slide_type": "slide"
    }
   },
   "source": [
    "<img align=\"center\" src=\"preconditioner.png\" width=\"80%\" height=\"60%\"/>\n"
   ]
  },
  {
   "cell_type": "markdown",
   "id": "a17e4021",
   "metadata": {
    "slideshow": {
     "slide_type": "slide"
    }
   },
   "source": [
    "# Flame Graph"
   ]
  },
  {
   "cell_type": "code",
   "execution_count": 23,
   "id": "2646c942",
   "metadata": {},
   "outputs": [
    {
     "data": {
      "text/html": [
       "\n",
       "        <iframe\n",
       "            width=\"1600\"\n",
       "            height=\"400\"\n",
       "            src=\"schwarz-q2-cuda-flame.svg\"\n",
       "            frameborder=\"0\"\n",
       "            allowfullscreen\n",
       "        ></iframe>\n",
       "        "
      ],
      "text/plain": [
       "<IPython.lib.display.IFrame at 0x7f31f42ab510>"
      ]
     },
     "execution_count": 23,
     "metadata": {},
     "output_type": "execute_result"
    }
   ],
   "source": [
    "IFrame(\"schwarz-q2-cuda-flame.svg\", width=\"1600\", height=\"400\")"
   ]
  },
  {
   "cell_type": "markdown",
   "id": "8bceb352",
   "metadata": {
    "slideshow": {
     "slide_type": "slide"
    }
   },
   "source": [
    "# high-order FE in engineering tolarance"
   ]
  },
  {
   "cell_type": "markdown",
   "id": "0bbc839c",
   "metadata": {
    "cell_style": "split",
    "slideshow": {
     "slide_type": "-"
    }
   },
   "source": [
    "* mesh A\n",
    "\n",
    "<img align=\"center\" src=\"meshA.png\" width=\"50%\" height=\"40%\"/>\n",
    "\n",
    "* mesh B\n",
    "\n",
    "<img align=\"center\" src=\"meshB.png\" width=\"50%\" height=\"40%\"/>\n"
   ]
  },
  {
   "cell_type": "markdown",
   "id": "7e601e9c",
   "metadata": {
    "cell_style": "split",
    "slideshow": {
     "slide_type": "-"
    }
   },
   "source": [
    "<img align=\"center\" src=\"meshA_deformed.png\" width=\"100%\" height=\"100%\"/>\n"
   ]
  },
  {
   "cell_type": "markdown",
   "id": "a7143940",
   "metadata": {
    "slideshow": {
     "slide_type": "slide"
    }
   },
   "source": [
    "<img align=\"center\" src=\"accuracy_study_annotated.png\" width=\"1400\" height=\"400\"/>\n"
   ]
  },
  {
   "cell_type": "markdown",
   "id": "2e662a80",
   "metadata": {
    "slideshow": {
     "slide_type": "slide"
    }
   },
   "source": [
    "# Future works\n",
    "\n",
    "## Buckling problem\n",
    "\n",
    "<img src=\"schwarz-twist-vonMises.gif\" width=\"400%\" height=\"300%\" align=\"bottom\">\n",
    "\n",
    "* implement arc-length method"
   ]
  },
  {
   "cell_type": "markdown",
   "id": "821b2b87",
   "metadata": {
    "slideshow": {
     "slide_type": "slide"
    }
   },
   "source": [
    "# ratel"
   ]
  },
  {
   "cell_type": "markdown",
   "id": "a8ff5e10",
   "metadata": {
    "cell_style": "split",
    "slideshow": {
     "slide_type": "-"
    }
   },
   "source": [
    "<img align=\"left\" src=\"ratel-gitlab.png\" width=\"100%\"/>\n",
    "\n",
    "[https://gitlab.com/micromorph/ratel](https://gitlab.com/micromorph/ratel)"
   ]
  },
  {
   "cell_type": "markdown",
   "id": "8fccb7d6",
   "metadata": {
    "cell_style": "split",
    "slideshow": {
     "slide_type": "-"
    }
   },
   "source": [
    "<img align=\"center\" src=\"baby-ratel.jpeg\" width=\"80%\"/>"
   ]
  }
 ],
 "metadata": {
  "celltoolbar": "Slideshow",
  "kernelspec": {
   "display_name": "Python 3",
   "language": "python",
   "name": "python3"
  },
  "language_info": {
   "codemirror_mode": {
    "name": "ipython",
    "version": 3
   },
   "file_extension": ".py",
   "mimetype": "text/x-python",
   "name": "python",
   "nbconvert_exporter": "python",
   "pygments_lexer": "ipython3",
   "version": "3.7.11"
  }
 },
 "nbformat": 4,
 "nbformat_minor": 5
}
