{
 "cells": [
  {
   "cell_type": "markdown",
   "id": "11d1ecef",
   "metadata": {
    "cell_style": "center",
    "slideshow": {
     "slide_type": "slide"
    }
   },
   "source": [
    "# <center>Efficient multigrid methods for high-order nonlinear solid mechanics on emerging architectures</center>\n",
    "\n",
    "<br>\n",
    "<br>\n",
    "<br>\n",
    "\n",
    "## <center>Rezgar Shakeri<sup>1</sup>, \n",
    "<br>\n",
    "<center>Valeria Barra<sup>2</sup>, Natalie Beams<sup>3</sup>, Jed Brown<sup>4</sup>, Yohann Dudouit<sup>5</sup>, Karen Stengel<sup>4</sup>, Jeremy L. Thompson<sup>4</sup></center>  \n",
    "\n",
    "<br>\n",
    "  \n",
    "<center><sub><sup><sup>1</sup> Department of Civil Engineering, CU Boulder</sup></sub></center>  \n",
    "<center><sub><sup><sup>2</sup> Department of Environmental Science and Engineering, California Institute of Technology</sup></sub></center>\n",
    "<center><sub><sup><sup>3</sup> Innovative Computing Laboratory, University of Tennessee</sup></sub></center>  \n",
    "<center><sub><sup><sup>4</sup> Department of Computer Science, CU Boulder</sup></sub></center>  \n",
    "<center><sub><sup><sup>5</sup> Lawrence Livermore National Laboratory</sup></sub></center>  \n",
    "\n",
    "<br>\n",
    "<br>\n",
    "<br>\n",
    "\n",
    "<center>Copper-Iterative, 07 Apr 2022</center>"
   ]
  },
  {
   "cell_type": "code",
   "execution_count": 2,
   "id": "bcb4a9cb",
   "metadata": {
    "slideshow": {
     "slide_type": "skip"
    }
   },
   "outputs": [],
   "source": [
    "from IPython.display import SVG, Video, HTML, IFrame"
   ]
  },
  {
   "cell_type": "markdown",
   "id": "467d6118",
   "metadata": {
    "slideshow": {
     "slide_type": "slide"
    }
   },
   "source": [
    "# Outline"
   ]
  },
  {
   "cell_type": "markdown",
   "id": "2fbd2361",
   "metadata": {
    "cell_style": "split",
    "slideshow": {
     "slide_type": "-"
    }
   },
   "source": [
    "### Why Matrix Free ?\n",
    "\n",
    "### Model Equations\n",
    "\n",
    "* Neo-Hookean hyperelasticity at finite strain\n",
    "* Initial vs Current Configuration\n",
    "\n",
    "### Matrix Free FE\n",
    "\n",
    "* Math\n",
    "* libCEED\n",
    "\n",
    "### P-Multigrid\n",
    "\n",
    "### Results\n"
   ]
  },
  {
   "cell_type": "markdown",
   "id": "c0854f54",
   "metadata": {
    "cell_style": "split",
    "slideshow": {
     "slide_type": "-"
    }
   },
   "source": [
    "<img src=\"schwarz-compression.gif\" width=\"80%\" height=\"60%\" align=\"bottom\">"
   ]
  },
  {
   "cell_type": "markdown",
   "id": "d5cc5ce5",
   "metadata": {
    "slideshow": {
     "slide_type": "slide"
    }
   },
   "source": [
    "# Why Matrix Free ?"
   ]
  },
  {
   "cell_type": "markdown",
   "id": "49bba9c3",
   "metadata": {
    "cell_style": "split",
    "slideshow": {
     "slide_type": "-"
    }
   },
   "source": [
    "<img src=\"flop-per-byte-dp-2022.svg\" width=\"100%\" height=\"40%\" align=\"bottom\">"
   ]
  },
  {
   "cell_type": "markdown",
   "id": "7a59214d",
   "metadata": {
    "cell_style": "split",
    "slideshow": {
     "slide_type": "-"
    }
   },
   "source": [
    "* Modern hardware does 10 flops per byte.\n",
    "* Matrix-free methods store and move less data, compute faster.\n",
    "* The Jacobian of a non-linear operator rapidly loses the sparsity and the number of nonzero entries per dof grows with $p^d$ as the order $p$ of basis function increases in $d$ dimension"
   ]
  },
  {
   "cell_type": "markdown",
   "id": "dc5240f1",
   "metadata": {
    "slideshow": {
     "slide_type": "slide"
    }
   },
   "source": [
    "# Model Equations"
   ]
  },
  {
   "cell_type": "markdown",
   "id": "addd5dfa",
   "metadata": {
    "cell_style": "split",
    "slideshow": {
     "slide_type": "-"
    }
   },
   "source": [
    "* Strong form\n",
    "\\begin{equation}\n",
    "-\\nabla_X \\cdot \\boldsymbol{P} - \\rho_0 \\boldsymbol{g} = 0\n",
    "\\end{equation}\n",
    "where $\\boldsymbol{P}=\\boldsymbol{FS}$ and\n",
    "$$\n",
    "\\color{blue}{\n",
    "\\boldsymbol{S}=\\lambda \\, \\log J \\, \\boldsymbol{C}^{-1} + \\mu \\left( \\boldsymbol{I} - \\boldsymbol{C}^{-1} \\right).}\n",
    "$$\n",
    "\n",
    "* Variational form ($\\color{red}{\\text{Initial}}$ configuration)\n",
    "\\begin{equation}\n",
    "\\int_{\\Omega_0}{\\nabla_X \\boldsymbol{v} \\colon \\boldsymbol{FS}} \\, dV \n",
    " - \\int_{\\Omega_0}{\\boldsymbol{v} \\cdot \\rho_0 \\boldsymbol{g}} \\, dV\n",
    " = 0, \\quad \\forall \\boldsymbol v \\in \\mathcal V,\n",
    "\\end{equation}\n",
    "\n",
    "* Variational form ($\\color{red}{\\text{Current}}$ configuration)\n",
    "\\begin{equation}\n",
    "\\int_{\\Omega_0}{\\nabla_x \\boldsymbol{v} \\colon \\boldsymbol{\\tau}} \\, dV \n",
    " - \\int_{\\Omega_0}{\\boldsymbol{v} \\cdot \\rho_0 \\boldsymbol{g}} \\, dV\n",
    " = 0, \\quad \\forall \\boldsymbol v \\in \\mathcal V,\n",
    "\\end{equation}\n",
    "where\n",
    "$$\n",
    "\\color{teal}{\n",
    "\\boldsymbol{\\tau}=\\lambda \\, \\log J \\, \\boldsymbol{I} + \\, \\mu \\left( \\boldsymbol{b}-\\boldsymbol{I} \\right).}\n",
    "$$"
   ]
  },
  {
   "cell_type": "markdown",
   "id": "028da140",
   "metadata": {
    "cell_style": "split",
    "slideshow": {
     "slide_type": "-"
    }
   },
   "source": [
    "<img src=\"initial-vs-current.png\" width=\"100%\" height=\"100%\" align=\"bottom\">\n"
   ]
  },
  {
   "cell_type": "markdown",
   "id": "6e4f375b",
   "metadata": {
    "slideshow": {
     "slide_type": "slide"
    }
   },
   "source": [
    "<img align=\"center\" src=\"op_schematic.svg\" width=\"80%\" height=\"30%\"/>"
   ]
  },
  {
   "cell_type": "markdown",
   "id": "361fde5d",
   "metadata": {
    "slideshow": {
     "slide_type": "slide"
    }
   },
   "source": [
    "### Matrix-free Finite Element Formulation\n",
    "\n",
    "\\begin{gather*}\n",
    "    v^T F(u) \\sim \\int_\\Omega v \\cdot \\color{olive}{f_0(u, \\nabla u)} + \\nabla v \\!:\\! \\color{olive}{f_1(u, \\nabla u)} \\quad\n",
    "    v^T J du \\sim \\int_\\Omega \\begin{bmatrix} v \\\\ \\nabla v \\end{bmatrix}^T \\color{teal}{\\begin{bmatrix} f_{0,0} & f_{0,1} \\\\ f_{1,0} & f_{1,1} \\end{bmatrix}}\n",
    "    \\begin{bmatrix} du \\\\ \\nabla du \\end{bmatrix} \\\\\n",
    "\\end{gather*}\n"
   ]
  },
  {
   "cell_type": "markdown",
   "id": "3fccff5c",
   "metadata": {
    "cell_style": "split",
    "slideshow": {
     "slide_type": "-"
    }
   },
   "source": [
    "\n",
    "### [libCEED](https://libceed.readthedocs.io): Efficient Extensible Discretization\n",
    "\n",
    "<img align=\"center\" src=\"libCEEDAPI.png\" width=\"100%\" height=\"30%\"/>\n"
   ]
  },
  {
   "cell_type": "markdown",
   "id": "92ce3427",
   "metadata": {
    "cell_style": "split",
    "slideshow": {
     "slide_type": "-"
    }
   },
   "source": [
    "* <font color='red'>$\\mathcal P$</font>: Process decomposition,\n",
    "\n",
    "* $\\mathcal E$</font> : Element restriction/assembly operator\n",
    "\n",
    "* <font color='blue'>$B$</font> : Basis (DoFs-to-Qpts) evaluator, \n",
    "\n",
    "* <font color='green'>$D$</font> : Operator at quadrature point- Qfunction ($f_0, f_1, f_{0,0},...$)"
   ]
  },
  {
   "cell_type": "markdown",
   "id": "79a2fe98",
   "metadata": {
    "slideshow": {
     "slide_type": "slide"
    }
   },
   "source": [
    "## [libCEED](https://libceed.readthedocs.io): fast algebra for finite elements"
   ]
  },
  {
   "cell_type": "markdown",
   "id": "1940b981",
   "metadata": {
    "cell_style": "split",
    "slideshow": {
     "slide_type": "-"
    }
   },
   "source": [
    "* Single source vanilla C for QFunctions\n",
    "\n",
    "* Backend plugins with run-time selection\n",
    "    * e.g., `./bps -ceed /gpu/cuda`\n",
    "\n",
    "* Same source code can call multiple CEEDs with different backends\n",
    "\n",
    "* Open source (BSD-2 license) C library with Fortran, Python, Julia, and Rust interfaces\n",
    "\n",
    "* Available via MFEM, PETSc, Nek5000"
   ]
  },
  {
   "cell_type": "markdown",
   "id": "94fc9019",
   "metadata": {
    "cell_style": "split",
    "slideshow": {
     "slide_type": "-"
    }
   },
   "source": [
    "<img align=\"center\" src=\"libCEEDBackends.png\" width=\"100%\" height=\"100%\"/>\n"
   ]
  },
  {
   "cell_type": "markdown",
   "id": "2ac10a90",
   "metadata": {
    "slideshow": {
     "slide_type": "slide"
    }
   },
   "source": [
    "# P-Multigrid"
   ]
  },
  {
   "cell_type": "markdown",
   "id": "5f2a8e79",
   "metadata": {
    "cell_style": "split",
    "slideshow": {
     "slide_type": "-"
    }
   },
   "source": [
    "* h-multigrid vs p-multigrid\n",
    "\n",
    "<img align=\"center\" src=\"p-h-multigrid.png\" width=\"100%\" height=\"100%\"/>\n"
   ]
  },
  {
   "cell_type": "markdown",
   "id": "f201b455",
   "metadata": {
    "cell_style": "split",
    "slideshow": {
     "slide_type": "-"
    }
   },
   "source": [
    "* 2nd order Chebyshev/Jacobi iteration in the range $[0.1\\lambda_{max}, 1.1\\lambda_{max}]$\n",
    "* $\\lambda_{max}$ estimate eigenvalue of $\\left(\\text{diag}\\boldsymbol{A}_f \\right)^{-1}\\boldsymbol{A}_f$\n",
    "* AMG use only information of the matrix sparsity and its entries of the assembled operators\n",
    "<img align=\"center\" src=\"p-multigrid-cycle.png\" width=\"80%\" height=\"100%\"/>\n"
   ]
  },
  {
   "cell_type": "markdown",
   "id": "0eb73165",
   "metadata": {
    "slideshow": {
     "slide_type": "slide"
    }
   },
   "source": [
    "# Results"
   ]
  },
  {
   "cell_type": "markdown",
   "id": "528ff4db",
   "metadata": {
    "cell_style": "split",
    "slideshow": {
     "slide_type": "-"
    }
   },
   "source": [
    "* Schwarz Primitive mesh, left wall fixed, thickness 0.2 and 0.05, $Q_1, Q_2, Q_3$ elements \n",
    "<img align=\"center\" src=\"schwarz-mesh.png\" width=\"70%\" height=\"70%\"/>"
   ]
  },
  {
   "cell_type": "markdown",
   "id": "94ed3e75",
   "metadata": {
    "cell_style": "split",
    "slideshow": {
     "slide_type": "-"
    }
   },
   "source": [
    "<img align=\"center\" src=\"HPC-machine.png\" width=\"100%\" height=\"100%\"/>"
   ]
  },
  {
   "cell_type": "markdown",
   "id": "035caf44",
   "metadata": {
    "slideshow": {
     "slide_type": "slide"
    }
   },
   "source": [
    "# Assembled vs Matrix-Free on Lassen machine"
   ]
  },
  {
   "cell_type": "markdown",
   "id": "5ea5497a",
   "metadata": {
    "cell_style": "split",
    "slideshow": {
     "slide_type": "-"
    }
   },
   "source": [
    "<img align=\"center\" src=\"assemble-vs-matrixfree.png\" width=\"100%\" height=\"100%\"/>"
   ]
  },
  {
   "cell_type": "markdown",
   "id": "37f601cc",
   "metadata": {
    "cell_style": "split",
    "slideshow": {
     "slide_type": "-"
    }
   },
   "source": [
    "* Matrix-free becomes more efficient as the order increases\n",
    "\n",
    "* Both are latency-limited for smaller problem size (left side of figure)\n",
    "\n",
    "* Even for linear element, efficiency of matrix-free grows as DoFs increases"
   ]
  },
  {
   "cell_type": "markdown",
   "id": "0d402df3",
   "metadata": {
    "slideshow": {
     "slide_type": "slide"
    }
   },
   "source": [
    "# Total nonlinear solve efficiency on different machines"
   ]
  },
  {
   "cell_type": "markdown",
   "id": "65d644c8",
   "metadata": {
    "cell_style": "split",
    "slideshow": {
     "slide_type": "-"
    }
   },
   "source": [
    "<img align=\"center\" src=\"snessolve-Q3.png\" width=\"100%\" height=\"100%\"/>"
   ]
  },
  {
   "cell_type": "markdown",
   "id": "36fa3450",
   "metadata": {
    "cell_style": "split",
    "slideshow": {
     "slide_type": "-"
    }
   },
   "source": [
    "* $Q_3$ elements using matrix-free\n",
    "* Newton-Krylov with p-MG preconditioning and Boomer-AMG coarse solve\n",
    "* For example in 10 seconds total time, we can solve 0.6 MDoFs/s/GPU on Perlmutter, so the target problem would be scaled to about 6 MDoFs/GPU"
   ]
  },
  {
   "cell_type": "markdown",
   "id": "15e23bf6",
   "metadata": {
    "slideshow": {
     "slide_type": "slide"
    }
   },
   "source": [
    "# Flame Graph"
   ]
  },
  {
   "cell_type": "code",
   "execution_count": 15,
   "id": "de073a50",
   "metadata": {},
   "outputs": [
    {
     "data": {
      "text/html": [
       "\n",
       "        <iframe\n",
       "            width=\"2000\"\n",
       "            height=\"200\"\n",
       "            src=\"schwarz-q2-cuda-flame.svg\"\n",
       "            frameborder=\"0\"\n",
       "            allowfullscreen\n",
       "        ></iframe>\n",
       "        "
      ],
      "text/plain": [
       "<IPython.lib.display.IFrame at 0x7f4bb4403510>"
      ]
     },
     "execution_count": 15,
     "metadata": {},
     "output_type": "execute_result"
    }
   ],
   "source": [
    "IFrame(\"schwarz-q2-cuda-flame.svg\", width=\"2000\", height=\"200\")"
   ]
  },
  {
   "cell_type": "markdown",
   "id": "889d7d69",
   "metadata": {
    "slideshow": {
     "slide_type": "slide"
    }
   },
   "source": [
    "<img align=\"center\" src=\"preconditioner.png\" width=\"80%\" height=\"60%\"/>\n"
   ]
  },
  {
   "cell_type": "markdown",
   "id": "84d8fd82",
   "metadata": {
    "slideshow": {
     "slide_type": "slide"
    }
   },
   "source": [
    "# high-order FE in engineering problem"
   ]
  },
  {
   "cell_type": "markdown",
   "id": "6f295b07",
   "metadata": {
    "cell_style": "split",
    "slideshow": {
     "slide_type": "-"
    }
   },
   "source": [
    "* mesh A\n",
    "\n",
    "<img align=\"center\" src=\"meshA.png\" width=\"50%\" height=\"40%\"/>\n",
    "\n",
    "* mesh B\n",
    "\n",
    "<img align=\"center\" src=\"meshB.png\" width=\"50%\" height=\"40%\"/>\n"
   ]
  },
  {
   "cell_type": "markdown",
   "id": "33c5dcf1",
   "metadata": {
    "cell_style": "split",
    "slideshow": {
     "slide_type": "-"
    }
   },
   "source": [
    "<img align=\"center\" src=\"meshA_deformed.png\" width=\"100%\" height=\"100%\"/>\n"
   ]
  },
  {
   "cell_type": "markdown",
   "id": "8fcb2b55",
   "metadata": {
    "slideshow": {
     "slide_type": "slide"
    }
   },
   "source": [
    "<img align=\"center\" src=\"accuracy_study_annotated.png\" width=\"1400\" height=\"400\"/>\n"
   ]
  },
  {
   "cell_type": "markdown",
   "id": "56de98f0",
   "metadata": {
    "slideshow": {
     "slide_type": "slide"
    }
   },
   "source": [
    "# Future works\n",
    "\n",
    "## Buckling problem\n",
    "\n",
    "<img src=\"schwarz-twist-vonMises.gif\" width=\"400%\" height=\"300%\" align=\"bottom\">\n",
    "\n",
    "* implement arc-length method"
   ]
  },
  {
   "cell_type": "markdown",
   "id": "4eec441b",
   "metadata": {
    "slideshow": {
     "slide_type": "slide"
    }
   },
   "source": [
    "# ratel"
   ]
  },
  {
   "cell_type": "markdown",
   "id": "fef5b7a9",
   "metadata": {
    "cell_style": "split",
    "slideshow": {
     "slide_type": "-"
    }
   },
   "source": [
    "<img align=\"left\" src=\"ratel-gitlab.png\" width=\"100%\"/>\n",
    "\n",
    "[https://gitlab.com/micromorph/ratel](https://gitlab.com/micromorph/ratel)"
   ]
  },
  {
   "cell_type": "markdown",
   "id": "a650c794",
   "metadata": {
    "cell_style": "split",
    "slideshow": {
     "slide_type": "-"
    }
   },
   "source": [
    "<img align=\"center\" src=\"baby-ratel.jpeg\" width=\"80%\"/>"
   ]
  }
 ],
 "metadata": {
  "celltoolbar": "Slideshow",
  "kernelspec": {
   "display_name": "Python 3 (ipykernel)",
   "language": "python",
   "name": "python3"
  },
  "language_info": {
   "codemirror_mode": {
    "name": "ipython",
    "version": 3
   },
   "file_extension": ".py",
   "mimetype": "text/x-python",
   "name": "python",
   "nbconvert_exporter": "python",
   "pygments_lexer": "ipython3",
   "version": "3.9.16"
  }
 },
 "nbformat": 4,
 "nbformat_minor": 5
}
