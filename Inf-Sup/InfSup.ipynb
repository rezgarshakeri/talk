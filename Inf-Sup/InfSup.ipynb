{
 "cells": [
  {
   "cell_type": "markdown",
   "id": "11d1ecef",
   "metadata": {
    "cell_style": "center",
    "slideshow": {
     "slide_type": "slide"
    }
   },
   "source": [
    "# <center>Mixed-Fe and Inf-Sup test</center>\n",
    "\n",
    "<br>\n",
    "<br>\n",
    "\n",
    "## <center>Rezgar Shakeri\n",
    "\n",
    "#### <center> Advisor: Jed Brown\n",
    "\n",
    "\n",
    "\n",
    "<br>\n",
    "<br>\n",
    "\n",
    "##### <center>13 Nov 2023</center>"
   ]
  },
  {
   "cell_type": "code",
   "execution_count": 1,
   "id": "bcb4a9cb",
   "metadata": {
    "slideshow": {
     "slide_type": "skip"
    }
   },
   "outputs": [],
   "source": [
    "#from IPython.display import SVG, Video, HTML, IFrame\n",
    "using Plots\n",
    "default(linewidth=3)"
   ]
  },
  {
   "cell_type": "markdown",
   "id": "9647a417",
   "metadata": {
    "slideshow": {
     "slide_type": "slide"
    }
   },
   "source": [
    "# Motivation"
   ]
  },
  {
   "cell_type": "markdown",
   "id": "793cfcd8",
   "metadata": {
    "cell_style": "split",
    "slideshow": {
     "slide_type": "fragment"
    }
   },
   "source": [
    "<img align=\"center\" src=\"motivation.png\" width=\"100%\" height=\"100%\"/>"
   ]
  },
  {
   "cell_type": "markdown",
   "id": "2c5d2d56",
   "metadata": {
    "cell_style": "split",
    "slideshow": {
     "slide_type": "fragment"
    }
   },
   "source": [
    "* Rubbers are capable of sustaining large elastic deformations without damage.\n",
    "* Broad range of applications: sealing components, tyres for automobiles and aircraft, soft robotic"
   ]
  },
  {
   "cell_type": "markdown",
   "id": "d0c97c81",
   "metadata": {
    "slideshow": {
     "slide_type": "slide"
    }
   },
   "source": [
    "# Governing equation and Incompressiblity ($\\color{blue}{\\text{small strain}} $)"
   ]
  },
  {
   "cell_type": "markdown",
   "id": "c8f17b1b",
   "metadata": {
    "cell_style": "split",
    "slideshow": {
     "slide_type": "fragment"
    }
   },
   "source": [
    "* $\\color{blue}{\\text{Linear elasticity (strong form)}}$ \n",
    "\\begin{eqnarray}\n",
    "    \\nabla \\cdot \\boldsymbol \\sigma + \\boldsymbol f = 0. \\qquad \\text{in $\\Omega$} \n",
    "\\end{eqnarray}\n",
    "where\n",
    "\\begin{eqnarray}\n",
    "    \\boldsymbol \\sigma(\\boldsymbol u) &=& \\lambda \\operatorname{trace} \\boldsymbol \\varepsilon ~ \\boldsymbol I + 2 \\mu \\boldsymbol \\varepsilon \\\\\n",
    "    \\boldsymbol \\varepsilon(\\boldsymbol u) &=& \\frac{1}{2} \\left( \\nabla \\boldsymbol u + (\\nabla \\boldsymbol u)^T \\right)\n",
    "\\end{eqnarray}\n",
    "\n",
    "\\begin{equation}\n",
    "    \\lambda = \\frac{2\\nu\\mu}{1-2\\nu}\n",
    "    \\label{lambda-definition}\n",
    "\\end{equation}\n",
    "\n",
    "* Incompressibility: $\\nu \\longrightarrow 0.5$, as a result $\\lambda \\longrightarrow \\infty $ \n",
    "* $\\varepsilon_v = \\operatorname{trace} \\boldsymbol \\varepsilon = \\nabla \\cdot \\boldsymbol u \\longrightarrow 0 $"
   ]
  },
  {
   "cell_type": "markdown",
   "id": "9450e49b",
   "metadata": {
    "cell_style": "split",
    "slideshow": {
     "slide_type": "fragment"
    }
   },
   "source": [
    "* One approach is to define new variable $p$ \n",
    "\\begin{eqnarray} \n",
    "\tp &=& - \\frac{\\operatorname{trace} \\boldsymbol \\sigma}{3} = -(\\lambda+2\\mu/3) \\operatorname{trace} \\boldsymbol \\varepsilon \\\\\n",
    "    &=& -\\kappa \\operatorname{trace} \\boldsymbol \\varepsilon = -\\kappa \\, \\varepsilon_v\n",
    "\\end{eqnarray}\n",
    "substituting $\\lambda = \\kappa - 2 \\mu / 3$ in definition of $\\boldsymbol \\sigma$\n",
    "\n",
    "\\begin{eqnarray}\n",
    "\\boldsymbol \\sigma(\\boldsymbol u, p) &=& \\kappa \\operatorname{trace} \\boldsymbol \\varepsilon ~ \\boldsymbol I + 2 \\mu \\boldsymbol \\varepsilon_{\\text{dev}} \\\\\n",
    "& = & -p ~ \\boldsymbol I + 2 \\mu \\boldsymbol \\varepsilon_{\\text{dev}}\n",
    "\\end{eqnarray}\n",
    "\n",
    "* $\\color{blue}{\\text{Mixed-Linear elasticity (strong form)}}$\n",
    "\\begin{eqnarray}\n",
    "    \\nabla \\cdot \\boldsymbol \\sigma + \\boldsymbol f   &=& 0. \\qquad \\text{in $\\Omega$} \\nonumber \\\\\n",
    "\t\\nabla\\cdot\\boldsymbol u + \\frac{p}{\\kappa} &=& 0. \\qquad \\text{in $\\Omega$}\n",
    "    \\label{mixed-linear-strong-form}\n",
    "\\end{eqnarray}"
   ]
  },
  {
   "cell_type": "markdown",
   "id": "2b8347a5",
   "metadata": {
    "slideshow": {
     "slide_type": "slide"
    }
   },
   "source": [
    "# Governing equation and Incompressiblity ($\\color{blue}{\\text{small strain}} $ )"
   ]
  },
  {
   "cell_type": "markdown",
   "id": "dbc90c0a",
   "metadata": {
    "cell_style": "center",
    "slideshow": {
     "slide_type": "fragment"
    }
   },
   "source": [
    "$\\color{blue}{\\text{Mixed-Linear elasticity (weak form)}}$\n",
    "\n",
    "Find $(\\boldsymbol u_h, p_h) \\in \\mathbb{V}_h \\times \\mathbb{Q}_h $, such that for all $(\\boldsymbol v, q) \\in \\mathbb{V}_h^0 \\times \\mathbb{Q}_h$\n",
    "\n",
    "\\begin{eqnarray}\n",
    "     a(\\boldsymbol v, \\boldsymbol{u}_h) + b(\\boldsymbol v, p_h) &=& (\\boldsymbol v, \\boldsymbol f) + \\langle \\boldsymbol v, \\boldsymbol g^{\\boldsymbol u}\\rangle_{\\partial \\Omega^{N}} \\nonumber \\\\\n",
    "     b(q, \\boldsymbol{u}_h) + c(q, p_h) &=& 0\n",
    "     \\label{mixed-linear-weak-form2}\n",
    "\\end{eqnarray}\n",
    "\n",
    "where\n",
    "\\begin{equation}\n",
    "a(\\boldsymbol v, \\boldsymbol{u}_h) = \\int_{\\Omega} 2\\mu \\: \\boldsymbol \\varepsilon(\\boldsymbol v) \\!:\\! \\boldsymbol \\varepsilon(\\boldsymbol u_h) \\: dv, ~ ~ b(q, \\boldsymbol u_h)  = -\\int_{\\Omega} q \\: \\nabla \\cdot \\boldsymbol u_h \\:dv, ~ ~ c(q, p_h)  = - \\int_{\\Omega} \\frac{1}{\\kappa} \\: q \\: p_h \\:dv\n",
    "\\end{equation}\n",
    "\n",
    "\\begin{equation}\n",
    "\\begin{bmatrix}\n",
    "\\boldsymbol{A} & \\boldsymbol{B}^T \\\\\n",
    "\\boldsymbol{B} & \\boldsymbol{C}\n",
    "\\end{bmatrix}\n",
    "\\begin{bmatrix}\n",
    "\\boldsymbol{u}\\\\\n",
    "\\boldsymbol{p}\n",
    "\\end{bmatrix}\n",
    "= \\begin{bmatrix}\n",
    "\\boldsymbol{F}\\\\\n",
    "\\boldsymbol{0}\n",
    "\\end{bmatrix}\n",
    "\\end{equation}\n"
   ]
  },
  {
   "cell_type": "markdown",
   "id": "863397a6",
   "metadata": {
    "slideshow": {
     "slide_type": "slide"
    }
   },
   "source": [
    "## $\\color{blue}{\\text{Are we allowed to use any interpolation order for } (\\boldsymbol u, p) ?} $\n",
    "\n",
    "\n",
    "<img align=\"center\" src=\"mixed-element.png\" width=\"75%\" height=\"75%\"/>\n",
    "\n",
    "* Note that pressue can be either continuous or discontinuous"
   ]
  },
  {
   "cell_type": "markdown",
   "id": "21fe8834",
   "metadata": {
    "slideshow": {
     "slide_type": "slide"
    }
   },
   "source": [
    "\n",
    "<img align=\"center\" src=\"2x2mesh.png\" width=\"50%\" height=\"50%\"/>\n"
   ]
  },
  {
   "cell_type": "markdown",
   "id": "4faaf365",
   "metadata": {
    "slideshow": {
     "slide_type": "slide"
    }
   },
   "source": [
    "# Sparsity pattern for Q2P0, Q2P1"
   ]
  },
  {
   "cell_type": "markdown",
   "id": "c792d263",
   "metadata": {
    "cell_style": "split",
    "slideshow": {
     "slide_type": "fragment"
    }
   },
   "source": [
    "<img align=\"center\" src=\"Q2P0.png\" width=\"100%\" height=\"100%\"/>\n"
   ]
  },
  {
   "cell_type": "markdown",
   "id": "fd1111e1",
   "metadata": {
    "cell_style": "split",
    "slideshow": {
     "slide_type": "fragment"
    }
   },
   "source": [
    "<img align=\"center\" src=\"Q2P1.png\" width=\"100%\" height=\"100%\"/>\n"
   ]
  },
  {
   "cell_type": "markdown",
   "id": "527eff9d",
   "metadata": {
    "slideshow": {
     "slide_type": "slide"
    }
   },
   "source": [
    "# Sparsity pattern for Q2Q1d, Q2Q1"
   ]
  },
  {
   "cell_type": "markdown",
   "id": "1b012c08",
   "metadata": {
    "cell_style": "split",
    "slideshow": {
     "slide_type": "fragment"
    }
   },
   "source": [
    "<img align=\"center\" src=\"Q2Q1d.png\" width=\"100%\" height=\"100%\"/>\n"
   ]
  },
  {
   "cell_type": "markdown",
   "id": "0ab6bb55",
   "metadata": {
    "cell_style": "split",
    "slideshow": {
     "slide_type": "fragment"
    }
   },
   "source": [
    "<img align=\"center\" src=\"Q2Q1.png\" width=\"100%\" height=\"100%\"/>\n"
   ]
  },
  {
   "cell_type": "markdown",
   "id": "f5f1ad8b",
   "metadata": {
    "cell_style": "center",
    "slideshow": {
     "slide_type": "subslide"
    }
   },
   "source": [
    "### Brezzi-Babuska condition:\n",
    "\n",
    "Find $\\lambda \\in \\mathbb{R}$, $0 \\neq (\\boldsymbol u_h, p_h) \\in \\mathbb{V}_h \\times \\mathbb{Q}_h $, such that for all $(\\boldsymbol v, q) \\in \\mathbb{V}_h^0 \\times \\mathbb{Q}_h$\n",
    "\n",
    "\\begin{equation}\n",
    "    a(\\boldsymbol v, \\boldsymbol u) + b(\\boldsymbol v, p) + b(q, \\boldsymbol u) = -\\lambda \\langle p, q \\rangle_{\\mathbb{Q}} \n",
    "\\end{equation}\n",
    "\n",
    "then, $\\lambda \\geq 0$ and inf-sup constant is $\\beta = \\sqrt{\\lambda_{\\text{min}}}$, $\\quad \\beta \\geq \\beta_h >0$ "
   ]
  },
  {
   "cell_type": "markdown",
   "id": "c77d535d",
   "metadata": {
    "slideshow": {
     "slide_type": "slide"
    }
   },
   "source": [
    "# Inf-sup constant for element with $\\color{blue}{\\text{continuous}} $ pressure"
   ]
  },
  {
   "cell_type": "markdown",
   "id": "269373d4",
   "metadata": {
    "cell_style": "split",
    "slideshow": {
     "slide_type": "fragment"
    }
   },
   "source": [
    "<img align=\"center\" src=\"cont-p-1.png\" width=\"80%\" height=\"80%\"/>"
   ]
  },
  {
   "cell_type": "markdown",
   "id": "dbd75e81",
   "metadata": {
    "cell_style": "split",
    "slideshow": {
     "slide_type": "fragment"
    }
   },
   "source": [
    "<img align=\"center\" src=\"cont-p-10.png\" width=\"80%\" height=\"80%\"/>"
   ]
  },
  {
   "cell_type": "markdown",
   "id": "da630b08",
   "metadata": {
    "slideshow": {
     "slide_type": "slide"
    }
   },
   "source": [
    "# Inf-sup constant for element with $\\color{blue}{\\text{discontinuous}} $ pressure"
   ]
  },
  {
   "cell_type": "markdown",
   "id": "447d7288",
   "metadata": {
    "cell_style": "split",
    "slideshow": {
     "slide_type": "fragment"
    }
   },
   "source": [
    "<img align=\"center\" src=\"dist-p-1.png\" width=\"80%\" height=\"80%\"/>\n",
    "\n",
    "### Q1P0 and Q3Q2 are unstable"
   ]
  },
  {
   "cell_type": "markdown",
   "id": "ea3969c1",
   "metadata": {
    "cell_style": "split",
    "slideshow": {
     "slide_type": "fragment"
    }
   },
   "source": [
    "<img align=\"center\" src=\"dist-p-10.png\" width=\"80%\" height=\"80%\"/>\n",
    "\n",
    "### Q2P1 is unstable for stretch element"
   ]
  },
  {
   "cell_type": "markdown",
   "id": "c81e8311",
   "metadata": {
    "slideshow": {
     "slide_type": "slide"
    }
   },
   "source": [
    "# Convergence study for element with $\\color{blue}{\\text{continuous}} $ pressure"
   ]
  },
  {
   "cell_type": "markdown",
   "id": "12a84d3f",
   "metadata": {
    "slideshow": {
     "slide_type": "subslide"
    }
   },
   "source": [
    "### Comparing $Q_kQ_{k-1}$ and $Q_kQ_{k-2}$ convergence order for $n\\times n$ uniform elements\n",
    "\n",
    "<img align=\"center\" src=\"conv-study-cont.png\" width=\"75%\" height=\"75%\"/>\n",
    "\n",
    "### In 2D, total DoFs/element $Q_2Q_1$:22,   $Q_3Q_1$:36 "
   ]
  },
  {
   "cell_type": "markdown",
   "id": "d7306cd8",
   "metadata": {
    "slideshow": {
     "slide_type": "slide"
    }
   },
   "source": [
    "# Convergence study for element with $\\color{blue}{\\text{discontinuous}} $ pressure"
   ]
  },
  {
   "cell_type": "markdown",
   "id": "3c325189",
   "metadata": {
    "slideshow": {
     "slide_type": "subslide"
    }
   },
   "source": [
    "### Comparing $Q_kP_{k-1} \\, (k > 1)$ and $Q_kQ_{k-2}$ convergence order for $n\\times n$ uniform elements\n",
    "\n",
    "<img align=\"center\" src=\"conv-study-disc.png\" width=\"80%\" height=\"80%\"/>\n",
    "\n",
    "### In 2D, total DoFs/element $Q_2P_1$:21,   $Q_3Q_1$:36 "
   ]
  },
  {
   "cell_type": "markdown",
   "id": "3cf88165",
   "metadata": {
    "slideshow": {
     "slide_type": "slide"
    }
   },
   "source": [
    "# Thank you!"
   ]
  }
 ],
 "metadata": {
  "celltoolbar": "Slideshow",
  "kernelspec": {
   "display_name": "Julia 1.9.3",
   "language": "julia",
   "name": "julia-1.9"
  },
  "language_info": {
   "file_extension": ".jl",
   "mimetype": "application/julia",
   "name": "julia",
   "version": "1.9.3"
  }
 },
 "nbformat": 4,
 "nbformat_minor": 5
}
